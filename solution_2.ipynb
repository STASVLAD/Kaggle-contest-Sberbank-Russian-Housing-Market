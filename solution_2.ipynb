{
 "cells": [
  {
   "cell_type": "code",
   "execution_count": 1,
   "metadata": {},
   "outputs": [],
   "source": [
    "import numpy as np\n",
    "import pandas as pd\n",
    "from sklearn.metrics import mean_squared_log_error\n",
    "from sklearn.impute import KNNImputer, SimpleImputer\n",
    "from sklearn.model_selection import train_test_split, cross_val_score\n",
    "from sklearn.preprocessing import StandardScaler\n",
    "from sklearn.pipeline import make_pipeline\n",
    "from xgboost import XGBRegressor"
   ]
  },
  {
   "cell_type": "code",
   "execution_count": 2,
   "metadata": {},
   "outputs": [],
   "source": [
    "macro_df = pd.read_csv('data/macro.csv', parse_dates=[0])"
   ]
  },
  {
   "cell_type": "code",
   "execution_count": 3,
   "metadata": {},
   "outputs": [],
   "source": [
    "macro_df['timestamp_year'] = macro_df['timestamp'].dt.year\n",
    "macro_df['timestamp_month'] = macro_df['timestamp'].dt.month\n",
    "macro_df['timestamp_day'] = macro_df['timestamp'].dt.day\n",
    "macro_df.drop(labels='timestamp', axis=1, inplace=True)"
   ]
  },
  {
   "cell_type": "code",
   "execution_count": 4,
   "metadata": {},
   "outputs": [],
   "source": [
    "temp = macro_df['child_on_acc_pre_school'].map(\n",
    "    {'#!': np.NaN,\n",
    "     '45,713': 45713,\n",
    "     '7,311': 7311,\n",
    "     '3,013': 3013,\n",
    "     '16,765': 16765},\n",
    "    na_action='ignore'\n",
    ")\n",
    "macro_df['child_on_acc_pre_school'] = temp\n",
    "\n",
    "temp = macro_df['modern_education_share'].map(\n",
    "    {'90,92': 90.92,\n",
    "     '93,08': 93.08,\n",
    "     '95,4918': 95.4918},\n",
    "    na_action='ignore'\n",
    ")\n",
    "macro_df['modern_education_share'] = temp\n",
    "\n",
    "temp = macro_df['old_education_build_share'].map(\n",
    "    {'23,14': 23.14,\n",
    "     '25,47': 25.47,\n",
    "     '8,2517': 8.2517},\n",
    "    na_action='ignore'\n",
    ")\n",
    "macro_df['old_education_build_share'] = temp"
   ]
  },
  {
   "cell_type": "markdown",
   "metadata": {},
   "source": [
    "n_neighbors"
   ]
  },
  {
   "cell_type": "code",
   "execution_count": 5,
   "metadata": {},
   "outputs": [],
   "source": [
    "imputer = make_pipeline(\n",
    "    StandardScaler(),\n",
    "    KNNImputer(n_neighbors=10),\n",
    "    StandardScaler()\n",
    ")\n",
    "\n",
    "macro_df[:] = imputer.fit_transform(macro_df)"
   ]
  },
  {
   "cell_type": "code",
   "execution_count": 6,
   "metadata": {},
   "outputs": [],
   "source": [
    "train_df = pd.read_csv('data/train.csv', index_col='id', parse_dates=[1])\n",
    "test_df = pd.read_csv('data/test.csv', index_col='id', parse_dates=[1])"
   ]
  },
  {
   "cell_type": "code",
   "execution_count": 7,
   "metadata": {},
   "outputs": [],
   "source": [
    "def encode(df, fillna=True):\n",
    "    # Timestamp encoding\n",
    "    df['timestamp_year'] = df['timestamp'].dt.year\n",
    "    df['timestamp_month'] = df['timestamp'].dt.month\n",
    "    df['timestamp_day'] = df['timestamp'].dt.day\n",
    "    df.drop(labels='timestamp', axis=1, inplace=True)\n",
    "\n",
    "    # Categorical columns encoding\n",
    "    df['product_type'] = df['product_type'].map({'Investment': 0, 'OwnerOccupier':1})\n",
    "\n",
    "    eco_map = {'no data': np.NaN, # 0?\n",
    "               'poor': 1,\n",
    "               'satisfactory': 2,\n",
    "               'good': 3,\n",
    "               'excellent': 4,}\n",
    "    df['ecology'] = df['ecology'].map(eco_map)\n",
    "\n",
    "    one_hot = pd.get_dummies(df['sub_area'])\n",
    "    df.drop('sub_area', axis=1, inplace=True)\n",
    "    df = df.join(one_hot)\n",
    "\n",
    "    cat_columns = df.select_dtypes(include='object').columns\n",
    "    df[cat_columns] = df[cat_columns].applymap(lambda x: 0 if x=='no' else 1)\n",
    "    \n",
    "    # Filling NaNs\n",
    "    # if fillna:\n",
    "    #     df[:] = SimpleImputer(strategy='mean').fit_transform(df)\n",
    "\n",
    "    return df"
   ]
  },
  {
   "cell_type": "code",
   "execution_count": 8,
   "metadata": {},
   "outputs": [],
   "source": [
    "train_df = encode(train_df, fillna=False)\n",
    "train_df.pop('Poselenie Klenovskoe')\n",
    "test_df = encode(test_df, fillna=False)"
   ]
  },
  {
   "cell_type": "markdown",
   "metadata": {},
   "source": [
    "whole dataset without price_doc or train with price_doc"
   ]
  },
  {
   "cell_type": "code",
   "execution_count": 9,
   "metadata": {},
   "outputs": [],
   "source": [
    "target = train_df.pop('price_doc')\n",
    "df_full = pd.concat([train_df, test_df])"
   ]
  },
  {
   "cell_type": "code",
   "execution_count": 10,
   "metadata": {},
   "outputs": [],
   "source": [
    "from sklearn.metrics.pairwise import nan_euclidean_distances"
   ]
  },
  {
   "cell_type": "code",
   "execution_count": 11,
   "metadata": {},
   "outputs": [],
   "source": [
    "df_full_scaled = df_full.copy()\n",
    "scaler = StandardScaler()\n",
    "df_full_scaled[:] = scaler.fit_transform(df_full)"
   ]
  },
  {
   "cell_type": "code",
   "execution_count": 12,
   "metadata": {},
   "outputs": [],
   "source": [
    "distances_1_5000 = nan_euclidean_distances(X=df_full_scaled.loc[:5000], Y=df_full_scaled)\n",
    "np.save('data/distances_1', distances_1_5000)"
   ]
  },
  {
   "cell_type": "code",
   "execution_count": null,
   "metadata": {},
   "outputs": [],
   "source": [
    "distances_1_5000.shape"
   ]
  },
  {
   "cell_type": "code",
   "execution_count": null,
   "metadata": {},
   "outputs": [],
   "source": [
    "imputer = make_pipeline(\n",
    "    StandardScaler(),\n",
    "    KNNImputer(),\n",
    "    StandardScaler()\n",
    ")\n",
    "imputer.fit(df_full)"
   ]
  },
  {
   "cell_type": "code",
   "execution_count": 12,
   "metadata": {},
   "outputs": [],
   "source": [
    "imputer = SimpleImputer(strategy='mean')\n",
    "df_full[:] = imputer.fit_transform(df_full)"
   ]
  },
  {
   "cell_type": "code",
   "execution_count": 13,
   "metadata": {},
   "outputs": [],
   "source": [
    "train_df = df_full.loc[:train_df.index[-1], :]\n",
    "test_df = df_full.loc[test_df.index[0]:, :]"
   ]
  },
  {
   "cell_type": "code",
   "execution_count": 10,
   "metadata": {},
   "outputs": [
    {
     "data": {
      "text/plain": [
       "(True, True)"
      ]
     },
     "execution_count": 10,
     "metadata": {},
     "output_type": "execute_result"
    }
   ],
   "source": [
    "train_df.isna().any().any(), test_df.isna().any().any()"
   ]
  },
  {
   "cell_type": "code",
   "execution_count": 20,
   "metadata": {},
   "outputs": [],
   "source": [
    "X, y = train_df.values, target\n",
    "X_train, X_val, y_train, y_val = train_test_split(X, y, test_size=0.2, random_state=42)"
   ]
  },
  {
   "cell_type": "code",
   "execution_count": 21,
   "metadata": {},
   "outputs": [
    {
     "data": {
      "text/plain": [
       "((24376, 436), (24376,))"
      ]
     },
     "execution_count": 21,
     "metadata": {},
     "output_type": "execute_result"
    }
   ],
   "source": [
    "X_train.shape, y_train.shape"
   ]
  },
  {
   "cell_type": "markdown",
   "metadata": {},
   "source": [
    "max_depth < 7"
   ]
  },
  {
   "cell_type": "code",
   "execution_count": 26,
   "metadata": {},
   "outputs": [
    {
     "name": "stdout",
     "output_type": "stream",
     "text": [
      "[0]\tvalidation_0-rmsle:0.96368\tvalidation_1-rmsle:0.95640\n",
      "[1]\tvalidation_0-rmsle:0.60668\tvalidation_1-rmsle:0.60042\n",
      "[2]\tvalidation_0-rmsle:0.52177\tvalidation_1-rmsle:0.51756\n",
      "[3]\tvalidation_0-rmsle:0.50219\tvalidation_1-rmsle:0.49965\n",
      "[4]\tvalidation_0-rmsle:0.49812\tvalidation_1-rmsle:0.49743\n",
      "[5]\tvalidation_0-rmsle:0.49838\tvalidation_1-rmsle:0.49836\n",
      "[6]\tvalidation_0-rmsle:0.49847\tvalidation_1-rmsle:0.49845\n",
      "[7]\tvalidation_0-rmsle:0.49745\tvalidation_1-rmsle:0.49720\n",
      "[8]\tvalidation_0-rmsle:0.49805\tvalidation_1-rmsle:0.49791\n",
      "[9]\tvalidation_0-rmsle:0.49616\tvalidation_1-rmsle:0.49606\n",
      "[10]\tvalidation_0-rmsle:0.49381\tvalidation_1-rmsle:0.49299\n",
      "[11]\tvalidation_0-rmsle:0.49226\tvalidation_1-rmsle:0.49115\n",
      "[12]\tvalidation_0-rmsle:0.49105\tvalidation_1-rmsle:0.49032\n",
      "[13]\tvalidation_0-rmsle:0.49000\tvalidation_1-rmsle:0.48918\n",
      "[14]\tvalidation_0-rmsle:0.48985\tvalidation_1-rmsle:0.48891\n",
      "[15]\tvalidation_0-rmsle:0.48907\tvalidation_1-rmsle:0.48763\n",
      "[16]\tvalidation_0-rmsle:0.48827\tvalidation_1-rmsle:0.48663\n",
      "[17]\tvalidation_0-rmsle:0.48784\tvalidation_1-rmsle:0.48614\n",
      "[18]\tvalidation_0-rmsle:0.48763\tvalidation_1-rmsle:0.48559\n",
      "[19]\tvalidation_0-rmsle:0.48704\tvalidation_1-rmsle:0.48513\n",
      "[20]\tvalidation_0-rmsle:0.48682\tvalidation_1-rmsle:0.48487\n",
      "[21]\tvalidation_0-rmsle:0.48564\tvalidation_1-rmsle:0.48383\n",
      "[22]\tvalidation_0-rmsle:0.48511\tvalidation_1-rmsle:0.48319\n",
      "[23]\tvalidation_0-rmsle:0.48469\tvalidation_1-rmsle:0.48289\n",
      "[24]\tvalidation_0-rmsle:0.48396\tvalidation_1-rmsle:0.48198\n",
      "[25]\tvalidation_0-rmsle:0.48374\tvalidation_1-rmsle:0.48164\n",
      "[26]\tvalidation_0-rmsle:0.48356\tvalidation_1-rmsle:0.48157\n",
      "[27]\tvalidation_0-rmsle:0.48333\tvalidation_1-rmsle:0.48155\n",
      "[28]\tvalidation_0-rmsle:0.48332\tvalidation_1-rmsle:0.48159\n",
      "[29]\tvalidation_0-rmsle:0.48244\tvalidation_1-rmsle:0.48093\n",
      "[30]\tvalidation_0-rmsle:0.48218\tvalidation_1-rmsle:0.48105\n",
      "[31]\tvalidation_0-rmsle:0.48170\tvalidation_1-rmsle:0.48104\n",
      "[32]\tvalidation_0-rmsle:0.48157\tvalidation_1-rmsle:0.48083\n",
      "[33]\tvalidation_0-rmsle:0.48131\tvalidation_1-rmsle:0.48056\n",
      "[34]\tvalidation_0-rmsle:0.48070\tvalidation_1-rmsle:0.47987\n",
      "[35]\tvalidation_0-rmsle:0.48030\tvalidation_1-rmsle:0.47952\n",
      "[36]\tvalidation_0-rmsle:0.48013\tvalidation_1-rmsle:0.47942\n",
      "[37]\tvalidation_0-rmsle:0.47992\tvalidation_1-rmsle:0.47927\n",
      "[38]\tvalidation_0-rmsle:0.47945\tvalidation_1-rmsle:0.47887\n",
      "[39]\tvalidation_0-rmsle:0.47910\tvalidation_1-rmsle:0.47857\n",
      "[40]\tvalidation_0-rmsle:0.47865\tvalidation_1-rmsle:0.47817\n",
      "[41]\tvalidation_0-rmsle:0.47856\tvalidation_1-rmsle:0.47825\n",
      "[42]\tvalidation_0-rmsle:0.47851\tvalidation_1-rmsle:0.47819\n",
      "[43]\tvalidation_0-rmsle:0.47837\tvalidation_1-rmsle:0.47813\n",
      "[44]\tvalidation_0-rmsle:0.47734\tvalidation_1-rmsle:0.47696\n",
      "[45]\tvalidation_0-rmsle:0.47734\tvalidation_1-rmsle:0.47699\n",
      "[46]\tvalidation_0-rmsle:0.47701\tvalidation_1-rmsle:0.47670\n",
      "[47]\tvalidation_0-rmsle:0.47684\tvalidation_1-rmsle:0.47663\n",
      "[48]\tvalidation_0-rmsle:0.47660\tvalidation_1-rmsle:0.47636\n",
      "[49]\tvalidation_0-rmsle:0.47650\tvalidation_1-rmsle:0.47634\n",
      "[50]\tvalidation_0-rmsle:0.47641\tvalidation_1-rmsle:0.47634\n",
      "[51]\tvalidation_0-rmsle:0.47605\tvalidation_1-rmsle:0.47611\n",
      "[52]\tvalidation_0-rmsle:0.47589\tvalidation_1-rmsle:0.47623\n",
      "[53]\tvalidation_0-rmsle:0.47577\tvalidation_1-rmsle:0.47585\n",
      "[54]\tvalidation_0-rmsle:0.47559\tvalidation_1-rmsle:0.47581\n",
      "[55]\tvalidation_0-rmsle:0.47500\tvalidation_1-rmsle:0.47558\n",
      "[56]\tvalidation_0-rmsle:0.47484\tvalidation_1-rmsle:0.47540\n",
      "[57]\tvalidation_0-rmsle:0.47485\tvalidation_1-rmsle:0.47554\n",
      "[58]\tvalidation_0-rmsle:0.47432\tvalidation_1-rmsle:0.47497\n",
      "[59]\tvalidation_0-rmsle:0.47446\tvalidation_1-rmsle:0.47504\n",
      "[60]\tvalidation_0-rmsle:0.47431\tvalidation_1-rmsle:0.47507\n",
      "[61]\tvalidation_0-rmsle:0.47430\tvalidation_1-rmsle:0.47502\n",
      "[62]\tvalidation_0-rmsle:0.47342\tvalidation_1-rmsle:0.47391\n",
      "[63]\tvalidation_0-rmsle:0.47340\tvalidation_1-rmsle:0.47374\n",
      "[64]\tvalidation_0-rmsle:0.47328\tvalidation_1-rmsle:0.47363\n",
      "[65]\tvalidation_0-rmsle:0.47307\tvalidation_1-rmsle:0.47335\n",
      "[66]\tvalidation_0-rmsle:0.47298\tvalidation_1-rmsle:0.47341\n",
      "[67]\tvalidation_0-rmsle:0.47282\tvalidation_1-rmsle:0.47345\n",
      "[68]\tvalidation_0-rmsle:0.47269\tvalidation_1-rmsle:0.47338\n",
      "[69]\tvalidation_0-rmsle:0.47257\tvalidation_1-rmsle:0.47324\n",
      "[70]\tvalidation_0-rmsle:0.47241\tvalidation_1-rmsle:0.47336\n",
      "[71]\tvalidation_0-rmsle:0.47230\tvalidation_1-rmsle:0.47336\n",
      "[72]\tvalidation_0-rmsle:0.47214\tvalidation_1-rmsle:0.47329\n",
      "[73]\tvalidation_0-rmsle:0.47190\tvalidation_1-rmsle:0.47325\n",
      "[74]\tvalidation_0-rmsle:0.47197\tvalidation_1-rmsle:0.47327\n",
      "[75]\tvalidation_0-rmsle:0.47187\tvalidation_1-rmsle:0.47323\n",
      "[76]\tvalidation_0-rmsle:0.47182\tvalidation_1-rmsle:0.47321\n",
      "[77]\tvalidation_0-rmsle:0.47154\tvalidation_1-rmsle:0.47294\n",
      "[78]\tvalidation_0-rmsle:0.47146\tvalidation_1-rmsle:0.47298\n",
      "[79]\tvalidation_0-rmsle:0.47106\tvalidation_1-rmsle:0.47288\n",
      "[80]\tvalidation_0-rmsle:0.47084\tvalidation_1-rmsle:0.47279\n",
      "[81]\tvalidation_0-rmsle:0.47080\tvalidation_1-rmsle:0.47279\n",
      "[82]\tvalidation_0-rmsle:0.47077\tvalidation_1-rmsle:0.47274\n",
      "[83]\tvalidation_0-rmsle:0.47088\tvalidation_1-rmsle:0.47293\n",
      "[84]\tvalidation_0-rmsle:0.47063\tvalidation_1-rmsle:0.47286\n",
      "[85]\tvalidation_0-rmsle:0.47059\tvalidation_1-rmsle:0.47358\n",
      "[86]\tvalidation_0-rmsle:0.47040\tvalidation_1-rmsle:0.47340\n",
      "[87]\tvalidation_0-rmsle:0.47035\tvalidation_1-rmsle:0.47336\n",
      "[88]\tvalidation_0-rmsle:0.47028\tvalidation_1-rmsle:0.47330\n",
      "[89]\tvalidation_0-rmsle:0.47015\tvalidation_1-rmsle:0.47313\n",
      "[90]\tvalidation_0-rmsle:0.47002\tvalidation_1-rmsle:0.47286\n",
      "[91]\tvalidation_0-rmsle:0.46998\tvalidation_1-rmsle:0.47281\n",
      "[92]\tvalidation_0-rmsle:0.46979\tvalidation_1-rmsle:0.47270\n",
      "[93]\tvalidation_0-rmsle:0.46958\tvalidation_1-rmsle:0.47255\n",
      "[94]\tvalidation_0-rmsle:0.46937\tvalidation_1-rmsle:0.47253\n",
      "[95]\tvalidation_0-rmsle:0.46949\tvalidation_1-rmsle:0.47355\n",
      "[96]\tvalidation_0-rmsle:0.46926\tvalidation_1-rmsle:0.47346\n",
      "[97]\tvalidation_0-rmsle:0.46912\tvalidation_1-rmsle:0.47357\n",
      "[98]\tvalidation_0-rmsle:0.46900\tvalidation_1-rmsle:0.47343\n",
      "[99]\tvalidation_0-rmsle:0.46895\tvalidation_1-rmsle:0.47340\n",
      "[100]\tvalidation_0-rmsle:0.46850\tvalidation_1-rmsle:0.47326\n",
      "[101]\tvalidation_0-rmsle:0.46834\tvalidation_1-rmsle:0.47332\n",
      "[102]\tvalidation_0-rmsle:0.46848\tvalidation_1-rmsle:nan\n",
      "[103]\tvalidation_0-rmsle:0.46845\tvalidation_1-rmsle:nan\n",
      "[104]\tvalidation_0-rmsle:0.46836\tvalidation_1-rmsle:nan\n",
      "[105]\tvalidation_0-rmsle:0.46831\tvalidation_1-rmsle:nan\n",
      "[106]\tvalidation_0-rmsle:0.46797\tvalidation_1-rmsle:0.47228\n",
      "[107]\tvalidation_0-rmsle:0.46786\tvalidation_1-rmsle:0.47225\n",
      "[108]\tvalidation_0-rmsle:0.46775\tvalidation_1-rmsle:0.47217\n",
      "[109]\tvalidation_0-rmsle:0.46773\tvalidation_1-rmsle:0.47216\n",
      "[110]\tvalidation_0-rmsle:0.46768\tvalidation_1-rmsle:0.47217\n",
      "[111]\tvalidation_0-rmsle:0.46740\tvalidation_1-rmsle:0.47206\n",
      "[112]\tvalidation_0-rmsle:0.46730\tvalidation_1-rmsle:0.47211\n",
      "[113]\tvalidation_0-rmsle:0.46722\tvalidation_1-rmsle:0.47220\n",
      "[114]\tvalidation_0-rmsle:0.46709\tvalidation_1-rmsle:0.47183\n",
      "[115]\tvalidation_0-rmsle:0.46690\tvalidation_1-rmsle:0.47168\n",
      "[116]\tvalidation_0-rmsle:0.46684\tvalidation_1-rmsle:0.47168\n",
      "[117]\tvalidation_0-rmsle:0.46679\tvalidation_1-rmsle:0.47160\n",
      "[118]\tvalidation_0-rmsle:0.46659\tvalidation_1-rmsle:0.47143\n",
      "[119]\tvalidation_0-rmsle:0.46657\tvalidation_1-rmsle:0.47156\n",
      "[120]\tvalidation_0-rmsle:0.46662\tvalidation_1-rmsle:0.47182\n",
      "[121]\tvalidation_0-rmsle:0.46660\tvalidation_1-rmsle:0.47176\n",
      "[122]\tvalidation_0-rmsle:0.46631\tvalidation_1-rmsle:0.47134\n",
      "[123]\tvalidation_0-rmsle:0.46648\tvalidation_1-rmsle:0.47143\n",
      "[124]\tvalidation_0-rmsle:0.46639\tvalidation_1-rmsle:0.47144\n",
      "[125]\tvalidation_0-rmsle:0.46645\tvalidation_1-rmsle:0.47171\n",
      "[126]\tvalidation_0-rmsle:0.46630\tvalidation_1-rmsle:0.47173\n",
      "[127]\tvalidation_0-rmsle:0.46623\tvalidation_1-rmsle:0.47173\n",
      "[128]\tvalidation_0-rmsle:0.46605\tvalidation_1-rmsle:0.47159\n",
      "[129]\tvalidation_0-rmsle:0.46600\tvalidation_1-rmsle:0.47159\n",
      "[130]\tvalidation_0-rmsle:0.46595\tvalidation_1-rmsle:0.47156\n",
      "[131]\tvalidation_0-rmsle:0.46590\tvalidation_1-rmsle:0.47154\n",
      "[132]\tvalidation_0-rmsle:0.46571\tvalidation_1-rmsle:0.47130\n",
      "[133]\tvalidation_0-rmsle:0.46554\tvalidation_1-rmsle:0.47133\n",
      "[134]\tvalidation_0-rmsle:0.46544\tvalidation_1-rmsle:0.47124\n",
      "[135]\tvalidation_0-rmsle:0.46532\tvalidation_1-rmsle:0.47122\n",
      "[136]\tvalidation_0-rmsle:0.46522\tvalidation_1-rmsle:0.47118\n",
      "[137]\tvalidation_0-rmsle:0.46516\tvalidation_1-rmsle:0.47128\n",
      "[138]\tvalidation_0-rmsle:0.46520\tvalidation_1-rmsle:0.47126\n",
      "[139]\tvalidation_0-rmsle:0.46511\tvalidation_1-rmsle:0.47124\n",
      "[140]\tvalidation_0-rmsle:0.46504\tvalidation_1-rmsle:0.47127\n",
      "[141]\tvalidation_0-rmsle:0.46495\tvalidation_1-rmsle:0.47132\n",
      "[142]\tvalidation_0-rmsle:0.46488\tvalidation_1-rmsle:0.47129\n",
      "[143]\tvalidation_0-rmsle:0.46480\tvalidation_1-rmsle:0.47126\n",
      "[144]\tvalidation_0-rmsle:0.46475\tvalidation_1-rmsle:0.47120\n",
      "[145]\tvalidation_0-rmsle:0.46462\tvalidation_1-rmsle:0.47114\n",
      "[146]\tvalidation_0-rmsle:0.46453\tvalidation_1-rmsle:0.47114\n",
      "[147]\tvalidation_0-rmsle:0.46448\tvalidation_1-rmsle:0.47126\n",
      "[148]\tvalidation_0-rmsle:0.46422\tvalidation_1-rmsle:0.47108\n",
      "[149]\tvalidation_0-rmsle:0.46413\tvalidation_1-rmsle:0.47102\n",
      "[150]\tvalidation_0-rmsle:0.46397\tvalidation_1-rmsle:0.47101\n",
      "[151]\tvalidation_0-rmsle:0.46389\tvalidation_1-rmsle:0.47104\n",
      "[152]\tvalidation_0-rmsle:nan\tvalidation_1-rmsle:0.47097\n",
      "[153]\tvalidation_0-rmsle:nan\tvalidation_1-rmsle:0.47090\n",
      "[154]\tvalidation_0-rmsle:nan\tvalidation_1-rmsle:0.47097\n",
      "[155]\tvalidation_0-rmsle:0.46366\tvalidation_1-rmsle:0.47095\n",
      "[156]\tvalidation_0-rmsle:0.46370\tvalidation_1-rmsle:0.47083\n",
      "[157]\tvalidation_0-rmsle:0.46383\tvalidation_1-rmsle:0.47101\n",
      "[158]\tvalidation_0-rmsle:0.46365\tvalidation_1-rmsle:0.47094\n",
      "[159]\tvalidation_0-rmsle:0.46349\tvalidation_1-rmsle:0.47093\n",
      "[160]\tvalidation_0-rmsle:0.46350\tvalidation_1-rmsle:0.47096\n",
      "[161]\tvalidation_0-rmsle:0.46344\tvalidation_1-rmsle:0.47104\n",
      "[162]\tvalidation_0-rmsle:0.46438\tvalidation_1-rmsle:0.47105\n",
      "[163]\tvalidation_0-rmsle:0.46442\tvalidation_1-rmsle:0.47102\n",
      "[164]\tvalidation_0-rmsle:0.46284\tvalidation_1-rmsle:0.47104\n",
      "[165]\tvalidation_0-rmsle:0.46271\tvalidation_1-rmsle:0.47104\n",
      "[166]\tvalidation_0-rmsle:0.46256\tvalidation_1-rmsle:0.47104\n",
      "[167]\tvalidation_0-rmsle:0.46242\tvalidation_1-rmsle:0.47104\n",
      "[168]\tvalidation_0-rmsle:0.46238\tvalidation_1-rmsle:0.47109\n",
      "[169]\tvalidation_0-rmsle:0.46217\tvalidation_1-rmsle:0.47112\n",
      "[170]\tvalidation_0-rmsle:0.46203\tvalidation_1-rmsle:0.47109\n",
      "[171]\tvalidation_0-rmsle:0.46196\tvalidation_1-rmsle:0.47110\n",
      "[172]\tvalidation_0-rmsle:0.46193\tvalidation_1-rmsle:0.47117\n",
      "[173]\tvalidation_0-rmsle:0.46194\tvalidation_1-rmsle:0.47128\n",
      "[174]\tvalidation_0-rmsle:0.46166\tvalidation_1-rmsle:0.47102\n",
      "[175]\tvalidation_0-rmsle:0.46146\tvalidation_1-rmsle:0.47078\n",
      "[176]\tvalidation_0-rmsle:0.46137\tvalidation_1-rmsle:0.47072\n",
      "[177]\tvalidation_0-rmsle:0.46116\tvalidation_1-rmsle:0.47055\n",
      "[178]\tvalidation_0-rmsle:0.46109\tvalidation_1-rmsle:0.47053\n",
      "[179]\tvalidation_0-rmsle:0.46104\tvalidation_1-rmsle:0.47050\n",
      "[180]\tvalidation_0-rmsle:0.46098\tvalidation_1-rmsle:0.47049\n",
      "[181]\tvalidation_0-rmsle:0.46100\tvalidation_1-rmsle:0.47052\n",
      "[182]\tvalidation_0-rmsle:0.46088\tvalidation_1-rmsle:0.47060\n",
      "[183]\tvalidation_0-rmsle:0.46080\tvalidation_1-rmsle:0.47056\n",
      "[184]\tvalidation_0-rmsle:0.46065\tvalidation_1-rmsle:0.47066\n",
      "[185]\tvalidation_0-rmsle:0.46064\tvalidation_1-rmsle:0.47065\n",
      "[186]\tvalidation_0-rmsle:0.46052\tvalidation_1-rmsle:0.47064\n",
      "[187]\tvalidation_0-rmsle:0.46057\tvalidation_1-rmsle:0.47079\n",
      "[188]\tvalidation_0-rmsle:0.46039\tvalidation_1-rmsle:0.47065\n",
      "[189]\tvalidation_0-rmsle:0.46032\tvalidation_1-rmsle:0.47067\n",
      "[190]\tvalidation_0-rmsle:0.46021\tvalidation_1-rmsle:0.47055\n",
      "[191]\tvalidation_0-rmsle:0.46017\tvalidation_1-rmsle:0.47048\n",
      "[192]\tvalidation_0-rmsle:0.45985\tvalidation_1-rmsle:0.47030\n",
      "[193]\tvalidation_0-rmsle:0.45980\tvalidation_1-rmsle:0.47034\n",
      "[194]\tvalidation_0-rmsle:0.45973\tvalidation_1-rmsle:0.47026\n",
      "[195]\tvalidation_0-rmsle:0.45954\tvalidation_1-rmsle:0.47022\n",
      "[196]\tvalidation_0-rmsle:0.45942\tvalidation_1-rmsle:0.47014\n",
      "[197]\tvalidation_0-rmsle:0.45922\tvalidation_1-rmsle:0.46995\n",
      "[198]\tvalidation_0-rmsle:0.45906\tvalidation_1-rmsle:0.46999\n",
      "[199]\tvalidation_0-rmsle:0.45901\tvalidation_1-rmsle:0.47002\n"
     ]
    },
    {
     "data": {
      "text/plain": [
       "XGBRegressor(base_score=0.5, booster='gbtree', colsample_bylevel=1,\n",
       "             colsample_bynode=1, colsample_bytree=1, eval_metric='rmsle',\n",
       "             gamma=0, gpu_id=-1, importance_type='gain',\n",
       "             interaction_constraints='', learning_rate=0.4, max_delta_step=0,\n",
       "             max_depth=2, min_child_weight=1, missing=nan,\n",
       "             monotone_constraints='()', n_estimators=200, n_jobs=6,\n",
       "             num_parallel_tree=1, random_state=0, reg_alpha=0, reg_lambda=1,\n",
       "             scale_pos_weight=1, subsample=1, tree_method='exact',\n",
       "             validate_parameters=1, verbosity=None)"
      ]
     },
     "execution_count": 26,
     "metadata": {},
     "output_type": "execute_result"
    }
   ],
   "source": [
    "model = XGBRegressor(n_estimators=200, max_depth=4, learning_rate=0.2, eval_metric='rmsle', n_jobs=6)\n",
    "model.fit(X_train, y_train, eval_set=[(X_train, y_train), (X_val, y_val)])"
   ]
  },
  {
   "cell_type": "code",
   "execution_count": 65,
   "metadata": {},
   "outputs": [
    {
     "data": {
      "text/plain": [
       "(0.42659224802229173, 0.4641703855577836)"
      ]
     },
     "execution_count": 65,
     "metadata": {},
     "output_type": "execute_result"
    }
   ],
   "source": [
    "y_pred_val = np.abs(model.predict(X_val))\n",
    "y_pred_train = np.abs(model.predict(X_train))\n",
    "np.sqrt(mean_squared_log_error(y_train, y_pred_train)), np.sqrt(mean_squared_log_error(y_val, y_pred_val))"
   ]
  },
  {
   "cell_type": "code",
   "execution_count": 66,
   "metadata": {},
   "outputs": [],
   "source": [
    "global X_test\n",
    "X_test = test_df.values"
   ]
  },
  {
   "cell_type": "code",
   "execution_count": 67,
   "metadata": {},
   "outputs": [],
   "source": [
    "def create_submission(model):\n",
    "    submission = pd.read_csv('data/sample_submission.csv')\n",
    "    pred = model.predict(X_test)\n",
    "    if len(pred[pred < 0]):\n",
    "        print('WARNING: NEGATIVE PREDICTIONS')\n",
    "        pred = np.abs(pred)\n",
    "    submission['price_doc'] = pred\n",
    "    submission.to_csv('submission.csv', index=False)"
   ]
  },
  {
   "cell_type": "code",
   "execution_count": 68,
   "metadata": {},
   "outputs": [],
   "source": [
    "create_submission(model)"
   ]
  },
  {
   "cell_type": "code",
   "execution_count": 69,
   "metadata": {},
   "outputs": [
    {
     "name": "stdout",
     "output_type": "stream",
     "text": [
      "100%|████████████████████████████████████████| 121k/121k [00:02<00:00, 42.2kB/s]\n",
      "Successfully submitted to Sberbank Russian Housing Market"
     ]
    }
   ],
   "source": [
    "!kaggle competitions submit -c sberbank-russian-housing-market -f submission.csv -m \"naive XGBRegressor\""
   ]
  },
  {
   "cell_type": "code",
   "execution_count": 70,
   "metadata": {},
   "outputs": [
    {
     "name": "stdout",
     "output_type": "stream",
     "text": [
      "fileName        date                 description         status    publicScore  privateScore  \n",
      "--------------  -------------------  ------------------  --------  -----------  ------------  \n",
      "submission.csv  2021-11-09 00:47:57  naive XGBRegressor  complete  0.33041      0.33885       \n",
      "submission.csv  2021-11-09 00:31:33  naive XGBRegressor  complete  0.35039      0.34927       \n",
      "submission.csv  2021-11-09 00:30:50  naive XGBRegressor  error     None         None          \n",
      "submission.csv  2021-11-09 00:25:37  naive XGBRegressor  error     None         None          \n",
      "submission.csv  2021-11-08 16:09:11  dummy               complete  0.34874      0.34785       \n",
      "submission.csv  2021-11-08 00:12:53  test_submit         complete  0.41135      0.40794       \n"
     ]
    }
   ],
   "source": [
    "!kaggle competitions submissions -c sberbank-russian-housing-market"
   ]
  },
  {
   "cell_type": "code",
   "execution_count": 75,
   "metadata": {},
   "outputs": [],
   "source": [
    "def get_place(my_score):\n",
    "    df = pd.read_csv('publicleaderboard.csv')\n",
    "    scores = df['Score'].values\n",
    "    scores = np.append(scores, my_score)\n",
    "    scores = np.sort(scores)\n",
    "    print(f'{np.where(scores == my_score)[0][0]} / {len(scores)}')"
   ]
  },
  {
   "cell_type": "code",
   "execution_count": 76,
   "metadata": {},
   "outputs": [
    {
     "name": "stdout",
     "output_type": "stream",
     "text": [
      "2333 / 3266\n"
     ]
    }
   ],
   "source": [
    "my_score = 0.33041\n",
    "get_place(my_score)"
   ]
  },
  {
   "cell_type": "code",
   "execution_count": null,
   "metadata": {},
   "outputs": [],
   "source": []
  }
 ],
 "metadata": {
  "interpreter": {
   "hash": "e7370f93d1d0cde622a1f8e1c04877d8463912d04d973331ad4851f04de6915a"
  },
  "kernelspec": {
   "display_name": "Python 3.8.10 64-bit",
   "language": "python",
   "name": "python3"
  },
  "language_info": {
   "codemirror_mode": {
    "name": "ipython",
    "version": 3
   },
   "file_extension": ".py",
   "mimetype": "text/x-python",
   "name": "python",
   "nbconvert_exporter": "python",
   "pygments_lexer": "ipython3",
   "version": "3.8.10"
  },
  "orig_nbformat": 4
 },
 "nbformat": 4,
 "nbformat_minor": 2
}
