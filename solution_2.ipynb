{
 "cells": [
  {
   "cell_type": "code",
   "execution_count": 22,
   "metadata": {},
   "outputs": [],
   "source": [
    "import numpy as np\n",
    "import pandas as pd\n",
    "from sklearn.metrics import mean_squared_log_error\n",
    "from sklearn.impute import KNNImputer, SimpleImputer\n",
    "from sklearn.model_selection import train_test_split, cross_val_score\n",
    "from sklearn.preprocessing import StandardScaler\n",
    "from sklearn.pipeline import make_pipeline\n",
    "from sklearn.tree import DecisionTreeRegressor\n",
    "from xgboost import XGBRegressor"
   ]
  },
  {
   "cell_type": "code",
   "execution_count": 2,
   "metadata": {},
   "outputs": [],
   "source": [
    "macro_df = pd.read_csv('data/macro.csv', parse_dates=[0])"
   ]
  },
  {
   "cell_type": "code",
   "execution_count": 3,
   "metadata": {},
   "outputs": [],
   "source": [
    "macro_df['timestamp_year'] = macro_df['timestamp'].dt.year\n",
    "macro_df['timestamp_month'] = macro_df['timestamp'].dt.month\n",
    "macro_df['timestamp_day'] = macro_df['timestamp'].dt.day\n",
    "macro_df.drop(labels='timestamp', axis=1, inplace=True)"
   ]
  },
  {
   "cell_type": "code",
   "execution_count": 4,
   "metadata": {},
   "outputs": [],
   "source": [
    "temp = macro_df['child_on_acc_pre_school'].map(\n",
    "    {'#!': np.NaN,\n",
    "     '45,713': 45713,\n",
    "     '7,311': 7311,\n",
    "     '3,013': 3013,\n",
    "     '16,765': 16765},\n",
    "    na_action='ignore'\n",
    ")\n",
    "macro_df['child_on_acc_pre_school'] = temp\n",
    "\n",
    "temp = macro_df['modern_education_share'].map(\n",
    "    {'90,92': 90.92,\n",
    "     '93,08': 93.08,\n",
    "     '95,4918': 95.4918},\n",
    "    na_action='ignore'\n",
    ")\n",
    "macro_df['modern_education_share'] = temp\n",
    "\n",
    "temp = macro_df['old_education_build_share'].map(\n",
    "    {'23,14': 23.14,\n",
    "     '25,47': 25.47,\n",
    "     '8,2517': 8.2517},\n",
    "    na_action='ignore'\n",
    ")\n",
    "macro_df['old_education_build_share'] = temp"
   ]
  },
  {
   "cell_type": "markdown",
   "metadata": {},
   "source": [
    "n_neighbors"
   ]
  },
  {
   "cell_type": "code",
   "execution_count": 5,
   "metadata": {},
   "outputs": [],
   "source": [
    "model = make_pipeline(\n",
    "    StandardScaler(),\n",
    "    KNNImputer(n_neighbors=10),\n",
    "    StandardScaler()\n",
    ")\n",
    "\n",
    "macro_df[:] = model.fit_transform(macro_df)"
   ]
  },
  {
   "cell_type": "code",
   "execution_count": 6,
   "metadata": {},
   "outputs": [],
   "source": [
    "train_df = pd.read_csv('data/train.csv', index_col='id', parse_dates=[1])\n",
    "test_df = pd.read_csv('data/test.csv', index_col='id', parse_dates=[1])"
   ]
  },
  {
   "cell_type": "code",
   "execution_count": 7,
   "metadata": {},
   "outputs": [],
   "source": [
    "def encode(df, fillna=True):\n",
    "    # Timestamp encoding\n",
    "    df['timestamp_year'] = df['timestamp'].dt.year\n",
    "    df['timestamp_month'] = df['timestamp'].dt.month\n",
    "    df['timestamp_day'] = df['timestamp'].dt.day\n",
    "    df.drop(labels='timestamp', axis=1, inplace=True)\n",
    "\n",
    "    # Categorical columns encoding\n",
    "    df['product_type'] = df['product_type'].map({'Investment': 0, 'OwnerOccupier':1})\n",
    "\n",
    "    eco_map = {'no data': np.NaN, # 0?\n",
    "               'poor': 1,\n",
    "               'satisfactory': 2,\n",
    "               'good': 3,\n",
    "               'excellent': 4,}\n",
    "    df['ecology'] = df['ecology'].map(eco_map)\n",
    "\n",
    "    one_hot = pd.get_dummies(df['sub_area'])\n",
    "    df.drop('sub_area', axis=1, inplace=True)\n",
    "    df = df.join(one_hot)\n",
    "\n",
    "    cat_columns = df.select_dtypes(include='object').columns\n",
    "    df[cat_columns] = df[cat_columns].applymap(lambda x: 0 if x=='no' else 1)\n",
    "    \n",
    "    # Filling NaNs\n",
    "    # if fillna:\n",
    "    #     df[:] = SimpleImputer(strategy='mean').fit_transform(df)\n",
    "\n",
    "    return df"
   ]
  },
  {
   "cell_type": "code",
   "execution_count": 8,
   "metadata": {},
   "outputs": [],
   "source": [
    "train_df = encode(train_df, fillna=False)\n",
    "train_df.pop('Poselenie Klenovskoe')\n",
    "test_df = encode(test_df, fillna=False)"
   ]
  },
  {
   "cell_type": "code",
   "execution_count": 9,
   "metadata": {},
   "outputs": [
    {
     "data": {
      "text/plain": [
       "(True, True)"
      ]
     },
     "execution_count": 9,
     "metadata": {},
     "output_type": "execute_result"
    }
   ],
   "source": [
    "train_df.isna().any().any(), test_df.isna().any().any()"
   ]
  },
  {
   "cell_type": "markdown",
   "metadata": {},
   "source": [
    "whole dataset without price_doc or train with price_doc"
   ]
  },
  {
   "cell_type": "code",
   "execution_count": 11,
   "metadata": {},
   "outputs": [],
   "source": [
    "target = train_df.pop('price_doc')"
   ]
  },
  {
   "cell_type": "code",
   "execution_count": 12,
   "metadata": {},
   "outputs": [],
   "source": [
    "df_full = pd.concat([train_df, test_df])\n",
    "imputer = SimpleImputer(strategy='mean')\n",
    "df_full[:] = imputer.fit_transform(df_full)"
   ]
  },
  {
   "cell_type": "code",
   "execution_count": 13,
   "metadata": {},
   "outputs": [],
   "source": [
    "train_df = df_full.loc[:train_df.index[-1], :]\n",
    "test_df = df_full.loc[test_df.index[0]:, :]"
   ]
  },
  {
   "cell_type": "code",
   "execution_count": 14,
   "metadata": {},
   "outputs": [],
   "source": [
    "X, y = train_df.values, target\n",
    "X_train, X_val, y_train, y_val = train_test_split(X, y, test_size=0.2, random_state=42)"
   ]
  },
  {
   "cell_type": "code",
   "execution_count": 15,
   "metadata": {},
   "outputs": [
    {
     "data": {
      "text/plain": [
       "((24376, 436), (24376,))"
      ]
     },
     "execution_count": 15,
     "metadata": {},
     "output_type": "execute_result"
    }
   ],
   "source": [
    "X_train.shape, y_train.shape"
   ]
  },
  {
   "cell_type": "markdown",
   "metadata": {},
   "source": [
    "max_depth < 7"
   ]
  },
  {
   "cell_type": "code",
   "execution_count": 59,
   "metadata": {},
   "outputs": [
    {
     "name": "stdout",
     "output_type": "stream",
     "text": [
      "[0]\tvalidation_0-rmsle:1.22035\tvalidation_1-rmsle:1.21621\n",
      "[1]\tvalidation_0-rmsle:0.76207\tvalidation_1-rmsle:0.75716\n",
      "[2]\tvalidation_0-rmsle:0.58738\tvalidation_1-rmsle:0.58371\n",
      "[3]\tvalidation_0-rmsle:0.51706\tvalidation_1-rmsle:0.51428\n",
      "[4]\tvalidation_0-rmsle:0.49029\tvalidation_1-rmsle:0.48909\n",
      "[5]\tvalidation_0-rmsle:0.48108\tvalidation_1-rmsle:0.48048\n",
      "[6]\tvalidation_0-rmsle:0.47790\tvalidation_1-rmsle:0.47823\n",
      "[7]\tvalidation_0-rmsle:0.47766\tvalidation_1-rmsle:0.47850\n",
      "[8]\tvalidation_0-rmsle:0.47778\tvalidation_1-rmsle:0.47902\n",
      "[9]\tvalidation_0-rmsle:0.47809\tvalidation_1-rmsle:0.47974\n",
      "[10]\tvalidation_0-rmsle:0.47719\tvalidation_1-rmsle:0.47972\n",
      "[11]\tvalidation_0-rmsle:0.47695\tvalidation_1-rmsle:0.47967\n",
      "[12]\tvalidation_0-rmsle:0.47682\tvalidation_1-rmsle:0.47974\n",
      "[13]\tvalidation_0-rmsle:0.47617\tvalidation_1-rmsle:0.47956\n",
      "[14]\tvalidation_0-rmsle:0.47508\tvalidation_1-rmsle:0.47860\n",
      "[15]\tvalidation_0-rmsle:0.47481\tvalidation_1-rmsle:0.47853\n",
      "[16]\tvalidation_0-rmsle:0.47393\tvalidation_1-rmsle:0.47787\n",
      "[17]\tvalidation_0-rmsle:0.47339\tvalidation_1-rmsle:0.47768\n",
      "[18]\tvalidation_0-rmsle:0.47256\tvalidation_1-rmsle:0.47729\n",
      "[19]\tvalidation_0-rmsle:0.47197\tvalidation_1-rmsle:0.47671\n",
      "[20]\tvalidation_0-rmsle:0.47124\tvalidation_1-rmsle:0.47681\n",
      "[21]\tvalidation_0-rmsle:0.47057\tvalidation_1-rmsle:0.47620\n",
      "[22]\tvalidation_0-rmsle:0.46982\tvalidation_1-rmsle:0.47588\n",
      "[23]\tvalidation_0-rmsle:0.46945\tvalidation_1-rmsle:0.47571\n",
      "[24]\tvalidation_0-rmsle:0.46882\tvalidation_1-rmsle:0.47552\n",
      "[25]\tvalidation_0-rmsle:0.46859\tvalidation_1-rmsle:0.47555\n",
      "[26]\tvalidation_0-rmsle:0.46821\tvalidation_1-rmsle:0.47514\n",
      "[27]\tvalidation_0-rmsle:0.46748\tvalidation_1-rmsle:0.47466\n",
      "[28]\tvalidation_0-rmsle:0.46674\tvalidation_1-rmsle:0.47417\n",
      "[29]\tvalidation_0-rmsle:0.46635\tvalidation_1-rmsle:0.47402\n",
      "[30]\tvalidation_0-rmsle:0.46559\tvalidation_1-rmsle:0.47384\n",
      "[31]\tvalidation_0-rmsle:0.46496\tvalidation_1-rmsle:0.47355\n",
      "[32]\tvalidation_0-rmsle:0.46477\tvalidation_1-rmsle:0.47342\n",
      "[33]\tvalidation_0-rmsle:0.46398\tvalidation_1-rmsle:0.47324\n",
      "[34]\tvalidation_0-rmsle:0.46335\tvalidation_1-rmsle:0.47330\n",
      "[35]\tvalidation_0-rmsle:0.46275\tvalidation_1-rmsle:0.47293\n",
      "[36]\tvalidation_0-rmsle:0.46237\tvalidation_1-rmsle:0.47284\n",
      "[37]\tvalidation_0-rmsle:0.46213\tvalidation_1-rmsle:0.47293\n",
      "[38]\tvalidation_0-rmsle:0.46179\tvalidation_1-rmsle:0.47292\n",
      "[39]\tvalidation_0-rmsle:0.46125\tvalidation_1-rmsle:0.47263\n",
      "[40]\tvalidation_0-rmsle:0.46098\tvalidation_1-rmsle:0.47258\n",
      "[41]\tvalidation_0-rmsle:0.46063\tvalidation_1-rmsle:0.47264\n",
      "[42]\tvalidation_0-rmsle:0.45980\tvalidation_1-rmsle:0.47190\n",
      "[43]\tvalidation_0-rmsle:0.45934\tvalidation_1-rmsle:0.47174\n",
      "[44]\tvalidation_0-rmsle:0.45894\tvalidation_1-rmsle:0.47167\n",
      "[45]\tvalidation_0-rmsle:0.45831\tvalidation_1-rmsle:0.47104\n",
      "[46]\tvalidation_0-rmsle:0.45793\tvalidation_1-rmsle:0.47077\n",
      "[47]\tvalidation_0-rmsle:0.45768\tvalidation_1-rmsle:0.47101\n",
      "[48]\tvalidation_0-rmsle:0.45720\tvalidation_1-rmsle:0.47088\n",
      "[49]\tvalidation_0-rmsle:0.45652\tvalidation_1-rmsle:0.47069\n",
      "[50]\tvalidation_0-rmsle:0.45615\tvalidation_1-rmsle:0.47071\n",
      "[51]\tvalidation_0-rmsle:0.45596\tvalidation_1-rmsle:0.47053\n",
      "[52]\tvalidation_0-rmsle:0.45559\tvalidation_1-rmsle:0.47073\n",
      "[53]\tvalidation_0-rmsle:0.45534\tvalidation_1-rmsle:0.47084\n",
      "[54]\tvalidation_0-rmsle:0.45515\tvalidation_1-rmsle:0.47065\n",
      "[55]\tvalidation_0-rmsle:0.45495\tvalidation_1-rmsle:0.47069\n",
      "[56]\tvalidation_0-rmsle:0.45452\tvalidation_1-rmsle:0.47069\n",
      "[57]\tvalidation_0-rmsle:0.45409\tvalidation_1-rmsle:0.47087\n",
      "[58]\tvalidation_0-rmsle:0.45401\tvalidation_1-rmsle:0.47097\n",
      "[59]\tvalidation_0-rmsle:0.45376\tvalidation_1-rmsle:0.47086\n",
      "[60]\tvalidation_0-rmsle:0.45312\tvalidation_1-rmsle:0.47046\n",
      "[61]\tvalidation_0-rmsle:0.45296\tvalidation_1-rmsle:0.47046\n",
      "[62]\tvalidation_0-rmsle:0.45256\tvalidation_1-rmsle:0.47025\n",
      "[63]\tvalidation_0-rmsle:0.45176\tvalidation_1-rmsle:0.46978\n",
      "[64]\tvalidation_0-rmsle:0.45146\tvalidation_1-rmsle:0.46968\n",
      "[65]\tvalidation_0-rmsle:0.45123\tvalidation_1-rmsle:0.46965\n",
      "[66]\tvalidation_0-rmsle:0.45095\tvalidation_1-rmsle:0.46970\n",
      "[67]\tvalidation_0-rmsle:0.45045\tvalidation_1-rmsle:0.46964\n",
      "[68]\tvalidation_0-rmsle:0.45014\tvalidation_1-rmsle:0.46980\n",
      "[69]\tvalidation_0-rmsle:0.44945\tvalidation_1-rmsle:0.46972\n",
      "[70]\tvalidation_0-rmsle:0.44919\tvalidation_1-rmsle:0.46971\n",
      "[71]\tvalidation_0-rmsle:0.44887\tvalidation_1-rmsle:0.46978\n",
      "[72]\tvalidation_0-rmsle:0.44873\tvalidation_1-rmsle:0.46979\n",
      "[73]\tvalidation_0-rmsle:0.44849\tvalidation_1-rmsle:0.46978\n",
      "[74]\tvalidation_0-rmsle:0.44812\tvalidation_1-rmsle:0.46977\n",
      "[75]\tvalidation_0-rmsle:0.44762\tvalidation_1-rmsle:0.46981\n",
      "[76]\tvalidation_0-rmsle:0.44753\tvalidation_1-rmsle:0.46990\n",
      "[77]\tvalidation_0-rmsle:0.44718\tvalidation_1-rmsle:0.46970\n",
      "[78]\tvalidation_0-rmsle:0.44709\tvalidation_1-rmsle:0.46981\n",
      "[79]\tvalidation_0-rmsle:0.44661\tvalidation_1-rmsle:0.46980\n",
      "[80]\tvalidation_0-rmsle:0.44631\tvalidation_1-rmsle:0.46992\n",
      "[81]\tvalidation_0-rmsle:0.44587\tvalidation_1-rmsle:0.46994\n",
      "[82]\tvalidation_0-rmsle:0.44556\tvalidation_1-rmsle:0.46985\n",
      "[83]\tvalidation_0-rmsle:0.44532\tvalidation_1-rmsle:0.46983\n",
      "[84]\tvalidation_0-rmsle:0.44499\tvalidation_1-rmsle:0.46977\n",
      "[85]\tvalidation_0-rmsle:0.44473\tvalidation_1-rmsle:0.46993\n",
      "[86]\tvalidation_0-rmsle:0.44429\tvalidation_1-rmsle:0.46997\n",
      "[87]\tvalidation_0-rmsle:0.44409\tvalidation_1-rmsle:0.46993\n",
      "[88]\tvalidation_0-rmsle:0.44360\tvalidation_1-rmsle:0.46928\n",
      "[89]\tvalidation_0-rmsle:0.44326\tvalidation_1-rmsle:0.46905\n",
      "[90]\tvalidation_0-rmsle:0.44320\tvalidation_1-rmsle:0.46909\n",
      "[91]\tvalidation_0-rmsle:0.44284\tvalidation_1-rmsle:0.46879\n",
      "[92]\tvalidation_0-rmsle:0.44245\tvalidation_1-rmsle:0.46873\n",
      "[93]\tvalidation_0-rmsle:0.44224\tvalidation_1-rmsle:0.46882\n",
      "[94]\tvalidation_0-rmsle:0.44180\tvalidation_1-rmsle:0.46897\n",
      "[95]\tvalidation_0-rmsle:0.44151\tvalidation_1-rmsle:0.46896\n",
      "[96]\tvalidation_0-rmsle:0.44122\tvalidation_1-rmsle:0.46899\n",
      "[97]\tvalidation_0-rmsle:0.44116\tvalidation_1-rmsle:0.46903\n",
      "[98]\tvalidation_0-rmsle:0.44090\tvalidation_1-rmsle:0.46899\n",
      "[99]\tvalidation_0-rmsle:0.44042\tvalidation_1-rmsle:0.46908\n",
      "[100]\tvalidation_0-rmsle:0.44020\tvalidation_1-rmsle:0.46909\n",
      "[101]\tvalidation_0-rmsle:0.44000\tvalidation_1-rmsle:0.46908\n",
      "[102]\tvalidation_0-rmsle:0.43973\tvalidation_1-rmsle:0.46891\n",
      "[103]\tvalidation_0-rmsle:0.43911\tvalidation_1-rmsle:0.46887\n",
      "[104]\tvalidation_0-rmsle:0.43848\tvalidation_1-rmsle:0.46894\n",
      "[105]\tvalidation_0-rmsle:0.43815\tvalidation_1-rmsle:0.46892\n",
      "[106]\tvalidation_0-rmsle:0.43802\tvalidation_1-rmsle:0.46904\n",
      "[107]\tvalidation_0-rmsle:0.43754\tvalidation_1-rmsle:0.46903\n",
      "[108]\tvalidation_0-rmsle:0.43715\tvalidation_1-rmsle:0.46906\n",
      "[109]\tvalidation_0-rmsle:0.43711\tvalidation_1-rmsle:0.46907\n",
      "[110]\tvalidation_0-rmsle:0.43698\tvalidation_1-rmsle:0.46916\n",
      "[111]\tvalidation_0-rmsle:0.43650\tvalidation_1-rmsle:0.46926\n",
      "[112]\tvalidation_0-rmsle:0.43612\tvalidation_1-rmsle:0.46939\n",
      "[113]\tvalidation_0-rmsle:0.43586\tvalidation_1-rmsle:0.46940\n",
      "[114]\tvalidation_0-rmsle:0.43542\tvalidation_1-rmsle:0.46949\n",
      "[115]\tvalidation_0-rmsle:0.43509\tvalidation_1-rmsle:0.46956\n",
      "[116]\tvalidation_0-rmsle:0.43455\tvalidation_1-rmsle:0.46970\n",
      "[117]\tvalidation_0-rmsle:0.43402\tvalidation_1-rmsle:0.46969\n",
      "[118]\tvalidation_0-rmsle:0.43387\tvalidation_1-rmsle:0.46972\n",
      "[119]\tvalidation_0-rmsle:0.43375\tvalidation_1-rmsle:0.46975\n",
      "[120]\tvalidation_0-rmsle:0.43363\tvalidation_1-rmsle:0.46979\n",
      "[121]\tvalidation_0-rmsle:0.43333\tvalidation_1-rmsle:0.46976\n",
      "[122]\tvalidation_0-rmsle:0.43318\tvalidation_1-rmsle:0.46974\n",
      "[123]\tvalidation_0-rmsle:0.43310\tvalidation_1-rmsle:0.46978\n",
      "[124]\tvalidation_0-rmsle:0.43284\tvalidation_1-rmsle:0.46985\n",
      "[125]\tvalidation_0-rmsle:0.43209\tvalidation_1-rmsle:0.46963\n",
      "[126]\tvalidation_0-rmsle:0.43181\tvalidation_1-rmsle:0.46964\n",
      "[127]\tvalidation_0-rmsle:0.43161\tvalidation_1-rmsle:0.46969\n",
      "[128]\tvalidation_0-rmsle:0.43144\tvalidation_1-rmsle:0.46981\n",
      "[129]\tvalidation_0-rmsle:0.43126\tvalidation_1-rmsle:0.46979\n",
      "[130]\tvalidation_0-rmsle:0.43085\tvalidation_1-rmsle:0.46975\n",
      "[131]\tvalidation_0-rmsle:0.43038\tvalidation_1-rmsle:0.46991\n",
      "[132]\tvalidation_0-rmsle:0.43001\tvalidation_1-rmsle:0.46993\n",
      "[133]\tvalidation_0-rmsle:0.42969\tvalidation_1-rmsle:0.46988\n",
      "[134]\tvalidation_0-rmsle:0.42949\tvalidation_1-rmsle:0.46991\n",
      "[135]\tvalidation_0-rmsle:0.42911\tvalidation_1-rmsle:0.47000\n",
      "[136]\tvalidation_0-rmsle:0.42881\tvalidation_1-rmsle:0.46997\n",
      "[137]\tvalidation_0-rmsle:0.42838\tvalidation_1-rmsle:0.46989\n",
      "[138]\tvalidation_0-rmsle:0.42786\tvalidation_1-rmsle:0.46999\n",
      "[139]\tvalidation_0-rmsle:0.42778\tvalidation_1-rmsle:0.46997\n",
      "[140]\tvalidation_0-rmsle:0.42721\tvalidation_1-rmsle:0.46990\n",
      "[141]\tvalidation_0-rmsle:0.42671\tvalidation_1-rmsle:0.46997\n",
      "[142]\tvalidation_0-rmsle:0.42637\tvalidation_1-rmsle:0.46998\n",
      "[143]\tvalidation_0-rmsle:0.42583\tvalidation_1-rmsle:0.46999\n",
      "[144]\tvalidation_0-rmsle:0.42564\tvalidation_1-rmsle:0.47001\n",
      "[145]\tvalidation_0-rmsle:0.42499\tvalidation_1-rmsle:0.46940\n",
      "[146]\tvalidation_0-rmsle:0.42478\tvalidation_1-rmsle:0.46946\n",
      "[147]\tvalidation_0-rmsle:0.42454\tvalidation_1-rmsle:0.46954\n",
      "[148]\tvalidation_0-rmsle:0.42432\tvalidation_1-rmsle:0.46961\n",
      "[149]\tvalidation_0-rmsle:0.42406\tvalidation_1-rmsle:0.46971\n",
      "[150]\tvalidation_0-rmsle:0.42393\tvalidation_1-rmsle:0.46977\n",
      "[151]\tvalidation_0-rmsle:0.42377\tvalidation_1-rmsle:0.46985\n",
      "[152]\tvalidation_0-rmsle:0.42326\tvalidation_1-rmsle:0.46966\n",
      "[153]\tvalidation_0-rmsle:0.42281\tvalidation_1-rmsle:0.46958\n",
      "[154]\tvalidation_0-rmsle:0.42262\tvalidation_1-rmsle:0.46943\n",
      "[155]\tvalidation_0-rmsle:0.42231\tvalidation_1-rmsle:0.46945\n",
      "[156]\tvalidation_0-rmsle:0.42191\tvalidation_1-rmsle:0.46927\n",
      "[157]\tvalidation_0-rmsle:0.42164\tvalidation_1-rmsle:0.46913\n",
      "[158]\tvalidation_0-rmsle:0.42094\tvalidation_1-rmsle:0.46923\n",
      "[159]\tvalidation_0-rmsle:0.42084\tvalidation_1-rmsle:0.46912\n",
      "[160]\tvalidation_0-rmsle:0.42045\tvalidation_1-rmsle:0.46902\n",
      "[161]\tvalidation_0-rmsle:0.42034\tvalidation_1-rmsle:0.46902\n",
      "[162]\tvalidation_0-rmsle:0.42005\tvalidation_1-rmsle:0.46898\n",
      "[163]\tvalidation_0-rmsle:0.41983\tvalidation_1-rmsle:0.46907\n",
      "[164]\tvalidation_0-rmsle:0.41953\tvalidation_1-rmsle:0.46912\n",
      "[165]\tvalidation_0-rmsle:0.41927\tvalidation_1-rmsle:0.46908\n",
      "[166]\tvalidation_0-rmsle:0.41892\tvalidation_1-rmsle:0.46884\n",
      "[167]\tvalidation_0-rmsle:0.41867\tvalidation_1-rmsle:0.46890\n",
      "[168]\tvalidation_0-rmsle:0.41826\tvalidation_1-rmsle:0.46900\n",
      "[169]\tvalidation_0-rmsle:0.41783\tvalidation_1-rmsle:0.46877\n",
      "[170]\tvalidation_0-rmsle:0.41748\tvalidation_1-rmsle:0.46879\n",
      "[171]\tvalidation_0-rmsle:0.41727\tvalidation_1-rmsle:0.46916\n",
      "[172]\tvalidation_0-rmsle:0.41717\tvalidation_1-rmsle:0.46920\n",
      "[173]\tvalidation_0-rmsle:0.41702\tvalidation_1-rmsle:0.46924\n",
      "[174]\tvalidation_0-rmsle:0.41657\tvalidation_1-rmsle:0.46934\n",
      "[175]\tvalidation_0-rmsle:0.41635\tvalidation_1-rmsle:0.46935\n",
      "[176]\tvalidation_0-rmsle:0.41631\tvalidation_1-rmsle:0.46939\n",
      "[177]\tvalidation_0-rmsle:0.41585\tvalidation_1-rmsle:0.46951\n",
      "[178]\tvalidation_0-rmsle:0.41549\tvalidation_1-rmsle:0.46955\n",
      "[179]\tvalidation_0-rmsle:0.41531\tvalidation_1-rmsle:0.46960\n",
      "[180]\tvalidation_0-rmsle:0.41489\tvalidation_1-rmsle:0.46977\n",
      "[181]\tvalidation_0-rmsle:0.41448\tvalidation_1-rmsle:0.47005\n",
      "[182]\tvalidation_0-rmsle:0.41409\tvalidation_1-rmsle:0.47006\n",
      "[183]\tvalidation_0-rmsle:0.41404\tvalidation_1-rmsle:0.47010\n",
      "[184]\tvalidation_0-rmsle:0.41363\tvalidation_1-rmsle:0.47003\n",
      "[185]\tvalidation_0-rmsle:0.41341\tvalidation_1-rmsle:0.47004\n",
      "[186]\tvalidation_0-rmsle:0.41295\tvalidation_1-rmsle:0.46999\n",
      "[187]\tvalidation_0-rmsle:0.41268\tvalidation_1-rmsle:0.47005\n",
      "[188]\tvalidation_0-rmsle:0.41244\tvalidation_1-rmsle:0.47015\n",
      "[189]\tvalidation_0-rmsle:0.41229\tvalidation_1-rmsle:0.47015\n",
      "[190]\tvalidation_0-rmsle:0.41170\tvalidation_1-rmsle:0.47012\n",
      "[191]\tvalidation_0-rmsle:0.41132\tvalidation_1-rmsle:0.47032\n",
      "[192]\tvalidation_0-rmsle:0.41114\tvalidation_1-rmsle:0.47035\n",
      "[193]\tvalidation_0-rmsle:0.41087\tvalidation_1-rmsle:0.47052\n",
      "[194]\tvalidation_0-rmsle:0.41062\tvalidation_1-rmsle:0.47042\n",
      "[195]\tvalidation_0-rmsle:0.41006\tvalidation_1-rmsle:0.47031\n",
      "[196]\tvalidation_0-rmsle:0.40963\tvalidation_1-rmsle:0.47041\n",
      "[197]\tvalidation_0-rmsle:0.40934\tvalidation_1-rmsle:0.47043\n",
      "[198]\tvalidation_0-rmsle:0.40911\tvalidation_1-rmsle:0.47054\n",
      "[199]\tvalidation_0-rmsle:0.40879\tvalidation_1-rmsle:0.47058\n"
     ]
    },
    {
     "data": {
      "text/plain": [
       "XGBRegressor(base_score=0.5, booster='gbtree', colsample_bylevel=1,\n",
       "             colsample_bynode=1, colsample_bytree=1, eval_metric='rmsle',\n",
       "             gamma=0, gpu_id=-1, importance_type='gain',\n",
       "             interaction_constraints='', learning_rate=0.300000012,\n",
       "             max_delta_step=0, max_depth=4, min_child_weight=1, missing=nan,\n",
       "             monotone_constraints='()', n_estimators=200, n_jobs=6,\n",
       "             num_parallel_tree=1, random_state=0, reg_alpha=0, reg_lambda=1,\n",
       "             scale_pos_weight=1, subsample=1, tree_method='exact',\n",
       "             validate_parameters=1, verbosity=None)"
      ]
     },
     "execution_count": 59,
     "metadata": {},
     "output_type": "execute_result"
    }
   ],
   "source": [
    "model = XGBRegressor(n_estimators=200, max_depth=4, learning_rate=0.2, eval_metric='rmsle', n_jobs=6)\n",
    "model.fit(X_train, y_train, eval_set=[(X_train, y_train), (X_val, y_val)])"
   ]
  },
  {
   "cell_type": "code",
   "execution_count": 52,
   "metadata": {},
   "outputs": [
    {
     "data": {
      "text/plain": [
       "(0.3935693078710831, 0.46602859736307783)"
      ]
     },
     "execution_count": 52,
     "metadata": {},
     "output_type": "execute_result"
    }
   ],
   "source": [
    "y_pred_val = np.abs(model.predict(X_val))\n",
    "y_pred_train = np.abs(model.predict(X_train))\n",
    "np.sqrt(mean_squared_log_error(y_train, y_pred_train)), np.sqrt(mean_squared_log_error(y_val, y_pred_val))"
   ]
  },
  {
   "cell_type": "code",
   "execution_count": 26,
   "metadata": {},
   "outputs": [],
   "source": [
    "global X_test\n",
    "X_test = test_df.values"
   ]
  },
  {
   "cell_type": "code",
   "execution_count": 43,
   "metadata": {},
   "outputs": [],
   "source": [
    "def create_submission(model):\n",
    "    submission = pd.read_csv('data/sample_submission.csv')\n",
    "    pred = model.predict(X_test)\n",
    "    if len(pred[pred < 0]):\n",
    "        print('WARNING: NEGATIVE PREDICTIONS')\n",
    "        pred = np.abs(pred)\n",
    "    submission['price_doc'] = pred\n",
    "    submission.to_csv('submission.csv', index=False)"
   ]
  },
  {
   "cell_type": "code",
   "execution_count": 44,
   "metadata": {},
   "outputs": [
    {
     "name": "stdout",
     "output_type": "stream",
     "text": [
      "WARNING: NEGATIVE PREDICTIONS\n"
     ]
    }
   ],
   "source": [
    "create_submission(model)"
   ]
  },
  {
   "cell_type": "code",
   "execution_count": 45,
   "metadata": {},
   "outputs": [
    {
     "name": "stdout",
     "output_type": "stream",
     "text": [
      "100%|████████████████████████████████████████| 121k/121k [00:03<00:00, 36.3kB/s]\n",
      "Successfully submitted to Sberbank Russian Housing Market"
     ]
    }
   ],
   "source": [
    "!kaggle competitions submit -c sberbank-russian-housing-market -f submission.csv -m \"naive XGBRegressor\""
   ]
  },
  {
   "cell_type": "code",
   "execution_count": 46,
   "metadata": {},
   "outputs": [
    {
     "name": "stdout",
     "output_type": "stream",
     "text": [
      "fileName        date                 description         status    publicScore  privateScore  \n",
      "--------------  -------------------  ------------------  --------  -----------  ------------  \n",
      "submission.csv  2021-11-09 00:31:33  naive XGBRegressor  complete  0.35039      0.34927       \n",
      "submission.csv  2021-11-09 00:30:50  naive XGBRegressor  error     None         None          \n",
      "submission.csv  2021-11-09 00:25:37  naive XGBRegressor  error     None         None          \n",
      "submission.csv  2021-11-08 16:09:11  dummy               complete  0.34874      0.34785       \n",
      "submission.csv  2021-11-08 00:12:53  test_submit         complete  0.41135      0.40794       \n"
     ]
    }
   ],
   "source": [
    "!kaggle competitions submissions -c sberbank-russian-housing-market"
   ]
  },
  {
   "cell_type": "code",
   "execution_count": null,
   "metadata": {},
   "outputs": [],
   "source": [
    "df = pd.read_csv('publicleaderboard.csv')\n",
    "scores = df['Score'].values"
   ]
  },
  {
   "cell_type": "code",
   "execution_count": null,
   "metadata": {},
   "outputs": [],
   "source": [
    "my_score = 0.34874"
   ]
  },
  {
   "cell_type": "code",
   "execution_count": null,
   "metadata": {},
   "outputs": [
    {
     "data": {
      "text/plain": [
       "array([ 0.29755,  0.30069,  0.30629, ..., 11.77794, 11.77962, 35.09525])"
      ]
     },
     "metadata": {},
     "output_type": "display_data"
    }
   ],
   "source": [
    "scores = np.append(scores, my_score)\n",
    "scores = np.sort(scores)\n",
    "scores"
   ]
  },
  {
   "cell_type": "code",
   "execution_count": null,
   "metadata": {},
   "outputs": [
    {
     "data": {
      "text/plain": [
       "'2632 / 3267'"
      ]
     },
     "metadata": {},
     "output_type": "display_data"
    }
   ],
   "source": [
    "f'{np.where(scores == my_score)[0][0]} / {len(scores)}'"
   ]
  }
 ],
 "metadata": {
  "interpreter": {
   "hash": "e7370f93d1d0cde622a1f8e1c04877d8463912d04d973331ad4851f04de6915a"
  },
  "kernelspec": {
   "display_name": "Python 3.8.10 64-bit",
   "language": "python",
   "name": "python3"
  },
  "language_info": {
   "codemirror_mode": {
    "name": "ipython",
    "version": 3
   },
   "file_extension": ".py",
   "mimetype": "text/x-python",
   "name": "python",
   "nbconvert_exporter": "python",
   "pygments_lexer": "ipython3",
   "version": "3.8.10"
  },
  "orig_nbformat": 4
 },
 "nbformat": 4,
 "nbformat_minor": 2
}
