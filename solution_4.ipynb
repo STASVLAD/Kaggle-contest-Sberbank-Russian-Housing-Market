{
 "cells": [
  {
   "cell_type": "code",
   "execution_count": 64,
   "metadata": {},
   "outputs": [],
   "source": [
    "import numpy as np\n",
    "import pandas as pd\n",
    "from sklearn.metrics import mean_squared_log_error\n",
    "from sklearn.model_selection import train_test_split, cross_val_score, KFold\n",
    "from xgboost import XGBRegressor"
   ]
  },
  {
   "cell_type": "code",
   "execution_count": 4,
   "metadata": {},
   "outputs": [],
   "source": [
    "from scipy import stats\n",
    "import matplotlib.pyplot as plt"
   ]
  },
  {
   "cell_type": "code",
   "execution_count": 5,
   "metadata": {},
   "outputs": [],
   "source": [
    "macro_df = pd.read_csv('data/macro.csv', parse_dates=['timestamp'])\n",
    "train_df = pd.read_csv('data/train.csv', index_col='id', parse_dates=['timestamp'])\n",
    "test_df = pd.read_csv('data/test.csv', index_col='id', parse_dates=['timestamp'])\n",
    "fix_df = pd.read_excel('data/BAD_ADDRESS_FIX.xlsx').drop_duplicates('id').set_index('id')\n",
    "name2sub_area = pd.read_csv('data/name2sub_area.csv', index_col='sub_area')"
   ]
  },
  {
   "cell_type": "code",
   "execution_count": 6,
   "metadata": {},
   "outputs": [],
   "source": [
    "# train_df.update(fix_df, overwrite=True)\n",
    "# test_df.update(fix_df, overwrite=True)\n",
    "del fix_df"
   ]
  },
  {
   "cell_type": "code",
   "execution_count": 7,
   "metadata": {},
   "outputs": [],
   "source": [
    "macro_df['child_on_acc_pre_school'] = macro_df['child_on_acc_pre_school'].str.replace('#!', 'nan')\n",
    "for column in macro_df.select_dtypes('object').columns:\n",
    "    macro_df[column] = macro_df[column].str.replace(',', '.')\n",
    "    macro_df[column] = macro_df[column].astype(float)"
   ]
  },
  {
   "cell_type": "code",
   "execution_count": 8,
   "metadata": {},
   "outputs": [],
   "source": [
    "train_macro_df = train_df.merge(macro_df, on='timestamp', how='left')\n",
    "test_macro_df = test_df.merge(macro_df, on='timestamp', how='left' )"
   ]
  },
  {
   "cell_type": "code",
   "execution_count": 9,
   "metadata": {},
   "outputs": [],
   "source": [
    "train_macro_df['sub_area'] = train_macro_df['sub_area'].map(name2sub_area['OKRUG'].to_dict())\n",
    "test_macro_df['sub_area'] = test_macro_df['sub_area'].map(name2sub_area['OKRUG'].to_dict())\n",
    "del name2sub_area"
   ]
  },
  {
   "cell_type": "code",
   "execution_count": 10,
   "metadata": {},
   "outputs": [],
   "source": [
    "def encode(df):\n",
    "    # Timestamp encoding\n",
    "    df['timestamp_year'] = df['timestamp'].dt.year\n",
    "    df['timestamp_month'] = df['timestamp'].dt.month\n",
    "    df['timestamp_day'] = df['timestamp'].dt.day\n",
    "    df.drop(labels='timestamp', axis=1, inplace=True)\n",
    "\n",
    "    # Categorical columns encoding\n",
    "    df['product_type'] = df['product_type'].map({'Investment': 0, 'OwnerOccupier':1})\n",
    "\n",
    "    # Ecology\n",
    "    eco_map = {'no data': np.NaN, # 0?\n",
    "               'poor': 1,\n",
    "               'satisfactory': 2,\n",
    "               'good': 3,\n",
    "               'excellent': 4,}\n",
    "    df['ecology'] = df['ecology'].map(eco_map)\n",
    "\n",
    "    # Sub_area \n",
    "    one_hot = pd.get_dummies(df['sub_area'])\n",
    "    df.drop('sub_area', axis=1, inplace=True)\n",
    "    df = df.join(one_hot)\n",
    "\n",
    "    # yes/no\n",
    "    cat_columns = df.select_dtypes(include='object').columns\n",
    "    df[cat_columns] = df[cat_columns].applymap(lambda x: 0 if x=='no' else 1)\n",
    "    \n",
    "    return df"
   ]
  },
  {
   "cell_type": "code",
   "execution_count": 11,
   "metadata": {},
   "outputs": [],
   "source": [
    "train_macro_df = encode(train_macro_df)\n",
    "test_macro_df = encode(test_macro_df)\n",
    "target = train_macro_df.pop('price_doc')"
   ]
  },
  {
   "cell_type": "code",
   "execution_count": 12,
   "metadata": {},
   "outputs": [
    {
     "data": {
      "text/plain": [
       "((24376, 402), (24376,))"
      ]
     },
     "execution_count": 12,
     "metadata": {},
     "output_type": "execute_result"
    }
   ],
   "source": [
    "X, y = train_macro_df.values, target\n",
    "X_train, X_val, y_train, y_val = train_test_split(X, y, test_size=0.2, random_state=42)\n",
    "X_train.shape, y_train.shape"
   ]
  },
  {
   "cell_type": "code",
   "execution_count": 61,
   "metadata": {},
   "outputs": [
    {
     "name": "stdout",
     "output_type": "stream",
     "text": [
      "[0]\tvalidation_0-mae:4189275.75000\tvalidation_1-mae:4121061.75000\n",
      "[1]\tvalidation_0-mae:2792969.00000\tvalidation_1-mae:2758492.75000\n",
      "[2]\tvalidation_0-mae:2102783.00000\tvalidation_1-mae:2093478.87500\n",
      "[3]\tvalidation_0-mae:1771786.87500\tvalidation_1-mae:1772549.37500\n",
      "[4]\tvalidation_0-mae:1611383.75000\tvalidation_1-mae:1635524.87500\n",
      "[5]\tvalidation_0-mae:1519072.12500\tvalidation_1-mae:1555397.00000\n",
      "[6]\tvalidation_0-mae:1482268.00000\tvalidation_1-mae:1525650.62500\n",
      "[7]\tvalidation_0-mae:1441603.00000\tvalidation_1-mae:1497423.37500\n",
      "[8]\tvalidation_0-mae:1409881.12500\tvalidation_1-mae:1477316.00000\n",
      "[9]\tvalidation_0-mae:1396910.62500\tvalidation_1-mae:1472758.50000\n"
     ]
    },
    {
     "data": {
      "text/plain": [
       "XGBRegressor(base_score=0.5, booster='gbtree', colsample_bylevel=1,\n",
       "             colsample_bynode=1, colsample_bytree=1, eval_metric='mae', gamma=0,\n",
       "             gpu_id=-1, importance_type='gain', interaction_constraints='',\n",
       "             learning_rate=0.45, max_delta_step=0, max_depth=5,\n",
       "             min_child_weight=0, missing=nan, monotone_constraints='()',\n",
       "             n_estimators=10, n_jobs=8, nthread=-1, num_parallel_tree=1,\n",
       "             random_state=42, reg_alpha=100, reg_lambda=1, scale_pos_weight=1,\n",
       "             seed=42, subsample=1, tree_method='exact', validate_parameters=1,\n",
       "             verbosity=None)"
      ]
     },
     "execution_count": 61,
     "metadata": {},
     "output_type": "execute_result"
    }
   ],
   "source": [
    "params = {'n_estimators': 10,\n",
    "          'booster': 'gbtree',\n",
    "          'max_depth': 5,\n",
    "          'eval_metric': 'mae',\n",
    "          'learning_rate': 0.45,\n",
    "          'reg_alpha': 100,\n",
    "          'min_child_weight': 0,\n",
    "          # 'subsample': 0.8,\n",
    "          # 'colsample_bytree': 0.79,\n",
    "          'seed': 42,\n",
    "          'nthread': -1\n",
    "          }\n",
    "\n",
    "model = XGBRegressor(objective='reg:squarederror', **params)\n",
    "\n",
    "model.fit(X_train, y_train, eval_set=[(X_train, y_train), (X_val, y_val)])\n"
   ]
  },
  {
   "cell_type": "code",
   "execution_count": 62,
   "metadata": {},
   "outputs": [
    {
     "data": {
      "text/plain": [
       "(0.4644388724215377, 0.4771816998451314)"
      ]
     },
     "execution_count": 62,
     "metadata": {},
     "output_type": "execute_result"
    }
   ],
   "source": [
    "y_pred_val = np.abs(model.predict(X_val))\n",
    "y_pred_train = np.abs(model.predict(X_train))\n",
    "np.sqrt(mean_squared_log_error(y_train, y_pred_train)), np.sqrt(mean_squared_log_error(y_val, y_pred_val))"
   ]
  },
  {
   "cell_type": "code",
   "execution_count": 65,
   "metadata": {},
   "outputs": [
    {
     "name": "stderr",
     "output_type": "stream",
     "text": [
      "[Parallel(n_jobs=6)]: Using backend LokyBackend with 6 concurrent workers.\n",
      "[Parallel(n_jobs=6)]: Done   5 out of   5 | elapsed:   36.3s finished\n"
     ]
    },
    {
     "data": {
      "text/plain": [
       "array([-0.22770237, -0.22812722, -0.22101153, -0.23741211, -0.2331106 ])"
      ]
     },
     "execution_count": 65,
     "metadata": {},
     "output_type": "execute_result"
    }
   ],
   "source": [
    "model = XGBRegressor(objective='reg:squarederror', **params)\n",
    "cross_val_score(model, X, y, cv=KFold(shuffle=True, random_state=42), scoring='neg_mean_squared_log_error', n_jobs=6)"
   ]
  },
  {
   "cell_type": "code",
   "execution_count": 66,
   "metadata": {},
   "outputs": [
    {
     "data": {
      "text/plain": [
       "0.229472766"
      ]
     },
     "execution_count": 66,
     "metadata": {},
     "output_type": "execute_result"
    }
   ],
   "source": [
    "cv_results = [-0.22770237, -0.22812722, -0.22101153, -0.23741211, -0.2331106]\n",
    "np.mean(np.abs(cv_results))"
   ]
  },
  {
   "cell_type": "markdown",
   "metadata": {},
   "source": [
    "### train_test_split \n",
    "```\n",
    "local = {'train':0.46444, \n",
    "         'test': 0.47718}\n",
    "```\n",
    "real: (0.33844, 0.33819)\n",
    "### naive cv\n",
    "local: 0.23\n",
    "real: (0.32886, 0.32857)\n",
    "### smart cv\n",
    "local: (0.44323, 0.46569)\n",
    "real: (0.32886, 0.32857)"
   ]
  },
  {
   "cell_type": "code",
   "execution_count": 56,
   "metadata": {},
   "outputs": [],
   "source": [
    "global X_test\n",
    "X_test = test_macro_df.values"
   ]
  },
  {
   "cell_type": "code",
   "execution_count": 57,
   "metadata": {},
   "outputs": [],
   "source": [
    "def create_submission(model):\n",
    "    submission = pd.read_csv('data/sample_submission.csv')\n",
    "    pred = model.predict(X_test)\n",
    "    if len(pred[pred < 0]):\n",
    "        print('WARNING: NEGATIVE PREDICTIONS')\n",
    "        pred = np.abs(pred)\n",
    "    submission['price_doc'] = pred\n",
    "    submission.to_csv('submission.csv', index=False)"
   ]
  },
  {
   "cell_type": "code",
   "execution_count": 58,
   "metadata": {},
   "outputs": [],
   "source": [
    "create_submission(model)"
   ]
  },
  {
   "cell_type": "code",
   "execution_count": 59,
   "metadata": {},
   "outputs": [
    {
     "name": "stdout",
     "output_type": "stream",
     "text": [
      "100%|████████████████████████████████████████| 121k/121k [00:02<00:00, 60.6kB/s]\n",
      "Successfully submitted to Sberbank Russian Housing Market"
     ]
    }
   ],
   "source": [
    "!kaggle competitions submit -c sberbank-russian-housing-market -f submission.csv -m \"test train_test_split\""
   ]
  },
  {
   "cell_type": "code",
   "execution_count": 60,
   "metadata": {},
   "outputs": [
    {
     "name": "stdout",
     "output_type": "stream",
     "text": [
      "fileName        date                 description                                   status    publicScore  privateScore  \n",
      "--------------  -------------------  --------------------------------------------  --------  -----------  ------------  \n",
      "submission.csv  2021-11-19 19:43:05  test train_test_split                         complete  0.33844      0.33819       \n",
      "submission.csv  2021-11-19 19:11:49  test train_test_split                         complete  0.32886      0.32857       \n",
      "submission.csv  2021-11-19 19:10:42  test train_test_split                         complete  0.32886      0.32857       \n",
      "submission.csv  2021-11-12 18:19:49  naive XGBRegressor with OKRUG                 complete  0.33627      0.34593       \n",
      "submission.csv  2021-11-12 18:07:03  naive XGBRegressor with OKRUG                 complete  0.33615      0.35028       \n",
      "submission.csv  2021-11-12 18:02:19  naive XGBRegressor with OKRUG                 complete  0.32857      0.33310       \n",
      "submission.csv  2021-11-12 17:31:16  naive XGBRegressor with 'Tverskoe issue' fix  complete  0.33586      0.33922       \n",
      "submission.csv  2021-11-12 17:30:10  naive XGBRegressor with 'Tverskoe issue' fix  complete  0.32494      0.32895       \n",
      "submission.csv  2021-11-12 16:14:31  naive XGBRegressor with raw macro.csv         complete  0.32494      0.32895       \n",
      "submission.csv  2021-11-12 16:00:03  naive XGBRegressor with raw macro.csv         complete  0.35097      0.35469       \n",
      "submission.csv  2021-11-12 15:48:48  naive XGBRegressor with raw macro.csv         complete  0.34873      0.35337       \n",
      "submission.csv  2021-11-09 00:47:57  naive XGBRegressor                            complete  0.33041      0.33885       \n",
      "submission.csv  2021-11-09 00:31:33  naive XGBRegressor                            complete  0.35039      0.34927       \n",
      "submission.csv  2021-11-09 00:30:50  naive XGBRegressor                            error     None         None          \n",
      "submission.csv  2021-11-09 00:25:37  naive XGBRegressor                            error     None         None          \n",
      "submission.csv  2021-11-08 16:09:11  dummy                                         complete  0.34874      0.34785       \n",
      "submission.csv  2021-11-08 00:12:53  test_submit                                   complete  0.41135      0.40794       \n"
     ]
    }
   ],
   "source": [
    "!kaggle competitions submissions -c sberbank-russian-housing-market"
   ]
  },
  {
   "cell_type": "code",
   "execution_count": null,
   "metadata": {},
   "outputs": [],
   "source": [
    "def get_place(my_score):\n",
    "    df = pd.read_csv('publicleaderboard.csv')\n",
    "    scores = df['Score'].values\n",
    "    scores = np.append(scores, my_score)\n",
    "    scores = np.sort(scores)\n",
    "    print(f'{np.where(scores == my_score)[0][0]} / {len(scores)}')"
   ]
  },
  {
   "cell_type": "code",
   "execution_count": null,
   "metadata": {},
   "outputs": [
    {
     "name": "stdout",
     "output_type": "stream",
     "text": [
      "1936 / 3266\n"
     ]
    }
   ],
   "source": [
    "my_score = 0.32494\n",
    "get_place(my_score)"
   ]
  }
 ],
 "metadata": {
  "interpreter": {
   "hash": "916dbcbb3f70747c44a77c7bcd40155683ae19c65e1c03b4aa3499c5328201f1"
  },
  "kernelspec": {
   "display_name": "Python 3.8.10 64-bit",
   "language": "python",
   "name": "python3"
  },
  "language_info": {
   "codemirror_mode": {
    "name": "ipython",
    "version": 3
   },
   "file_extension": ".py",
   "mimetype": "text/x-python",
   "name": "python",
   "nbconvert_exporter": "python",
   "pygments_lexer": "ipython3",
   "version": "3.8.10"
  },
  "orig_nbformat": 4
 },
 "nbformat": 4,
 "nbformat_minor": 2
}
