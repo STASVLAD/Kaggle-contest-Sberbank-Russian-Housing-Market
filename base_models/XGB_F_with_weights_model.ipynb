{
 "cells": [
  {
   "cell_type": "code",
   "execution_count": 1,
   "metadata": {},
   "outputs": [
    {
     "name": "stdout",
     "output_type": "stream",
     "text": [
      "/home/stasvlad/Documents/hse/sberbank\n"
     ]
    }
   ],
   "source": [
    "%cd /home/stasvlad/Documents/hse/sberbank/"
   ]
  },
  {
   "cell_type": "code",
   "execution_count": 2,
   "metadata": {
    "id": "2TDIoXTN-wtp"
   },
   "outputs": [],
   "source": [
    "from utils import *\n",
    "from features import *\n",
    "\n",
    "import numpy as np\n",
    "import pandas as pd\n",
    "\n",
    "from sklearn.metrics import mean_squared_log_error, mean_absolute_error, mean_squared_error\n",
    "from sklearn.model_selection import train_test_split, cross_val_score, KFold\n",
    "from sklearn.tree import DecisionTreeRegressor\n",
    "from sklearn.pipeline import make_pipeline\n",
    "from sklearn.ensemble import AdaBoostRegressor, RandomForestRegressor, ExtraTreesRegressor, GradientBoostingRegressor\n",
    "from sklearn.linear_model import LinearRegression\n",
    "from sklearn.impute import SimpleImputer\n",
    "from sklearn.neural_network import MLPRegressor\n",
    "from sklearn.preprocessing import StandardScaler\n",
    "\n",
    "import lightgbm as lgb\n",
    "from xgboost import XGBRegressor, DMatrix, cv\n",
    "from xgboost import train as train_xgb"
   ]
  },
  {
   "cell_type": "markdown",
   "metadata": {
    "id": "70sx-8YD-wtx"
   },
   "source": [
    "## Data description"
   ]
  },
  {
   "cell_type": "code",
   "execution_count": 3,
   "metadata": {
    "colab": {
     "base_uri": "https://localhost:8080/"
    },
    "id": "lgqwWeGS-wtz",
    "outputId": "7ce4db16-583d-40af-afa9-a00f6aebc45c"
   },
   "outputs": [
    {
     "name": "stdout",
     "output_type": "stream",
     "text": [
      "Fix:  550\n",
      "Fix:  149\n"
     ]
    }
   ],
   "source": [
    "macro_df = pd.read_csv('data/macro.csv', parse_dates=['timestamp'])\n",
    "train_df = pd.read_csv('data/train.csv', index_col='id', parse_dates=['timestamp'])\n",
    "test_df = pd.read_csv('data/test.csv', index_col='id', parse_dates=['timestamp'])\n",
    "\n",
    "tverskoe_issue_fix(train_df)\n",
    "tverskoe_issue_fix(test_df)"
   ]
  },
  {
   "cell_type": "markdown",
   "metadata": {
    "id": "6XMfRzcU-wt2"
   },
   "source": [
    "## 1. Data preprocessing\n",
    "## I part (encoding and correcting mistakes)"
   ]
  },
  {
   "cell_type": "markdown",
   "metadata": {
    "id": "WlOmdlGc-wt4"
   },
   "source": [
    "### Macro dataset"
   ]
  },
  {
   "cell_type": "code",
   "execution_count": 4,
   "metadata": {
    "colab": {
     "base_uri": "https://localhost:8080/"
    },
    "id": "6a1-RKD2-wt4",
    "outputId": "364f5c9a-8412-44e4-8716-0bb10c3dd98d"
   },
   "outputs": [
    {
     "name": "stdout",
     "output_type": "stream",
     "text": [
      "OK\n"
     ]
    }
   ],
   "source": [
    "macro_df['child_on_acc_pre_school'] = macro_df['child_on_acc_pre_school'].str.replace('#!', 'nan')\n",
    "for column in macro_df.select_dtypes('object').columns:\n",
    "    macro_df[column] = macro_df[column].str.replace(',', '.')\n",
    "    macro_df[column] = macro_df[column].astype(float)\n",
    "\n",
    "if not len(macro_df.select_dtypes('object').columns):\n",
    "    print('OK')"
   ]
  },
  {
   "cell_type": "markdown",
   "metadata": {
    "id": "5hOdB2O2-wt5"
   },
   "source": [
    "### Train dataset"
   ]
  },
  {
   "cell_type": "code",
   "execution_count": 5,
   "metadata": {
    "id": "cefhW3sO-wt5"
   },
   "outputs": [],
   "source": [
    "train_df = encode(train_df)"
   ]
  },
  {
   "cell_type": "markdown",
   "metadata": {
    "id": "vSRp5y_C-wt7"
   },
   "source": [
    "### Test dataset"
   ]
  },
  {
   "cell_type": "code",
   "execution_count": 6,
   "metadata": {
    "id": "IMeNQ_Ad-wt8"
   },
   "outputs": [],
   "source": [
    "test_df = encode(test_df)"
   ]
  },
  {
   "cell_type": "markdown",
   "metadata": {
    "id": "ZcRHlWsU-wt-"
   },
   "source": [
    "## II part (Filling missing values)"
   ]
  },
  {
   "cell_type": "markdown",
   "metadata": {
    "id": "G8kHIiU0-wt_"
   },
   "source": [
    "XGBRegressor model handles `np.NaN` values itself"
   ]
  },
  {
   "cell_type": "markdown",
   "metadata": {
    "id": "FfLaI5aH-wt_"
   },
   "source": [
    "## 2. Encoding `sub_area` feature"
   ]
  },
  {
   "cell_type": "code",
   "execution_count": 7,
   "metadata": {},
   "outputs": [],
   "source": [
    "coords_train_df = pd.read_csv('data/geo/train_lat_lon.csv')\n",
    "coords_train_df.drop(['key', 'tolerance_m'], axis=1, inplace=True)\n",
    "coords_train_df.index = coords_train_df.id\n",
    "coords_train_df.drop(['id'], axis=1, inplace=True)\n",
    "coords_train_df = coords_train_df.sort_index()\n",
    "\n",
    "coords_test_df = pd.read_csv('data/geo/test_lat_lon.csv')\n",
    "coords_test_df.drop(['key', 'tolerance_m'], axis=1, inplace=True)\n",
    "coords_test_df.index = coords_test_df.id\n",
    "coords_test_df.drop(['id'], axis=1, inplace=True)\n",
    "coords_test_df = coords_test_df.sort_index()\n",
    "\n",
    "coords_all_df = pd.concat([coords_train_df, coords_test_df])"
   ]
  },
  {
   "cell_type": "code",
   "execution_count": 8,
   "metadata": {},
   "outputs": [],
   "source": [
    "train_df['is_train'] = 1\n",
    "test_df['is_train'] = 0\n",
    "\n",
    "# coords_df = pd.read_csv('data/coords.csv', index_col='id')\n",
    "all_df = pd.concat([train_df, test_df])\n",
    "\n",
    "all_df['latitude'] = coords_all_df['lat']\n",
    "all_df['longitude'] = coords_all_df['lon']"
   ]
  },
  {
   "cell_type": "markdown",
   "metadata": {
    "id": "Ad9TaN9Q-wuB"
   },
   "source": [
    "## 3. Removing outliers"
   ]
  },
  {
   "cell_type": "code",
   "execution_count": 9,
   "metadata": {
    "id": "GS7abrdJ-wuB"
   },
   "outputs": [],
   "source": [
    "all_df = remove_outliers(all_df)"
   ]
  },
  {
   "cell_type": "markdown",
   "metadata": {
    "id": "_Y7doThf-wuB"
   },
   "source": [
    "## 4. Feature engineering"
   ]
  },
  {
   "cell_type": "code",
   "execution_count": 10,
   "metadata": {
    "id": "HEFaFZFI-wuC"
   },
   "outputs": [],
   "source": [
    "all_df = create_new_features(all_df)"
   ]
  },
  {
   "cell_type": "markdown",
   "metadata": {
    "id": "VLOjaYTj-wuD"
   },
   "source": [
    "## 5. Removing fake prices"
   ]
  },
  {
   "cell_type": "code",
   "execution_count": 11,
   "metadata": {
    "id": "2gVmPZwh-wuE"
   },
   "outputs": [],
   "source": [
    "train_df = all_df[all_df['is_train'] == 1].drop(['is_train'], axis=1)\n",
    "test_df = all_df[all_df['is_train'] == 0].drop(['is_train', 'price_doc'], axis=1)"
   ]
  },
  {
   "cell_type": "code",
   "execution_count": 12,
   "metadata": {},
   "outputs": [
    {
     "name": "stdout",
     "output_type": "stream",
     "text": [
      "REMOVED: 35\n"
     ]
    }
   ],
   "source": [
    "train_df = remove_fake_prices(train_df)"
   ]
  },
  {
   "cell_type": "code",
   "execution_count": 13,
   "metadata": {
    "id": "r2iMQl-I-wuE"
   },
   "outputs": [],
   "source": [
    "idx_outliers = np.loadtxt('outliers/idx_outliers_full.txt').astype(int)\n",
    "train_df = train_df.drop(idx_outliers)"
   ]
  },
  {
   "cell_type": "markdown",
   "metadata": {},
   "source": [
    "## 6. XGBRegressor"
   ]
  },
  {
   "cell_type": "code",
   "execution_count": 14,
   "metadata": {
    "id": "kfljzjWx-wuF"
   },
   "outputs": [],
   "source": [
    "class my_LGBRegressor(object):\n",
    "    def __init__(self, params):\n",
    "        self.params = params\n",
    "\n",
    "    def fit(self, X, y, w=None):\n",
    "        split = int(X.shape[0] * 0.8)\n",
    "        indices = np.random.permutation(X.shape[0])\n",
    "        train_id, test_id = indices[:split], indices[split:]\n",
    "        X_train, y_train, w_train, X_val, y_val, w_val = X[train_id], y[train_id], w[train_id], X[test_id], y[test_id], w[test_id],\n",
    "        d_train = lgb.Dataset(X_train, y_train, weight=w_train)\n",
    "        d_valid = lgb.Dataset(X_val, y_val, weight=w_val) \n",
    "\n",
    "        bst_partial = lgb.train(self.params,\n",
    "                                d_train, 10000,\n",
    "                                valid_sets=d_valid,\n",
    "                                callbacks = [lgb.early_stopping(50)])\n",
    "                                \n",
    "        num_round = bst_partial.best_iteration\n",
    "        d_all = lgb.Dataset(X, label=y, weight=w)\n",
    "        self.bst = lgb.train(self.params, d_all, num_round)\n",
    "\n",
    "    def predict(self, X):\n",
    "        return self.bst.predict(X)\n",
    "\n",
    "\n",
    "class my_XGBRegressor(object):\n",
    "    def __init__(self, params, product_type=-1):\n",
    "        self.params = params\n",
    "        self.product_type = product_type\n",
    "\n",
    "    def fit(self, X, y, w=None):\n",
    "        \n",
    "        if self.product_type == 0:\n",
    "            X = train_df[train_df['product_type'] == 0].drop(['sub_area', 'price_doc'], axis=1).values\n",
    "            y = np.log1p(test_df[test_df['product_type'] == 0]['price_doc'].values)\n",
    "            print(X.shape)\n",
    "\n",
    "        if self.product_type == 1:\n",
    "            X = train_df[train_df['product_type'] == 1].drop(['sub_area', 'price_doc'], axis=1).values\n",
    "            y = np.log1p(test_df[test_df['product_type'] == 1]['price_doc'].values)\n",
    "            print(X.shape)\n",
    "            \n",
    "        split = int(X.shape[0] * 0.8)\n",
    "        indices = np.random.permutation(X.shape[0])\n",
    "        train_id, test_id = indices[:split], indices[split:]\n",
    "\n",
    "        X_train, y_train, w_train, X_val, y_val, w_val = X[train_id], y[train_id], w[train_id], X[test_id], y[test_id], w[test_id],\n",
    "        X_train, y_train, w_train, X_val, y_val, w_val = X[train_id], y[train_id], w[train_id], X[test_id], y[test_id], w[test_id],\n",
    "\n",
    "        d_train = DMatrix(X_train, label=y_train, weight = w_train)\n",
    "        d_valid = DMatrix(X_val, label=y_val, weight = w_val) \n",
    "\n",
    "        print(f\"Training until validation scores don't improve for 50 rounds\") # !!!\n",
    "        if self.params['booster'] == 'gblinear':\n",
    "            num_boost_round = 10000\n",
    "        else:\n",
    "            num_boost_round = 5000\n",
    "\n",
    "        bst_partial = train_xgb(self.params,\n",
    "                                d_train,\n",
    "                                num_boost_round=num_boost_round,\n",
    "                                early_stopping_rounds=50,\n",
    "                                evals=[(d_train, 'train'), (d_valid, 'val')],\n",
    "                                verbose_eval=500)\n",
    "\n",
    "        last_round = bst_partial.best_iteration\n",
    "        print(f\"[{last_round}]  RMSE: {bst_partial.best_score}\")\n",
    "\n",
    "        d_all = DMatrix(X, label=y, weight = w)\n",
    "        self.bst = train_xgb(self.params,\n",
    "                             d_all,\n",
    "                             num_boost_round=last_round,\n",
    "                             evals=[(d_train, 'train')],\n",
    "                             verbose_eval=500)\n",
    "\n",
    "    def predict(self, X_test):\n",
    "        d_test = DMatrix(X_test)\n",
    "        return self.bst.predict(d_test)\n",
    "\n",
    "\n",
    "class Ensemble(object):\n",
    "    def __init__(self, n_folds, stacker, base_models):\n",
    "        self.n_folds = n_folds\n",
    "        self.stacker = stacker\n",
    "        self.base_models = base_models\n",
    "\n",
    "    def fit_predict(self, train_df, test_df):\n",
    "        w = train_df['w'].values\n",
    "        X = train_df.drop(['sub_area', 'price_doc', 'w'], axis=1).values\n",
    "        y = np.log1p(train_df['price_doc']).values\n",
    "        X_test = test_df.drop('sub_area', axis=1).values\n",
    "\n",
    "        all_df = pd.concat([train_df.drop(['sub_area', 'price_doc', 'w'], axis=1), test_df.drop('sub_area', axis=1)])\n",
    "        imputer = SimpleImputer(strategy='median') # mean\n",
    "        imputer.fit(all_df)\n",
    "\n",
    "        kf = KFold(n_splits=self.n_folds, shuffle=True)  # random_state=42\n",
    "        folds = list(kf.split(X, y))\n",
    "\n",
    "        S_train = np.zeros((X.shape[0], len(self.base_models)))\n",
    "        S_test = np.zeros((X_test.shape[0], len(self.base_models)))\n",
    "\n",
    "        for i, model in enumerate(self.base_models):\n",
    "            print('\\n\\nTraining model: ' + str(type(model).__name__))\n",
    "            S_test_i = np.zeros((X_test.shape[0], len(folds)))\n",
    "\n",
    "            for j, (train_idx, test_idx) in enumerate(folds):\n",
    "                print('ROUND ' + str(j+1))\n",
    "\n",
    "                if (not isinstance(model, my_XGBRegressor)) and (not isinstance(model, my_LGBRegressor)):\n",
    "                    X = imputer.transform(train_df.drop(['sub_area', 'price_doc', 'w'], axis=1).values)\n",
    "                    X_test = imputer.transform(X_test)\n",
    "\n",
    "                X_train = X[train_idx]\n",
    "                y_train = y[train_idx]\n",
    "                w_train = w[train_idx]\n",
    "                X_holdout = X[test_idx]\n",
    "                y_holdout = y[test_idx]\n",
    "\n",
    "                model.fit(X_train, y_train, w_train)\n",
    "\n",
    "                y_train_pred = model.predict(X_train)\n",
    "                y_pred = model.predict(X_holdout)\n",
    "\n",
    "                print(f\"[ALL]  train-RMSE  : {mean_squared_error(y_train_pred, y_train, squared=False)}\")\n",
    "                print(f\"[ALL]  holdout-RMSE: {mean_squared_error(y_pred, y_holdout, squared=False)}\")\n",
    "\n",
    "                S_train[test_idx, i] = y_pred\n",
    "                S_test_i[:, j] = model.predict(X_test)\n",
    "\n",
    "            S_test[:, i] = S_test_i.mean(axis=1)\n",
    "\n",
    "        self.S_train, self.S_test, self.y = S_train, S_test, y\n",
    "        self.stacker.fit(S_train, y)\n",
    "        y_pred = self.stacker.predict(S_test)\n",
    "        y_pred_train = self.stacker.predict(S_train)\n",
    "        print(f\"\\n\\n[THE END]  train-RMSE  : {mean_squared_error(y_pred_train, y, squared=False)}\")\n",
    "\n",
    "        return y_pred"
   ]
  },
  {
   "cell_type": "code",
   "execution_count": 15,
   "metadata": {},
   "outputs": [],
   "source": [
    "train_df['w'] = 1\n",
    "train_df.loc[train_df['timestamp_year'] == 2014, 'w'] = 1.2\n",
    "train_df.loc[train_df['timestamp_year'] == 2015, 'w'] = 1.5"
   ]
  },
  {
   "cell_type": "code",
   "execution_count": 16,
   "metadata": {},
   "outputs": [],
   "source": [
    "params = {'objective': 'reg:squarederror',\n",
    "          'tree_method': 'gpu_hist',\n",
    "          'booster': 'gbtree',\n",
    "          'base_score': 5,\n",
    "          'learning_rate': 0.05,\n",
    "          'max_depth': 5,\n",
    "          'min_child_weight': 5,\n",
    "          'eval_metric': 'rmse',\n",
    "          'subsample': 1,\n",
    "          'colsample_bytree': 0.8,\n",
    "          'reg_lambda': 1,\n",
    "          'reg_alpha': 0,\n",
    "          'seed': 42,\n",
    "          'nthread': -1\n",
    "          }"
   ]
  },
  {
   "cell_type": "code",
   "execution_count": 17,
   "metadata": {
    "colab": {
     "base_uri": "https://localhost:8080/"
    },
    "id": "TCAoOMeV-wuH",
    "outputId": "9e63a9b9-7d5f-40d2-c3c3-1a7a08a1ab20"
   },
   "outputs": [
    {
     "name": "stdout",
     "output_type": "stream",
     "text": [
      "\n",
      "\n",
      "Training model: my_XGBRegressor\n",
      "ROUND 1\n",
      "Training until validation scores don't improve for 50 rounds\n",
      "[0]\ttrain-rmse:10.20737\tval-rmse:10.19951\n",
      "[500]\ttrain-rmse:0.09427\tval-rmse:0.13024\n",
      "[1000]\ttrain-rmse:0.07369\tval-rmse:0.12772\n",
      "[1314]\ttrain-rmse:0.06464\tval-rmse:0.12744\n",
      "[1264]  RMSE: 0.127412\n",
      "[0]\ttrain-rmse:10.20733\n",
      "[500]\ttrain-rmse:0.09751\n",
      "[1000]\ttrain-rmse:0.07817\n",
      "[1263]\ttrain-rmse:0.07094\n",
      "[ALL]  train-RMSE  : 0.07134684288778756\n",
      "[ALL]  holdout-RMSE: 0.12801355376253185\n",
      "ROUND 2\n",
      "Training until validation scores don't improve for 50 rounds\n",
      "[0]\ttrain-rmse:10.21123\tval-rmse:10.21007\n",
      "[500]\ttrain-rmse:0.09348\tval-rmse:0.13099\n",
      "[1000]\ttrain-rmse:0.07169\tval-rmse:0.12854\n",
      "[1123]\ttrain-rmse:0.06795\tval-rmse:0.12841\n",
      "[1073]  RMSE: 0.128373\n",
      "[0]\ttrain-rmse:10.21121\n",
      "[500]\ttrain-rmse:0.09724\n",
      "[1000]\ttrain-rmse:0.07845\n",
      "[1072]\ttrain-rmse:0.07616\n",
      "[ALL]  train-RMSE  : 0.07673486921905666\n",
      "[ALL]  holdout-RMSE: 0.12464687706931679\n",
      "ROUND 3\n",
      "Training until validation scores don't improve for 50 rounds\n",
      "[0]\ttrain-rmse:10.21040\tval-rmse:10.20786\n",
      "[500]\ttrain-rmse:0.09314\tval-rmse:0.13242\n",
      "[1000]\ttrain-rmse:0.07165\tval-rmse:0.13037\n",
      "[1279]\ttrain-rmse:0.06359\tval-rmse:0.13008\n",
      "[1230]  RMSE: 0.130058\n",
      "[0]\ttrain-rmse:10.21039\n",
      "[500]\ttrain-rmse:0.09657\n",
      "[1000]\ttrain-rmse:0.07666\n",
      "[1229]\ttrain-rmse:0.07015\n",
      "[ALL]  train-RMSE  : 0.07105950365695372\n",
      "[ALL]  holdout-RMSE: 0.1298179082362963\n",
      "ROUND 4\n",
      "Training until validation scores don't improve for 50 rounds\n",
      "[0]\ttrain-rmse:10.20855\tval-rmse:10.21348\n",
      "[500]\ttrain-rmse:0.09184\tval-rmse:0.14041\n",
      "[961]\ttrain-rmse:0.07141\tval-rmse:0.13858\n",
      "[911]  RMSE: 0.138548\n",
      "[0]\ttrain-rmse:10.20849\n",
      "[500]\ttrain-rmse:0.09555\n",
      "[910]\ttrain-rmse:0.07903\n",
      "[ALL]  train-RMSE  : 0.08025366142061703\n",
      "[ALL]  holdout-RMSE: 0.12952608705300284\n",
      "ROUND 5\n",
      "Training until validation scores don't improve for 50 rounds\n",
      "[0]\ttrain-rmse:10.20616\tval-rmse:10.21474\n",
      "[500]\ttrain-rmse:0.09466\tval-rmse:0.13105\n",
      "[1000]\ttrain-rmse:0.07304\tval-rmse:0.12895\n",
      "[1074]\ttrain-rmse:0.07080\tval-rmse:0.12896\n",
      "[1025]  RMSE: 0.12891\n",
      "[0]\ttrain-rmse:10.20609\n",
      "[500]\ttrain-rmse:0.09803\n",
      "[1000]\ttrain-rmse:0.07811\n",
      "[1024]\ttrain-rmse:0.07748\n",
      "[ALL]  train-RMSE  : 0.07778307585832739\n",
      "[ALL]  holdout-RMSE: 0.12880927970984554\n",
      "\n",
      "\n",
      "[THE END]  train-RMSE  : 0.1281696212761275\n"
     ]
    }
   ],
   "source": [
    "#stacker\n",
    "LR = LinearRegression()\n",
    "\n",
    "#base models\n",
    "XGB_F = my_XGBRegressor(params)\n",
    "\n",
    "E = Ensemble(\n",
    "    n_folds=5,\n",
    "    stacker=LR,\n",
    "    base_models=[XGB_F]\n",
    ")\n",
    "\n",
    "y_pred = E.fit_predict(train_df, test_df)"
   ]
  },
  {
   "cell_type": "code",
   "execution_count": 18,
   "metadata": {},
   "outputs": [
    {
     "data": {
      "text/plain": [
       "(True, True)"
      ]
     },
     "execution_count": 18,
     "metadata": {},
     "output_type": "execute_result"
    }
   ],
   "source": [
    "np.save('predictions/XGB_F_with_weights_train', E.S_train)\n",
    "np.save('predictions/XGB_F_with_weights_test', E.S_test)\n",
    "(np.load('predictions/XGB_F_with_weights_train.npy') == E.S_train).all(), (np.load('predictions/XGB_F_with_weights_test.npy') == E.S_test).all()"
   ]
  },
  {
   "cell_type": "code",
   "execution_count": 19,
   "metadata": {
    "id": "UE3unrr2-wuI"
   },
   "outputs": [],
   "source": [
    "submission = pd.read_csv('data/submits/sample_submission.csv', index_col='id')\n",
    "result = np.expm1(E.S_test)\n",
    "\n",
    "if len(result[result < 0]):\n",
    "    print('WARNING: NEGATIVE PREDICTIONS')"
   ]
  },
  {
   "cell_type": "code",
   "execution_count": 28,
   "metadata": {
    "id": "cUD3MPsL-wuI"
   },
   "outputs": [],
   "source": [
    "submission['price_doc'] = 0.89*result\n",
    "submission.to_csv('data/submits/submission.csv', index='id')"
   ]
  },
  {
   "cell_type": "code",
   "execution_count": 30,
   "metadata": {
    "id": "swIVUL0G-wuJ"
   },
   "outputs": [
    {
     "name": "stdout",
     "output_type": "stream",
     "text": [
      "100%|████████████████████████████████████████| 181k/181k [00:03<00:00, 60.2kB/s]\n",
      "Successfully submitted to Sberbank Russian Housing Market"
     ]
    }
   ],
   "source": [
    "!kaggle competitions submit -c sberbank-russian-housing-market -f \"data/submits/submission.csv\" -m \"!XGB_F with weights! 0.89\""
   ]
  },
  {
   "cell_type": "code",
   "execution_count": null,
   "metadata": {},
   "outputs": [],
   "source": []
  }
 ],
 "metadata": {
  "interpreter": {
   "hash": "e7370f93d1d0cde622a1f8e1c04877d8463912d04d973331ad4851f04de6915a"
  },
  "kernelspec": {
   "display_name": "Python 3.8.10 64-bit",
   "language": "python",
   "name": "python3"
  },
  "language_info": {
   "codemirror_mode": {
    "name": "ipython",
    "version": 3
   },
   "file_extension": ".py",
   "mimetype": "text/x-python",
   "name": "python",
   "nbconvert_exporter": "python",
   "pygments_lexer": "ipython3",
   "version": "3.8.10"
  },
  "orig_nbformat": 4
 },
 "nbformat": 4,
 "nbformat_minor": 2
}
