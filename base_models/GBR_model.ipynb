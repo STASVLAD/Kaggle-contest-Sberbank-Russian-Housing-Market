{
  "cells": [
    {
      "cell_type": "code",
      "execution_count": null,
      "metadata": {
        "colab": {
          "base_uri": "https://localhost:8080/"
        },
        "id": "LvoAeSHebiXv",
        "outputId": "ff262d44-6364-40c2-8320-e3845ecbbdd1"
      },
      "outputs": [
        {
          "name": "stdout",
          "output_type": "stream",
          "text": [
            "Mounted at /content/drive\n"
          ]
        }
      ],
      "source": [
        "from google.colab import drive\n",
        "drive.mount('/content/drive')"
      ]
    },
    {
      "cell_type": "code",
      "execution_count": null,
      "metadata": {
        "colab": {
          "base_uri": "https://localhost:8080/"
        },
        "id": "nFPFu9Omb3B0",
        "outputId": "4c76984a-e323-4d4a-cafa-a975c3b0edbb"
      },
      "outputs": [
        {
          "name": "stdout",
          "output_type": "stream",
          "text": [
            "Collecting geopandas\n",
            "  Downloading geopandas-0.10.2-py2.py3-none-any.whl (1.0 MB)\n",
            "\u001b[K     |████████████████████████████████| 1.0 MB 5.2 MB/s \n",
            "\u001b[?25hCollecting fiona>=1.8\n",
            "  Downloading Fiona-1.8.20-cp37-cp37m-manylinux1_x86_64.whl (15.4 MB)\n",
            "\u001b[K     |████████████████████████████████| 15.4 MB 22.5 MB/s \n",
            "\u001b[?25hCollecting pyproj>=2.2.0\n",
            "  Downloading pyproj-3.2.1-cp37-cp37m-manylinux2010_x86_64.whl (6.3 MB)\n",
            "\u001b[K     |████████████████████████████████| 6.3 MB 41.0 MB/s \n",
            "\u001b[?25hRequirement already satisfied: shapely>=1.6 in /usr/local/lib/python3.7/dist-packages (from geopandas) (1.8.0)\n",
            "Requirement already satisfied: pandas>=0.25.0 in /usr/local/lib/python3.7/dist-packages (from geopandas) (1.1.5)\n",
            "Collecting cligj>=0.5\n",
            "  Downloading cligj-0.7.2-py3-none-any.whl (7.1 kB)\n",
            "Requirement already satisfied: setuptools in /usr/local/lib/python3.7/dist-packages (from fiona>=1.8->geopandas) (57.4.0)\n",
            "Requirement already satisfied: attrs>=17 in /usr/local/lib/python3.7/dist-packages (from fiona>=1.8->geopandas) (21.2.0)\n",
            "Requirement already satisfied: certifi in /usr/local/lib/python3.7/dist-packages (from fiona>=1.8->geopandas) (2021.10.8)\n",
            "Requirement already satisfied: six>=1.7 in /usr/local/lib/python3.7/dist-packages (from fiona>=1.8->geopandas) (1.15.0)\n",
            "Collecting click-plugins>=1.0\n",
            "  Downloading click_plugins-1.1.1-py2.py3-none-any.whl (7.5 kB)\n",
            "Collecting munch\n",
            "  Downloading munch-2.5.0-py2.py3-none-any.whl (10 kB)\n",
            "Requirement already satisfied: click>=4.0 in /usr/local/lib/python3.7/dist-packages (from fiona>=1.8->geopandas) (7.1.2)\n",
            "Requirement already satisfied: numpy>=1.15.4 in /usr/local/lib/python3.7/dist-packages (from pandas>=0.25.0->geopandas) (1.19.5)\n",
            "Requirement already satisfied: pytz>=2017.2 in /usr/local/lib/python3.7/dist-packages (from pandas>=0.25.0->geopandas) (2018.9)\n",
            "Requirement already satisfied: python-dateutil>=2.7.3 in /usr/local/lib/python3.7/dist-packages (from pandas>=0.25.0->geopandas) (2.8.2)\n",
            "Installing collected packages: munch, cligj, click-plugins, pyproj, fiona, geopandas\n",
            "Successfully installed click-plugins-1.1.1 cligj-0.7.2 fiona-1.8.20 geopandas-0.10.2 munch-2.5.0 pyproj-3.2.1\n"
          ]
        }
      ],
      "source": [
        "!pip install geopandas"
      ]
    },
    {
      "cell_type": "code",
      "execution_count": null,
      "metadata": {
        "id": "w9aFcujubjlW"
      },
      "outputs": [],
      "source": [
        "!cp -r /content/drive/MyDrive/sberbank/. ."
      ]
    },
    {
      "cell_type": "code",
      "execution_count": null,
      "metadata": {
        "id": "2TDIoXTN-wtp"
      },
      "outputs": [],
      "source": [
        "from utils import *\n",
        "from features import *\n",
        "\n",
        "import numpy as np\n",
        "import pandas as pd\n",
        "\n",
        "from sklearn.metrics import mean_squared_log_error, mean_absolute_error, mean_squared_error\n",
        "from sklearn.model_selection import train_test_split, cross_val_score, KFold\n",
        "from sklearn.tree import DecisionTreeRegressor\n",
        "from sklearn.pipeline import make_pipeline\n",
        "from sklearn.ensemble import AdaBoostRegressor, RandomForestRegressor, ExtraTreesRegressor, GradientBoostingRegressor\n",
        "from sklearn.linear_model import LinearRegression\n",
        "from sklearn.impute import SimpleImputer\n",
        "from sklearn.neural_network import MLPRegressor\n",
        "from sklearn.preprocessing import StandardScaler\n",
        "\n",
        "import lightgbm as lgb\n",
        "from xgboost import XGBRegressor, DMatrix, cv\n",
        "from xgboost import train as train_xgb"
      ]
    },
    {
      "cell_type": "markdown",
      "metadata": {
        "id": "70sx-8YD-wtx"
      },
      "source": [
        "## Data description"
      ]
    },
    {
      "cell_type": "code",
      "execution_count": null,
      "metadata": {
        "colab": {
          "base_uri": "https://localhost:8080/"
        },
        "id": "lgqwWeGS-wtz",
        "outputId": "e10c5ac4-07ff-420c-bfdf-c1e8390d247d"
      },
      "outputs": [
        {
          "name": "stdout",
          "output_type": "stream",
          "text": [
            "Fix:  550\n",
            "Fix:  149\n"
          ]
        }
      ],
      "source": [
        "macro_df = pd.read_csv('data/macro.csv', parse_dates=['timestamp'])\n",
        "train_df = pd.read_csv('data/train.csv', index_col='id', parse_dates=['timestamp'])\n",
        "test_df = pd.read_csv('data/test.csv', index_col='id', parse_dates=['timestamp'])\n",
        "\n",
        "tverskoe_issue_fix(train_df)\n",
        "tverskoe_issue_fix(test_df)"
      ]
    },
    {
      "cell_type": "markdown",
      "metadata": {
        "id": "6XMfRzcU-wt2"
      },
      "source": [
        "## 1. Data preprocessing\n",
        "## I part (encoding and correcting mistakes)"
      ]
    },
    {
      "cell_type": "markdown",
      "metadata": {
        "id": "WlOmdlGc-wt4"
      },
      "source": [
        "### Macro dataset"
      ]
    },
    {
      "cell_type": "code",
      "execution_count": null,
      "metadata": {
        "colab": {
          "base_uri": "https://localhost:8080/"
        },
        "id": "6a1-RKD2-wt4",
        "outputId": "d5aa3070-d1f0-48cd-8b8d-7d7b2828b57f"
      },
      "outputs": [
        {
          "name": "stdout",
          "output_type": "stream",
          "text": [
            "OK\n"
          ]
        }
      ],
      "source": [
        "macro_df['child_on_acc_pre_school'] = macro_df['child_on_acc_pre_school'].str.replace('#!', 'nan')\n",
        "for column in macro_df.select_dtypes('object').columns:\n",
        "    macro_df[column] = macro_df[column].str.replace(',', '.')\n",
        "    macro_df[column] = macro_df[column].astype(float)\n",
        "\n",
        "if not len(macro_df.select_dtypes('object').columns):\n",
        "    print('OK')"
      ]
    },
    {
      "cell_type": "markdown",
      "metadata": {
        "id": "5hOdB2O2-wt5"
      },
      "source": [
        "### Train dataset"
      ]
    },
    {
      "cell_type": "code",
      "execution_count": null,
      "metadata": {
        "id": "cefhW3sO-wt5"
      },
      "outputs": [],
      "source": [
        "train_df = encode(train_df)"
      ]
    },
    {
      "cell_type": "markdown",
      "metadata": {
        "id": "vSRp5y_C-wt7"
      },
      "source": [
        "### Test dataset"
      ]
    },
    {
      "cell_type": "code",
      "execution_count": null,
      "metadata": {
        "id": "IMeNQ_Ad-wt8"
      },
      "outputs": [],
      "source": [
        "test_df = encode(test_df)"
      ]
    },
    {
      "cell_type": "markdown",
      "metadata": {
        "id": "ZcRHlWsU-wt-"
      },
      "source": [
        "## II part (Filling missing values)"
      ]
    },
    {
      "cell_type": "markdown",
      "metadata": {
        "id": "G8kHIiU0-wt_"
      },
      "source": [
        "XGBRegressor model handles `np.NaN` values itself"
      ]
    },
    {
      "cell_type": "markdown",
      "metadata": {
        "id": "FfLaI5aH-wt_"
      },
      "source": [
        "## 2. Encoding `sub_area` feature"
      ]
    },
    {
      "cell_type": "code",
      "execution_count": null,
      "metadata": {
        "id": "MZRCy_uubb-L"
      },
      "outputs": [],
      "source": [
        "coords_train_df = pd.read_csv('data/geo/train_lat_lon.csv')\n",
        "coords_train_df.drop(['key', 'tolerance_m'], axis=1, inplace=True)\n",
        "coords_train_df.index = coords_train_df.id\n",
        "coords_train_df.drop(['id'], axis=1, inplace=True)\n",
        "coords_train_df = coords_train_df.sort_index()\n",
        "\n",
        "coords_test_df = pd.read_csv('data/geo/test_lat_lon.csv')\n",
        "coords_test_df.drop(['key', 'tolerance_m'], axis=1, inplace=True)\n",
        "coords_test_df.index = coords_test_df.id\n",
        "coords_test_df.drop(['id'], axis=1, inplace=True)\n",
        "coords_test_df = coords_test_df.sort_index()\n",
        "\n",
        "coords_all_df = pd.concat([coords_train_df, coords_test_df])"
      ]
    },
    {
      "cell_type": "code",
      "execution_count": null,
      "metadata": {
        "id": "qpehSLDmbb-L"
      },
      "outputs": [],
      "source": [
        "train_df['is_train'] = 1\n",
        "test_df['is_train'] = 0\n",
        "\n",
        "# coords_df = pd.read_csv('data/coords.csv', index_col='id')\n",
        "all_df = pd.concat([train_df, test_df])\n",
        "\n",
        "all_df['latitude'] = coords_all_df['lat']\n",
        "all_df['longitude'] = coords_all_df['lon']"
      ]
    },
    {
      "cell_type": "markdown",
      "metadata": {
        "id": "Ad9TaN9Q-wuB"
      },
      "source": [
        "## 3. Removing outliers"
      ]
    },
    {
      "cell_type": "code",
      "execution_count": null,
      "metadata": {
        "id": "GS7abrdJ-wuB"
      },
      "outputs": [],
      "source": [
        "all_df = remove_outliers(all_df)"
      ]
    },
    {
      "cell_type": "markdown",
      "metadata": {
        "id": "_Y7doThf-wuB"
      },
      "source": [
        "## 4. Feature engineering"
      ]
    },
    {
      "cell_type": "code",
      "execution_count": null,
      "metadata": {
        "id": "HEFaFZFI-wuC"
      },
      "outputs": [],
      "source": [
        "all_df = create_new_features(all_df)"
      ]
    },
    {
      "cell_type": "markdown",
      "metadata": {
        "id": "VLOjaYTj-wuD"
      },
      "source": [
        "## 5. Removing fake prices"
      ]
    },
    {
      "cell_type": "code",
      "execution_count": null,
      "metadata": {
        "id": "2gVmPZwh-wuE"
      },
      "outputs": [],
      "source": [
        "train_df = all_df[all_df['is_train'] == 1].drop(['is_train'], axis=1)\n",
        "test_df = all_df[all_df['is_train'] == 0].drop(['is_train', 'price_doc'], axis=1)"
      ]
    },
    {
      "cell_type": "code",
      "execution_count": null,
      "metadata": {
        "colab": {
          "base_uri": "https://localhost:8080/"
        },
        "id": "QuNretEQbb-O",
        "outputId": "7adc459e-e555-4573-847a-44fc48768b8a"
      },
      "outputs": [
        {
          "name": "stdout",
          "output_type": "stream",
          "text": [
            "REMOVED: 35\n"
          ]
        }
      ],
      "source": [
        "train_df = remove_fake_prices(train_df)"
      ]
    },
    {
      "cell_type": "code",
      "execution_count": null,
      "metadata": {
        "id": "r2iMQl-I-wuE"
      },
      "outputs": [],
      "source": [
        "idx_outliers = np.loadtxt('outliers/idx_outliers_full.txt').astype(int)\n",
        "train_df = train_df.drop(idx_outliers)"
      ]
    },
    {
      "cell_type": "markdown",
      "metadata": {
        "id": "YYh1le6ybb-P"
      },
      "source": [
        "## 6. GradientBoostingRegressor"
      ]
    },
    {
      "cell_type": "markdown",
      "metadata": {
        "id": "7Z1VhzPO-wuF"
      },
      "source": [
        "### `Ensembling`"
      ]
    },
    {
      "cell_type": "code",
      "execution_count": null,
      "metadata": {
        "id": "kfljzjWx-wuF"
      },
      "outputs": [],
      "source": [
        "class my_LGBRegressor(object):\n",
        "    def __init__(self, params):\n",
        "        self.params = params\n",
        "\n",
        "    def fit(self, X, y, w=None):\n",
        "        X_train, X_val, y_train, y_val = train_test_split(X, y, test_size=0.2)  # random_state=42\n",
        "        # x_train, y_train, w_train, x_valid, y_valid,  w_valid = X[train_id], y[train_id], w[train_id], X[test_id], y[test_id], w[test_id],\n",
        "        d_train = lgb.Dataset(X_train, y_train)  # weight=w_train\n",
        "        d_valid = lgb.Dataset(X_val, y_val)  # weight=w_val\n",
        "\n",
        "        bst_partial = lgb.train(self.params,\n",
        "                                d_train, 10000,\n",
        "                                valid_sets=d_valid,\n",
        "                                callbacks = [lgb.early_stopping(50)],\n",
        "                                verbose_eval=False)\n",
        "                                \n",
        "        num_round = bst_partial.best_iteration\n",
        "        d_all = lgb.Dataset(X, label=y)  # weight=w\n",
        "        self.bst = lgb.train(self.params, d_all, num_round, verbose_eval=False)\n",
        "\n",
        "    def predict(self, X):\n",
        "        return self.bst.predict(X)\n",
        "\n",
        "\n",
        "class my_XGBRegressor(object):\n",
        "    def __init__(self, params, product_type=-1):\n",
        "        self.params = params\n",
        "        self.product_type = product_type\n",
        "\n",
        "    def fit(self, X, y, w=None):\n",
        "        # if w == None:\n",
        "        #    w = np.ones(X.shape[0])\n",
        "\n",
        "        if self.product_type == 0:\n",
        "            X = train_df[train_df['product_type'] == 0].drop(['sub_area', 'price_doc'], axis=1).values\n",
        "            y = np.log1p(test_df[test_df['product_type'] == 0]['price_doc'].values)\n",
        "            print(X.shape)\n",
        "\n",
        "        if self.product_type == 1:\n",
        "            X = train_df[train_df['product_type'] == 1].drop(['sub_area', 'price_doc'], axis=1).values\n",
        "            y = np.log1p(test_df[test_df['product_type'] == 1]['price_doc'].values)\n",
        "            print(X.shape)\n",
        "            \n",
        "        X_train, X_val, y_train, y_val = train_test_split(X, y, test_size=0.2)  # random_state=42\n",
        "        d_train = DMatrix(X_train, label=y_train)  # weight = w_train\n",
        "        d_valid = DMatrix(X_val, label=y_val)  # weight = w_valid\n",
        "\n",
        "        print(f\"Training until validation scores don't improve for 50 rounds\") # !!!\n",
        "        if self.params['booster'] == 'gblinear':\n",
        "            num_boost_round = 10000\n",
        "        else:\n",
        "            num_boost_round = 5000\n",
        "\n",
        "        bst_partial = train_xgb(self.params,\n",
        "                                d_train,\n",
        "                                num_boost_round=num_boost_round,\n",
        "                                early_stopping_rounds=50,\n",
        "                                evals=[(d_train, 'train'), (d_valid, 'val')],\n",
        "                                verbose_eval=500)\n",
        "\n",
        "        last_round = bst_partial.best_iteration\n",
        "        print(f\"[{last_round}]  RMSE: {bst_partial.best_score}\")\n",
        "\n",
        "        d_all = DMatrix(X, label=y)  # weight = w\n",
        "        self.bst = train_xgb(self.params,\n",
        "                             d_all,\n",
        "                             num_boost_round=last_round,\n",
        "                             evals=[(d_train, 'train')],\n",
        "                             verbose_eval=500)\n",
        "\n",
        "    def predict(self, X_test):\n",
        "        d_test = DMatrix(X_test)\n",
        "        return self.bst.predict(d_test)\n",
        "\n",
        "\n",
        "class Ensemble(object):\n",
        "    def __init__(self, n_folds, stacker, base_models):\n",
        "        self.n_folds = n_folds\n",
        "        self.stacker = stacker\n",
        "        self.base_models = base_models\n",
        "\n",
        "    def fit_predict(self, train_df, test_df):\n",
        "        X = train_df.drop(['sub_area', 'price_doc'], axis=1).values\n",
        "        y = np.log1p(train_df['price_doc']).values\n",
        "        w = train_df['w'].values\n",
        "        X_test = test_df.drop('sub_area', axis=1).values\n",
        "\n",
        "        all_df = pd.concat([train_df.drop(['sub_area', 'price_doc', 'w'], axis=1), test_df.drop('sub_area', axis=1)])\n",
        "        imputer = SimpleImputer(strategy='median') # mean\n",
        "        imputer.fit(all_df)\n",
        "\n",
        "        kf = KFold(n_splits=self.n_folds, shuffle=True)  # random_state=42\n",
        "        folds = list(kf.split(X, y))\n",
        "\n",
        "        S_train = np.zeros((X.shape[0], len(self.base_models)))\n",
        "        S_test = np.zeros((X_test.shape[0], len(self.base_models)))\n",
        "\n",
        "        for i, model in enumerate(self.base_models):\n",
        "            print('\\n\\nTraining model: ' + str(type(model).__name__))\n",
        "            S_test_i = np.zeros((X_test.shape[0], len(folds)))\n",
        "\n",
        "            for j, (train_idx, test_idx) in enumerate(folds):\n",
        "                print('ROUND ' + str(j+1))\n",
        "\n",
        "                if (not isinstance(model, my_XGBRegressor)) and (not isinstance(model, my_LGBRegressor)):\n",
        "                    X = imputer.transform(train_df.drop(['sub_area', 'price_doc', 'w'], axis=1).values)\n",
        "                    X_test = imputer.transform(X_test)\n",
        "\n",
        "                X_train = X[train_idx]\n",
        "                y_train = y[train_idx]\n",
        "                w_train = w[train_idx]\n",
        "                X_holdout = X[test_idx]\n",
        "                y_holdout = y[test_idx]\n",
        "\n",
        "                model.fit(X_train, y_train, w_train)  # w_train\n",
        "\n",
        "                y_train_pred = model.predict(X_train)\n",
        "                y_pred = model.predict(X_holdout)\n",
        "\n",
        "                print(f\"[ALL]  train-RMSE  : {mean_squared_error(y_train_pred, y_train, squared=False)}\")\n",
        "                print(f\"[ALL]  holdout-RMSE: {mean_squared_error(y_pred, y_holdout, squared=False)}\")\n",
        "\n",
        "                S_train[test_idx, i] = y_pred\n",
        "                S_test_i[:, j] = model.predict(X_test)\n",
        "\n",
        "            S_test[:, i] = S_test_i.mean(axis=1)\n",
        "\n",
        "        self.S_train, self.S_test, self.y = S_train, S_test, y\n",
        "        self.stacker.fit(S_train, y)\n",
        "        y_pred = self.stacker.predict(S_test)\n",
        "        y_pred_train = self.stacker.predict(S_train)\n",
        "        print(f\"\\n\\n[THE END]  train-RMSE  : {mean_squared_error(y_pred_train, y, squared=False)}\")\n",
        "\n",
        "        return y_pred\n"
      ]
    },
    {
      "cell_type": "code",
      "execution_count": null,
      "metadata": {
        "id": "4GlP4g5vbb-Q"
      },
      "outputs": [],
      "source": [
        "train_df['w'] = 1\n",
        "train_df.loc[train_df['timestamp_year'] == 2014, 'w'] = 1.2\n",
        "train_df.loc[train_df['timestamp_year'] == 2015, 'w'] = 1.5"
      ]
    },
    {
      "cell_type": "code",
      "execution_count": null,
      "metadata": {
        "colab": {
          "base_uri": "https://localhost:8080/"
        },
        "id": "TCAoOMeV-wuH",
        "outputId": "4c7d4398-17df-463b-c7ea-412e87510229"
      },
      "outputs": [
        {
          "name": "stdout",
          "output_type": "stream",
          "text": [
            "\n",
            "\n",
            "Training model: GradientBoostingRegressor\n",
            "ROUND 1\n"
          ]
        },
        {
          "name": "stderr",
          "output_type": "stream",
          "text": [
            "/usr/local/lib/python3.7/dist-packages/sklearn/base.py:446: UserWarning: X does not have valid feature names, but SimpleImputer was fitted with feature names\n",
            "  \"X does not have valid feature names, but\"\n",
            "/usr/local/lib/python3.7/dist-packages/sklearn/base.py:446: UserWarning: X does not have valid feature names, but SimpleImputer was fitted with feature names\n",
            "  \"X does not have valid feature names, but\"\n"
          ]
        },
        {
          "name": "stdout",
          "output_type": "stream",
          "text": [
            "      Iter       Train Loss   Remaining Time \n",
            "         1           0.1856            2.04m\n",
            "         2           0.1717            2.01m\n",
            "         3           0.1591            1.97m\n",
            "         4           0.1477            1.96m\n",
            "         5           0.1373            1.94m\n",
            "         6           0.1280            1.92m\n",
            "         7           0.1194            1.89m\n",
            "         8           0.1115            1.87m\n",
            "         9           0.1044            1.84m\n",
            "        10           0.0979            1.81m\n",
            "        20           0.0570            1.60m\n",
            "        30           0.0395            1.40m\n",
            "        40           0.0310            1.20m\n",
            "        50           0.0265            1.00m\n",
            "        60           0.0236           48.20s\n",
            "        70           0.0217           36.22s\n",
            "        80           0.0202           24.24s\n",
            "        90           0.0191           12.16s\n",
            "       100           0.0181            0.00s\n",
            "[ALL]  train-RMSE  : 0.13476719744847107\n",
            "[ALL]  holdout-RMSE: 0.1470348100308359\n",
            "ROUND 2\n"
          ]
        },
        {
          "name": "stderr",
          "output_type": "stream",
          "text": [
            "/usr/local/lib/python3.7/dist-packages/sklearn/base.py:446: UserWarning: X does not have valid feature names, but SimpleImputer was fitted with feature names\n",
            "  \"X does not have valid feature names, but\"\n",
            "/usr/local/lib/python3.7/dist-packages/sklearn/base.py:446: UserWarning: X does not have valid feature names, but SimpleImputer was fitted with feature names\n",
            "  \"X does not have valid feature names, but\"\n"
          ]
        },
        {
          "name": "stdout",
          "output_type": "stream",
          "text": [
            "      Iter       Train Loss   Remaining Time \n",
            "         1           0.1850            1.97m\n",
            "         2           0.1712            1.97m\n",
            "         3           0.1586            1.96m\n",
            "         4           0.1471            1.95m\n",
            "         5           0.1368            1.93m\n",
            "         6           0.1273            1.92m\n",
            "         7           0.1188            1.89m\n",
            "         8           0.1111            1.88m\n",
            "         9           0.1040            1.86m\n",
            "        10           0.0975            1.84m\n",
            "        20           0.0565            1.62m\n",
            "        30           0.0391            1.41m\n",
            "        40           0.0308            1.21m\n",
            "        50           0.0262            1.01m\n",
            "        60           0.0233           48.64s\n",
            "        70           0.0214           36.57s\n",
            "        80           0.0199           24.46s\n",
            "        90           0.0188           12.27s\n",
            "       100           0.0178            0.00s\n",
            "[ALL]  train-RMSE  : 0.1337831718617022\n",
            "[ALL]  holdout-RMSE: 0.14752805652101186\n",
            "ROUND 3\n"
          ]
        },
        {
          "name": "stderr",
          "output_type": "stream",
          "text": [
            "/usr/local/lib/python3.7/dist-packages/sklearn/base.py:446: UserWarning: X does not have valid feature names, but SimpleImputer was fitted with feature names\n",
            "  \"X does not have valid feature names, but\"\n",
            "/usr/local/lib/python3.7/dist-packages/sklearn/base.py:446: UserWarning: X does not have valid feature names, but SimpleImputer was fitted with feature names\n",
            "  \"X does not have valid feature names, but\"\n"
          ]
        },
        {
          "name": "stdout",
          "output_type": "stream",
          "text": [
            "      Iter       Train Loss   Remaining Time \n",
            "         1           0.1855            2.03m\n",
            "         2           0.1716            1.99m\n",
            "         3           0.1591            1.98m\n",
            "         4           0.1476            1.95m\n",
            "         5           0.1375            1.91m\n",
            "         6           0.1280            1.89m\n",
            "         7           0.1196            1.88m\n",
            "         8           0.1117            1.86m\n",
            "         9           0.1045            1.84m\n",
            "        10           0.0979            1.81m\n",
            "        20           0.0569            1.61m\n",
            "        30           0.0393            1.40m\n",
            "        40           0.0309            1.19m\n",
            "        50           0.0262           59.71s\n",
            "        60           0.0232           47.87s\n",
            "        70           0.0212           35.95s\n",
            "        80           0.0199           24.05s\n",
            "        90           0.0188           12.06s\n",
            "       100           0.0179            0.00s\n",
            "[ALL]  train-RMSE  : 0.13380106737680866\n",
            "[ALL]  holdout-RMSE: 0.14948305033341627\n",
            "ROUND 4\n"
          ]
        },
        {
          "name": "stderr",
          "output_type": "stream",
          "text": [
            "/usr/local/lib/python3.7/dist-packages/sklearn/base.py:446: UserWarning: X does not have valid feature names, but SimpleImputer was fitted with feature names\n",
            "  \"X does not have valid feature names, but\"\n",
            "/usr/local/lib/python3.7/dist-packages/sklearn/base.py:446: UserWarning: X does not have valid feature names, but SimpleImputer was fitted with feature names\n",
            "  \"X does not have valid feature names, but\"\n"
          ]
        },
        {
          "name": "stdout",
          "output_type": "stream",
          "text": [
            "      Iter       Train Loss   Remaining Time \n",
            "         1           0.1869            2.08m\n",
            "         2           0.1729            2.03m\n",
            "         3           0.1600            1.98m\n",
            "         4           0.1485            1.95m\n",
            "         5           0.1381            1.93m\n",
            "         6           0.1286            1.90m\n",
            "         7           0.1199            1.88m\n",
            "         8           0.1120            1.86m\n",
            "         9           0.1048            1.84m\n",
            "        10           0.0983            1.82m\n",
            "        20           0.0572            1.61m\n",
            "        30           0.0394            1.41m\n",
            "        40           0.0309            1.21m\n",
            "        50           0.0262            1.01m\n",
            "        60           0.0232           48.40s\n",
            "        70           0.0212           36.43s\n",
            "        80           0.0198           24.38s\n",
            "        90           0.0187           12.21s\n",
            "       100           0.0177            0.00s\n",
            "[ALL]  train-RMSE  : 0.1332578939006281\n",
            "[ALL]  holdout-RMSE: 0.1480148788430246\n",
            "ROUND 5\n"
          ]
        },
        {
          "name": "stderr",
          "output_type": "stream",
          "text": [
            "/usr/local/lib/python3.7/dist-packages/sklearn/base.py:446: UserWarning: X does not have valid feature names, but SimpleImputer was fitted with feature names\n",
            "  \"X does not have valid feature names, but\"\n",
            "/usr/local/lib/python3.7/dist-packages/sklearn/base.py:446: UserWarning: X does not have valid feature names, but SimpleImputer was fitted with feature names\n",
            "  \"X does not have valid feature names, but\"\n"
          ]
        },
        {
          "name": "stdout",
          "output_type": "stream",
          "text": [
            "      Iter       Train Loss   Remaining Time \n",
            "         1           0.1873            2.05m\n",
            "         2           0.1735            2.06m\n",
            "         3           0.1608            2.04m\n",
            "         4           0.1497            1.99m\n",
            "         5           0.1391            1.97m\n",
            "         6           0.1295            1.94m\n",
            "         7           0.1208            1.92m\n",
            "         8           0.1129            1.89m\n",
            "         9           0.1056            1.87m\n",
            "        10           0.0991            1.84m\n",
            "        20           0.0575            1.63m\n",
            "        30           0.0398            1.42m\n",
            "        40           0.0313            1.22m\n",
            "        50           0.0266            1.01m\n",
            "        60           0.0237           48.76s\n",
            "        70           0.0216           36.74s\n",
            "        80           0.0201           24.59s\n",
            "        90           0.0191           12.34s\n",
            "       100           0.0182            0.00s\n",
            "[ALL]  train-RMSE  : 0.13472455537967057\n",
            "[ALL]  holdout-RMSE: 0.14360972709616682\n",
            "\n",
            "\n",
            "[THE END]  train-RMSE  : 0.14600269582898362\n"
          ]
        }
      ],
      "source": [
        "#stacker\n",
        "LR = LinearRegression()\n",
        "\n",
        "#base models\n",
        "GBR = GradientBoostingRegressor(n_estimators=200, learning_rate=0.05, \n",
        "                                max_depth=5, max_features=0.8, verbose=True)\n",
        "\n",
        "E = Ensemble(\n",
        "    n_folds=5,\n",
        "    stacker=LR,\n",
        "    base_models=[GBR]\n",
        ")\n",
        "\n",
        "y_pred = E.fit_predict(train_df, test_df)"
      ]
    },
    {
      "cell_type": "code",
      "execution_count": 26,
      "metadata": {
        "colab": {
          "base_uri": "https://localhost:8080/"
        },
        "id": "GN1HnPEfhtMq",
        "outputId": "e294d17c-64c9-4ce5-eab2-c1a0b9081bc7"
      },
      "outputs": [
        {
          "name": "stdout",
          "output_type": "stream",
          "text": [
            "\n",
            "\n",
            "Training model: GradientBoostingRegressor\n",
            "ROUND 1\n"
          ]
        },
        {
          "name": "stderr",
          "output_type": "stream",
          "text": [
            "/usr/local/lib/python3.7/dist-packages/sklearn/base.py:446: UserWarning: X does not have valid feature names, but SimpleImputer was fitted with feature names\n",
            "  \"X does not have valid feature names, but\"\n",
            "/usr/local/lib/python3.7/dist-packages/sklearn/base.py:446: UserWarning: X does not have valid feature names, but SimpleImputer was fitted with feature names\n",
            "  \"X does not have valid feature names, but\"\n"
          ]
        },
        {
          "name": "stdout",
          "output_type": "stream",
          "text": [
            "      Iter       Train Loss   Remaining Time \n",
            "         1           0.1714            5.09m\n",
            "         2           0.1469            4.95m\n",
            "         3           0.1267            4.87m\n",
            "         4           0.1100            4.85m\n",
            "         5           0.0963            4.81m\n",
            "         6           0.0850            4.78m\n",
            "         7           0.0755            4.72m\n",
            "         8           0.0677            4.69m\n",
            "         9           0.0611            4.67m\n",
            "        10           0.0555            4.63m\n",
            "        20           0.0303            4.44m\n",
            "        30           0.0230            4.26m\n",
            "        40           0.0197            4.11m\n",
            "        50           0.0176            3.93m\n",
            "        60           0.0162            3.74m\n",
            "        70           0.0152            3.55m\n",
            "        80           0.0144            3.36m\n",
            "        90           0.0138            3.17m\n",
            "       100           0.0131            2.98m\n",
            "       200           0.0103            1.00m\n",
            "[ALL]  train-RMSE  : 0.09722310124257587\n",
            "[ALL]  holdout-RMSE: 0.13767056376156234\n",
            "ROUND 2\n"
          ]
        },
        {
          "name": "stderr",
          "output_type": "stream",
          "text": [
            "/usr/local/lib/python3.7/dist-packages/sklearn/base.py:446: UserWarning: X does not have valid feature names, but SimpleImputer was fitted with feature names\n",
            "  \"X does not have valid feature names, but\"\n",
            "/usr/local/lib/python3.7/dist-packages/sklearn/base.py:446: UserWarning: X does not have valid feature names, but SimpleImputer was fitted with feature names\n",
            "  \"X does not have valid feature names, but\"\n"
          ]
        },
        {
          "name": "stdout",
          "output_type": "stream",
          "text": [
            "      Iter       Train Loss   Remaining Time \n",
            "         1           0.1711            4.80m\n",
            "         2           0.1465            4.78m\n",
            "         3           0.1264            4.80m\n",
            "         4           0.1098            4.80m\n",
            "         5           0.0961            4.77m\n",
            "         6           0.0847            4.75m\n",
            "         7           0.0754            4.72m\n",
            "         8           0.0676            4.71m\n",
            "         9           0.0610            4.68m\n",
            "        10           0.0555            4.64m\n",
            "        20           0.0305            4.41m\n",
            "        30           0.0232            4.23m\n",
            "        40           0.0200            4.07m\n",
            "        50           0.0179            3.90m\n",
            "        60           0.0166            3.72m\n",
            "        70           0.0154            3.53m\n",
            "        80           0.0146            3.34m\n",
            "        90           0.0140            3.15m\n",
            "       100           0.0134            2.95m\n",
            "       200           0.0104           59.51s\n",
            "[ALL]  train-RMSE  : 0.09712767395259228\n",
            "[ALL]  holdout-RMSE: 0.13449247554766983\n",
            "ROUND 3\n"
          ]
        },
        {
          "name": "stderr",
          "output_type": "stream",
          "text": [
            "/usr/local/lib/python3.7/dist-packages/sklearn/base.py:446: UserWarning: X does not have valid feature names, but SimpleImputer was fitted with feature names\n",
            "  \"X does not have valid feature names, but\"\n",
            "/usr/local/lib/python3.7/dist-packages/sklearn/base.py:446: UserWarning: X does not have valid feature names, but SimpleImputer was fitted with feature names\n",
            "  \"X does not have valid feature names, but\"\n"
          ]
        },
        {
          "name": "stdout",
          "output_type": "stream",
          "text": [
            "      Iter       Train Loss   Remaining Time \n",
            "         1           0.1717            4.83m\n",
            "         2           0.1476            4.85m\n",
            "         3           0.1274            4.81m\n",
            "         4           0.1107            4.78m\n",
            "         5           0.0970            4.75m\n",
            "         6           0.0857            4.73m\n",
            "         7           0.0763            4.75m\n",
            "         8           0.0683            4.73m\n",
            "         9           0.0618            4.72m\n",
            "        10           0.0565            4.68m\n",
            "        20           0.0313            4.44m\n",
            "        30           0.0239            4.24m\n",
            "        40           0.0204            4.07m\n",
            "        50           0.0183            3.90m\n",
            "        60           0.0169            3.72m\n",
            "        70           0.0157            3.53m\n",
            "        80           0.0148            3.33m\n",
            "        90           0.0142            3.14m\n",
            "       100           0.0136            2.95m\n",
            "       200           0.0105           59.36s\n",
            "[ALL]  train-RMSE  : 0.09807296161103359\n",
            "[ALL]  holdout-RMSE: 0.1280069980835794\n",
            "ROUND 4\n"
          ]
        },
        {
          "name": "stderr",
          "output_type": "stream",
          "text": [
            "/usr/local/lib/python3.7/dist-packages/sklearn/base.py:446: UserWarning: X does not have valid feature names, but SimpleImputer was fitted with feature names\n",
            "  \"X does not have valid feature names, but\"\n",
            "/usr/local/lib/python3.7/dist-packages/sklearn/base.py:446: UserWarning: X does not have valid feature names, but SimpleImputer was fitted with feature names\n",
            "  \"X does not have valid feature names, but\"\n"
          ]
        },
        {
          "name": "stdout",
          "output_type": "stream",
          "text": [
            "      Iter       Train Loss   Remaining Time \n",
            "         1           0.1725            4.80m\n",
            "         2           0.1483            4.73m\n",
            "         3           0.1283            4.76m\n",
            "         4           0.1115            4.70m\n",
            "         5           0.0977            4.68m\n",
            "         6           0.0862            4.69m\n",
            "         7           0.0765            4.69m\n",
            "         8           0.0686            4.67m\n",
            "         9           0.0620            4.65m\n",
            "        10           0.0565            4.62m\n",
            "        20           0.0310            4.35m\n",
            "        30           0.0236            4.16m\n",
            "        40           0.0204            4.01m\n",
            "        50           0.0185            3.84m\n",
            "        60           0.0170            3.67m\n",
            "        70           0.0158            3.48m\n",
            "        80           0.0149            3.29m\n",
            "        90           0.0143            3.10m\n",
            "       100           0.0137            2.92m\n",
            "       200           0.0104           59.19s\n",
            "[ALL]  train-RMSE  : 0.09742133232451085\n",
            "[ALL]  holdout-RMSE: 0.12568844549377364\n",
            "ROUND 5\n"
          ]
        },
        {
          "name": "stderr",
          "output_type": "stream",
          "text": [
            "/usr/local/lib/python3.7/dist-packages/sklearn/base.py:446: UserWarning: X does not have valid feature names, but SimpleImputer was fitted with feature names\n",
            "  \"X does not have valid feature names, but\"\n",
            "/usr/local/lib/python3.7/dist-packages/sklearn/base.py:446: UserWarning: X does not have valid feature names, but SimpleImputer was fitted with feature names\n",
            "  \"X does not have valid feature names, but\"\n"
          ]
        },
        {
          "name": "stdout",
          "output_type": "stream",
          "text": [
            "      Iter       Train Loss   Remaining Time \n",
            "         1           0.1710            4.75m\n",
            "         2           0.1467            4.74m\n",
            "         3           0.1264            4.71m\n",
            "         4           0.1099            4.70m\n",
            "         5           0.0963            4.70m\n",
            "         6           0.0849            4.71m\n",
            "         7           0.0756            4.73m\n",
            "         8           0.0678            4.73m\n",
            "         9           0.0614            4.70m\n",
            "        10           0.0557            4.68m\n",
            "        20           0.0304            4.41m\n",
            "        30           0.0232            4.24m\n",
            "        40           0.0200            4.08m\n",
            "        50           0.0180            3.91m\n",
            "        60           0.0165            3.73m\n",
            "        70           0.0152            3.55m\n",
            "        80           0.0144            3.36m\n",
            "        90           0.0138            3.18m\n",
            "       100           0.0133            2.98m\n",
            "       200           0.0099           59.81s\n",
            "[ALL]  train-RMSE  : 0.09531479621935504\n",
            "[ALL]  holdout-RMSE: 0.13228374074595248\n",
            "\n",
            "\n",
            "[THE END]  train-RMSE  : 0.13167391014487306\n"
          ]
        }
      ],
      "source": [
        "#stacker\n",
        "LR = LinearRegression()\n",
        "\n",
        "#base models\n",
        "GBR = GradientBoostingRegressor(n_estimators=250, learning_rate=0.1, \n",
        "                                max_depth=5, max_features=0.8, verbose=True)\n",
        "\n",
        "E = Ensemble(\n",
        "    n_folds=5,\n",
        "    stacker=LR,\n",
        "    base_models=[GBR]\n",
        ")\n",
        "\n",
        "y_pred = E.fit_predict(train_df, test_df)"
      ]
    },
    {
      "cell_type": "code",
      "execution_count": 30,
      "metadata": {
        "colab": {
          "base_uri": "https://localhost:8080/"
        },
        "id": "gossZ4Dybb-R",
        "outputId": "270abc3f-7a58-49f2-f916-b6fb2dc4cbb9"
      },
      "outputs": [
        {
          "data": {
            "text/plain": [
              "(True, True)"
            ]
          },
          "execution_count": 30,
          "metadata": {},
          "output_type": "execute_result"
        }
      ],
      "source": [
        "np.save('/content/drive/MyDrive/GBR_train', E.S_train)\n",
        "np.save('/content/drive/MyDrive/GBR_test', E.S_test)\n",
        "(np.load('/content/drive/MyDrive/GBR_train.npy') == E.S_train).all(), (np.load('/content/drive/MyDrive/GBR_test.npy') == E.S_test).all()"
      ]
    },
    {
      "cell_type": "code",
      "execution_count": null,
      "metadata": {
        "id": "UE3unrr2-wuI"
      },
      "outputs": [],
      "source": [
        "submission = pd.read_csv('data/submits/sample_submission.csv', index_col='id')\n",
        "result = np.expm1(E.S_test)\n",
        "\n",
        "if len(result[result < 0]):\n",
        "    print('WARNING: NEGATIVE PREDICTIONS')"
      ]
    },
    {
      "cell_type": "code",
      "execution_count": null,
      "metadata": {
        "id": "cUD3MPsL-wuI"
      },
      "outputs": [],
      "source": [
        "submission['price_doc'] = result # 0.9\n",
        "submission.to_csv('data/submits/submission.csv', index='id')"
      ]
    },
    {
      "cell_type": "code",
      "execution_count": null,
      "metadata": {
        "id": "swIVUL0G-wuJ",
        "outputId": "11d4dce8-0b10-48d8-b798-a10cdc4894e5"
      },
      "outputs": [
        {
          "name": "stdout",
          "output_type": "stream",
          "text": [
            "100%|████████████████████████████████████████| 180k/180k [00:01<00:00, 93.4kB/s]\n",
            "Successfully submitted to Sberbank Russian Housing Market"
          ]
        }
      ],
      "source": [
        "!kaggle competitions submit -c sberbank-russian-housing-market -f \"data/submits/submission.csv\" -m \"!GBR! no magic\""
      ]
    },
    {
      "cell_type": "code",
      "execution_count": null,
      "metadata": {
        "id": "vVti2I2tbb-S"
      },
      "outputs": [],
      "source": []
    }
  ],
  "metadata": {
    "accelerator": "GPU",
    "colab": {
      "collapsed_sections": [],
      "name": "GBR_model.ipynb",
      "provenance": []
    },
    "interpreter": {
      "hash": "e7370f93d1d0cde622a1f8e1c04877d8463912d04d973331ad4851f04de6915a"
    },
    "kernelspec": {
      "display_name": "Python 3.8.10 64-bit",
      "language": "python",
      "name": "python3"
    },
    "language_info": {
      "codemirror_mode": {
        "name": "ipython",
        "version": 3
      },
      "file_extension": ".py",
      "mimetype": "text/x-python",
      "name": "python",
      "nbconvert_exporter": "python",
      "pygments_lexer": "ipython3",
      "version": "3.8.10"
    },
    "orig_nbformat": 4
  },
  "nbformat": 4,
  "nbformat_minor": 0
}
