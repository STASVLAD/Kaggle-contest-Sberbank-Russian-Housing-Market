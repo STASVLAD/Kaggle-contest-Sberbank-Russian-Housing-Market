{
 "cells": [
  {
   "cell_type": "markdown",
   "metadata": {},
   "source": [
    "# Sberbank russian housing market Kaggle competition"
   ]
  },
  {
   "cell_type": "code",
   "execution_count": 1,
   "metadata": {},
   "outputs": [],
   "source": [
    "import folium\n",
    "import geopandas\n",
    "import numpy as np\n",
    "import pandas as pd\n",
    "from sklearn.metrics import mean_squared_log_error\n",
    "from sklearn.model_selection import train_test_split, cross_val_score, KFold\n",
    "from sklearn.metrics.pairwise import haversine_distances\n",
    "from math import radians\n",
    "from xgboost import XGBRegressor\n",
    "from sklearn.tree import DecisionTreeRegressor\n",
    "from sklearn.impute import SimpleImputer"
   ]
  },
  {
   "cell_type": "code",
   "execution_count": 2,
   "metadata": {},
   "outputs": [],
   "source": [
    "from scipy import stats\n",
    "import matplotlib.pyplot as plt"
   ]
  },
  {
   "cell_type": "code",
   "execution_count": 3,
   "metadata": {},
   "outputs": [],
   "source": [
    "from utils import *"
   ]
  },
  {
   "cell_type": "markdown",
   "metadata": {},
   "source": [
    "## Data description"
   ]
  },
  {
   "cell_type": "markdown",
   "metadata": {},
   "source": [
    "Housing costs demand a significant investment from both consumers and developers. And when it comes to planning a budget—whether personal or corporate—the last thing anyone needs is uncertainty about one of their biggets expenses. Sberbank, Russia’s oldest and largest bank, helps their customers by making predictions about realty prices so renters, developers, and lenders are more confident when they sign a lease or purchase a building.\n",
    "\n",
    "Although the housing market is relatively stable in Russia, the country’s volatile economy makes forecasting prices as a function of apartment characteristics a unique challenge. Complex interactions between housing features such as number of bedrooms and location are enough to make pricing predictions complicated. Adding an unstable economy to the mix means Sberbank and their customers need more than simple regression models in their arsenal.\n",
    "\n",
    "In this competition, Sberbank is challenging Kagglers to develop algorithms which use a broad spectrum of features to predict realty prices. Competitors will rely on a rich dataset that includes housing data and macroeconomic patterns. An accurate forecasting model will allow Sberbank to provide more certainty to their customers in an uncertain economy.\n",
    "\n",
    "The aim of this competition is to predict the sale price of each property. The target variable is called price_doc in train.csv.\n",
    "\n",
    "The training data is from August 2011 to June 2015, and the test set is from July 2015 to May 2016. The dataset also includes information about overall conditions in Russia's economy and finance sector, so you can focus on generating accurate price forecasts for individual properties, without needing to second-guess what the business cycle will do."
   ]
  },
  {
   "cell_type": "code",
   "execution_count": 4,
   "metadata": {},
   "outputs": [],
   "source": [
    "macro_df = pd.read_csv('data/macro.csv', parse_dates=['timestamp'])\n",
    "train_df = pd.read_csv('data/train.csv', index_col='id', parse_dates=['timestamp'])\n",
    "test_df = pd.read_csv('data/test.csv', index_col='id', parse_dates=['timestamp'])"
   ]
  },
  {
   "cell_type": "code",
   "execution_count": 5,
   "metadata": {},
   "outputs": [
    {
     "data": {
      "image/png": "[encoded data removed]",
      "text/plain": [
       "<Figure size 432x288 with 1 Axes>"
      ]
     },
     "metadata": {
      "needs_background": "light"
     },
     "output_type": "display_data"
    }
   ],
   "source": [
    "plt.figure(figsize=(6, 4))\n",
    "plt.hist(train_df['price_doc'], bins=50);"
   ]
  },
  {
   "cell_type": "markdown",
   "metadata": {},
   "source": [
    "## 1. Data preprocessing\n",
    "## I part (encoding and correcting mistakes)"
   ]
  },
  {
   "cell_type": "markdown",
   "metadata": {},
   "source": [
    "### Macro dataset"
   ]
  },
  {
   "cell_type": "markdown",
   "metadata": {},
   "source": [
    "Overview"
   ]
  },
  {
   "cell_type": "code",
   "execution_count": 6,
   "metadata": {},
   "outputs": [
    {
     "data": {
      "text/html": [
       "<div>\n",
       "<style scoped>\n",
       "    .dataframe tbody tr th:only-of-type {\n",
       "        vertical-align: middle;\n",
       "    }\n",
       "\n",
       "    .dataframe tbody tr th {\n",
       "        vertical-align: top;\n",
       "    }\n",
       "\n",
       "    .dataframe thead th {\n",
       "        text-align: right;\n",
       "    }\n",
       "</style>\n",
       "<table border=\"1\" class=\"dataframe\">\n",
       "  <thead>\n",
       "    <tr style=\"text-align: right;\">\n",
       "      <th></th>\n",
       "      <th>timestamp</th>\n",
       "      <th>oil_urals</th>\n",
       "      <th>gdp_quart</th>\n",
       "      <th>gdp_quart_growth</th>\n",
       "      <th>cpi</th>\n",
       "      <th>ppi</th>\n",
       "      <th>gdp_deflator</th>\n",
       "      <th>balance_trade</th>\n",
       "      <th>balance_trade_growth</th>\n",
       "      <th>usdrub</th>\n",
       "      <th>...</th>\n",
       "      <th>provision_retail_space_modern_sqm</th>\n",
       "      <th>turnover_catering_per_cap</th>\n",
       "      <th>theaters_viewers_per_1000_cap</th>\n",
       "      <th>seats_theather_rfmin_per_100000_cap</th>\n",
       "      <th>museum_visitis_per_100_cap</th>\n",
       "      <th>bandwidth_sports</th>\n",
       "      <th>population_reg_sports_share</th>\n",
       "      <th>students_reg_sports_share</th>\n",
       "      <th>apartment_build</th>\n",
       "      <th>apartment_fund_sqm</th>\n",
       "    </tr>\n",
       "  </thead>\n",
       "  <tbody>\n",
       "    <tr>\n",
       "      <th>0</th>\n",
       "      <td>2010-01-01</td>\n",
       "      <td>76.1</td>\n",
       "      <td>NaN</td>\n",
       "      <td>NaN</td>\n",
       "      <td>NaN</td>\n",
       "      <td>NaN</td>\n",
       "      <td>NaN</td>\n",
       "      <td>NaN</td>\n",
       "      <td>NaN</td>\n",
       "      <td>NaN</td>\n",
       "      <td>...</td>\n",
       "      <td>690.0</td>\n",
       "      <td>6221.0</td>\n",
       "      <td>527.0</td>\n",
       "      <td>0.41</td>\n",
       "      <td>993.0</td>\n",
       "      <td>NaN</td>\n",
       "      <td>NaN</td>\n",
       "      <td>63.03</td>\n",
       "      <td>22825.0</td>\n",
       "      <td>NaN</td>\n",
       "    </tr>\n",
       "    <tr>\n",
       "      <th>1</th>\n",
       "      <td>2010-01-02</td>\n",
       "      <td>76.1</td>\n",
       "      <td>NaN</td>\n",
       "      <td>NaN</td>\n",
       "      <td>NaN</td>\n",
       "      <td>NaN</td>\n",
       "      <td>NaN</td>\n",
       "      <td>NaN</td>\n",
       "      <td>NaN</td>\n",
       "      <td>NaN</td>\n",
       "      <td>...</td>\n",
       "      <td>690.0</td>\n",
       "      <td>6221.0</td>\n",
       "      <td>527.0</td>\n",
       "      <td>0.41</td>\n",
       "      <td>993.0</td>\n",
       "      <td>NaN</td>\n",
       "      <td>NaN</td>\n",
       "      <td>63.03</td>\n",
       "      <td>22825.0</td>\n",
       "      <td>NaN</td>\n",
       "    </tr>\n",
       "    <tr>\n",
       "      <th>2</th>\n",
       "      <td>2010-01-03</td>\n",
       "      <td>76.1</td>\n",
       "      <td>NaN</td>\n",
       "      <td>NaN</td>\n",
       "      <td>NaN</td>\n",
       "      <td>NaN</td>\n",
       "      <td>NaN</td>\n",
       "      <td>NaN</td>\n",
       "      <td>NaN</td>\n",
       "      <td>NaN</td>\n",
       "      <td>...</td>\n",
       "      <td>690.0</td>\n",
       "      <td>6221.0</td>\n",
       "      <td>527.0</td>\n",
       "      <td>0.41</td>\n",
       "      <td>993.0</td>\n",
       "      <td>NaN</td>\n",
       "      <td>NaN</td>\n",
       "      <td>63.03</td>\n",
       "      <td>22825.0</td>\n",
       "      <td>NaN</td>\n",
       "    </tr>\n",
       "    <tr>\n",
       "      <th>3</th>\n",
       "      <td>2010-01-04</td>\n",
       "      <td>76.1</td>\n",
       "      <td>NaN</td>\n",
       "      <td>NaN</td>\n",
       "      <td>NaN</td>\n",
       "      <td>NaN</td>\n",
       "      <td>NaN</td>\n",
       "      <td>NaN</td>\n",
       "      <td>NaN</td>\n",
       "      <td>29.905</td>\n",
       "      <td>...</td>\n",
       "      <td>690.0</td>\n",
       "      <td>6221.0</td>\n",
       "      <td>527.0</td>\n",
       "      <td>0.41</td>\n",
       "      <td>993.0</td>\n",
       "      <td>NaN</td>\n",
       "      <td>NaN</td>\n",
       "      <td>63.03</td>\n",
       "      <td>22825.0</td>\n",
       "      <td>NaN</td>\n",
       "    </tr>\n",
       "    <tr>\n",
       "      <th>4</th>\n",
       "      <td>2010-01-05</td>\n",
       "      <td>76.1</td>\n",
       "      <td>NaN</td>\n",
       "      <td>NaN</td>\n",
       "      <td>NaN</td>\n",
       "      <td>NaN</td>\n",
       "      <td>NaN</td>\n",
       "      <td>NaN</td>\n",
       "      <td>NaN</td>\n",
       "      <td>29.836</td>\n",
       "      <td>...</td>\n",
       "      <td>690.0</td>\n",
       "      <td>6221.0</td>\n",
       "      <td>527.0</td>\n",
       "      <td>0.41</td>\n",
       "      <td>993.0</td>\n",
       "      <td>NaN</td>\n",
       "      <td>NaN</td>\n",
       "      <td>63.03</td>\n",
       "      <td>22825.0</td>\n",
       "      <td>NaN</td>\n",
       "    </tr>\n",
       "  </tbody>\n",
       "</table>\n",
       "<p>5 rows × 100 columns</p>\n",
       "</div>"
      ],
      "text/plain": [
       "   timestamp  oil_urals  gdp_quart  gdp_quart_growth  cpi  ppi  gdp_deflator  \\\n",
       "0 2010-01-01       76.1        NaN               NaN  NaN  NaN           NaN   \n",
       "1 2010-01-02       76.1        NaN               NaN  NaN  NaN           NaN   \n",
       "2 2010-01-03       76.1        NaN               NaN  NaN  NaN           NaN   \n",
       "3 2010-01-04       76.1        NaN               NaN  NaN  NaN           NaN   \n",
       "4 2010-01-05       76.1        NaN               NaN  NaN  NaN           NaN   \n",
       "\n",
       "   balance_trade  balance_trade_growth  usdrub  ...  \\\n",
       "0            NaN                   NaN     NaN  ...   \n",
       "1            NaN                   NaN     NaN  ...   \n",
       "2            NaN                   NaN     NaN  ...   \n",
       "3            NaN                   NaN  29.905  ...   \n",
       "4            NaN                   NaN  29.836  ...   \n",
       "\n",
       "   provision_retail_space_modern_sqm  turnover_catering_per_cap  \\\n",
       "0                              690.0                     6221.0   \n",
       "1                              690.0                     6221.0   \n",
       "2                              690.0                     6221.0   \n",
       "3                              690.0                     6221.0   \n",
       "4                              690.0                     6221.0   \n",
       "\n",
       "   theaters_viewers_per_1000_cap  seats_theather_rfmin_per_100000_cap  \\\n",
       "0                          527.0                                 0.41   \n",
       "1                          527.0                                 0.41   \n",
       "2                          527.0                                 0.41   \n",
       "3                          527.0                                 0.41   \n",
       "4                          527.0                                 0.41   \n",
       "\n",
       "   museum_visitis_per_100_cap  bandwidth_sports  population_reg_sports_share  \\\n",
       "0                       993.0               NaN                          NaN   \n",
       "1                       993.0               NaN                          NaN   \n",
       "2                       993.0               NaN                          NaN   \n",
       "3                       993.0               NaN                          NaN   \n",
       "4                       993.0               NaN                          NaN   \n",
       "\n",
       "   students_reg_sports_share  apartment_build  apartment_fund_sqm  \n",
       "0                      63.03          22825.0                 NaN  \n",
       "1                      63.03          22825.0                 NaN  \n",
       "2                      63.03          22825.0                 NaN  \n",
       "3                      63.03          22825.0                 NaN  \n",
       "4                      63.03          22825.0                 NaN  \n",
       "\n",
       "[5 rows x 100 columns]"
      ]
     },
     "execution_count": 6,
     "metadata": {},
     "output_type": "execute_result"
    }
   ],
   "source": [
    "macro_df.head()"
   ]
  },
  {
   "cell_type": "code",
   "execution_count": 7,
   "metadata": {},
   "outputs": [
    {
     "name": "stdout",
     "output_type": "stream",
     "text": [
      "<class 'pandas.core.frame.DataFrame'>\n",
      "RangeIndex: 2484 entries, 0 to 2483\n",
      "Data columns (total 100 columns):\n",
      " #   Column                                      Non-Null Count  Dtype         \n",
      "---  ------                                      --------------  -----         \n",
      " 0   timestamp                                   2484 non-null   datetime64[ns]\n",
      " 1   oil_urals                                   2484 non-null   float64       \n",
      " 2   gdp_quart                                   2394 non-null   float64       \n",
      " 3   gdp_quart_growth                            2394 non-null   float64       \n",
      " 4   cpi                                         2453 non-null   float64       \n",
      " 5   ppi                                         2453 non-null   float64       \n",
      " 6   gdp_deflator                                2119 non-null   float64       \n",
      " 7   balance_trade                               2453 non-null   float64       \n",
      " 8   balance_trade_growth                        2394 non-null   float64       \n",
      " 9   usdrub                                      2481 non-null   float64       \n",
      " 10  eurrub                                      2481 non-null   float64       \n",
      " 11  brent                                       2481 non-null   float64       \n",
      " 12  net_capital_export                          2088 non-null   float64       \n",
      " 13  gdp_annual                                  2484 non-null   float64       \n",
      " 14  gdp_annual_growth                           2484 non-null   float64       \n",
      " 15  average_provision_of_build_contract         2484 non-null   float64       \n",
      " 16  average_provision_of_build_contract_moscow  2119 non-null   float64       \n",
      " 17  rts                                         2474 non-null   float64       \n",
      " 18  micex                                       2474 non-null   float64       \n",
      " 19  micex_rgbi_tr                               2474 non-null   float64       \n",
      " 20  micex_cbi_tr                                2483 non-null   float64       \n",
      " 21  deposits_value                              2484 non-null   int64         \n",
      " 22  deposits_growth                             2453 non-null   float64       \n",
      " 23  deposits_rate                               2070 non-null   float64       \n",
      " 24  mortgage_value                              2484 non-null   int64         \n",
      " 25  mortgage_growth                             2119 non-null   float64       \n",
      " 26  mortgage_rate                               2484 non-null   float64       \n",
      " 27  grp                                         1826 non-null   float64       \n",
      " 28  grp_growth                                  1461 non-null   float64       \n",
      " 29  income_per_cap                              2191 non-null   float64       \n",
      " 30  real_dispos_income_per_cap_growth           1826 non-null   float64       \n",
      " 31  salary                                      2191 non-null   float64       \n",
      " 32  salary_growth                               1826 non-null   float64       \n",
      " 33  fixed_basket                                2484 non-null   float64       \n",
      " 34  retail_trade_turnover                       2191 non-null   float64       \n",
      " 35  retail_trade_turnover_per_cap               2191 non-null   float64       \n",
      " 36  retail_trade_turnover_growth                2191 non-null   float64       \n",
      " 37  labor_force                                 2191 non-null   float64       \n",
      " 38  unemployment                                2191 non-null   float64       \n",
      " 39  employment                                  2191 non-null   float64       \n",
      " 40  invest_fixed_capital_per_cap                2191 non-null   float64       \n",
      " 41  invest_fixed_assets                         2191 non-null   float64       \n",
      " 42  profitable_enterpr_share                    1826 non-null   float64       \n",
      " 43  unprofitable_enterpr_share                  1826 non-null   float64       \n",
      " 44  share_own_revenues                          1826 non-null   float64       \n",
      " 45  overdue_wages_per_cap                       1826 non-null   float64       \n",
      " 46  fin_res_per_cap                             1826 non-null   float64       \n",
      " 47  marriages_per_1000_cap                      1826 non-null   float64       \n",
      " 48  divorce_rate                                1826 non-null   float64       \n",
      " 49  construction_value                          1826 non-null   float64       \n",
      " 50  invest_fixed_assets_phys                    1826 non-null   float64       \n",
      " 51  pop_natural_increase                        2191 non-null   float64       \n",
      " 52  pop_migration                               1826 non-null   float64       \n",
      " 53  pop_total_inc                               1826 non-null   float64       \n",
      " 54  childbirth                                  2191 non-null   float64       \n",
      " 55  mortality                                   2191 non-null   float64       \n",
      " 56  housing_fund_sqm                            1826 non-null   float64       \n",
      " 57  lodging_sqm_per_cap                         1826 non-null   float64       \n",
      " 58  water_pipes_share                           1826 non-null   float64       \n",
      " 59  baths_share                                 1826 non-null   float64       \n",
      " 60  sewerage_share                              1826 non-null   float64       \n",
      " 61  gas_share                                   1826 non-null   float64       \n",
      " 62  hot_water_share                             1826 non-null   float64       \n",
      " 63  electric_stove_share                        1826 non-null   float64       \n",
      " 64  heating_share                               1826 non-null   float64       \n",
      " 65  old_house_share                             1826 non-null   float64       \n",
      " 66  average_life_exp                            2191 non-null   float64       \n",
      " 67  infant_mortarity_per_1000_cap               1826 non-null   float64       \n",
      " 68  perinatal_mort_per_1000_cap                 1826 non-null   float64       \n",
      " 69  incidence_population                        1826 non-null   float64       \n",
      " 70  rent_price_4+room_bus                       2211 non-null   float64       \n",
      " 71  rent_price_3room_bus                        2211 non-null   float64       \n",
      " 72  rent_price_2room_bus                        2211 non-null   float64       \n",
      " 73  rent_price_1room_bus                        2211 non-null   float64       \n",
      " 74  rent_price_3room_eco                        2211 non-null   float64       \n",
      " 75  rent_price_2room_eco                        2211 non-null   float64       \n",
      " 76  rent_price_1room_eco                        2211 non-null   float64       \n",
      " 77  load_of_teachers_preschool_per_teacher      1461 non-null   float64       \n",
      " 78  child_on_acc_pre_school                     1826 non-null   object        \n",
      " 79  load_of_teachers_school_per_teacher         2191 non-null   float64       \n",
      " 80  students_state_oneshift                     1826 non-null   float64       \n",
      " 81  modern_education_share                      1095 non-null   object        \n",
      " 82  old_education_build_share                   1095 non-null   object        \n",
      " 83  provision_doctors                           1826 non-null   float64       \n",
      " 84  provision_nurse                             2191 non-null   float64       \n",
      " 85  load_on_doctors                             2191 non-null   float64       \n",
      " 86  power_clinics                               1826 non-null   float64       \n",
      " 87  hospital_beds_available_per_cap             1461 non-null   float64       \n",
      " 88  hospital_bed_occupancy_per_year             1461 non-null   float64       \n",
      " 89  provision_retail_space_sqm                  731 non-null    float64       \n",
      " 90  provision_retail_space_modern_sqm           730 non-null    float64       \n",
      " 91  turnover_catering_per_cap                   2191 non-null   float64       \n",
      " 92  theaters_viewers_per_1000_cap               1461 non-null   float64       \n",
      " 93  seats_theather_rfmin_per_100000_cap         2191 non-null   float64       \n",
      " 94  museum_visitis_per_100_cap                  1461 non-null   float64       \n",
      " 95  bandwidth_sports                            1826 non-null   float64       \n",
      " 96  population_reg_sports_share                 1461 non-null   float64       \n",
      " 97  students_reg_sports_share                   1461 non-null   float64       \n",
      " 98  apartment_build                             1826 non-null   float64       \n",
      " 99  apartment_fund_sqm                          1826 non-null   float64       \n",
      "dtypes: datetime64[ns](1), float64(94), int64(2), object(3)\n",
      "memory usage: 1.9+ MB\n"
     ]
    }
   ],
   "source": [
    "macro_df.info()"
   ]
  },
  {
   "cell_type": "markdown",
   "metadata": {},
   "source": [
    "So, we have some missing values and possible categorical features (object dtype)"
   ]
  },
  {
   "cell_type": "code",
   "execution_count": 8,
   "metadata": {},
   "outputs": [
    {
     "name": "stdout",
     "output_type": "stream",
     "text": [
      "child_on_acc_pre_school: ['45,713' '#!' '7,311' '3,013' '16,765' nan]\n",
      "modern_education_share: [nan '90,92' '93,08' '95,4918']\n",
      "old_education_build_share: [nan '23,14' '25,47' '8,2517']\n"
     ]
    }
   ],
   "source": [
    "for column in macro_df.select_dtypes('object').columns:\n",
    "    print(f'{column}: {macro_df[column].unique()}')"
   ]
  },
  {
   "cell_type": "markdown",
   "metadata": {},
   "source": [
    "Thus, it's just mistakes in the dataset, these features are not categorical. Let's correct them"
   ]
  },
  {
   "cell_type": "code",
   "execution_count": 9,
   "metadata": {},
   "outputs": [
    {
     "name": "stdout",
     "output_type": "stream",
     "text": [
      "OK\n"
     ]
    }
   ],
   "source": [
    "macro_df['child_on_acc_pre_school'] = macro_df['child_on_acc_pre_school'].str.replace('#!', 'nan')\n",
    "for column in macro_df.select_dtypes('object').columns:\n",
    "    macro_df[column] = macro_df[column].str.replace(',', '.')\n",
    "    macro_df[column] = macro_df[column].astype(float)\n",
    "\n",
    "if not len(macro_df.select_dtypes('object').columns):\n",
    "    print('OK')"
   ]
  },
  {
   "cell_type": "markdown",
   "metadata": {},
   "source": [
    "### Train dataset"
   ]
  },
  {
   "cell_type": "markdown",
   "metadata": {},
   "source": [
    "Overview"
   ]
  },
  {
   "cell_type": "code",
   "execution_count": 10,
   "metadata": {},
   "outputs": [
    {
     "data": {
      "text/html": [
       "<div>\n",
       "<style scoped>\n",
       "    .dataframe tbody tr th:only-of-type {\n",
       "        vertical-align: middle;\n",
       "    }\n",
       "\n",
       "    .dataframe tbody tr th {\n",
       "        vertical-align: top;\n",
       "    }\n",
       "\n",
       "    .dataframe thead th {\n",
       "        text-align: right;\n",
       "    }\n",
       "</style>\n",
       "<table border=\"1\" class=\"dataframe\">\n",
       "  <thead>\n",
       "    <tr style=\"text-align: right;\">\n",
       "      <th></th>\n",
       "      <th>timestamp</th>\n",
       "      <th>full_sq</th>\n",
       "      <th>life_sq</th>\n",
       "      <th>floor</th>\n",
       "      <th>max_floor</th>\n",
       "      <th>material</th>\n",
       "      <th>build_year</th>\n",
       "      <th>num_room</th>\n",
       "      <th>kitch_sq</th>\n",
       "      <th>state</th>\n",
       "      <th>...</th>\n",
       "      <th>cafe_count_5000_price_2500</th>\n",
       "      <th>cafe_count_5000_price_4000</th>\n",
       "      <th>cafe_count_5000_price_high</th>\n",
       "      <th>big_church_count_5000</th>\n",
       "      <th>church_count_5000</th>\n",
       "      <th>mosque_count_5000</th>\n",
       "      <th>leisure_count_5000</th>\n",
       "      <th>sport_count_5000</th>\n",
       "      <th>market_count_5000</th>\n",
       "      <th>price_doc</th>\n",
       "    </tr>\n",
       "    <tr>\n",
       "      <th>id</th>\n",
       "      <th></th>\n",
       "      <th></th>\n",
       "      <th></th>\n",
       "      <th></th>\n",
       "      <th></th>\n",
       "      <th></th>\n",
       "      <th></th>\n",
       "      <th></th>\n",
       "      <th></th>\n",
       "      <th></th>\n",
       "      <th></th>\n",
       "      <th></th>\n",
       "      <th></th>\n",
       "      <th></th>\n",
       "      <th></th>\n",
       "      <th></th>\n",
       "      <th></th>\n",
       "      <th></th>\n",
       "      <th></th>\n",
       "      <th></th>\n",
       "      <th></th>\n",
       "    </tr>\n",
       "  </thead>\n",
       "  <tbody>\n",
       "    <tr>\n",
       "      <th>1</th>\n",
       "      <td>2011-08-20</td>\n",
       "      <td>43</td>\n",
       "      <td>27.0</td>\n",
       "      <td>4.0</td>\n",
       "      <td>NaN</td>\n",
       "      <td>NaN</td>\n",
       "      <td>NaN</td>\n",
       "      <td>NaN</td>\n",
       "      <td>NaN</td>\n",
       "      <td>NaN</td>\n",
       "      <td>...</td>\n",
       "      <td>9</td>\n",
       "      <td>4</td>\n",
       "      <td>0</td>\n",
       "      <td>13</td>\n",
       "      <td>22</td>\n",
       "      <td>1</td>\n",
       "      <td>0</td>\n",
       "      <td>52</td>\n",
       "      <td>4</td>\n",
       "      <td>5850000</td>\n",
       "    </tr>\n",
       "    <tr>\n",
       "      <th>2</th>\n",
       "      <td>2011-08-23</td>\n",
       "      <td>34</td>\n",
       "      <td>19.0</td>\n",
       "      <td>3.0</td>\n",
       "      <td>NaN</td>\n",
       "      <td>NaN</td>\n",
       "      <td>NaN</td>\n",
       "      <td>NaN</td>\n",
       "      <td>NaN</td>\n",
       "      <td>NaN</td>\n",
       "      <td>...</td>\n",
       "      <td>15</td>\n",
       "      <td>3</td>\n",
       "      <td>0</td>\n",
       "      <td>15</td>\n",
       "      <td>29</td>\n",
       "      <td>1</td>\n",
       "      <td>10</td>\n",
       "      <td>66</td>\n",
       "      <td>14</td>\n",
       "      <td>6000000</td>\n",
       "    </tr>\n",
       "    <tr>\n",
       "      <th>3</th>\n",
       "      <td>2011-08-27</td>\n",
       "      <td>43</td>\n",
       "      <td>29.0</td>\n",
       "      <td>2.0</td>\n",
       "      <td>NaN</td>\n",
       "      <td>NaN</td>\n",
       "      <td>NaN</td>\n",
       "      <td>NaN</td>\n",
       "      <td>NaN</td>\n",
       "      <td>NaN</td>\n",
       "      <td>...</td>\n",
       "      <td>10</td>\n",
       "      <td>3</td>\n",
       "      <td>0</td>\n",
       "      <td>11</td>\n",
       "      <td>27</td>\n",
       "      <td>0</td>\n",
       "      <td>4</td>\n",
       "      <td>67</td>\n",
       "      <td>10</td>\n",
       "      <td>5700000</td>\n",
       "    </tr>\n",
       "    <tr>\n",
       "      <th>4</th>\n",
       "      <td>2011-09-01</td>\n",
       "      <td>89</td>\n",
       "      <td>50.0</td>\n",
       "      <td>9.0</td>\n",
       "      <td>NaN</td>\n",
       "      <td>NaN</td>\n",
       "      <td>NaN</td>\n",
       "      <td>NaN</td>\n",
       "      <td>NaN</td>\n",
       "      <td>NaN</td>\n",
       "      <td>...</td>\n",
       "      <td>11</td>\n",
       "      <td>2</td>\n",
       "      <td>1</td>\n",
       "      <td>4</td>\n",
       "      <td>4</td>\n",
       "      <td>0</td>\n",
       "      <td>0</td>\n",
       "      <td>26</td>\n",
       "      <td>3</td>\n",
       "      <td>13100000</td>\n",
       "    </tr>\n",
       "    <tr>\n",
       "      <th>5</th>\n",
       "      <td>2011-09-05</td>\n",
       "      <td>77</td>\n",
       "      <td>77.0</td>\n",
       "      <td>4.0</td>\n",
       "      <td>NaN</td>\n",
       "      <td>NaN</td>\n",
       "      <td>NaN</td>\n",
       "      <td>NaN</td>\n",
       "      <td>NaN</td>\n",
       "      <td>NaN</td>\n",
       "      <td>...</td>\n",
       "      <td>319</td>\n",
       "      <td>108</td>\n",
       "      <td>17</td>\n",
       "      <td>135</td>\n",
       "      <td>236</td>\n",
       "      <td>2</td>\n",
       "      <td>91</td>\n",
       "      <td>195</td>\n",
       "      <td>14</td>\n",
       "      <td>16331452</td>\n",
       "    </tr>\n",
       "  </tbody>\n",
       "</table>\n",
       "<p>5 rows × 291 columns</p>\n",
       "</div>"
      ],
      "text/plain": [
       "    timestamp  full_sq  life_sq  floor  max_floor  material  build_year  \\\n",
       "id                                                                        \n",
       "1  2011-08-20       43     27.0    4.0        NaN       NaN         NaN   \n",
       "2  2011-08-23       34     19.0    3.0        NaN       NaN         NaN   \n",
       "3  2011-08-27       43     29.0    2.0        NaN       NaN         NaN   \n",
       "4  2011-09-01       89     50.0    9.0        NaN       NaN         NaN   \n",
       "5  2011-09-05       77     77.0    4.0        NaN       NaN         NaN   \n",
       "\n",
       "    num_room  kitch_sq  state  ... cafe_count_5000_price_2500  \\\n",
       "id                             ...                              \n",
       "1        NaN       NaN    NaN  ...                          9   \n",
       "2        NaN       NaN    NaN  ...                         15   \n",
       "3        NaN       NaN    NaN  ...                         10   \n",
       "4        NaN       NaN    NaN  ...                         11   \n",
       "5        NaN       NaN    NaN  ...                        319   \n",
       "\n",
       "   cafe_count_5000_price_4000  cafe_count_5000_price_high  \\\n",
       "id                                                          \n",
       "1                           4                           0   \n",
       "2                           3                           0   \n",
       "3                           3                           0   \n",
       "4                           2                           1   \n",
       "5                         108                          17   \n",
       "\n",
       "    big_church_count_5000  church_count_5000  mosque_count_5000  \\\n",
       "id                                                                \n",
       "1                      13                 22                  1   \n",
       "2                      15                 29                  1   \n",
       "3                      11                 27                  0   \n",
       "4                       4                  4                  0   \n",
       "5                     135                236                  2   \n",
       "\n",
       "    leisure_count_5000  sport_count_5000  market_count_5000  price_doc  \n",
       "id                                                                      \n",
       "1                    0                52                  4    5850000  \n",
       "2                   10                66                 14    6000000  \n",
       "3                    4                67                 10    5700000  \n",
       "4                    0                26                  3   13100000  \n",
       "5                   91               195                 14   16331452  \n",
       "\n",
       "[5 rows x 291 columns]"
      ]
     },
     "execution_count": 10,
     "metadata": {},
     "output_type": "execute_result"
    }
   ],
   "source": [
    "train_df.head()"
   ]
  },
  {
   "cell_type": "code",
   "execution_count": 11,
   "metadata": {},
   "outputs": [
    {
     "data": {
      "text/plain": [
       "array([dtype('<M8[ns]'), dtype('int64'), dtype('float64'), dtype('O')],\n",
       "      dtype=object)"
      ]
     },
     "execution_count": 11,
     "metadata": {},
     "output_type": "execute_result"
    }
   ],
   "source": [
    "train_df.dtypes.unique()"
   ]
  },
  {
   "cell_type": "markdown",
   "metadata": {},
   "source": [
    "Again we have some missing values and possible categorical features (object dtype)"
   ]
  },
  {
   "cell_type": "code",
   "execution_count": 12,
   "metadata": {},
   "outputs": [
    {
     "name": "stdout",
     "output_type": "stream",
     "text": [
      "product_type: ['Investment' 'OwnerOccupier']\n",
      "sub_area: ['Bibirevo' 'Nagatinskij Zaton' \"Tekstil'shhiki\" 'Mitino' 'Basmannoe'], ...\n",
      "culture_objects_top_25: ['no' 'yes']\n",
      "thermal_power_plant_raion: ['no' 'yes']\n",
      "incineration_raion: ['no' 'yes']\n",
      "oil_chemistry_raion: ['no' 'yes']\n",
      "radiation_raion: ['no' 'yes']\n",
      "railroad_terminal_raion: ['no' 'yes']\n",
      "big_market_raion: ['no' 'yes']\n",
      "nuclear_reactor_raion: ['no' 'yes']\n",
      "detention_facility_raion: ['no' 'yes']\n",
      "water_1line: ['no' 'yes']\n",
      "big_road1_1line: ['no' 'yes']\n",
      "railroad_1line: ['no' 'yes']\n",
      "ecology: ['good' 'excellent' 'poor' 'satisfactory' 'no data']\n"
     ]
    }
   ],
   "source": [
    "for column in train_df.select_dtypes('object').columns:\n",
    "    unique_values = train_df[column].unique()\n",
    "    if len(unique_values) > 5:\n",
    "        print(f'{column}: {unique_values[:5]}, ...')\n",
    "    else:\n",
    "        print(f'{column}: {unique_values}')"
   ]
  },
  {
   "cell_type": "markdown",
   "metadata": {},
   "source": [
    "Let's write function `encode()` to encode:\n",
    "1. `timestamp` as 3 numbers: year, month, day\n",
    "2. `product_type` as 0,1\n",
    "3. `ecology` feature as 1, 2, 3, 4 \n",
    "4. `yes/no` features as 0, 1\n",
    "\n",
    "With the `sub_area` feature we will deal later\n",
    "\n",
    "You can find function implementation in the `utils` folder, it is not placed here to get a more readable notebook. "
   ]
  },
  {
   "cell_type": "code",
   "execution_count": 13,
   "metadata": {},
   "outputs": [],
   "source": [
    "train_df = encode(train_df)\n",
    "target = train_df.pop('price_doc')"
   ]
  },
  {
   "cell_type": "markdown",
   "metadata": {},
   "source": [
    "### Test dataset"
   ]
  },
  {
   "cell_type": "markdown",
   "metadata": {},
   "source": [
    "Overview"
   ]
  },
  {
   "cell_type": "code",
   "execution_count": 14,
   "metadata": {},
   "outputs": [
    {
     "data": {
      "text/html": [
       "<div>\n",
       "<style scoped>\n",
       "    .dataframe tbody tr th:only-of-type {\n",
       "        vertical-align: middle;\n",
       "    }\n",
       "\n",
       "    .dataframe tbody tr th {\n",
       "        vertical-align: top;\n",
       "    }\n",
       "\n",
       "    .dataframe thead th {\n",
       "        text-align: right;\n",
       "    }\n",
       "</style>\n",
       "<table border=\"1\" class=\"dataframe\">\n",
       "  <thead>\n",
       "    <tr style=\"text-align: right;\">\n",
       "      <th></th>\n",
       "      <th>timestamp</th>\n",
       "      <th>full_sq</th>\n",
       "      <th>life_sq</th>\n",
       "      <th>floor</th>\n",
       "      <th>max_floor</th>\n",
       "      <th>material</th>\n",
       "      <th>build_year</th>\n",
       "      <th>num_room</th>\n",
       "      <th>kitch_sq</th>\n",
       "      <th>state</th>\n",
       "      <th>...</th>\n",
       "      <th>cafe_count_5000_price_1500</th>\n",
       "      <th>cafe_count_5000_price_2500</th>\n",
       "      <th>cafe_count_5000_price_4000</th>\n",
       "      <th>cafe_count_5000_price_high</th>\n",
       "      <th>big_church_count_5000</th>\n",
       "      <th>church_count_5000</th>\n",
       "      <th>mosque_count_5000</th>\n",
       "      <th>leisure_count_5000</th>\n",
       "      <th>sport_count_5000</th>\n",
       "      <th>market_count_5000</th>\n",
       "    </tr>\n",
       "    <tr>\n",
       "      <th>id</th>\n",
       "      <th></th>\n",
       "      <th></th>\n",
       "      <th></th>\n",
       "      <th></th>\n",
       "      <th></th>\n",
       "      <th></th>\n",
       "      <th></th>\n",
       "      <th></th>\n",
       "      <th></th>\n",
       "      <th></th>\n",
       "      <th></th>\n",
       "      <th></th>\n",
       "      <th></th>\n",
       "      <th></th>\n",
       "      <th></th>\n",
       "      <th></th>\n",
       "      <th></th>\n",
       "      <th></th>\n",
       "      <th></th>\n",
       "      <th></th>\n",
       "      <th></th>\n",
       "    </tr>\n",
       "  </thead>\n",
       "  <tbody>\n",
       "    <tr>\n",
       "      <th>30474</th>\n",
       "      <td>2015-07-01</td>\n",
       "      <td>39.0</td>\n",
       "      <td>20.7</td>\n",
       "      <td>2</td>\n",
       "      <td>9</td>\n",
       "      <td>1</td>\n",
       "      <td>1998.0</td>\n",
       "      <td>1</td>\n",
       "      <td>8.9</td>\n",
       "      <td>3.0</td>\n",
       "      <td>...</td>\n",
       "      <td>8</td>\n",
       "      <td>0</td>\n",
       "      <td>0</td>\n",
       "      <td>0</td>\n",
       "      <td>1</td>\n",
       "      <td>10</td>\n",
       "      <td>1</td>\n",
       "      <td>0</td>\n",
       "      <td>14</td>\n",
       "      <td>1</td>\n",
       "    </tr>\n",
       "    <tr>\n",
       "      <th>30475</th>\n",
       "      <td>2015-07-01</td>\n",
       "      <td>79.2</td>\n",
       "      <td>NaN</td>\n",
       "      <td>8</td>\n",
       "      <td>17</td>\n",
       "      <td>1</td>\n",
       "      <td>0.0</td>\n",
       "      <td>3</td>\n",
       "      <td>1.0</td>\n",
       "      <td>1.0</td>\n",
       "      <td>...</td>\n",
       "      <td>4</td>\n",
       "      <td>1</td>\n",
       "      <td>1</td>\n",
       "      <td>0</td>\n",
       "      <td>2</td>\n",
       "      <td>11</td>\n",
       "      <td>0</td>\n",
       "      <td>1</td>\n",
       "      <td>12</td>\n",
       "      <td>1</td>\n",
       "    </tr>\n",
       "    <tr>\n",
       "      <th>30476</th>\n",
       "      <td>2015-07-01</td>\n",
       "      <td>40.5</td>\n",
       "      <td>25.1</td>\n",
       "      <td>3</td>\n",
       "      <td>5</td>\n",
       "      <td>2</td>\n",
       "      <td>1960.0</td>\n",
       "      <td>2</td>\n",
       "      <td>4.8</td>\n",
       "      <td>2.0</td>\n",
       "      <td>...</td>\n",
       "      <td>42</td>\n",
       "      <td>11</td>\n",
       "      <td>4</td>\n",
       "      <td>0</td>\n",
       "      <td>10</td>\n",
       "      <td>21</td>\n",
       "      <td>0</td>\n",
       "      <td>10</td>\n",
       "      <td>71</td>\n",
       "      <td>11</td>\n",
       "    </tr>\n",
       "    <tr>\n",
       "      <th>30477</th>\n",
       "      <td>2015-07-01</td>\n",
       "      <td>62.8</td>\n",
       "      <td>36.0</td>\n",
       "      <td>17</td>\n",
       "      <td>17</td>\n",
       "      <td>1</td>\n",
       "      <td>2016.0</td>\n",
       "      <td>2</td>\n",
       "      <td>62.8</td>\n",
       "      <td>3.0</td>\n",
       "      <td>...</td>\n",
       "      <td>1</td>\n",
       "      <td>1</td>\n",
       "      <td>2</td>\n",
       "      <td>0</td>\n",
       "      <td>0</td>\n",
       "      <td>10</td>\n",
       "      <td>0</td>\n",
       "      <td>0</td>\n",
       "      <td>2</td>\n",
       "      <td>0</td>\n",
       "    </tr>\n",
       "    <tr>\n",
       "      <th>30478</th>\n",
       "      <td>2015-07-01</td>\n",
       "      <td>40.0</td>\n",
       "      <td>40.0</td>\n",
       "      <td>17</td>\n",
       "      <td>17</td>\n",
       "      <td>1</td>\n",
       "      <td>0.0</td>\n",
       "      <td>1</td>\n",
       "      <td>1.0</td>\n",
       "      <td>1.0</td>\n",
       "      <td>...</td>\n",
       "      <td>5</td>\n",
       "      <td>1</td>\n",
       "      <td>1</td>\n",
       "      <td>0</td>\n",
       "      <td>2</td>\n",
       "      <td>12</td>\n",
       "      <td>0</td>\n",
       "      <td>1</td>\n",
       "      <td>11</td>\n",
       "      <td>1</td>\n",
       "    </tr>\n",
       "  </tbody>\n",
       "</table>\n",
       "<p>5 rows × 290 columns</p>\n",
       "</div>"
      ],
      "text/plain": [
       "       timestamp  full_sq  life_sq  floor  max_floor  material  build_year  \\\n",
       "id                                                                           \n",
       "30474 2015-07-01     39.0     20.7      2          9         1      1998.0   \n",
       "30475 2015-07-01     79.2      NaN      8         17         1         0.0   \n",
       "30476 2015-07-01     40.5     25.1      3          5         2      1960.0   \n",
       "30477 2015-07-01     62.8     36.0     17         17         1      2016.0   \n",
       "30478 2015-07-01     40.0     40.0     17         17         1         0.0   \n",
       "\n",
       "       num_room  kitch_sq  state  ... cafe_count_5000_price_1500  \\\n",
       "id                                ...                              \n",
       "30474         1       8.9    3.0  ...                          8   \n",
       "30475         3       1.0    1.0  ...                          4   \n",
       "30476         2       4.8    2.0  ...                         42   \n",
       "30477         2      62.8    3.0  ...                          1   \n",
       "30478         1       1.0    1.0  ...                          5   \n",
       "\n",
       "      cafe_count_5000_price_2500  cafe_count_5000_price_4000  \\\n",
       "id                                                             \n",
       "30474                          0                           0   \n",
       "30475                          1                           1   \n",
       "30476                         11                           4   \n",
       "30477                          1                           2   \n",
       "30478                          1                           1   \n",
       "\n",
       "       cafe_count_5000_price_high  big_church_count_5000  church_count_5000  \\\n",
       "id                                                                            \n",
       "30474                           0                      1                 10   \n",
       "30475                           0                      2                 11   \n",
       "30476                           0                     10                 21   \n",
       "30477                           0                      0                 10   \n",
       "30478                           0                      2                 12   \n",
       "\n",
       "       mosque_count_5000  leisure_count_5000  sport_count_5000  \\\n",
       "id                                                               \n",
       "30474                  1                   0                14   \n",
       "30475                  0                   1                12   \n",
       "30476                  0                  10                71   \n",
       "30477                  0                   0                 2   \n",
       "30478                  0                   1                11   \n",
       "\n",
       "       market_count_5000  \n",
       "id                        \n",
       "30474                  1  \n",
       "30475                  1  \n",
       "30476                 11  \n",
       "30477                  0  \n",
       "30478                  1  \n",
       "\n",
       "[5 rows x 290 columns]"
      ]
     },
     "execution_count": 14,
     "metadata": {},
     "output_type": "execute_result"
    }
   ],
   "source": [
    "test_df.head()"
   ]
  },
  {
   "cell_type": "code",
   "execution_count": 15,
   "metadata": {},
   "outputs": [
    {
     "data": {
      "text/plain": [
       "array([dtype('<M8[ns]'), dtype('float64'), dtype('int64'), dtype('O')],\n",
       "      dtype=object)"
      ]
     },
     "execution_count": 15,
     "metadata": {},
     "output_type": "execute_result"
    }
   ],
   "source": [
    "test_df.dtypes.unique()"
   ]
  },
  {
   "cell_type": "markdown",
   "metadata": {},
   "source": [
    "Again we have some missing values and possible categorical features (object dtype)"
   ]
  },
  {
   "cell_type": "code",
   "execution_count": 16,
   "metadata": {},
   "outputs": [
    {
     "name": "stdout",
     "output_type": "stream",
     "text": [
      "product_type: ['Investment' 'OwnerOccupier' nan]\n",
      "sub_area: ['Juzhnoe Butovo' 'Poselenie Vnukovskoe' 'Perovo'\n",
      " 'Poselenie Voskresenskoe' 'Filevskij Park'], ...\n",
      "culture_objects_top_25: ['no' 'yes']\n",
      "thermal_power_plant_raion: ['no' 'yes']\n",
      "incineration_raion: ['no' 'yes']\n",
      "oil_chemistry_raion: ['no' 'yes']\n",
      "radiation_raion: ['no' 'yes']\n",
      "railroad_terminal_raion: ['no' 'yes']\n",
      "big_market_raion: ['no' 'yes']\n",
      "nuclear_reactor_raion: ['no' 'yes']\n",
      "detention_facility_raion: ['no' 'yes']\n",
      "water_1line: ['no' 'yes']\n",
      "big_road1_1line: ['no' 'yes']\n",
      "railroad_1line: ['no' 'yes']\n",
      "ecology: ['satisfactory' 'no data' 'poor' 'good' 'excellent']\n"
     ]
    }
   ],
   "source": [
    "for column in test_df.select_dtypes('object').columns:\n",
    "    unique_values = test_df[column].unique()\n",
    "    if len(unique_values) > 5:\n",
    "        print(f'{column}: {unique_values[:5]}, ...')\n",
    "    else:\n",
    "        print(f'{column}: {unique_values}')"
   ]
  },
  {
   "cell_type": "markdown",
   "metadata": {},
   "source": [
    "As we can see, in the test dataset there are also some missing values in `product_type` feature compare to the train dataset"
   ]
  },
  {
   "cell_type": "code",
   "execution_count": 17,
   "metadata": {},
   "outputs": [
    {
     "data": {
      "text/plain": [
       "33"
      ]
     },
     "execution_count": 17,
     "metadata": {},
     "output_type": "execute_result"
    }
   ],
   "source": [
    "test_df.product_type.isna().sum()"
   ]
  },
  {
   "cell_type": "markdown",
   "metadata": {},
   "source": [
    "To encode categorical features we can use our `encode()` function for the test dataset too"
   ]
  },
  {
   "cell_type": "code",
   "execution_count": 18,
   "metadata": {},
   "outputs": [],
   "source": [
    "test_df = encode(test_df)"
   ]
  },
  {
   "cell_type": "markdown",
   "metadata": {},
   "source": [
    "## II part (Filling missing values)"
   ]
  },
  {
   "cell_type": "markdown",
   "metadata": {},
   "source": [
    "## 2. Encoding `sub_area` feature"
   ]
  },
  {
   "cell_type": "markdown",
   "metadata": {},
   "source": [
    "take OKRUG + intersection with radius from KREMLIN"
   ]
  },
  {
   "cell_type": "code",
   "execution_count": 62,
   "metadata": {},
   "outputs": [
    {
     "data": {
      "text/plain": [
       "146"
      ]
     },
     "execution_count": 62,
     "metadata": {},
     "output_type": "execute_result"
    }
   ],
   "source": [
    "len(train_df['sub_area'].unique())"
   ]
  },
  {
   "cell_type": "markdown",
   "metadata": {},
   "source": [
    "We have 146 different areas, one-hot encoding obviously is not the best approach for geo-data, so let's find their latitude and longitude"
   ]
  },
  {
   "cell_type": "code",
   "execution_count": 76,
   "metadata": {},
   "outputs": [
    {
     "data": {
      "text/html": [
       "<div>\n",
       "<style scoped>\n",
       "    .dataframe tbody tr th:only-of-type {\n",
       "        vertical-align: middle;\n",
       "    }\n",
       "\n",
       "    .dataframe tbody tr th {\n",
       "        vertical-align: top;\n",
       "    }\n",
       "\n",
       "    .dataframe thead th {\n",
       "        text-align: right;\n",
       "    }\n",
       "</style>\n",
       "<table border=\"1\" class=\"dataframe\">\n",
       "  <thead>\n",
       "    <tr style=\"text-align: right;\">\n",
       "      <th></th>\n",
       "      <th>NAME</th>\n",
       "      <th>OKRUG</th>\n",
       "      <th>TYPE_MO</th>\n",
       "      <th>geometry</th>\n",
       "    </tr>\n",
       "  </thead>\n",
       "  <tbody>\n",
       "    <tr>\n",
       "      <th>0</th>\n",
       "      <td>Киевский</td>\n",
       "      <td>Troitsky</td>\n",
       "      <td>Поселение</td>\n",
       "      <td>MULTIPOLYGON (((36.80310 55.44083, 36.80319 55...</td>\n",
       "    </tr>\n",
       "    <tr>\n",
       "      <th>1</th>\n",
       "      <td>Филёвский Парк</td>\n",
       "      <td>Western</td>\n",
       "      <td>Муниципальный округ</td>\n",
       "      <td>POLYGON ((37.42765 55.74821, 37.42849 55.74875...</td>\n",
       "    </tr>\n",
       "    <tr>\n",
       "      <th>2</th>\n",
       "      <td>Новофёдоровское</td>\n",
       "      <td>Troitsky</td>\n",
       "      <td>Поселение</td>\n",
       "      <td>POLYGON ((36.80357 55.45162, 36.80451 55.46551...</td>\n",
       "    </tr>\n",
       "    <tr>\n",
       "      <th>3</th>\n",
       "      <td>Роговское</td>\n",
       "      <td>Troitsky</td>\n",
       "      <td>Поселение</td>\n",
       "      <td>POLYGON ((36.93724 55.24139, 36.93726 55.24161...</td>\n",
       "    </tr>\n",
       "    <tr>\n",
       "      <th>4</th>\n",
       "      <td>\"Мосрентген\"</td>\n",
       "      <td>Novomoskovsky</td>\n",
       "      <td>Поселение</td>\n",
       "      <td>POLYGON ((37.43956 55.62731, 37.44018 55.63042...</td>\n",
       "    </tr>\n",
       "  </tbody>\n",
       "</table>\n",
       "</div>"
      ],
      "text/plain": [
       "              NAME          OKRUG              TYPE_MO  \\\n",
       "0         Киевский       Troitsky            Поселение   \n",
       "1   Филёвский Парк        Western  Муниципальный округ   \n",
       "2  Новофёдоровское       Troitsky            Поселение   \n",
       "3        Роговское       Troitsky            Поселение   \n",
       "4     \"Мосрентген\"  Novomoskovsky            Поселение   \n",
       "\n",
       "                                            geometry  \n",
       "0  MULTIPOLYGON (((36.80310 55.44083, 36.80319 55...  \n",
       "1  POLYGON ((37.42765 55.74821, 37.42849 55.74875...  \n",
       "2  POLYGON ((36.80357 55.45162, 36.80451 55.46551...  \n",
       "3  POLYGON ((36.93724 55.24139, 36.93726 55.24161...  \n",
       "4  POLYGON ((37.43956 55.62731, 37.44018 55.63042...  "
      ]
     },
     "execution_count": 76,
     "metadata": {},
     "output_type": "execute_result"
    }
   ],
   "source": [
    "geo_df = pd.read_csv('data/geo_data.csv', index_col='sub_area')\n",
    "geo_df = geo_df.merge(geopandas.read_file('data/mo.geojson'), on='NAME')\n",
    "geo_df.drop(['OKATO', 'OKTMO', 'OKATO_AO', 'NAME_AO', 'ABBREV_AO'], axis=1, inplace=True)\n",
    "geo_df.head()"
   ]
  },
  {
   "cell_type": "code",
   "execution_count": null,
   "metadata": {},
   "outputs": [],
   "source": [
    "# Convert lat/lon (must be in radians) to Cartesian coordinates for each location.\n",
    "X = np.cos(lat) * np.cos(lon)\n",
    "Y = np.cos(lat) * np.sin(lon)\n",
    "Z = np.sin(lat)\n",
    "\n",
    "# Compute average x, y and z coordinates.\n",
    "x = np.mean(X)\n",
    "y = np.mean(Y)\n",
    "z = np.mean(Z)\n",
    "\n",
    "# Convert average x, y, z coordinate to latitude and longitude.\n",
    "Lon = np.atan2(y, x)\n",
    "Hyp = np.sqrt(x * x + y * y)\n",
    "Lat = np.atan2(z, hyp)"
   ]
  },
  {
   "cell_type": "code",
   "execution_count": 79,
   "metadata": {},
   "outputs": [
    {
     "data": {
      "text/plain": [
       "id\n",
       "1        15.156211\n",
       "2         8.698054\n",
       "3         9.067885\n",
       "4        19.487005\n",
       "5         2.578671\n",
       "           ...    \n",
       "30469    12.599292\n",
       "30470     3.269284\n",
       "30471    21.905792\n",
       "30472    13.622569\n",
       "30473    11.812614\n",
       "Name: kremlin_km, Length: 30471, dtype: float64"
      ]
     },
     "execution_count": 79,
     "metadata": {},
     "output_type": "execute_result"
    }
   ],
   "source": [
    "kremlin_ll = [55.752121, 37.617664]\n",
    "train_df['kremlin_km']"
   ]
  },
  {
   "cell_type": "code",
   "execution_count": null,
   "metadata": {},
   "outputs": [],
   "source": [
    "bsas = [-34.83333, -58.5166646]\n",
    "paris = [49.0083899664, 2.53844117956]\n",
    "bsas_in_radians = [radians(_) for _ in bsas]\n",
    "paris_in_radians = [radians(_) for _ in paris]\n",
    "result = haversine_distances([bsas_in_radians, paris_in_radians])\n",
    "result * 6371000/1000  # multiply by Earth radius to get kilometers"
   ]
  },
  {
   "cell_type": "code",
   "execution_count": null,
   "metadata": {},
   "outputs": [],
   "source": []
  },
  {
   "cell_type": "code",
   "execution_count": null,
   "metadata": {},
   "outputs": [],
   "source": []
  },
  {
   "cell_type": "code",
   "execution_count": null,
   "metadata": {},
   "outputs": [],
   "source": []
  },
  {
   "cell_type": "code",
   "execution_count": null,
   "metadata": {},
   "outputs": [],
   "source": []
  },
  {
   "cell_type": "code",
   "execution_count": null,
   "metadata": {},
   "outputs": [],
   "source": []
  },
  {
   "cell_type": "code",
   "execution_count": null,
   "metadata": {},
   "outputs": [],
   "source": []
  },
  {
   "cell_type": "code",
   "execution_count": null,
   "metadata": {},
   "outputs": [],
   "source": [
    "# m = folium.Map(location = [55.4822200, 37.6156000], zoom_start=9)\n",
    "# geojson = folium.GeoJson(open('data/mo.geojson').read())\n",
    "# geojson.add_to(m)\n",
    "# m"
   ]
  },
  {
   "cell_type": "markdown",
   "metadata": {},
   "source": [
    "## 3. Test dummy submit"
   ]
  },
  {
   "cell_type": "markdown",
   "metadata": {},
   "source": [
    "Now let's just submit some dummy predictions from simple model without using macro dataset to check our initial score. In the competition, root mean squared logarithmic error is used as a scoring metric.\n",
    "\n",
    "We will fill NaNs with means just to be able to use a simple model such as DecisionTreeRegressor"
   ]
  },
  {
   "cell_type": "code",
   "execution_count": null,
   "metadata": {},
   "outputs": [],
   "source": [
    "X = train_df.copy()\n",
    "X[:] = SimpleImputer(strategy='mean').fit_transform(train_df.values)\n",
    "y = target\n",
    "\n",
    "X_test = SimpleImputer(strategy='mean').fit_transform(test_df.values)\n",
    "\n",
    "X_train, X_val, y_train, y_val = train_test_split(X, y, test_size=0.2, random_state=42)\n",
    "X_train.shape, y_train.shape"
   ]
  },
  {
   "cell_type": "code",
   "execution_count": null,
   "metadata": {},
   "outputs": [
    {
     "data": {
      "text/plain": [
       "DecisionTreeRegressor(max_depth=10, min_samples_leaf=30)"
      ]
     },
     "metadata": {},
     "output_type": "display_data"
    }
   ],
   "source": [
    "model = DecisionTreeRegressor(max_depth=10, min_samples_leaf=30)\n",
    "model.fit(X_train, y_train)"
   ]
  },
  {
   "cell_type": "code",
   "execution_count": null,
   "metadata": {},
   "outputs": [
    {
     "data": {
      "text/plain": [
       "(0.46076029965872617, 0.48555893195354244)"
      ]
     },
     "metadata": {},
     "output_type": "display_data"
    }
   ],
   "source": [
    "y_pred_train = np.abs(model.predict(X_train))\n",
    "y_pred_val = np.abs(model.predict(X_val))\n",
    "np.sqrt(mean_squared_log_error(y_train, y_pred_train)), np.sqrt(mean_squared_log_error(y_val, y_pred_val))"
   ]
  },
  {
   "cell_type": "code",
   "execution_count": null,
   "metadata": {},
   "outputs": [],
   "source": [
    "create_submission(model, X_test)"
   ]
  },
  {
   "cell_type": "code",
   "execution_count": null,
   "metadata": {},
   "outputs": [],
   "source": [
    "# !kaggle competitions submit -c sberbank-russian-housing-market -f submission.csv -m \"DecisionTreeRegressor\""
   ]
  },
  {
   "cell_type": "markdown",
   "metadata": {},
   "source": [
    "Look just at the last submission"
   ]
  },
  {
   "cell_type": "code",
   "execution_count": null,
   "metadata": {},
   "outputs": [],
   "source": [
    "# !kaggle competitions submissions -c sberbank-russian-housing-market"
   ]
  },
  {
   "cell_type": "markdown",
   "metadata": {},
   "source": [
    "As we can see there is a quite big difference between leaderboard score and local validation. Moreover, they are worse than test one, this is strange. Let's try the cross-validation approach"
   ]
  },
  {
   "cell_type": "code",
   "execution_count": null,
   "metadata": {},
   "outputs": [
    {
     "name": "stdout",
     "output_type": "stream",
     "text": [
      "[-0.23580771 -0.23898839 -0.22582274 -0.24640137 -0.24406892]\n",
      "MEAN: 0.23821782733359123\n"
     ]
    }
   ],
   "source": [
    "model = DecisionTreeRegressor(max_depth=10, min_samples_leaf=30)\n",
    "\n",
    "scores = cross_val_score(model,\n",
    "                         X, y,\n",
    "                         cv=KFold(n_splits=5, shuffle=True, random_state=42),\n",
    "                         scoring='neg_mean_squared_log_error',\n",
    "                         n_jobs=6)\n",
    "print(scores)\n",
    "print('MEAN:', np.mean(np.abs(scores)))"
   ]
  },
  {
   "cell_type": "code",
   "execution_count": null,
   "metadata": {},
   "outputs": [],
   "source": [
    "# !!!for n_split in n_splits:!!!\n",
    "\n",
    "\n",
    "\n",
    "# kf = KFold(n_splits=5, shuffle=True, random_state=42)\n",
    "# kf_splits = list(kf.split(X))\n",
    "\n",
    "# plt.figure(figsize=(12, 10))\n",
    "# for i in range(5):\n",
    "#     plt.subplot(3, 2, i + 1)\n",
    "#     plt.hist(y.values[kf_splits[i][0]], bins=20, label=f'Train_{i + 1}')\n",
    "#     plt.hist(y.values[kf_splits[i][1]], bins=20, label=f'Test_{i + 1}')\n",
    "#     plt.legend();"
   ]
  },
  {
   "cell_type": "markdown",
   "metadata": {},
   "source": [
    "Now scores are less than that on the leaderboard which is more logical but anyway they are quite different. \n",
    "\n",
    "\n",
    "\n",
    "\n",
    "\n",
    "\n",
    "\n",
    "\n",
    "\n",
    "\n",
    "\n",
    "\n",
    "\n",
    "\n",
    "\n",
    "# Let's continue our analysis"
   ]
  },
  {
   "cell_type": "code",
   "execution_count": null,
   "metadata": {},
   "outputs": [],
   "source": [
    "# idx_2011 = train_df[train_df['timestamp_year'] == 2011].index\n",
    "# idx_2012 = train_df[train_df['timestamp_year'] == 2012].index\n",
    "# idx_2013 = train_df[train_df['timestamp_year'] == 2013].index\n",
    "# idx_2014 = train_df[train_df['timestamp_year'] == 2014].index\n",
    "# idx_2015 = train_df[train_df['timestamp_year'] == 2015].index"
   ]
  },
  {
   "cell_type": "code",
   "execution_count": null,
   "metadata": {},
   "outputs": [],
   "source": [
    "# plt.figure(figsize=(15, 8))\n",
    "\n",
    "# plt.subplot(2, 3, 1)\n",
    "# plt.hist(y[idx_2011], bins=15, density=True, label='2011')\n",
    "# plt.legend();\n",
    "\n",
    "# plt.subplot(2, 3, 2)\n",
    "# plt.hist(y[idx_2012], bins=15, density=True, label='2012')\n",
    "# plt.legend();\n",
    "\n",
    "# plt.subplot(2, 3, 3)\n",
    "# plt.hist(y[idx_2013], bins=15, density=True, label='2013')\n",
    "# plt.legend();\n",
    "\n",
    "# plt.subplot(2, 3, 4)\n",
    "# plt.hist(y[idx_2014], bins=15, density=True, label='2014')\n",
    "# plt.legend();\n",
    "\n",
    "# plt.subplot(2, 3, 5)\n",
    "# plt.hist(y[idx_2015], bins=15, density=True, label='2015')\n",
    "# plt.legend();"
   ]
  },
  {
   "cell_type": "code",
   "execution_count": null,
   "metadata": {},
   "outputs": [],
   "source": []
  },
  {
   "cell_type": "code",
   "execution_count": null,
   "metadata": {},
   "outputs": [],
   "source": []
  },
  {
   "cell_type": "code",
   "execution_count": null,
   "metadata": {},
   "outputs": [],
   "source": []
  },
  {
   "cell_type": "code",
   "execution_count": null,
   "metadata": {},
   "outputs": [],
   "source": []
  },
  {
   "cell_type": "code",
   "execution_count": null,
   "metadata": {},
   "outputs": [],
   "source": []
  },
  {
   "cell_type": "code",
   "execution_count": null,
   "metadata": {},
   "outputs": [],
   "source": []
  },
  {
   "cell_type": "code",
   "execution_count": null,
   "metadata": {},
   "outputs": [],
   "source": []
  },
  {
   "cell_type": "code",
   "execution_count": null,
   "metadata": {},
   "outputs": [],
   "source": []
  },
  {
   "cell_type": "code",
   "execution_count": null,
   "metadata": {},
   "outputs": [],
   "source": []
  },
  {
   "cell_type": "code",
   "execution_count": null,
   "metadata": {},
   "outputs": [],
   "source": []
  },
  {
   "cell_type": "code",
   "execution_count": null,
   "metadata": {},
   "outputs": [
    {
     "name": "stdout",
     "output_type": "stream",
     "text": [
      "1936 / 3266\n"
     ]
    }
   ],
   "source": [
    "my_score = 0.32494\n",
    "get_place(my_score)"
   ]
  },
  {
   "cell_type": "code",
   "execution_count": null,
   "metadata": {},
   "outputs": [],
   "source": [
    "params = {'n_estimators': 10,\n",
    "          'booster': 'gbtree',\n",
    "          'max_depth': 5,\n",
    "          'eval_metric': 'mae',\n",
    "          'learning_rate': 0.45,\n",
    "          'reg_alpha': 100,\n",
    "          'min_child_weight': 0,\n",
    "          # 'subsample': 0.8,\n",
    "          # 'colsample_bytree': 0.79,\n",
    "          'seed': 42,\n",
    "          'nthread': -1\n",
    "          }\n",
    "\n",
    "model = XGBRegressor(objective='reg:squarederror', **params)\n",
    "\n",
    "model.fit(X_train, y_train, eval_set=[(X_train, y_train), (X_val, y_val)])\n"
   ]
  },
  {
   "cell_type": "code",
   "execution_count": null,
   "metadata": {},
   "outputs": [
    {
     "data": {
      "text/plain": [
       "(0.4644388724215377, 0.4771816998451314)"
      ]
     },
     "execution_count": 62,
     "metadata": {},
     "output_type": "execute_result"
    }
   ],
   "source": [
    "y_pred_val = np.abs(model.predict(X_val))\n",
    "y_pred_train = np.abs(model.predict(X_train))\n",
    "np.sqrt(mean_squared_log_error(y_train, y_pred_train)), np.sqrt(mean_squared_log_error(y_val, y_pred_val))"
   ]
  },
  {
   "cell_type": "code",
   "execution_count": null,
   "metadata": {},
   "outputs": [],
   "source": [
    "fix_df = pd.read_excel('data/BAD_ADDRESS_FIX.xlsx').drop_duplicates('id').set_index('id')\n",
    "name2sub_area = pd.read_csv('data/name2sub_area.csv', index_col='sub_area')\n",
    "# train_df.update(fix_df, overwrite=True)\n",
    "# test_df.update(fix_df, overwrite=True)\n",
    "del fix_df"
   ]
  },
  {
   "cell_type": "code",
   "execution_count": null,
   "metadata": {},
   "outputs": [],
   "source": [
    "train_macro_df = train_df.merge(macro_df, on='timestamp', how='left')\n",
    "test_macro_df = test_df.merge(macro_df, on='timestamp', how='left' )"
   ]
  },
  {
   "cell_type": "code",
   "execution_count": null,
   "metadata": {},
   "outputs": [],
   "source": [
    "train_macro_df['sub_area'] = train_macro_df['sub_area'].map(name2sub_area['OKRUG'].to_dict())\n",
    "test_macro_df['sub_area'] = test_macro_df['sub_area'].map(name2sub_area['OKRUG'].to_dict())\n",
    "del name2sub_area"
   ]
  },
  {
   "cell_type": "code",
   "execution_count": null,
   "metadata": {},
   "outputs": [
    {
     "name": "stderr",
     "output_type": "stream",
     "text": [
      "[Parallel(n_jobs=6)]: Using backend LokyBackend with 6 concurrent workers.\n",
      "[Parallel(n_jobs=6)]: Done   5 out of   5 | elapsed:   36.3s finished\n"
     ]
    },
    {
     "data": {
      "text/plain": [
       "array([-0.22770237, -0.22812722, -0.22101153, -0.23741211, -0.2331106 ])"
      ]
     },
     "execution_count": 65,
     "metadata": {},
     "output_type": "execute_result"
    }
   ],
   "source": [
    "model = XGBRegressor(objective='reg:squarederror', **params)\n",
    "cross_val_score(model, X, y, cv=KFold(shuffle=True, random_state=42), scoring='neg_mean_squared_log_error', n_jobs=6)"
   ]
  },
  {
   "cell_type": "code",
   "execution_count": null,
   "metadata": {},
   "outputs": [
    {
     "data": {
      "text/plain": [
       "0.229472766"
      ]
     },
     "execution_count": 66,
     "metadata": {},
     "output_type": "execute_result"
    }
   ],
   "source": [
    "cv_results = [-0.22770237, -0.22812722, -0.22101153, -0.23741211, -0.2331106]\n",
    "np.mean(np.abs(cv_results))"
   ]
  },
  {
   "cell_type": "markdown",
   "metadata": {},
   "source": [
    "### train_test_split \n",
    "```\n",
    "local = {'train':0.46444, \n",
    "         'test': 0.47718}\n",
    "```\n",
    "real: (0.33844, 0.33819)\n",
    "### naive cv\n",
    "local: 0.23\n",
    "real: (0.32886, 0.32857)\n",
    "### smart cv\n",
    "local: (0.44323, 0.46569)\n",
    "real: (0.32886, 0.32857)"
   ]
  },
  {
   "cell_type": "code",
   "execution_count": null,
   "metadata": {},
   "outputs": [],
   "source": [
    "global X_test\n",
    "X_test = test_macro_df.values"
   ]
  },
  {
   "cell_type": "code",
   "execution_count": null,
   "metadata": {},
   "outputs": [],
   "source": [
    "def create_submission(model):\n",
    "    submission = pd.read_csv('data/sample_submission.csv')\n",
    "    pred = model.predict(X_test)\n",
    "    if len(pred[pred < 0]):\n",
    "        print('WARNING: NEGATIVE PREDICTIONS')\n",
    "        pred = np.abs(pred)\n",
    "    submission['price_doc'] = pred\n",
    "    submission.to_csv('submission.csv', index=False)"
   ]
  },
  {
   "cell_type": "code",
   "execution_count": null,
   "metadata": {},
   "outputs": [],
   "source": [
    "create_submission(model)"
   ]
  },
  {
   "cell_type": "code",
   "execution_count": null,
   "metadata": {},
   "outputs": [
    {
     "name": "stdout",
     "output_type": "stream",
     "text": [
      "100%|████████████████████████████████████████| 121k/121k [00:02<00:00, 60.6kB/s]\n",
      "Successfully submitted to Sberbank Russian Housing Market"
     ]
    }
   ],
   "source": [
    "!kaggle competitions submit -c sberbank-russian-housing-market -f submission.csv -m \"test train_test_split\""
   ]
  },
  {
   "cell_type": "code",
   "execution_count": null,
   "metadata": {},
   "outputs": [
    {
     "name": "stdout",
     "output_type": "stream",
     "text": [
      "fileName        date                 description                                   status    publicScore  privateScore  \n",
      "--------------  -------------------  --------------------------------------------  --------  -----------  ------------  \n",
      "submission.csv  2021-11-19 19:43:05  test train_test_split                         complete  0.33844      0.33819       \n",
      "submission.csv  2021-11-19 19:11:49  test train_test_split                         complete  0.32886      0.32857       \n",
      "submission.csv  2021-11-19 19:10:42  test train_test_split                         complete  0.32886      0.32857       \n",
      "submission.csv  2021-11-12 18:19:49  naive XGBRegressor with OKRUG                 complete  0.33627      0.34593       \n",
      "submission.csv  2021-11-12 18:07:03  naive XGBRegressor with OKRUG                 complete  0.33615      0.35028       \n",
      "submission.csv  2021-11-12 18:02:19  naive XGBRegressor with OKRUG                 complete  0.32857      0.33310       \n",
      "submission.csv  2021-11-12 17:31:16  naive XGBRegressor with 'Tverskoe issue' fix  complete  0.33586      0.33922       \n",
      "submission.csv  2021-11-12 17:30:10  naive XGBRegressor with 'Tverskoe issue' fix  complete  0.32494      0.32895       \n",
      "submission.csv  2021-11-12 16:14:31  naive XGBRegressor with raw macro.csv         complete  0.32494      0.32895       \n",
      "submission.csv  2021-11-12 16:00:03  naive XGBRegressor with raw macro.csv         complete  0.35097      0.35469       \n",
      "submission.csv  2021-11-12 15:48:48  naive XGBRegressor with raw macro.csv         complete  0.34873      0.35337       \n",
      "submission.csv  2021-11-09 00:47:57  naive XGBRegressor                            complete  0.33041      0.33885       \n",
      "submission.csv  2021-11-09 00:31:33  naive XGBRegressor                            complete  0.35039      0.34927       \n",
      "submission.csv  2021-11-09 00:30:50  naive XGBRegressor                            error     None         None          \n",
      "submission.csv  2021-11-09 00:25:37  naive XGBRegressor                            error     None         None          \n",
      "submission.csv  2021-11-08 16:09:11  dummy                                         complete  0.34874      0.34785       \n",
      "submission.csv  2021-11-08 00:12:53  test_submit                                   complete  0.41135      0.40794       \n"
     ]
    }
   ],
   "source": [
    "!kaggle competitions submissions -c sberbank-russian-housing-market"
   ]
  },
  {
   "cell_type": "code",
   "execution_count": null,
   "metadata": {},
   "outputs": [],
   "source": [
    "def get_place(my_score):\n",
    "    df = pd.read_csv('publicleaderboard.csv')\n",
    "    scores = df['Score'].values\n",
    "    scores = np.append(scores, my_score)\n",
    "    scores = np.sort(scores)\n",
    "    print(f'{np.where(scores == my_score)[0][0]} / {len(scores)}')"
   ]
  },
  {
   "cell_type": "code",
   "execution_count": null,
   "metadata": {},
   "outputs": [
    {
     "name": "stdout",
     "output_type": "stream",
     "text": [
      "1936 / 3266\n"
     ]
    }
   ],
   "source": [
    "my_score = 0.32494\n",
    "get_place(my_score)"
   ]
  }
 ],
 "metadata": {
  "interpreter": {
   "hash": "916dbcbb3f70747c44a77c7bcd40155683ae19c65e1c03b4aa3499c5328201f1"
  },
  "kernelspec": {
   "display_name": "Python 3.8.10 64-bit",
   "language": "python",
   "name": "python3"
  },
  "language_info": {
   "codemirror_mode": {
    "name": "ipython",
    "version": 3
   },
   "file_extension": ".py",
   "mimetype": "text/x-python",
   "name": "python",
   "nbconvert_exporter": "python",
   "pygments_lexer": "ipython3",
   "version": "3.8.10"
  },
  "orig_nbformat": 4
 },
 "nbformat": 4,
 "nbformat_minor": 2
}
