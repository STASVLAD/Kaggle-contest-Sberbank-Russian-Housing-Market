{
 "cells": [
  {
   "cell_type": "code",
   "execution_count": 1,
   "metadata": {},
   "outputs": [],
   "source": [
    "import numpy as np\n",
    "import pandas as pd\n",
    "from sklearn.tree import DecisionTreeRegressor\n",
    "from sklearn.metrics import mean_squared_log_error\n",
    "from sklearn.impute import SimpleImputer\n",
    "from sklearn.model_selection import train_test_split"
   ]
  },
  {
   "cell_type": "code",
   "execution_count": 2,
   "metadata": {},
   "outputs": [],
   "source": [
    "train_df = pd.read_csv('data/train.csv', index_col='id', parse_dates=[1])\n",
    "test_df = pd.read_csv('data/test.csv', index_col='id', parse_dates=[1])"
   ]
  },
  {
   "cell_type": "code",
   "execution_count": 3,
   "metadata": {},
   "outputs": [
    {
     "data": {
      "text/plain": [
       "product_type                                       [Investment, OwnerOccupier]\n",
       "sub_area                     [Bibirevo, Nagatinskij Zaton, Tekstil'shhiki, ...\n",
       "culture_objects_top_25                                               [no, yes]\n",
       "thermal_power_plant_raion                                            [no, yes]\n",
       "incineration_raion                                                   [no, yes]\n",
       "oil_chemistry_raion                                                  [no, yes]\n",
       "radiation_raion                                                      [no, yes]\n",
       "railroad_terminal_raion                                              [no, yes]\n",
       "big_market_raion                                                     [no, yes]\n",
       "nuclear_reactor_raion                                                [no, yes]\n",
       "detention_facility_raion                                             [no, yes]\n",
       "water_1line                                                          [no, yes]\n",
       "big_road1_1line                                                      [no, yes]\n",
       "railroad_1line                                                       [no, yes]\n",
       "ecology                         [good, excellent, poor, satisfactory, no data]\n",
       "dtype: object"
      ]
     },
     "execution_count": 3,
     "metadata": {},
     "output_type": "execute_result"
    }
   ],
   "source": [
    "cat_columns = train_df.select_dtypes(include='object').columns\n",
    "train_df[cat_columns].apply(pd.unique)"
   ]
  },
  {
   "cell_type": "code",
   "execution_count": 4,
   "metadata": {},
   "outputs": [],
   "source": [
    "def preprocess(df):\n",
    "    # Timestamp encoding\n",
    "    df['timestamp_year'] = df['timestamp'].dt.year\n",
    "    df['timestamp_month'] = df['timestamp'].dt.month\n",
    "    df['timestamp_day'] = df['timestamp'].dt.day\n",
    "    df.drop(labels='timestamp', axis=1, inplace=True)\n",
    "\n",
    "    # Categorical columns encoding\n",
    "    df['product_type'] = df['product_type'].map({'Investment': 0, 'OwnerOccupier':1})\n",
    "\n",
    "    eco_map = {'no data': 0,\n",
    "               'poor': 1,\n",
    "               'satisfactory': 2,\n",
    "               'good': 3,\n",
    "               'excellent': 4,}\n",
    "    df['ecology'] = df['ecology'].map(eco_map)\n",
    "\n",
    "    one_hot = pd.get_dummies(df['sub_area'])\n",
    "    df.drop('sub_area', axis=1, inplace=True)\n",
    "    df = df.join(one_hot)\n",
    "\n",
    "    cat_columns = df.select_dtypes(include='object').columns\n",
    "    df[cat_columns] = df[cat_columns].applymap(lambda x: 0 if x=='no' else 1)\n",
    "    \n",
    "    # Filling NaNs\n",
    "    df[:] = SimpleImputer(strategy='mean').fit_transform(df)\n",
    "\n",
    "    return df"
   ]
  },
  {
   "cell_type": "markdown",
   "metadata": {},
   "source": [
    "## Preproccesing"
   ]
  },
  {
   "cell_type": "code",
   "execution_count": 5,
   "metadata": {},
   "outputs": [],
   "source": [
    "train_df = preprocess(train_df)\n",
    "test_df = preprocess(test_df)"
   ]
  },
  {
   "cell_type": "code",
   "execution_count": 6,
   "metadata": {},
   "outputs": [
    {
     "data": {
      "text/plain": [
       "{'Poselenie Klenovskoe', 'price_doc'}"
      ]
     },
     "execution_count": 6,
     "metadata": {},
     "output_type": "execute_result"
    }
   ],
   "source": [
    "set(train_df.columns.tolist()).difference(set(test_df.columns.tolist()))"
   ]
  },
  {
   "cell_type": "code",
   "execution_count": 7,
   "metadata": {},
   "outputs": [],
   "source": [
    "test_df['Poselenie Klenovskoe'] = 0"
   ]
  },
  {
   "cell_type": "code",
   "execution_count": 8,
   "metadata": {},
   "outputs": [
    {
     "data": {
      "text/plain": [
       "{'price_doc'}"
      ]
     },
     "execution_count": 8,
     "metadata": {},
     "output_type": "execute_result"
    }
   ],
   "source": [
    "set(train_df.columns.tolist()).difference(set(test_df.columns.tolist()))"
   ]
  },
  {
   "cell_type": "code",
   "execution_count": 9,
   "metadata": {},
   "outputs": [
    {
     "data": {
      "text/plain": [
       "((30471, 438), (7662, 437))"
      ]
     },
     "execution_count": 9,
     "metadata": {},
     "output_type": "execute_result"
    }
   ],
   "source": [
    "train_df.shape, test_df.shape"
   ]
  },
  {
   "cell_type": "code",
   "execution_count": 10,
   "metadata": {},
   "outputs": [
    {
     "data": {
      "text/plain": [
       "(False, False)"
      ]
     },
     "execution_count": 10,
     "metadata": {},
     "output_type": "execute_result"
    }
   ],
   "source": [
    "train_df.isna().any().any(), test_df.isna().any().any()"
   ]
  },
  {
   "cell_type": "markdown",
   "metadata": {},
   "source": [
    "## Modelling"
   ]
  },
  {
   "cell_type": "code",
   "execution_count": 11,
   "metadata": {},
   "outputs": [
    {
     "data": {
      "text/html": [
       "<div>\n",
       "<style scoped>\n",
       "    .dataframe tbody tr th:only-of-type {\n",
       "        vertical-align: middle;\n",
       "    }\n",
       "\n",
       "    .dataframe tbody tr th {\n",
       "        vertical-align: top;\n",
       "    }\n",
       "\n",
       "    .dataframe thead th {\n",
       "        text-align: right;\n",
       "    }\n",
       "</style>\n",
       "<table border=\"1\" class=\"dataframe\">\n",
       "  <thead>\n",
       "    <tr style=\"text-align: right;\">\n",
       "      <th></th>\n",
       "      <th>full_sq</th>\n",
       "      <th>life_sq</th>\n",
       "      <th>floor</th>\n",
       "      <th>max_floor</th>\n",
       "      <th>material</th>\n",
       "      <th>build_year</th>\n",
       "      <th>num_room</th>\n",
       "      <th>kitch_sq</th>\n",
       "      <th>state</th>\n",
       "      <th>product_type</th>\n",
       "      <th>...</th>\n",
       "      <th>Vnukovo</th>\n",
       "      <th>Vojkovskoe</th>\n",
       "      <th>Vostochnoe</th>\n",
       "      <th>Vostochnoe Degunino</th>\n",
       "      <th>Vostochnoe Izmajlovo</th>\n",
       "      <th>Vyhino-Zhulebino</th>\n",
       "      <th>Zamoskvorech'e</th>\n",
       "      <th>Zapadnoe Degunino</th>\n",
       "      <th>Zjablikovo</th>\n",
       "      <th>Zjuzino</th>\n",
       "    </tr>\n",
       "    <tr>\n",
       "      <th>id</th>\n",
       "      <th></th>\n",
       "      <th></th>\n",
       "      <th></th>\n",
       "      <th></th>\n",
       "      <th></th>\n",
       "      <th></th>\n",
       "      <th></th>\n",
       "      <th></th>\n",
       "      <th></th>\n",
       "      <th></th>\n",
       "      <th></th>\n",
       "      <th></th>\n",
       "      <th></th>\n",
       "      <th></th>\n",
       "      <th></th>\n",
       "      <th></th>\n",
       "      <th></th>\n",
       "      <th></th>\n",
       "      <th></th>\n",
       "      <th></th>\n",
       "      <th></th>\n",
       "    </tr>\n",
       "  </thead>\n",
       "  <tbody>\n",
       "    <tr>\n",
       "      <th>1</th>\n",
       "      <td>43.0</td>\n",
       "      <td>27.0</td>\n",
       "      <td>4.0</td>\n",
       "      <td>12.558974</td>\n",
       "      <td>1.827121</td>\n",
       "      <td>3068.057097</td>\n",
       "      <td>1.909804</td>\n",
       "      <td>6.399301</td>\n",
       "      <td>2.107025</td>\n",
       "      <td>0.0</td>\n",
       "      <td>...</td>\n",
       "      <td>0.0</td>\n",
       "      <td>0.0</td>\n",
       "      <td>0.0</td>\n",
       "      <td>0.0</td>\n",
       "      <td>0.0</td>\n",
       "      <td>0.0</td>\n",
       "      <td>0.0</td>\n",
       "      <td>0.0</td>\n",
       "      <td>0.0</td>\n",
       "      <td>0.0</td>\n",
       "    </tr>\n",
       "    <tr>\n",
       "      <th>2</th>\n",
       "      <td>34.0</td>\n",
       "      <td>19.0</td>\n",
       "      <td>3.0</td>\n",
       "      <td>12.558974</td>\n",
       "      <td>1.827121</td>\n",
       "      <td>3068.057097</td>\n",
       "      <td>1.909804</td>\n",
       "      <td>6.399301</td>\n",
       "      <td>2.107025</td>\n",
       "      <td>0.0</td>\n",
       "      <td>...</td>\n",
       "      <td>0.0</td>\n",
       "      <td>0.0</td>\n",
       "      <td>0.0</td>\n",
       "      <td>0.0</td>\n",
       "      <td>0.0</td>\n",
       "      <td>0.0</td>\n",
       "      <td>0.0</td>\n",
       "      <td>0.0</td>\n",
       "      <td>0.0</td>\n",
       "      <td>0.0</td>\n",
       "    </tr>\n",
       "    <tr>\n",
       "      <th>3</th>\n",
       "      <td>43.0</td>\n",
       "      <td>29.0</td>\n",
       "      <td>2.0</td>\n",
       "      <td>12.558974</td>\n",
       "      <td>1.827121</td>\n",
       "      <td>3068.057097</td>\n",
       "      <td>1.909804</td>\n",
       "      <td>6.399301</td>\n",
       "      <td>2.107025</td>\n",
       "      <td>0.0</td>\n",
       "      <td>...</td>\n",
       "      <td>0.0</td>\n",
       "      <td>0.0</td>\n",
       "      <td>0.0</td>\n",
       "      <td>0.0</td>\n",
       "      <td>0.0</td>\n",
       "      <td>0.0</td>\n",
       "      <td>0.0</td>\n",
       "      <td>0.0</td>\n",
       "      <td>0.0</td>\n",
       "      <td>0.0</td>\n",
       "    </tr>\n",
       "    <tr>\n",
       "      <th>4</th>\n",
       "      <td>89.0</td>\n",
       "      <td>50.0</td>\n",
       "      <td>9.0</td>\n",
       "      <td>12.558974</td>\n",
       "      <td>1.827121</td>\n",
       "      <td>3068.057097</td>\n",
       "      <td>1.909804</td>\n",
       "      <td>6.399301</td>\n",
       "      <td>2.107025</td>\n",
       "      <td>0.0</td>\n",
       "      <td>...</td>\n",
       "      <td>0.0</td>\n",
       "      <td>0.0</td>\n",
       "      <td>0.0</td>\n",
       "      <td>0.0</td>\n",
       "      <td>0.0</td>\n",
       "      <td>0.0</td>\n",
       "      <td>0.0</td>\n",
       "      <td>0.0</td>\n",
       "      <td>0.0</td>\n",
       "      <td>0.0</td>\n",
       "    </tr>\n",
       "    <tr>\n",
       "      <th>5</th>\n",
       "      <td>77.0</td>\n",
       "      <td>77.0</td>\n",
       "      <td>4.0</td>\n",
       "      <td>12.558974</td>\n",
       "      <td>1.827121</td>\n",
       "      <td>3068.057097</td>\n",
       "      <td>1.909804</td>\n",
       "      <td>6.399301</td>\n",
       "      <td>2.107025</td>\n",
       "      <td>0.0</td>\n",
       "      <td>...</td>\n",
       "      <td>0.0</td>\n",
       "      <td>0.0</td>\n",
       "      <td>0.0</td>\n",
       "      <td>0.0</td>\n",
       "      <td>0.0</td>\n",
       "      <td>0.0</td>\n",
       "      <td>0.0</td>\n",
       "      <td>0.0</td>\n",
       "      <td>0.0</td>\n",
       "      <td>0.0</td>\n",
       "    </tr>\n",
       "  </tbody>\n",
       "</table>\n",
       "<p>5 rows × 438 columns</p>\n",
       "</div>"
      ],
      "text/plain": [
       "    full_sq  life_sq  floor  max_floor  material   build_year  num_room  \\\n",
       "id                                                                        \n",
       "1      43.0     27.0    4.0  12.558974  1.827121  3068.057097  1.909804   \n",
       "2      34.0     19.0    3.0  12.558974  1.827121  3068.057097  1.909804   \n",
       "3      43.0     29.0    2.0  12.558974  1.827121  3068.057097  1.909804   \n",
       "4      89.0     50.0    9.0  12.558974  1.827121  3068.057097  1.909804   \n",
       "5      77.0     77.0    4.0  12.558974  1.827121  3068.057097  1.909804   \n",
       "\n",
       "    kitch_sq     state  product_type  ...  Vnukovo  Vojkovskoe  Vostochnoe  \\\n",
       "id                                    ...                                    \n",
       "1   6.399301  2.107025           0.0  ...      0.0         0.0         0.0   \n",
       "2   6.399301  2.107025           0.0  ...      0.0         0.0         0.0   \n",
       "3   6.399301  2.107025           0.0  ...      0.0         0.0         0.0   \n",
       "4   6.399301  2.107025           0.0  ...      0.0         0.0         0.0   \n",
       "5   6.399301  2.107025           0.0  ...      0.0         0.0         0.0   \n",
       "\n",
       "    Vostochnoe Degunino  Vostochnoe Izmajlovo  Vyhino-Zhulebino  \\\n",
       "id                                                                \n",
       "1                   0.0                   0.0               0.0   \n",
       "2                   0.0                   0.0               0.0   \n",
       "3                   0.0                   0.0               0.0   \n",
       "4                   0.0                   0.0               0.0   \n",
       "5                   0.0                   0.0               0.0   \n",
       "\n",
       "    Zamoskvorech'e  Zapadnoe Degunino  Zjablikovo  Zjuzino  \n",
       "id                                                          \n",
       "1              0.0                0.0         0.0      0.0  \n",
       "2              0.0                0.0         0.0      0.0  \n",
       "3              0.0                0.0         0.0      0.0  \n",
       "4              0.0                0.0         0.0      0.0  \n",
       "5              0.0                0.0         0.0      0.0  \n",
       "\n",
       "[5 rows x 438 columns]"
      ]
     },
     "execution_count": 11,
     "metadata": {},
     "output_type": "execute_result"
    }
   ],
   "source": [
    "train_df.head()"
   ]
  },
  {
   "cell_type": "code",
   "execution_count": 12,
   "metadata": {},
   "outputs": [],
   "source": [
    "target = train_df.pop('price_doc')\n",
    "train_df['price_doc'] = target"
   ]
  },
  {
   "cell_type": "code",
   "execution_count": 13,
   "metadata": {},
   "outputs": [],
   "source": [
    "X, y = train_df.values[:, 0:-1], train_df['price_doc'].values\n",
    "X_train, X_val, y_train, y_val = train_test_split(X, y, test_size=0.2, random_state=42)"
   ]
  },
  {
   "cell_type": "code",
   "execution_count": 14,
   "metadata": {},
   "outputs": [
    {
     "data": {
      "text/plain": [
       "((24376, 437), (24376,))"
      ]
     },
     "execution_count": 14,
     "metadata": {},
     "output_type": "execute_result"
    }
   ],
   "source": [
    "X_train.shape, y_train.shape"
   ]
  },
  {
   "cell_type": "code",
   "execution_count": 15,
   "metadata": {},
   "outputs": [
    {
     "data": {
      "text/plain": [
       "0.508522521238224"
      ]
     },
     "execution_count": 15,
     "metadata": {},
     "output_type": "execute_result"
    }
   ],
   "source": [
    "model = DecisionTreeRegressor(max_depth=10)\n",
    "model.fit(X_train, y_train)\n",
    "y_pred = model.predict(X_val)\n",
    "np.sqrt(mean_squared_log_error(y_val, y_pred))"
   ]
  },
  {
   "cell_type": "code",
   "execution_count": 16,
   "metadata": {},
   "outputs": [],
   "source": [
    "global X_test\n",
    "X_test = test_df.values"
   ]
  },
  {
   "cell_type": "code",
   "execution_count": 21,
   "metadata": {},
   "outputs": [],
   "source": [
    "def create_submission(model):\n",
    "    submission = pd.read_csv('data/sample_submission.csv')\n",
    "    submission['price_doc'] = model.predict(X_test)\n",
    "    submission.to_csv('submission.csv', index=False)"
   ]
  },
  {
   "cell_type": "code",
   "execution_count": 22,
   "metadata": {},
   "outputs": [],
   "source": [
    "create_submission(model)"
   ]
  },
  {
   "cell_type": "markdown",
   "metadata": {},
   "source": [
    "Missing data"
   ]
  },
  {
   "cell_type": "code",
   "execution_count": 25,
   "metadata": {},
   "outputs": [
    {
     "name": "stdout",
     "output_type": "stream",
     "text": [
      "fileName        date                 description  status    publicScore  privateScore  \n",
      "--------------  -------------------  -----------  --------  -----------  ------------  \n",
      "submission.csv  2021-11-08 00:12:53  test_submit  complete  0.41135      0.40794       \n"
     ]
    }
   ],
   "source": [
    "!kaggle competitions submissions -c sberbank-russian-housing-market"
   ]
  },
  {
   "cell_type": "code",
   "execution_count": 52,
   "metadata": {},
   "outputs": [],
   "source": [
    "df = pd.read_csv('publicleaderboard.csv')\n",
    "scores = df['Score'].values"
   ]
  },
  {
   "cell_type": "code",
   "execution_count": 53,
   "metadata": {},
   "outputs": [
    {
     "data": {
      "text/plain": [
       "array([ 0.29755,  0.30069,  0.30629, ..., 11.77794, 11.77962, 35.09525])"
      ]
     },
     "execution_count": 53,
     "metadata": {},
     "output_type": "execute_result"
    }
   ],
   "source": [
    "scores = np.append(scores, 0.41135)\n",
    "scores = np.sort(scores)\n",
    "scores"
   ]
  },
  {
   "cell_type": "code",
   "execution_count": 58,
   "metadata": {},
   "outputs": [
    {
     "data": {
      "text/plain": [
       "'2921 / 3266'"
      ]
     },
     "execution_count": 58,
     "metadata": {},
     "output_type": "execute_result"
    }
   ],
   "source": [
    "f'{np.where(scores == 0.41135)[0][0]} / {len(scores)}'"
   ]
  },
  {
   "cell_type": "code",
   "execution_count": null,
   "metadata": {},
   "outputs": [],
   "source": [
    "# idx = train_df.index.tolist()\n",
    "# set(np.arange(idx[0], idx[-1])).difference(set(idx))"
   ]
  },
  {
   "cell_type": "code",
   "execution_count": null,
   "metadata": {},
   "outputs": [],
   "source": [
    "# train_df.loc[1251:1253]"
   ]
  },
  {
   "cell_type": "code",
   "execution_count": null,
   "metadata": {},
   "outputs": [],
   "source": [
    "# idx = test_df.index.tolist()\n",
    "# set(np.arange(idx[0], idx[-1])).difference(set(idx))"
   ]
  }
 ],
 "metadata": {
  "interpreter": {
   "hash": "e7370f93d1d0cde622a1f8e1c04877d8463912d04d973331ad4851f04de6915a"
  },
  "kernelspec": {
   "display_name": "Python 3.8.10 64-bit",
   "name": "python3"
  },
  "language_info": {
   "codemirror_mode": {
    "name": "ipython",
    "version": 3
   },
   "file_extension": ".py",
   "mimetype": "text/x-python",
   "name": "python",
   "nbconvert_exporter": "python",
   "pygments_lexer": "ipython3",
   "version": "3.8.10"
  },
  "orig_nbformat": 4
 },
 "nbformat": 4,
 "nbformat_minor": 2
}
