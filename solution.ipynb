{
 "cells": [
  {
   "cell_type": "code",
   "execution_count": 69,
   "metadata": {},
   "outputs": [],
   "source": [
    "import numpy as np\n",
    "import pandas as pd\n",
    "from sklearn.tree import DecisionTreeRegressor\n",
    "from sklearn.linear_model import LinearRegression\n",
    "from sklearn.metrics import mean_squared_log_error\n",
    "from sklearn.impute import SimpleImputer, KNNImputer\n",
    "from sklearn.model_selection import train_test_split"
   ]
  },
  {
   "cell_type": "code",
   "execution_count": 2,
   "metadata": {},
   "outputs": [],
   "source": [
    "train_df = pd.read_csv('data/train.csv', index_col='id', parse_dates=[1])\n",
    "test_df = pd.read_csv('data/test.csv', index_col='id', parse_dates=[1])"
   ]
  },
  {
   "cell_type": "code",
   "execution_count": 3,
   "metadata": {},
   "outputs": [
    {
     "data": {
      "text/plain": [
       "product_type                                       [Investment, OwnerOccupier]\n",
       "sub_area                     [Bibirevo, Nagatinskij Zaton, Tekstil'shhiki, ...\n",
       "culture_objects_top_25                                               [no, yes]\n",
       "thermal_power_plant_raion                                            [no, yes]\n",
       "incineration_raion                                                   [no, yes]\n",
       "oil_chemistry_raion                                                  [no, yes]\n",
       "radiation_raion                                                      [no, yes]\n",
       "railroad_terminal_raion                                              [no, yes]\n",
       "big_market_raion                                                     [no, yes]\n",
       "nuclear_reactor_raion                                                [no, yes]\n",
       "detention_facility_raion                                             [no, yes]\n",
       "water_1line                                                          [no, yes]\n",
       "big_road1_1line                                                      [no, yes]\n",
       "railroad_1line                                                       [no, yes]\n",
       "ecology                         [good, excellent, poor, satisfactory, no data]\n",
       "dtype: object"
      ]
     },
     "execution_count": 3,
     "metadata": {},
     "output_type": "execute_result"
    }
   ],
   "source": [
    "cat_columns = train_df.select_dtypes(include='object').columns\n",
    "train_df[cat_columns].apply(pd.unique)"
   ]
  },
  {
   "cell_type": "code",
   "execution_count": 5,
   "metadata": {},
   "outputs": [],
   "source": [
    "def encode(df, fillna=True):\n",
    "    # Timestamp encoding\n",
    "    df['timestamp_year'] = df['timestamp'].dt.year\n",
    "    df['timestamp_month'] = df['timestamp'].dt.month\n",
    "    df['timestamp_day'] = df['timestamp'].dt.day\n",
    "    df.drop(labels='timestamp', axis=1, inplace=True)\n",
    "\n",
    "    # Categorical columns encoding\n",
    "    df['product_type'] = df['product_type'].map({'Investment': 0, 'OwnerOccupier':1})\n",
    "\n",
    "    eco_map = {'no data': np.NaN, # 0?\n",
    "               'poor': 1,\n",
    "               'satisfactory': 2,\n",
    "               'good': 3,\n",
    "               'excellent': 4,}\n",
    "    df['ecology'] = df['ecology'].map(eco_map)\n",
    "\n",
    "    one_hot = pd.get_dummies(df['sub_area'])\n",
    "    df.drop('sub_area', axis=1, inplace=True)\n",
    "    df = df.join(one_hot)\n",
    "\n",
    "    cat_columns = df.select_dtypes(include='object').columns\n",
    "    df[cat_columns] = df[cat_columns].applymap(lambda x: 0 if x=='no' else 1)\n",
    "    \n",
    "    # Filling NaNs\n",
    "    # if fillna:\n",
    "    #     df[:] = SimpleImputer(strategy='mean').fit_transform(df)\n",
    "\n",
    "    return df"
   ]
  },
  {
   "cell_type": "markdown",
   "metadata": {},
   "source": [
    "## Encoding"
   ]
  },
  {
   "cell_type": "code",
   "execution_count": 6,
   "metadata": {},
   "outputs": [],
   "source": [
    "train_df = encode(train_df, fillna=False)\n",
    "target = train_df.pop('price_doc')\n",
    "train_df['price_doc'] = target\n",
    "test_df = encode(test_df, fillna=False)"
   ]
  },
  {
   "cell_type": "code",
   "execution_count": 7,
   "metadata": {},
   "outputs": [
    {
     "data": {
      "text/plain": [
       "{'Poselenie Klenovskoe', 'price_doc'}"
      ]
     },
     "execution_count": 7,
     "metadata": {},
     "output_type": "execute_result"
    }
   ],
   "source": [
    "set(train_df.columns.tolist()).difference(set(test_df.columns.tolist()))"
   ]
  },
  {
   "cell_type": "code",
   "execution_count": 8,
   "metadata": {},
   "outputs": [],
   "source": [
    "test_df['Poselenie Klenovskoe'] = 0"
   ]
  },
  {
   "cell_type": "code",
   "execution_count": 9,
   "metadata": {},
   "outputs": [
    {
     "data": {
      "text/plain": [
       "{'price_doc'}"
      ]
     },
     "execution_count": 9,
     "metadata": {},
     "output_type": "execute_result"
    }
   ],
   "source": [
    "set(train_df.columns.tolist()).difference(set(test_df.columns.tolist()))"
   ]
  },
  {
   "cell_type": "code",
   "execution_count": 10,
   "metadata": {},
   "outputs": [
    {
     "data": {
      "text/plain": [
       "((30471, 438), (7662, 437))"
      ]
     },
     "execution_count": 10,
     "metadata": {},
     "output_type": "execute_result"
    }
   ],
   "source": [
    "train_df.shape, test_df.shape"
   ]
  },
  {
   "cell_type": "markdown",
   "metadata": {},
   "source": [
    "## Filling NaNs"
   ]
  },
  {
   "cell_type": "code",
   "execution_count": 11,
   "metadata": {},
   "outputs": [
    {
     "data": {
      "text/plain": [
       "(True, True)"
      ]
     },
     "execution_count": 11,
     "metadata": {},
     "output_type": "execute_result"
    }
   ],
   "source": [
    "train_df.isna().any().any(), test_df.isna().any().any()"
   ]
  },
  {
   "cell_type": "code",
   "execution_count": 27,
   "metadata": {},
   "outputs": [
    {
     "data": {
      "text/plain": [
       "SimpleImputer()"
      ]
     },
     "execution_count": 27,
     "metadata": {},
     "output_type": "execute_result"
    }
   ],
   "source": [
    "imputer = SimpleImputer(strategy='mean')\n",
    "imputer.fit(train_df.drop('price_doc', axis=1))"
   ]
  },
  {
   "cell_type": "code",
   "execution_count": 28,
   "metadata": {},
   "outputs": [],
   "source": [
    "# imputer = KNNImputer(n_neighbors=5)\n",
    "# imputer.fit(train_df) # merge dfs"
   ]
  },
  {
   "cell_type": "code",
   "execution_count": 40,
   "metadata": {},
   "outputs": [],
   "source": [
    "test_df[:] = imputer.transform(test_df)\n",
    "train_df.loc[:, train_df.columns != 'price_doc'] = imputer.transform(train_df.values[:, 0:-1])"
   ]
  },
  {
   "cell_type": "code",
   "execution_count": 41,
   "metadata": {},
   "outputs": [
    {
     "data": {
      "text/plain": [
       "(False, False)"
      ]
     },
     "execution_count": 41,
     "metadata": {},
     "output_type": "execute_result"
    }
   ],
   "source": [
    "train_df.isna().any().any(), test_df.isna().any().any()"
   ]
  },
  {
   "cell_type": "markdown",
   "metadata": {},
   "source": [
    "## Modelling"
   ]
  },
  {
   "cell_type": "code",
   "execution_count": 43,
   "metadata": {},
   "outputs": [],
   "source": [
    "X, y = train_df.values[:, 0:-1], train_df['price_doc'].values\n",
    "X_train, X_val, y_train, y_val = train_test_split(X, y, test_size=0.2, random_state=42)"
   ]
  },
  {
   "cell_type": "code",
   "execution_count": 44,
   "metadata": {},
   "outputs": [
    {
     "data": {
      "text/plain": [
       "((24376, 437), (24376,))"
      ]
     },
     "execution_count": 44,
     "metadata": {},
     "output_type": "execute_result"
    }
   ],
   "source": [
    "X_train.shape, y_train.shape"
   ]
  },
  {
   "cell_type": "code",
   "execution_count": 56,
   "metadata": {},
   "outputs": [
    {
     "data": {
      "text/plain": [
       "(0.4712085241233668, 0.4902869050993713)"
      ]
     },
     "execution_count": 56,
     "metadata": {},
     "output_type": "execute_result"
    }
   ],
   "source": [
    "model = DecisionTreeRegressor(max_depth=8)\n",
    "model.fit(X_train, y_train)\n",
    "y_pred_val = model.predict(X_val)\n",
    "y_pred_train = model.predict(X_train)\n",
    "np.sqrt(mean_squared_log_error(y_train, y_pred_train)), np.sqrt(mean_squared_log_error(y_val, y_pred_val))"
   ]
  },
  {
   "cell_type": "code",
   "execution_count": 57,
   "metadata": {},
   "outputs": [],
   "source": [
    "global X_test\n",
    "X_test = test_df.values"
   ]
  },
  {
   "cell_type": "code",
   "execution_count": 58,
   "metadata": {},
   "outputs": [],
   "source": [
    "def create_submission(model):\n",
    "    submission = pd.read_csv('data/sample_submission.csv')\n",
    "    submission['price_doc'] = model.predict(X_test)\n",
    "    submission.to_csv('submission.csv', index=False)"
   ]
  },
  {
   "cell_type": "code",
   "execution_count": 59,
   "metadata": {},
   "outputs": [],
   "source": [
    "create_submission(model)"
   ]
  },
  {
   "cell_type": "code",
   "execution_count": 61,
   "metadata": {},
   "outputs": [
    {
     "name": "stdout",
     "output_type": "stream",
     "text": [
      "100%|████████████████████████████████████████| 177k/177k [00:03<00:00, 55.2kB/s]\n",
      "Successfully submitted to Sberbank Russian Housing Market"
     ]
    }
   ],
   "source": [
    "!kaggle competitions submit -c sberbank-russian-housing-market -f submission.csv -m dummy"
   ]
  },
  {
   "cell_type": "markdown",
   "metadata": {},
   "source": [
    "Missing data"
   ]
  },
  {
   "cell_type": "code",
   "execution_count": 62,
   "metadata": {},
   "outputs": [
    {
     "name": "stdout",
     "output_type": "stream",
     "text": [
      "fileName        date                 description  status    publicScore  privateScore  \n",
      "--------------  -------------------  -----------  --------  -----------  ------------  \n",
      "submission.csv  2021-11-08 16:09:11  dummy        complete  0.34874      0.34785       \n",
      "submission.csv  2021-11-08 00:12:53  test_submit  complete  0.41135      0.40794       \n"
     ]
    }
   ],
   "source": [
    "!kaggle competitions submissions -c sberbank-russian-housing-market"
   ]
  },
  {
   "cell_type": "code",
   "execution_count": 63,
   "metadata": {},
   "outputs": [],
   "source": [
    "df = pd.read_csv('publicleaderboard.csv')\n",
    "scores = df['Score'].values"
   ]
  },
  {
   "cell_type": "code",
   "execution_count": 66,
   "metadata": {},
   "outputs": [],
   "source": [
    "my_score = 0.34874"
   ]
  },
  {
   "cell_type": "code",
   "execution_count": 67,
   "metadata": {},
   "outputs": [
    {
     "data": {
      "text/plain": [
       "array([ 0.29755,  0.30069,  0.30629, ..., 11.77794, 11.77962, 35.09525])"
      ]
     },
     "execution_count": 67,
     "metadata": {},
     "output_type": "execute_result"
    }
   ],
   "source": [
    "scores = np.append(scores, my_score)\n",
    "scores = np.sort(scores)\n",
    "scores"
   ]
  },
  {
   "cell_type": "code",
   "execution_count": 68,
   "metadata": {},
   "outputs": [
    {
     "data": {
      "text/plain": [
       "'2632 / 3267'"
      ]
     },
     "execution_count": 68,
     "metadata": {},
     "output_type": "execute_result"
    }
   ],
   "source": [
    "f'{np.where(scores == my_score)[0][0]} / {len(scores)}'"
   ]
  },
  {
   "cell_type": "code",
   "execution_count": null,
   "metadata": {},
   "outputs": [],
   "source": [
    "# idx = train_df.index.tolist()\n",
    "# set(np.arange(idx[0], idx[-1])).difference(set(idx))"
   ]
  },
  {
   "cell_type": "code",
   "execution_count": null,
   "metadata": {},
   "outputs": [],
   "source": [
    "# train_df.loc[1251:1253]"
   ]
  },
  {
   "cell_type": "code",
   "execution_count": null,
   "metadata": {},
   "outputs": [],
   "source": [
    "# idx = test_df.index.tolist()\n",
    "# set(np.arange(idx[0], idx[-1])).difference(set(idx))"
   ]
  }
 ],
 "metadata": {
  "interpreter": {
   "hash": "31f2aee4e71d21fbe5cf8b01ff0e069b9275f58929596ceb00d14d90e3e16cd6"
  },
  "kernelspec": {
   "display_name": "Python 3.8.10 64-bit",
   "name": "python3"
  },
  "language_info": {
   "codemirror_mode": {
    "name": "ipython",
    "version": 3
   },
   "file_extension": ".py",
   "mimetype": "text/x-python",
   "name": "python",
   "nbconvert_exporter": "python",
   "pygments_lexer": "ipython3",
   "version": "3.8.10"
  },
  "orig_nbformat": 4
 },
 "nbformat": 4,
 "nbformat_minor": 2
}
