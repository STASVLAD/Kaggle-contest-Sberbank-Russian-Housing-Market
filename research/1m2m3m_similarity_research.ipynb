{
 "cells": [
  {
   "cell_type": "code",
   "execution_count": 1,
   "metadata": {
    "id": "2TDIoXTN-wtp"
   },
   "outputs": [],
   "source": [
    "from utils import *\n",
    "\n",
    "import numpy as np\n",
    "import pandas as pd\n",
    "\n",
    "from sklearn.metrics import mean_squared_log_error, mean_absolute_error, mean_squared_error\n",
    "from sklearn.model_selection import train_test_split, cross_val_score, KFold\n",
    "from sklearn.tree import DecisionTreeRegressor\n",
    "from sklearn.pipeline import make_pipeline\n",
    "from sklearn.ensemble import AdaBoostRegressor, RandomForestRegressor, ExtraTreesRegressor, GradientBoostingRegressor\n",
    "from sklearn.linear_model import LinearRegression\n",
    "from sklearn.impute import SimpleImputer\n",
    "from sklearn.neural_network import MLPRegressor\n",
    "from sklearn.preprocessing import StandardScaler\n",
    "\n",
    "import lightgbm as lgb\n",
    "from xgboost import XGBRegressor, DMatrix, cv, XGBClassifier\n",
    "from xgboost import train as train_xgb"
   ]
  },
  {
   "cell_type": "markdown",
   "metadata": {
    "id": "70sx-8YD-wtx"
   },
   "source": [
    "## Data description"
   ]
  },
  {
   "cell_type": "code",
   "execution_count": 2,
   "metadata": {
    "colab": {
     "base_uri": "https://localhost:8080/"
    },
    "id": "lgqwWeGS-wtz",
    "outputId": "7ce4db16-583d-40af-afa9-a00f6aebc45c"
   },
   "outputs": [
    {
     "name": "stdout",
     "output_type": "stream",
     "text": [
      "Fix:  550\n",
      "Fix:  149\n"
     ]
    }
   ],
   "source": [
    "macro_df = pd.read_csv('data/macro.csv', parse_dates=['timestamp'])\n",
    "train_df = pd.read_csv('data/train.csv', index_col='id', parse_dates=['timestamp'])\n",
    "test_df = pd.read_csv('data/test.csv', index_col='id', parse_dates=['timestamp'])\n",
    "\n",
    "tverskoe_issue_fix(train_df)\n",
    "tverskoe_issue_fix(test_df)"
   ]
  },
  {
   "cell_type": "markdown",
   "metadata": {
    "id": "6XMfRzcU-wt2"
   },
   "source": [
    "## 1. Data preprocessing\n",
    "## I part (encoding and correcting mistakes)"
   ]
  },
  {
   "cell_type": "markdown",
   "metadata": {
    "id": "WlOmdlGc-wt4"
   },
   "source": [
    "### Macro dataset"
   ]
  },
  {
   "cell_type": "code",
   "execution_count": 3,
   "metadata": {
    "colab": {
     "base_uri": "https://localhost:8080/"
    },
    "id": "6a1-RKD2-wt4",
    "outputId": "364f5c9a-8412-44e4-8716-0bb10c3dd98d"
   },
   "outputs": [
    {
     "name": "stdout",
     "output_type": "stream",
     "text": [
      "OK\n"
     ]
    }
   ],
   "source": [
    "macro_df['child_on_acc_pre_school'] = macro_df['child_on_acc_pre_school'].str.replace('#!', 'nan')\n",
    "for column in macro_df.select_dtypes('object').columns:\n",
    "    macro_df[column] = macro_df[column].str.replace(',', '.')\n",
    "    macro_df[column] = macro_df[column].astype(float)\n",
    "\n",
    "if not len(macro_df.select_dtypes('object').columns):\n",
    "    print('OK')"
   ]
  },
  {
   "cell_type": "markdown",
   "metadata": {
    "id": "5hOdB2O2-wt5"
   },
   "source": [
    "### Train dataset"
   ]
  },
  {
   "cell_type": "code",
   "execution_count": 4,
   "metadata": {
    "id": "cefhW3sO-wt5"
   },
   "outputs": [],
   "source": [
    "train_df = encode(train_df)"
   ]
  },
  {
   "cell_type": "markdown",
   "metadata": {
    "id": "vSRp5y_C-wt7"
   },
   "source": [
    "### Test dataset"
   ]
  },
  {
   "cell_type": "code",
   "execution_count": 5,
   "metadata": {
    "id": "IMeNQ_Ad-wt8"
   },
   "outputs": [],
   "source": [
    "test_df = encode(test_df)"
   ]
  },
  {
   "cell_type": "markdown",
   "metadata": {
    "id": "ZcRHlWsU-wt-"
   },
   "source": [
    "## II part (Filling missing values)"
   ]
  },
  {
   "cell_type": "markdown",
   "metadata": {
    "id": "G8kHIiU0-wt_"
   },
   "source": [
    "XGBRegressor model handles `np.NaN` values itself"
   ]
  },
  {
   "cell_type": "markdown",
   "metadata": {
    "id": "FfLaI5aH-wt_"
   },
   "source": [
    "## 2. Encoding `sub_area` feature"
   ]
  },
  {
   "cell_type": "code",
   "execution_count": 6,
   "metadata": {},
   "outputs": [],
   "source": [
    "coords_train_df = pd.read_csv('data/geo/train_lat_lon.csv')\n",
    "coords_train_df.drop(['key', 'tolerance_m'], axis=1, inplace=True)\n",
    "coords_train_df.index = coords_train_df.id\n",
    "coords_train_df.drop(['id'], axis=1, inplace=True)\n",
    "coords_train_df = coords_train_df.sort_index()\n",
    "\n",
    "coords_test_df = pd.read_csv('data/geo/test_lat_lon.csv')\n",
    "coords_test_df.drop(['key', 'tolerance_m'], axis=1, inplace=True)\n",
    "coords_test_df.index = coords_test_df.id\n",
    "coords_test_df.drop(['id'], axis=1, inplace=True)\n",
    "coords_test_df = coords_test_df.sort_index()\n",
    "\n",
    "coords_all_df = pd.concat([coords_train_df, coords_test_df])"
   ]
  },
  {
   "cell_type": "code",
   "execution_count": 7,
   "metadata": {},
   "outputs": [],
   "source": [
    "train_df['is_train'] = 1\n",
    "test_df['is_train'] = 0\n",
    "\n",
    "# coords_df = pd.read_csv('data/coords.csv', index_col='id')\n",
    "all_df = pd.concat([train_df, test_df])\n",
    "\n",
    "all_df['latitude'] = coords_all_df['lat']\n",
    "all_df['longitude'] = coords_all_df['lon']"
   ]
  },
  {
   "cell_type": "markdown",
   "metadata": {
    "id": "Ad9TaN9Q-wuB"
   },
   "source": [
    "## 3. Removing outliers"
   ]
  },
  {
   "cell_type": "code",
   "execution_count": 8,
   "metadata": {
    "id": "GS7abrdJ-wuB"
   },
   "outputs": [],
   "source": [
    "all_df = remove_outliers(all_df)"
   ]
  },
  {
   "cell_type": "markdown",
   "metadata": {
    "id": "_Y7doThf-wuB"
   },
   "source": [
    "## 4. Feature engineering"
   ]
  },
  {
   "cell_type": "code",
   "execution_count": 9,
   "metadata": {
    "id": "HEFaFZFI-wuC"
   },
   "outputs": [],
   "source": [
    "all_df = create_new_features(all_df)"
   ]
  },
  {
   "cell_type": "markdown",
   "metadata": {
    "id": "VLOjaYTj-wuD"
   },
   "source": [
    "## 5. Analyzing fake prices"
   ]
  },
  {
   "cell_type": "code",
   "execution_count": 10,
   "metadata": {
    "id": "2gVmPZwh-wuE"
   },
   "outputs": [],
   "source": [
    "train_df = all_df[all_df['is_train'] == 1].drop(['is_train'], axis=1)\n",
    "test_df = all_df[all_df['is_train'] == 0].drop(['is_train', 'price_doc'], axis=1)"
   ]
  },
  {
   "cell_type": "code",
   "execution_count": 11,
   "metadata": {
    "id": "r2iMQl-I-wuE"
   },
   "outputs": [],
   "source": [
    "idx_outliers = np.loadtxt('outliers/idx_outliers_full.txt').astype(int)\n",
    "idx_df = train_df.loc[idx_outliers].copy()\n",
    "class_df = train_df.copy()"
   ]
  },
  {
   "cell_type": "code",
   "execution_count": 12,
   "metadata": {},
   "outputs": [],
   "source": [
    "class_df['label'] = 0\n",
    "class_df.loc[idx_df[idx_df['price_doc'] == 1_000_000].index, 'label'] = 1\n",
    "class_df.loc[idx_df[idx_df['price_doc'] == 2_000_000].index, 'label'] = 1\n",
    "class_df.loc[idx_df[idx_df['price_doc'] == 3_000_000].index, 'label'] = 1"
   ]
  },
  {
   "cell_type": "code",
   "execution_count": 13,
   "metadata": {},
   "outputs": [],
   "source": [
    "X = class_df.drop(['sub_area', 'price_doc', 'label'], axis=1).copy()\n",
    "y = class_df['label']"
   ]
  },
  {
   "cell_type": "code",
   "execution_count": 14,
   "metadata": {},
   "outputs": [],
   "source": [
    "X_test = test_df.drop(['sub_area'], axis=1).copy()"
   ]
  },
  {
   "cell_type": "code",
   "execution_count": 15,
   "metadata": {},
   "outputs": [
    {
     "data": {
      "text/plain": [
       "((24376, 306), (6095, 306))"
      ]
     },
     "execution_count": 15,
     "metadata": {},
     "output_type": "execute_result"
    }
   ],
   "source": [
    "X_train, X_val, y_train, y_val = train_test_split(X, y, test_size=0.2, stratify=y, random_state=42)\n",
    "X_train.shape, X_val.shape"
   ]
  },
  {
   "cell_type": "code",
   "execution_count": 23,
   "metadata": {},
   "outputs": [
    {
     "data": {
      "text/plain": [
       "16.86107854630715"
      ]
     },
     "execution_count": 23,
     "metadata": {},
     "output_type": "execute_result"
    }
   ],
   "source": [
    "28765/1706"
   ]
  },
  {
   "cell_type": "code",
   "execution_count": 16,
   "metadata": {},
   "outputs": [
    {
     "data": {
      "text/plain": [
       "0.05930818703285243"
      ]
     },
     "execution_count": 16,
     "metadata": {},
     "output_type": "execute_result"
    }
   ],
   "source": [
    "1706 / 28765"
   ]
  },
  {
   "cell_type": "code",
   "execution_count": 17,
   "metadata": {},
   "outputs": [
    {
     "data": {
      "text/plain": [
       "array([0, 1])"
      ]
     },
     "execution_count": 17,
     "metadata": {},
     "output_type": "execute_result"
    }
   ],
   "source": [
    "np.unique(y_train)"
   ]
  },
  {
   "cell_type": "code",
   "execution_count": 36,
   "metadata": {},
   "outputs": [
    {
     "name": "stdout",
     "output_type": "stream",
     "text": [
      "[0]\tvalidation_0-error:0.55046\tvalidation_1-error:0.55045\n",
      "[1]\tvalidation_0-error:0.54033\tvalidation_1-error:0.54126\n",
      "[2]\tvalidation_0-error:0.52310\tvalidation_1-error:0.52453\n",
      "[3]\tvalidation_0-error:0.51694\tvalidation_1-error:0.51961\n",
      "[4]\tvalidation_0-error:0.50394\tvalidation_1-error:0.50960\n",
      "[5]\tvalidation_0-error:0.50127\tvalidation_1-error:0.50714\n",
      "[6]\tvalidation_0-error:0.48732\tvalidation_1-error:0.49352\n",
      "[7]\tvalidation_0-error:0.48232\tvalidation_1-error:0.48892\n",
      "[8]\tvalidation_0-error:0.47387\tvalidation_1-error:0.48564\n",
      "[9]\tvalidation_0-error:0.47268\tvalidation_1-error:0.48335\n",
      "[10]\tvalidation_0-error:0.46829\tvalidation_1-error:0.47728\n",
      "[11]\tvalidation_0-error:0.46250\tvalidation_1-error:0.47235\n",
      "[12]\tvalidation_0-error:0.45615\tvalidation_1-error:0.46809\n",
      "[13]\tvalidation_0-error:0.45176\tvalidation_1-error:0.46399\n",
      "[14]\tvalidation_0-error:0.44806\tvalidation_1-error:0.46366\n",
      "[15]\tvalidation_0-error:0.43826\tvalidation_1-error:0.45480\n",
      "[16]\tvalidation_0-error:0.43350\tvalidation_1-error:0.45185\n",
      "[17]\tvalidation_0-error:0.42706\tvalidation_1-error:0.44463\n",
      "[18]\tvalidation_0-error:0.41266\tvalidation_1-error:0.42970\n",
      "[19]\tvalidation_0-error:0.40880\tvalidation_1-error:0.42461\n",
      "[20]\tvalidation_0-error:0.39436\tvalidation_1-error:0.41575\n",
      "[21]\tvalidation_0-error:0.38923\tvalidation_1-error:0.41132\n",
      "[22]\tvalidation_0-error:0.37935\tvalidation_1-error:0.40410\n",
      "[23]\tvalidation_0-error:0.37373\tvalidation_1-error:0.39951\n",
      "[24]\tvalidation_0-error:0.37040\tvalidation_1-error:0.39639\n",
      "[25]\tvalidation_0-error:0.36327\tvalidation_1-error:0.39294\n",
      "[26]\tvalidation_0-error:0.35580\tvalidation_1-error:0.38671\n",
      "[27]\tvalidation_0-error:0.34464\tvalidation_1-error:0.37687\n",
      "[28]\tvalidation_0-error:0.33672\tvalidation_1-error:0.37309\n",
      "[29]\tvalidation_0-error:0.33377\tvalidation_1-error:0.37047\n",
      "[30]\tvalidation_0-error:0.32589\tvalidation_1-error:0.36210\n",
      "[31]\tvalidation_0-error:0.32253\tvalidation_1-error:0.35849\n",
      "[32]\tvalidation_0-error:0.31658\tvalidation_1-error:0.35554\n",
      "[33]\tvalidation_0-error:0.31367\tvalidation_1-error:0.35324\n",
      "[34]\tvalidation_0-error:0.30608\tvalidation_1-error:0.34602\n",
      "[35]\tvalidation_0-error:0.29915\tvalidation_1-error:0.34061\n",
      "[36]\tvalidation_0-error:0.29455\tvalidation_1-error:0.33749\n",
      "[37]\tvalidation_0-error:0.28762\tvalidation_1-error:0.33142\n",
      "[38]\tvalidation_0-error:0.28532\tvalidation_1-error:0.32896\n",
      "[39]\tvalidation_0-error:0.27974\tvalidation_1-error:0.32436\n",
      "[40]\tvalidation_0-error:0.27359\tvalidation_1-error:0.31797\n",
      "[41]\tvalidation_0-error:0.26575\tvalidation_1-error:0.31009\n",
      "[42]\tvalidation_0-error:0.26153\tvalidation_1-error:0.30812\n",
      "[43]\tvalidation_0-error:0.25328\tvalidation_1-error:0.30189\n",
      "[44]\tvalidation_0-error:0.24701\tvalidation_1-error:0.29828\n",
      "[45]\tvalidation_0-error:0.24155\tvalidation_1-error:0.29483\n",
      "[46]\tvalidation_0-error:0.23568\tvalidation_1-error:0.28925\n",
      "[47]\tvalidation_0-error:0.23302\tvalidation_1-error:0.28909\n",
      "[48]\tvalidation_0-error:0.22748\tvalidation_1-error:0.28515\n",
      "[49]\tvalidation_0-error:0.22317\tvalidation_1-error:0.28171\n",
      "[50]\tvalidation_0-error:0.21886\tvalidation_1-error:0.27564\n",
      "[51]\tvalidation_0-error:0.21616\tvalidation_1-error:0.27580\n",
      "[52]\tvalidation_0-error:0.21415\tvalidation_1-error:0.27449\n",
      "[53]\tvalidation_0-error:0.20992\tvalidation_1-error:0.27219\n",
      "[54]\tvalidation_0-error:0.20746\tvalidation_1-error:0.26809\n",
      "[55]\tvalidation_0-error:0.20426\tvalidation_1-error:0.26267\n",
      "[56]\tvalidation_0-error:0.20118\tvalidation_1-error:0.26136\n",
      "[57]\tvalidation_0-error:0.19782\tvalidation_1-error:0.25857\n",
      "[58]\tvalidation_0-error:0.19290\tvalidation_1-error:0.25545\n",
      "[59]\tvalidation_0-error:0.19187\tvalidation_1-error:0.25382\n",
      "[60]\tvalidation_0-error:0.18994\tvalidation_1-error:0.25349\n",
      "[61]\tvalidation_0-error:0.18690\tvalidation_1-error:0.25037\n",
      "[62]\tvalidation_0-error:0.18321\tvalidation_1-error:0.24971\n",
      "[63]\tvalidation_0-error:0.18075\tvalidation_1-error:0.24627\n",
      "[64]\tvalidation_0-error:0.17579\tvalidation_1-error:0.23971\n",
      "[65]\tvalidation_0-error:0.17357\tvalidation_1-error:0.23560\n",
      "[66]\tvalidation_0-error:0.17033\tvalidation_1-error:0.23593\n",
      "[67]\tvalidation_0-error:0.16881\tvalidation_1-error:0.23429\n",
      "[68]\tvalidation_0-error:0.16689\tvalidation_1-error:0.23150\n",
      "[69]\tvalidation_0-error:0.16529\tvalidation_1-error:0.23117\n",
      "[70]\tvalidation_0-error:0.16139\tvalidation_1-error:0.22822\n",
      "[71]\tvalidation_0-error:0.15774\tvalidation_1-error:0.22494\n",
      "[72]\tvalidation_0-error:0.15589\tvalidation_1-error:0.22313\n",
      "[73]\tvalidation_0-error:0.15298\tvalidation_1-error:0.22018\n",
      "[74]\tvalidation_0-error:0.15208\tvalidation_1-error:0.22002\n",
      "[75]\tvalidation_0-error:0.15072\tvalidation_1-error:0.21723\n",
      "[76]\tvalidation_0-error:0.14797\tvalidation_1-error:0.21526\n",
      "[77]\tvalidation_0-error:0.14469\tvalidation_1-error:0.21313\n",
      "[78]\tvalidation_0-error:0.14350\tvalidation_1-error:0.21362\n",
      "[79]\tvalidation_0-error:0.14047\tvalidation_1-error:0.21034\n",
      "[80]\tvalidation_0-error:0.13780\tvalidation_1-error:0.20771\n",
      "[81]\tvalidation_0-error:0.13460\tvalidation_1-error:0.20312\n",
      "[82]\tvalidation_0-error:0.13267\tvalidation_1-error:0.20262\n",
      "[83]\tvalidation_0-error:0.13111\tvalidation_1-error:0.19984\n",
      "[84]\tvalidation_0-error:0.12775\tvalidation_1-error:0.19656\n",
      "[85]\tvalidation_0-error:0.12635\tvalidation_1-error:0.19393\n",
      "[86]\tvalidation_0-error:0.12496\tvalidation_1-error:0.19344\n",
      "[87]\tvalidation_0-error:0.12192\tvalidation_1-error:0.19048\n",
      "[88]\tvalidation_0-error:0.12061\tvalidation_1-error:0.19032\n",
      "[89]\tvalidation_0-error:0.11868\tvalidation_1-error:0.18966\n",
      "[90]\tvalidation_0-error:0.11634\tvalidation_1-error:0.18786\n",
      "[91]\tvalidation_0-error:0.11466\tvalidation_1-error:0.18523\n",
      "[92]\tvalidation_0-error:0.11355\tvalidation_1-error:0.18425\n",
      "[93]\tvalidation_0-error:0.11228\tvalidation_1-error:0.18343\n",
      "[94]\tvalidation_0-error:0.10994\tvalidation_1-error:0.18179\n",
      "[95]\tvalidation_0-error:0.10855\tvalidation_1-error:0.17998\n",
      "[96]\tvalidation_0-error:0.10777\tvalidation_1-error:0.17752\n",
      "[97]\tvalidation_0-error:0.10597\tvalidation_1-error:0.17506\n",
      "[98]\tvalidation_0-error:0.10391\tvalidation_1-error:0.17391\n",
      "[99]\tvalidation_0-error:0.10211\tvalidation_1-error:0.17260\n",
      "[100]\tvalidation_0-error:0.10055\tvalidation_1-error:0.17194\n",
      "[101]\tvalidation_0-error:0.09944\tvalidation_1-error:0.17063\n",
      "[102]\tvalidation_0-error:0.09714\tvalidation_1-error:0.16932\n",
      "[103]\tvalidation_0-error:0.09448\tvalidation_1-error:0.16751\n",
      "[104]\tvalidation_0-error:0.09349\tvalidation_1-error:0.16604\n",
      "[105]\tvalidation_0-error:0.09292\tvalidation_1-error:0.16423\n",
      "[106]\tvalidation_0-error:0.09152\tvalidation_1-error:0.16620\n",
      "[107]\tvalidation_0-error:0.08993\tvalidation_1-error:0.16522\n",
      "[108]\tvalidation_0-error:0.08902\tvalidation_1-error:0.16390\n",
      "[109]\tvalidation_0-error:0.08730\tvalidation_1-error:0.16243\n",
      "[110]\tvalidation_0-error:0.08574\tvalidation_1-error:0.16177\n",
      "[111]\tvalidation_0-error:0.08517\tvalidation_1-error:0.16095\n",
      "[112]\tvalidation_0-error:0.08467\tvalidation_1-error:0.16177\n",
      "[113]\tvalidation_0-error:0.08389\tvalidation_1-error:0.16046\n",
      "[114]\tvalidation_0-error:0.08217\tvalidation_1-error:0.15997\n",
      "[115]\tvalidation_0-error:0.08131\tvalidation_1-error:0.15964\n",
      "[116]\tvalidation_0-error:0.08041\tvalidation_1-error:0.15964\n",
      "[117]\tvalidation_0-error:0.07901\tvalidation_1-error:0.15767\n",
      "[118]\tvalidation_0-error:0.07836\tvalidation_1-error:0.15767\n",
      "[119]\tvalidation_0-error:0.07729\tvalidation_1-error:0.15783\n",
      "[120]\tvalidation_0-error:0.07618\tvalidation_1-error:0.15652\n",
      "[121]\tvalidation_0-error:0.07479\tvalidation_1-error:0.15455\n",
      "[122]\tvalidation_0-error:0.07417\tvalidation_1-error:0.15439\n",
      "[123]\tvalidation_0-error:0.07319\tvalidation_1-error:0.15406\n",
      "[124]\tvalidation_0-error:0.07253\tvalidation_1-error:0.15340\n",
      "[125]\tvalidation_0-error:0.07155\tvalidation_1-error:0.15340\n",
      "[126]\tvalidation_0-error:0.07023\tvalidation_1-error:0.15258\n",
      "[127]\tvalidation_0-error:0.06900\tvalidation_1-error:0.15111\n",
      "[128]\tvalidation_0-error:0.06822\tvalidation_1-error:0.15012\n",
      "[129]\tvalidation_0-error:0.06691\tvalidation_1-error:0.15012\n",
      "[130]\tvalidation_0-error:0.06576\tvalidation_1-error:0.14815\n",
      "[131]\tvalidation_0-error:0.06416\tvalidation_1-error:0.14865\n",
      "[132]\tvalidation_0-error:0.06318\tvalidation_1-error:0.14766\n",
      "[133]\tvalidation_0-error:0.06269\tvalidation_1-error:0.14651\n",
      "[134]\tvalidation_0-error:0.06170\tvalidation_1-error:0.14602\n",
      "[135]\tvalidation_0-error:0.06010\tvalidation_1-error:0.14487\n",
      "[136]\tvalidation_0-error:0.05932\tvalidation_1-error:0.14405\n",
      "[137]\tvalidation_0-error:0.05805\tvalidation_1-error:0.14192\n",
      "[138]\tvalidation_0-error:0.05780\tvalidation_1-error:0.14225\n",
      "[139]\tvalidation_0-error:0.05731\tvalidation_1-error:0.14208\n",
      "[140]\tvalidation_0-error:0.05624\tvalidation_1-error:0.14077\n",
      "[141]\tvalidation_0-error:0.05559\tvalidation_1-error:0.13995\n",
      "[142]\tvalidation_0-error:0.05473\tvalidation_1-error:0.13946\n",
      "[143]\tvalidation_0-error:0.05432\tvalidation_1-error:0.13897\n",
      "[144]\tvalidation_0-error:0.05358\tvalidation_1-error:0.13765\n",
      "[145]\tvalidation_0-error:0.05157\tvalidation_1-error:0.13700\n",
      "[146]\tvalidation_0-error:0.05116\tvalidation_1-error:0.13700\n",
      "[147]\tvalidation_0-error:0.05038\tvalidation_1-error:0.13585\n",
      "[148]\tvalidation_0-error:0.04972\tvalidation_1-error:0.13503\n",
      "[149]\tvalidation_0-error:0.04906\tvalidation_1-error:0.13322\n",
      "[150]\tvalidation_0-error:0.04849\tvalidation_1-error:0.13273\n",
      "[151]\tvalidation_0-error:0.04767\tvalidation_1-error:0.13126\n",
      "[152]\tvalidation_0-error:0.04673\tvalidation_1-error:0.13027\n",
      "[153]\tvalidation_0-error:0.04627\tvalidation_1-error:0.13043\n",
      "[154]\tvalidation_0-error:0.04582\tvalidation_1-error:0.13076\n",
      "[155]\tvalidation_0-error:0.04533\tvalidation_1-error:0.13093\n",
      "[156]\tvalidation_0-error:0.04509\tvalidation_1-error:0.13109\n",
      "[157]\tvalidation_0-error:0.04418\tvalidation_1-error:0.12945\n",
      "[158]\tvalidation_0-error:0.04385\tvalidation_1-error:0.12879\n",
      "[159]\tvalidation_0-error:0.04353\tvalidation_1-error:0.12961\n",
      "[160]\tvalidation_0-error:0.04258\tvalidation_1-error:0.12650\n",
      "[161]\tvalidation_0-error:0.04193\tvalidation_1-error:0.12633\n",
      "[162]\tvalidation_0-error:0.04119\tvalidation_1-error:0.12633\n",
      "[163]\tvalidation_0-error:0.04098\tvalidation_1-error:0.12551\n",
      "[164]\tvalidation_0-error:0.04041\tvalidation_1-error:0.12486\n",
      "[165]\tvalidation_0-error:0.03992\tvalidation_1-error:0.12371\n",
      "[166]\tvalidation_0-error:0.03983\tvalidation_1-error:0.12322\n",
      "[167]\tvalidation_0-error:0.03934\tvalidation_1-error:0.12354\n",
      "[168]\tvalidation_0-error:0.03848\tvalidation_1-error:0.12371\n",
      "[169]\tvalidation_0-error:0.03815\tvalidation_1-error:0.12404\n",
      "[170]\tvalidation_0-error:0.03787\tvalidation_1-error:0.12387\n",
      "[171]\tvalidation_0-error:0.03746\tvalidation_1-error:0.12322\n",
      "[172]\tvalidation_0-error:0.03705\tvalidation_1-error:0.12420\n",
      "[173]\tvalidation_0-error:0.03655\tvalidation_1-error:0.12371\n",
      "[174]\tvalidation_0-error:0.03631\tvalidation_1-error:0.12371\n",
      "[175]\tvalidation_0-error:0.03594\tvalidation_1-error:0.12322\n",
      "[176]\tvalidation_0-error:0.03569\tvalidation_1-error:0.12207\n",
      "[177]\tvalidation_0-error:0.03508\tvalidation_1-error:0.12125\n",
      "[178]\tvalidation_0-error:0.03442\tvalidation_1-error:0.12076\n",
      "[179]\tvalidation_0-error:0.03405\tvalidation_1-error:0.12026\n",
      "[180]\tvalidation_0-error:0.03286\tvalidation_1-error:0.11928\n",
      "[181]\tvalidation_0-error:0.03270\tvalidation_1-error:0.11928\n",
      "[182]\tvalidation_0-error:0.03233\tvalidation_1-error:0.11928\n",
      "[183]\tvalidation_0-error:0.03204\tvalidation_1-error:0.11879\n",
      "[184]\tvalidation_0-error:0.03142\tvalidation_1-error:0.11846\n",
      "[185]\tvalidation_0-error:0.03097\tvalidation_1-error:0.11993\n",
      "[186]\tvalidation_0-error:0.03069\tvalidation_1-error:0.11862\n",
      "[187]\tvalidation_0-error:0.03024\tvalidation_1-error:0.11862\n",
      "[188]\tvalidation_0-error:0.02978\tvalidation_1-error:0.11846\n",
      "[189]\tvalidation_0-error:0.02962\tvalidation_1-error:0.11780\n",
      "[190]\tvalidation_0-error:0.02925\tvalidation_1-error:0.11714\n",
      "[191]\tvalidation_0-error:0.02892\tvalidation_1-error:0.11665\n",
      "[192]\tvalidation_0-error:0.02868\tvalidation_1-error:0.11632\n",
      "[193]\tvalidation_0-error:0.02814\tvalidation_1-error:0.11616\n",
      "[194]\tvalidation_0-error:0.02745\tvalidation_1-error:0.11583\n",
      "[195]\tvalidation_0-error:0.02704\tvalidation_1-error:0.11583\n",
      "[196]\tvalidation_0-error:0.02683\tvalidation_1-error:0.11452\n",
      "[197]\tvalidation_0-error:0.02552\tvalidation_1-error:0.11370\n",
      "[198]\tvalidation_0-error:0.02539\tvalidation_1-error:0.11370\n",
      "[199]\tvalidation_0-error:0.02523\tvalidation_1-error:0.11271\n",
      "[200]\tvalidation_0-error:0.02478\tvalidation_1-error:0.11239\n",
      "[201]\tvalidation_0-error:0.02404\tvalidation_1-error:0.11173\n",
      "[202]\tvalidation_0-error:0.02351\tvalidation_1-error:0.11042\n",
      "[203]\tvalidation_0-error:0.02359\tvalidation_1-error:0.11042\n",
      "[204]\tvalidation_0-error:0.02322\tvalidation_1-error:0.11025\n",
      "[205]\tvalidation_0-error:0.02293\tvalidation_1-error:0.10927\n",
      "[206]\tvalidation_0-error:0.02289\tvalidation_1-error:0.10911\n",
      "[207]\tvalidation_0-error:0.02256\tvalidation_1-error:0.10796\n",
      "[208]\tvalidation_0-error:0.02187\tvalidation_1-error:0.10796\n",
      "[209]\tvalidation_0-error:0.02183\tvalidation_1-error:0.10812\n",
      "[210]\tvalidation_0-error:0.02183\tvalidation_1-error:0.10796\n",
      "[211]\tvalidation_0-error:0.02137\tvalidation_1-error:0.10812\n",
      "[212]\tvalidation_0-error:0.02121\tvalidation_1-error:0.10796\n",
      "[213]\tvalidation_0-error:0.02125\tvalidation_1-error:0.10730\n",
      "[214]\tvalidation_0-error:0.02076\tvalidation_1-error:0.10665\n",
      "[215]\tvalidation_0-error:0.02076\tvalidation_1-error:0.10615\n",
      "[216]\tvalidation_0-error:0.02027\tvalidation_1-error:0.10582\n",
      "[217]\tvalidation_0-error:0.01924\tvalidation_1-error:0.10599\n",
      "[218]\tvalidation_0-error:0.01891\tvalidation_1-error:0.10451\n",
      "[219]\tvalidation_0-error:0.01834\tvalidation_1-error:0.10500\n",
      "[220]\tvalidation_0-error:0.01780\tvalidation_1-error:0.10468\n",
      "[221]\tvalidation_0-error:0.01756\tvalidation_1-error:0.10336\n",
      "[222]\tvalidation_0-error:0.01756\tvalidation_1-error:0.10304\n",
      "[223]\tvalidation_0-error:0.01715\tvalidation_1-error:0.10336\n",
      "[224]\tvalidation_0-error:0.01702\tvalidation_1-error:0.10353\n",
      "[225]\tvalidation_0-error:0.01662\tvalidation_1-error:0.10287\n",
      "[226]\tvalidation_0-error:0.01649\tvalidation_1-error:0.10222\n",
      "[227]\tvalidation_0-error:0.01653\tvalidation_1-error:0.10172\n",
      "[228]\tvalidation_0-error:0.01596\tvalidation_1-error:0.10205\n",
      "[229]\tvalidation_0-error:0.01583\tvalidation_1-error:0.10172\n",
      "[230]\tvalidation_0-error:0.01575\tvalidation_1-error:0.10041\n",
      "[231]\tvalidation_0-error:0.01559\tvalidation_1-error:0.09992\n",
      "[232]\tvalidation_0-error:0.01510\tvalidation_1-error:0.10074\n",
      "[233]\tvalidation_0-error:0.01493\tvalidation_1-error:0.10074\n",
      "[234]\tvalidation_0-error:0.01489\tvalidation_1-error:0.10057\n",
      "[235]\tvalidation_0-error:0.01456\tvalidation_1-error:0.10074\n",
      "[236]\tvalidation_0-error:0.01444\tvalidation_1-error:0.10057\n",
      "[237]\tvalidation_0-error:0.01448\tvalidation_1-error:0.10074\n",
      "[238]\tvalidation_0-error:0.01436\tvalidation_1-error:0.09975\n",
      "[239]\tvalidation_0-error:0.01423\tvalidation_1-error:0.09926\n",
      "[240]\tvalidation_0-error:0.01403\tvalidation_1-error:0.09910\n",
      "[241]\tvalidation_0-error:0.01391\tvalidation_1-error:0.09893\n",
      "[242]\tvalidation_0-error:0.01341\tvalidation_1-error:0.09943\n",
      "[243]\tvalidation_0-error:0.01341\tvalidation_1-error:0.09943\n",
      "[244]\tvalidation_0-error:0.01317\tvalidation_1-error:0.09877\n",
      "[245]\tvalidation_0-error:0.01317\tvalidation_1-error:0.09893\n",
      "[246]\tvalidation_0-error:0.01333\tvalidation_1-error:0.09877\n",
      "[247]\tvalidation_0-error:0.01333\tvalidation_1-error:0.09893\n",
      "[248]\tvalidation_0-error:0.01309\tvalidation_1-error:0.09828\n",
      "[249]\tvalidation_0-error:0.01288\tvalidation_1-error:0.09828\n",
      "[250]\tvalidation_0-error:0.01268\tvalidation_1-error:0.09762\n",
      "[251]\tvalidation_0-error:0.01218\tvalidation_1-error:0.09778\n",
      "[252]\tvalidation_0-error:0.01214\tvalidation_1-error:0.09795\n",
      "[253]\tvalidation_0-error:0.01202\tvalidation_1-error:0.09696\n",
      "[254]\tvalidation_0-error:0.01141\tvalidation_1-error:0.09664\n",
      "[255]\tvalidation_0-error:0.01124\tvalidation_1-error:0.09664\n",
      "[256]\tvalidation_0-error:0.01120\tvalidation_1-error:0.09664\n",
      "[257]\tvalidation_0-error:0.01128\tvalidation_1-error:0.09647\n",
      "[258]\tvalidation_0-error:0.01108\tvalidation_1-error:0.09565\n",
      "[259]\tvalidation_0-error:0.01108\tvalidation_1-error:0.09647\n",
      "[260]\tvalidation_0-error:0.01108\tvalidation_1-error:0.09614\n",
      "[261]\tvalidation_0-error:0.01091\tvalidation_1-error:0.09516\n",
      "[262]\tvalidation_0-error:0.01091\tvalidation_1-error:0.09516\n",
      "[263]\tvalidation_0-error:0.01087\tvalidation_1-error:0.09418\n",
      "[264]\tvalidation_0-error:0.01071\tvalidation_1-error:0.09401\n",
      "[265]\tvalidation_0-error:0.01075\tvalidation_1-error:0.09401\n",
      "[266]\tvalidation_0-error:0.01067\tvalidation_1-error:0.09434\n",
      "[267]\tvalidation_0-error:0.01030\tvalidation_1-error:0.09418\n",
      "[268]\tvalidation_0-error:0.01005\tvalidation_1-error:0.09352\n",
      "[269]\tvalidation_0-error:0.01017\tvalidation_1-error:0.09335\n",
      "[270]\tvalidation_0-error:0.01001\tvalidation_1-error:0.09254\n",
      "[271]\tvalidation_0-error:0.01001\tvalidation_1-error:0.09237\n",
      "[272]\tvalidation_0-error:0.00985\tvalidation_1-error:0.09270\n",
      "[273]\tvalidation_0-error:0.00980\tvalidation_1-error:0.09221\n",
      "[274]\tvalidation_0-error:0.00948\tvalidation_1-error:0.09122\n",
      "[275]\tvalidation_0-error:0.00939\tvalidation_1-error:0.09139\n",
      "[276]\tvalidation_0-error:0.00919\tvalidation_1-error:0.09040\n",
      "[277]\tvalidation_0-error:0.00911\tvalidation_1-error:0.09106\n",
      "[278]\tvalidation_0-error:0.00903\tvalidation_1-error:0.09122\n",
      "[279]\tvalidation_0-error:0.00907\tvalidation_1-error:0.09122\n",
      "[280]\tvalidation_0-error:0.00890\tvalidation_1-error:0.09057\n",
      "[281]\tvalidation_0-error:0.00882\tvalidation_1-error:0.09024\n",
      "[282]\tvalidation_0-error:0.00870\tvalidation_1-error:0.09007\n",
      "[283]\tvalidation_0-error:0.00870\tvalidation_1-error:0.08958\n",
      "[284]\tvalidation_0-error:0.00845\tvalidation_1-error:0.08975\n",
      "[285]\tvalidation_0-error:0.00849\tvalidation_1-error:0.08958\n",
      "[286]\tvalidation_0-error:0.00812\tvalidation_1-error:0.08925\n",
      "[287]\tvalidation_0-error:0.00804\tvalidation_1-error:0.08991\n",
      "[288]\tvalidation_0-error:0.00792\tvalidation_1-error:0.08958\n",
      "[289]\tvalidation_0-error:0.00792\tvalidation_1-error:0.08975\n",
      "[290]\tvalidation_0-error:0.00763\tvalidation_1-error:0.08991\n",
      "[291]\tvalidation_0-error:0.00747\tvalidation_1-error:0.08958\n",
      "[292]\tvalidation_0-error:0.00743\tvalidation_1-error:0.08958\n",
      "[293]\tvalidation_0-error:0.00718\tvalidation_1-error:0.08991\n",
      "[294]\tvalidation_0-error:0.00710\tvalidation_1-error:0.08909\n",
      "[295]\tvalidation_0-error:0.00673\tvalidation_1-error:0.08843\n",
      "[296]\tvalidation_0-error:0.00648\tvalidation_1-error:0.08745\n",
      "[297]\tvalidation_0-error:0.00632\tvalidation_1-error:0.08729\n",
      "[298]\tvalidation_0-error:0.00619\tvalidation_1-error:0.08794\n",
      "[299]\tvalidation_0-error:0.00611\tvalidation_1-error:0.08843\n",
      "[300]\tvalidation_0-error:0.00607\tvalidation_1-error:0.08761\n",
      "[301]\tvalidation_0-error:0.00603\tvalidation_1-error:0.08761\n",
      "[302]\tvalidation_0-error:0.00591\tvalidation_1-error:0.08712\n",
      "[303]\tvalidation_0-error:0.00583\tvalidation_1-error:0.08696\n",
      "[304]\tvalidation_0-error:0.00570\tvalidation_1-error:0.08811\n",
      "[305]\tvalidation_0-error:0.00558\tvalidation_1-error:0.08778\n",
      "[306]\tvalidation_0-error:0.00541\tvalidation_1-error:0.08745\n",
      "[307]\tvalidation_0-error:0.00554\tvalidation_1-error:0.08729\n",
      "[308]\tvalidation_0-error:0.00550\tvalidation_1-error:0.08745\n",
      "[309]\tvalidation_0-error:0.00541\tvalidation_1-error:0.08679\n",
      "[310]\tvalidation_0-error:0.00525\tvalidation_1-error:0.08663\n",
      "[311]\tvalidation_0-error:0.00517\tvalidation_1-error:0.08597\n",
      "[312]\tvalidation_0-error:0.00517\tvalidation_1-error:0.08548\n",
      "[313]\tvalidation_0-error:0.00509\tvalidation_1-error:0.08532\n",
      "[314]\tvalidation_0-error:0.00496\tvalidation_1-error:0.08630\n",
      "[315]\tvalidation_0-error:0.00488\tvalidation_1-error:0.08532\n",
      "[316]\tvalidation_0-error:0.00496\tvalidation_1-error:0.08532\n",
      "[317]\tvalidation_0-error:0.00505\tvalidation_1-error:0.08515\n",
      "[318]\tvalidation_0-error:0.00488\tvalidation_1-error:0.08548\n",
      "[319]\tvalidation_0-error:0.00480\tvalidation_1-error:0.08450\n",
      "[320]\tvalidation_0-error:0.00464\tvalidation_1-error:0.08466\n",
      "[321]\tvalidation_0-error:0.00439\tvalidation_1-error:0.08417\n",
      "[322]\tvalidation_0-error:0.00435\tvalidation_1-error:0.08384\n",
      "[323]\tvalidation_0-error:0.00447\tvalidation_1-error:0.08450\n",
      "[324]\tvalidation_0-error:0.00427\tvalidation_1-error:0.08417\n",
      "[325]\tvalidation_0-error:0.00418\tvalidation_1-error:0.08384\n",
      "[326]\tvalidation_0-error:0.00406\tvalidation_1-error:0.08400\n",
      "[327]\tvalidation_0-error:0.00386\tvalidation_1-error:0.08335\n",
      "[328]\tvalidation_0-error:0.00377\tvalidation_1-error:0.08318\n",
      "[329]\tvalidation_0-error:0.00381\tvalidation_1-error:0.08302\n",
      "[330]\tvalidation_0-error:0.00377\tvalidation_1-error:0.08318\n",
      "[331]\tvalidation_0-error:0.00365\tvalidation_1-error:0.08302\n",
      "[332]\tvalidation_0-error:0.00373\tvalidation_1-error:0.08253\n",
      "[333]\tvalidation_0-error:0.00373\tvalidation_1-error:0.08269\n",
      "[334]\tvalidation_0-error:0.00365\tvalidation_1-error:0.08285\n",
      "[335]\tvalidation_0-error:0.00357\tvalidation_1-error:0.08285\n",
      "[336]\tvalidation_0-error:0.00345\tvalidation_1-error:0.08285\n",
      "[337]\tvalidation_0-error:0.00336\tvalidation_1-error:0.08269\n",
      "[338]\tvalidation_0-error:0.00332\tvalidation_1-error:0.08220\n",
      "[339]\tvalidation_0-error:0.00332\tvalidation_1-error:0.08220\n",
      "[340]\tvalidation_0-error:0.00324\tvalidation_1-error:0.08302\n",
      "[341]\tvalidation_0-error:0.00320\tvalidation_1-error:0.08318\n",
      "[342]\tvalidation_0-error:0.00320\tvalidation_1-error:0.08318\n",
      "[343]\tvalidation_0-error:0.00308\tvalidation_1-error:0.08318\n",
      "[344]\tvalidation_0-error:0.00316\tvalidation_1-error:0.08253\n",
      "[345]\tvalidation_0-error:0.00308\tvalidation_1-error:0.08302\n",
      "[346]\tvalidation_0-error:0.00304\tvalidation_1-error:0.08302\n",
      "[347]\tvalidation_0-error:0.00304\tvalidation_1-error:0.08302\n",
      "[348]\tvalidation_0-error:0.00283\tvalidation_1-error:0.08269\n",
      "[349]\tvalidation_0-error:0.00279\tvalidation_1-error:0.08253\n",
      "[350]\tvalidation_0-error:0.00279\tvalidation_1-error:0.08269\n",
      "[351]\tvalidation_0-error:0.00267\tvalidation_1-error:0.08253\n",
      "[352]\tvalidation_0-error:0.00275\tvalidation_1-error:0.08285\n",
      "[353]\tvalidation_0-error:0.00254\tvalidation_1-error:0.08203\n",
      "[354]\tvalidation_0-error:0.00259\tvalidation_1-error:0.08220\n",
      "[355]\tvalidation_0-error:0.00250\tvalidation_1-error:0.08220\n",
      "[356]\tvalidation_0-error:0.00250\tvalidation_1-error:0.08253\n",
      "[357]\tvalidation_0-error:0.00238\tvalidation_1-error:0.08220\n",
      "[358]\tvalidation_0-error:0.00238\tvalidation_1-error:0.08236\n",
      "[359]\tvalidation_0-error:0.00242\tvalidation_1-error:0.08203\n",
      "[360]\tvalidation_0-error:0.00234\tvalidation_1-error:0.08203\n",
      "[361]\tvalidation_0-error:0.00221\tvalidation_1-error:0.08187\n",
      "[362]\tvalidation_0-error:0.00213\tvalidation_1-error:0.08171\n",
      "[363]\tvalidation_0-error:0.00205\tvalidation_1-error:0.08187\n",
      "[364]\tvalidation_0-error:0.00180\tvalidation_1-error:0.08138\n",
      "[365]\tvalidation_0-error:0.00164\tvalidation_1-error:0.08220\n",
      "[366]\tvalidation_0-error:0.00172\tvalidation_1-error:0.08220\n",
      "[367]\tvalidation_0-error:0.00152\tvalidation_1-error:0.08187\n",
      "[368]\tvalidation_0-error:0.00148\tvalidation_1-error:0.08236\n",
      "[369]\tvalidation_0-error:0.00148\tvalidation_1-error:0.08269\n",
      "[370]\tvalidation_0-error:0.00152\tvalidation_1-error:0.08236\n",
      "[371]\tvalidation_0-error:0.00152\tvalidation_1-error:0.08171\n",
      "[372]\tvalidation_0-error:0.00156\tvalidation_1-error:0.08220\n",
      "[373]\tvalidation_0-error:0.00148\tvalidation_1-error:0.08220\n",
      "[374]\tvalidation_0-error:0.00144\tvalidation_1-error:0.08269\n",
      "[375]\tvalidation_0-error:0.00148\tvalidation_1-error:0.08171\n",
      "[376]\tvalidation_0-error:0.00148\tvalidation_1-error:0.08171\n",
      "[377]\tvalidation_0-error:0.00135\tvalidation_1-error:0.08138\n",
      "[378]\tvalidation_0-error:0.00131\tvalidation_1-error:0.08121\n",
      "[379]\tvalidation_0-error:0.00127\tvalidation_1-error:0.08138\n",
      "[380]\tvalidation_0-error:0.00127\tvalidation_1-error:0.08138\n",
      "[381]\tvalidation_0-error:0.00123\tvalidation_1-error:0.08171\n",
      "[382]\tvalidation_0-error:0.00123\tvalidation_1-error:0.08072\n",
      "[383]\tvalidation_0-error:0.00123\tvalidation_1-error:0.08056\n",
      "[384]\tvalidation_0-error:0.00123\tvalidation_1-error:0.08072\n",
      "[385]\tvalidation_0-error:0.00115\tvalidation_1-error:0.08056\n",
      "[386]\tvalidation_0-error:0.00115\tvalidation_1-error:0.08121\n",
      "[387]\tvalidation_0-error:0.00115\tvalidation_1-error:0.08105\n",
      "[388]\tvalidation_0-error:0.00123\tvalidation_1-error:0.08105\n",
      "[389]\tvalidation_0-error:0.00123\tvalidation_1-error:0.08121\n",
      "[390]\tvalidation_0-error:0.00119\tvalidation_1-error:0.08105\n",
      "[391]\tvalidation_0-error:0.00119\tvalidation_1-error:0.08089\n",
      "[392]\tvalidation_0-error:0.00119\tvalidation_1-error:0.08039\n",
      "[393]\tvalidation_0-error:0.00115\tvalidation_1-error:0.08072\n",
      "[394]\tvalidation_0-error:0.00107\tvalidation_1-error:0.08039\n",
      "[395]\tvalidation_0-error:0.00111\tvalidation_1-error:0.08089\n",
      "[396]\tvalidation_0-error:0.00103\tvalidation_1-error:0.08023\n",
      "[397]\tvalidation_0-error:0.00107\tvalidation_1-error:0.08056\n",
      "[398]\tvalidation_0-error:0.00090\tvalidation_1-error:0.08007\n",
      "[399]\tvalidation_0-error:0.00090\tvalidation_1-error:0.08007\n",
      "[400]\tvalidation_0-error:0.00086\tvalidation_1-error:0.07990\n",
      "[401]\tvalidation_0-error:0.00090\tvalidation_1-error:0.08039\n",
      "[402]\tvalidation_0-error:0.00078\tvalidation_1-error:0.08039\n",
      "[403]\tvalidation_0-error:0.00082\tvalidation_1-error:0.08039\n",
      "[404]\tvalidation_0-error:0.00082\tvalidation_1-error:0.08007\n",
      "[405]\tvalidation_0-error:0.00082\tvalidation_1-error:0.08023\n",
      "[406]\tvalidation_0-error:0.00078\tvalidation_1-error:0.08023\n",
      "[407]\tvalidation_0-error:0.00078\tvalidation_1-error:0.08056\n",
      "[408]\tvalidation_0-error:0.00082\tvalidation_1-error:0.08056\n",
      "[409]\tvalidation_0-error:0.00078\tvalidation_1-error:0.07990\n",
      "[410]\tvalidation_0-error:0.00078\tvalidation_1-error:0.07941\n",
      "[411]\tvalidation_0-error:0.00078\tvalidation_1-error:0.07974\n",
      "[412]\tvalidation_0-error:0.00078\tvalidation_1-error:0.07974\n",
      "[413]\tvalidation_0-error:0.00082\tvalidation_1-error:0.07957\n",
      "[414]\tvalidation_0-error:0.00082\tvalidation_1-error:0.07957\n",
      "[415]\tvalidation_0-error:0.00078\tvalidation_1-error:0.07941\n",
      "[416]\tvalidation_0-error:0.00078\tvalidation_1-error:0.07941\n",
      "[417]\tvalidation_0-error:0.00070\tvalidation_1-error:0.07974\n",
      "[418]\tvalidation_0-error:0.00066\tvalidation_1-error:0.07957\n",
      "[419]\tvalidation_0-error:0.00066\tvalidation_1-error:0.07941\n",
      "[420]\tvalidation_0-error:0.00066\tvalidation_1-error:0.07924\n",
      "[421]\tvalidation_0-error:0.00061\tvalidation_1-error:0.07957\n",
      "[422]\tvalidation_0-error:0.00061\tvalidation_1-error:0.07957\n",
      "[423]\tvalidation_0-error:0.00057\tvalidation_1-error:0.07957\n",
      "[424]\tvalidation_0-error:0.00057\tvalidation_1-error:0.07941\n",
      "[425]\tvalidation_0-error:0.00057\tvalidation_1-error:0.07941\n",
      "[426]\tvalidation_0-error:0.00049\tvalidation_1-error:0.07924\n",
      "[427]\tvalidation_0-error:0.00049\tvalidation_1-error:0.07908\n",
      "[428]\tvalidation_0-error:0.00049\tvalidation_1-error:0.07908\n",
      "[429]\tvalidation_0-error:0.00049\tvalidation_1-error:0.07957\n",
      "[430]\tvalidation_0-error:0.00053\tvalidation_1-error:0.07941\n",
      "[431]\tvalidation_0-error:0.00053\tvalidation_1-error:0.07941\n",
      "[432]\tvalidation_0-error:0.00049\tvalidation_1-error:0.07957\n",
      "[433]\tvalidation_0-error:0.00045\tvalidation_1-error:0.07924\n",
      "[434]\tvalidation_0-error:0.00045\tvalidation_1-error:0.07924\n",
      "[435]\tvalidation_0-error:0.00045\tvalidation_1-error:0.07924\n",
      "[436]\tvalidation_0-error:0.00045\tvalidation_1-error:0.07924\n",
      "[437]\tvalidation_0-error:0.00045\tvalidation_1-error:0.07941\n",
      "[438]\tvalidation_0-error:0.00045\tvalidation_1-error:0.07941\n",
      "[439]\tvalidation_0-error:0.00045\tvalidation_1-error:0.07924\n",
      "[440]\tvalidation_0-error:0.00041\tvalidation_1-error:0.07892\n",
      "[441]\tvalidation_0-error:0.00041\tvalidation_1-error:0.07875\n",
      "[442]\tvalidation_0-error:0.00041\tvalidation_1-error:0.07892\n",
      "[443]\tvalidation_0-error:0.00041\tvalidation_1-error:0.07875\n",
      "[444]\tvalidation_0-error:0.00041\tvalidation_1-error:0.07859\n",
      "[445]\tvalidation_0-error:0.00037\tvalidation_1-error:0.07859\n",
      "[446]\tvalidation_0-error:0.00037\tvalidation_1-error:0.07842\n",
      "[447]\tvalidation_0-error:0.00037\tvalidation_1-error:0.07810\n",
      "[448]\tvalidation_0-error:0.00037\tvalidation_1-error:0.07810\n",
      "[449]\tvalidation_0-error:0.00029\tvalidation_1-error:0.07842\n",
      "[450]\tvalidation_0-error:0.00029\tvalidation_1-error:0.07842\n",
      "[451]\tvalidation_0-error:0.00020\tvalidation_1-error:0.07875\n",
      "[452]\tvalidation_0-error:0.00025\tvalidation_1-error:0.07842\n",
      "[453]\tvalidation_0-error:0.00025\tvalidation_1-error:0.07859\n",
      "[454]\tvalidation_0-error:0.00025\tvalidation_1-error:0.07826\n",
      "[455]\tvalidation_0-error:0.00025\tvalidation_1-error:0.07777\n",
      "[456]\tvalidation_0-error:0.00020\tvalidation_1-error:0.07760\n",
      "[457]\tvalidation_0-error:0.00025\tvalidation_1-error:0.07777\n",
      "[458]\tvalidation_0-error:0.00025\tvalidation_1-error:0.07777\n",
      "[459]\tvalidation_0-error:0.00020\tvalidation_1-error:0.07777\n",
      "[460]\tvalidation_0-error:0.00020\tvalidation_1-error:0.07793\n",
      "[461]\tvalidation_0-error:0.00020\tvalidation_1-error:0.07793\n",
      "[462]\tvalidation_0-error:0.00020\tvalidation_1-error:0.07777\n",
      "[463]\tvalidation_0-error:0.00020\tvalidation_1-error:0.07777\n",
      "[464]\tvalidation_0-error:0.00020\tvalidation_1-error:0.07777\n",
      "[465]\tvalidation_0-error:0.00020\tvalidation_1-error:0.07793\n",
      "[466]\tvalidation_0-error:0.00020\tvalidation_1-error:0.07793\n",
      "[467]\tvalidation_0-error:0.00020\tvalidation_1-error:0.07810\n",
      "[468]\tvalidation_0-error:0.00020\tvalidation_1-error:0.07777\n",
      "[469]\tvalidation_0-error:0.00020\tvalidation_1-error:0.07810\n",
      "[470]\tvalidation_0-error:0.00020\tvalidation_1-error:0.07793\n",
      "[471]\tvalidation_0-error:0.00020\tvalidation_1-error:0.07777\n",
      "[472]\tvalidation_0-error:0.00020\tvalidation_1-error:0.07793\n",
      "[473]\tvalidation_0-error:0.00016\tvalidation_1-error:0.07777\n",
      "[474]\tvalidation_0-error:0.00016\tvalidation_1-error:0.07793\n",
      "[475]\tvalidation_0-error:0.00016\tvalidation_1-error:0.07760\n",
      "[476]\tvalidation_0-error:0.00016\tvalidation_1-error:0.07777\n",
      "[477]\tvalidation_0-error:0.00016\tvalidation_1-error:0.07760\n",
      "[478]\tvalidation_0-error:0.00016\tvalidation_1-error:0.07728\n",
      "[479]\tvalidation_0-error:0.00012\tvalidation_1-error:0.07728\n",
      "[480]\tvalidation_0-error:0.00012\tvalidation_1-error:0.07744\n",
      "[481]\tvalidation_0-error:0.00012\tvalidation_1-error:0.07744\n",
      "[482]\tvalidation_0-error:0.00012\tvalidation_1-error:0.07711\n",
      "[483]\tvalidation_0-error:0.00012\tvalidation_1-error:0.07695\n",
      "[484]\tvalidation_0-error:0.00016\tvalidation_1-error:0.07678\n",
      "[485]\tvalidation_0-error:0.00016\tvalidation_1-error:0.07695\n",
      "[486]\tvalidation_0-error:0.00016\tvalidation_1-error:0.07678\n",
      "[487]\tvalidation_0-error:0.00016\tvalidation_1-error:0.07695\n",
      "[488]\tvalidation_0-error:0.00016\tvalidation_1-error:0.07744\n",
      "[489]\tvalidation_0-error:0.00016\tvalidation_1-error:0.07728\n",
      "[490]\tvalidation_0-error:0.00016\tvalidation_1-error:0.07744\n",
      "[491]\tvalidation_0-error:0.00016\tvalidation_1-error:0.07728\n",
      "[492]\tvalidation_0-error:0.00016\tvalidation_1-error:0.07728\n",
      "[493]\tvalidation_0-error:0.00016\tvalidation_1-error:0.07744\n",
      "[494]\tvalidation_0-error:0.00012\tvalidation_1-error:0.07728\n",
      "[495]\tvalidation_0-error:0.00012\tvalidation_1-error:0.07728\n",
      "[496]\tvalidation_0-error:0.00012\tvalidation_1-error:0.07728\n",
      "[497]\tvalidation_0-error:0.00008\tvalidation_1-error:0.07728\n",
      "[498]\tvalidation_0-error:0.00008\tvalidation_1-error:0.07695\n",
      "[499]\tvalidation_0-error:0.00008\tvalidation_1-error:0.07678\n",
      "[500]\tvalidation_0-error:0.00008\tvalidation_1-error:0.07695\n",
      "[501]\tvalidation_0-error:0.00008\tvalidation_1-error:0.07678\n",
      "[502]\tvalidation_0-error:0.00008\tvalidation_1-error:0.07695\n",
      "[503]\tvalidation_0-error:0.00008\tvalidation_1-error:0.07711\n",
      "[504]\tvalidation_0-error:0.00008\tvalidation_1-error:0.07711\n",
      "[505]\tvalidation_0-error:0.00008\tvalidation_1-error:0.07711\n",
      "[506]\tvalidation_0-error:0.00008\tvalidation_1-error:0.07711\n",
      "[507]\tvalidation_0-error:0.00008\tvalidation_1-error:0.07695\n",
      "[508]\tvalidation_0-error:0.00008\tvalidation_1-error:0.07678\n",
      "[509]\tvalidation_0-error:0.00008\tvalidation_1-error:0.07695\n",
      "[510]\tvalidation_0-error:0.00008\tvalidation_1-error:0.07695\n",
      "[511]\tvalidation_0-error:0.00008\tvalidation_1-error:0.07711\n",
      "[512]\tvalidation_0-error:0.00008\tvalidation_1-error:0.07695\n",
      "[513]\tvalidation_0-error:0.00008\tvalidation_1-error:0.07695\n",
      "[514]\tvalidation_0-error:0.00008\tvalidation_1-error:0.07662\n",
      "[515]\tvalidation_0-error:0.00004\tvalidation_1-error:0.07662\n",
      "[516]\tvalidation_0-error:0.00004\tvalidation_1-error:0.07678\n",
      "[517]\tvalidation_0-error:0.00004\tvalidation_1-error:0.07662\n",
      "[518]\tvalidation_0-error:0.00004\tvalidation_1-error:0.07646\n",
      "[519]\tvalidation_0-error:0.00004\tvalidation_1-error:0.07629\n",
      "[520]\tvalidation_0-error:0.00004\tvalidation_1-error:0.07596\n",
      "[521]\tvalidation_0-error:0.00004\tvalidation_1-error:0.07564\n",
      "[522]\tvalidation_0-error:0.00004\tvalidation_1-error:0.07580\n",
      "[523]\tvalidation_0-error:0.00004\tvalidation_1-error:0.07580\n",
      "[524]\tvalidation_0-error:0.00004\tvalidation_1-error:0.07728\n",
      "[525]\tvalidation_0-error:0.00004\tvalidation_1-error:0.07711\n",
      "[526]\tvalidation_0-error:0.00004\tvalidation_1-error:0.07678\n",
      "[527]\tvalidation_0-error:0.00004\tvalidation_1-error:0.07662\n",
      "[528]\tvalidation_0-error:0.00004\tvalidation_1-error:0.07678\n",
      "[529]\tvalidation_0-error:0.00004\tvalidation_1-error:0.07646\n",
      "[530]\tvalidation_0-error:0.00004\tvalidation_1-error:0.07662\n",
      "[531]\tvalidation_0-error:0.00004\tvalidation_1-error:0.07678\n",
      "[532]\tvalidation_0-error:0.00004\tvalidation_1-error:0.07629\n",
      "[533]\tvalidation_0-error:0.00004\tvalidation_1-error:0.07629\n",
      "[534]\tvalidation_0-error:0.00004\tvalidation_1-error:0.07613\n",
      "[535]\tvalidation_0-error:0.00004\tvalidation_1-error:0.07629\n",
      "[536]\tvalidation_0-error:0.00004\tvalidation_1-error:0.07629\n",
      "[537]\tvalidation_0-error:0.00004\tvalidation_1-error:0.07613\n",
      "[538]\tvalidation_0-error:0.00004\tvalidation_1-error:0.07629\n",
      "[539]\tvalidation_0-error:0.00004\tvalidation_1-error:0.07646\n",
      "[540]\tvalidation_0-error:0.00004\tvalidation_1-error:0.07662\n",
      "[541]\tvalidation_0-error:0.00004\tvalidation_1-error:0.07662\n",
      "[542]\tvalidation_0-error:0.00004\tvalidation_1-error:0.07646\n",
      "[543]\tvalidation_0-error:0.00004\tvalidation_1-error:0.07646\n",
      "[544]\tvalidation_0-error:0.00004\tvalidation_1-error:0.07678\n",
      "[545]\tvalidation_0-error:0.00000\tvalidation_1-error:0.07678\n",
      "[546]\tvalidation_0-error:0.00000\tvalidation_1-error:0.07695\n",
      "[547]\tvalidation_0-error:0.00000\tvalidation_1-error:0.07662\n",
      "[548]\tvalidation_0-error:0.00000\tvalidation_1-error:0.07678\n",
      "[549]\tvalidation_0-error:0.00000\tvalidation_1-error:0.07695\n",
      "[550]\tvalidation_0-error:0.00000\tvalidation_1-error:0.07678\n",
      "[551]\tvalidation_0-error:0.00000\tvalidation_1-error:0.07678\n",
      "[552]\tvalidation_0-error:0.00000\tvalidation_1-error:0.07678\n",
      "[553]\tvalidation_0-error:0.00000\tvalidation_1-error:0.07695\n",
      "[554]\tvalidation_0-error:0.00000\tvalidation_1-error:0.07695\n",
      "[555]\tvalidation_0-error:0.00004\tvalidation_1-error:0.07678\n",
      "[556]\tvalidation_0-error:0.00004\tvalidation_1-error:0.07678\n",
      "[557]\tvalidation_0-error:0.00004\tvalidation_1-error:0.07662\n",
      "[558]\tvalidation_0-error:0.00004\tvalidation_1-error:0.07662\n",
      "[559]\tvalidation_0-error:0.00004\tvalidation_1-error:0.07646\n",
      "[560]\tvalidation_0-error:0.00004\tvalidation_1-error:0.07662\n",
      "[561]\tvalidation_0-error:0.00004\tvalidation_1-error:0.07662\n",
      "[562]\tvalidation_0-error:0.00000\tvalidation_1-error:0.07662\n",
      "[563]\tvalidation_0-error:0.00004\tvalidation_1-error:0.07678\n",
      "[564]\tvalidation_0-error:0.00000\tvalidation_1-error:0.07695\n",
      "[565]\tvalidation_0-error:0.00000\tvalidation_1-error:0.07629\n",
      "[566]\tvalidation_0-error:0.00000\tvalidation_1-error:0.07629\n",
      "[567]\tvalidation_0-error:0.00000\tvalidation_1-error:0.07629\n",
      "[568]\tvalidation_0-error:0.00004\tvalidation_1-error:0.07646\n",
      "[569]\tvalidation_0-error:0.00000\tvalidation_1-error:0.07596\n",
      "[570]\tvalidation_0-error:0.00000\tvalidation_1-error:0.07629\n"
     ]
    },
    {
     "data": {
      "text/plain": [
       "XGBRegressor(base_score=0.5, booster='gbtree', colsample_bylevel=1,\n",
       "             colsample_bynode=1, colsample_bytree=1, eval_metric='error',\n",
       "             gamma=0, gpu_id=0, importance_type='gain',\n",
       "             interaction_constraints='', learning_rate=0.3, max_delta_step=0,\n",
       "             max_depth=5, min_child_weight=1, missing=nan,\n",
       "             monotone_constraints='()', n_estimators=1000, n_jobs=8, nthread=-1,\n",
       "             num_parallel_tree=1, objective='binary:logistic', random_state=42,\n",
       "             reg_alpha=0, reg_lambda=1, scale_pos_weight=20, seed=42,\n",
       "             subsample=1, tree_method='gpu_hist', validate_parameters=1,\n",
       "             verbosity=None)"
      ]
     },
     "execution_count": 36,
     "metadata": {},
     "output_type": "execute_result"
    }
   ],
   "source": [
    "params = {'max_depth': 5,\n",
    "          'objective': 'binary:logistic',\n",
    "          'n_estimators': 1000,\n",
    "          'tree_method': 'gpu_hist',\n",
    "          'booster': 'gbtree',\n",
    "          'learning_rate': 0.3,\n",
    "          'eval_metric': 'error',\n",
    "          'seed': 42,\n",
    "          'nthread': -1,\n",
    "          'scale_pos_weight': 20\n",
    "          }\n",
    "\n",
    "model = XGBRegressor(**params)\n",
    "\n",
    "model.fit(X_train, y_train, eval_set=[(X_train, y_train), (X_val, y_val)], early_stopping_rounds=50)"
   ]
  },
  {
   "cell_type": "code",
   "execution_count": 41,
   "metadata": {},
   "outputs": [],
   "source": [
    "y_pred_train = model.predict(X_train)"
   ]
  },
  {
   "cell_type": "code",
   "execution_count": 42,
   "metadata": {},
   "outputs": [],
   "source": [
    "y_pred_train[y_pred_train > 0.5] = 1"
   ]
  },
  {
   "cell_type": "code",
   "execution_count": 47,
   "metadata": {},
   "outputs": [
    {
     "data": {
      "text/plain": [
       "(1366,)"
      ]
     },
     "execution_count": 47,
     "metadata": {},
     "output_type": "execute_result"
    }
   ],
   "source": [
    "y_pred_train[y_pred_train == 1].shape"
   ]
  },
  {
   "cell_type": "code",
   "execution_count": 50,
   "metadata": {},
   "outputs": [
    {
     "data": {
      "text/plain": [
       "(1365,)"
      ]
     },
     "execution_count": 50,
     "metadata": {},
     "output_type": "execute_result"
    }
   ],
   "source": [
    "y_train[y_train == 1].shape"
   ]
  },
  {
   "cell_type": "code",
   "execution_count": 67,
   "metadata": {},
   "outputs": [],
   "source": [
    "y_pred = model.predict(X_test)"
   ]
  },
  {
   "cell_type": "code",
   "execution_count": 68,
   "metadata": {},
   "outputs": [],
   "source": [
    "y_pred[y_pred > 0.8] = 1"
   ]
  },
  {
   "cell_type": "code",
   "execution_count": 69,
   "metadata": {},
   "outputs": [],
   "source": [
    "y_pred[y_pred < 0.5] = 0"
   ]
  },
  {
   "cell_type": "code",
   "execution_count": 70,
   "metadata": {},
   "outputs": [
    {
     "data": {
      "text/plain": [
       "(79,)"
      ]
     },
     "execution_count": 70,
     "metadata": {},
     "output_type": "execute_result"
    }
   ],
   "source": [
    "y_pred[y_pred == 1].shape"
   ]
  },
  {
   "cell_type": "code",
   "execution_count": 71,
   "metadata": {},
   "outputs": [
    {
     "data": {
      "text/plain": [
       "array([[  70],\n",
       "       [ 256],\n",
       "       [ 271],\n",
       "       [ 301],\n",
       "       [ 396],\n",
       "       [ 400],\n",
       "       [ 448],\n",
       "       [ 490],\n",
       "       [ 574],\n",
       "       [ 575],\n",
       "       [ 661],\n",
       "       [ 850],\n",
       "       [ 868],\n",
       "       [ 918],\n",
       "       [ 930],\n",
       "       [1009],\n",
       "       [1197],\n",
       "       [1280],\n",
       "       [1311],\n",
       "       [1412],\n",
       "       [1675],\n",
       "       [1776],\n",
       "       [1818],\n",
       "       [1826],\n",
       "       [1877],\n",
       "       [1980],\n",
       "       [2126],\n",
       "       [2142],\n",
       "       [2514],\n",
       "       [2561],\n",
       "       [2642],\n",
       "       [3029],\n",
       "       [3102],\n",
       "       [3157],\n",
       "       [3587],\n",
       "       [3591],\n",
       "       [3741],\n",
       "       [3838],\n",
       "       [3868],\n",
       "       [4022],\n",
       "       [4186],\n",
       "       [4345],\n",
       "       [4356],\n",
       "       [4477],\n",
       "       [4487],\n",
       "       [4749],\n",
       "       [5190],\n",
       "       [5345],\n",
       "       [5471],\n",
       "       [5487],\n",
       "       [5507],\n",
       "       [5571],\n",
       "       [5776],\n",
       "       [5793],\n",
       "       [5850],\n",
       "       [5907],\n",
       "       [5927],\n",
       "       [5929],\n",
       "       [5960],\n",
       "       [6010],\n",
       "       [6121],\n",
       "       [6262],\n",
       "       [6329],\n",
       "       [6355],\n",
       "       [6444],\n",
       "       [6489],\n",
       "       [6533],\n",
       "       [6572],\n",
       "       [6595],\n",
       "       [6596],\n",
       "       [6700],\n",
       "       [6800],\n",
       "       [6837],\n",
       "       [6866],\n",
       "       [6996],\n",
       "       [7003],\n",
       "       [7094],\n",
       "       [7171],\n",
       "       [7179]])"
      ]
     },
     "execution_count": 71,
     "metadata": {},
     "output_type": "execute_result"
    }
   ],
   "source": [
    "np.argwhere(y_pred == 1)"
   ]
  },
  {
   "cell_type": "code",
   "execution_count": null,
   "metadata": {},
   "outputs": [],
   "source": []
  }
 ],
 "metadata": {
  "interpreter": {
   "hash": "e7370f93d1d0cde622a1f8e1c04877d8463912d04d973331ad4851f04de6915a"
  },
  "kernelspec": {
   "display_name": "Python 3.8.10 64-bit",
   "language": "python",
   "name": "python3"
  },
  "language_info": {
   "codemirror_mode": {
    "name": "ipython",
    "version": 3
   },
   "file_extension": ".py",
   "mimetype": "text/x-python",
   "name": "python",
   "nbconvert_exporter": "python",
   "pygments_lexer": "ipython3",
   "version": "3.8.10"
  },
  "orig_nbformat": 4
 },
 "nbformat": 4,
 "nbformat_minor": 2
}
