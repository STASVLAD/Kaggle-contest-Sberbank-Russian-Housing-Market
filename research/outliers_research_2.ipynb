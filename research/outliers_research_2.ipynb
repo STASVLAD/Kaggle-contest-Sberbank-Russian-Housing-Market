{
 "cells": [
  {
   "cell_type": "code",
   "execution_count": 1,
   "metadata": {},
   "outputs": [
    {
     "name": "stdout",
     "output_type": "stream",
     "text": [
      "/home/stasvlad/Documents/hse/sberbank\n"
     ]
    }
   ],
   "source": [
    "%cd /home/stasvlad/Documents/hse/sberbank"
   ]
  },
  {
   "cell_type": "code",
   "execution_count": 2,
   "metadata": {},
   "outputs": [],
   "source": [
    "from utils import *\n",
    "\n",
    "import folium\n",
    "import geopandas as gpd\n",
    "from shapely.geometry import Point\n",
    "\n",
    "import numpy as np\n",
    "import pandas as pd\n",
    "import matplotlib.pyplot as plt\n",
    "from tqdm.notebook import tqdm"
   ]
  },
  {
   "cell_type": "code",
   "execution_count": 3,
   "metadata": {},
   "outputs": [],
   "source": [
    "train_df = pd.read_csv('data/train.csv', index_col='id', parse_dates=['timestamp'])\n",
    "test_df = pd.read_csv('data/test.csv', index_col='id', parse_dates=['timestamp'])\n",
    "\n",
    "train_df = encode(train_df)\n",
    "test_df = encode(test_df)\n",
    "\n",
    "all_df = pd.concat([train_df, test_df])"
   ]
  },
  {
   "cell_type": "code",
   "execution_count": 4,
   "metadata": {},
   "outputs": [
    {
     "data": {
      "text/html": [
       "<div>\n",
       "<style scoped>\n",
       "    .dataframe tbody tr th:only-of-type {\n",
       "        vertical-align: middle;\n",
       "    }\n",
       "\n",
       "    .dataframe tbody tr th {\n",
       "        vertical-align: top;\n",
       "    }\n",
       "\n",
       "    .dataframe thead th {\n",
       "        text-align: right;\n",
       "    }\n",
       "</style>\n",
       "<table border=\"1\" class=\"dataframe\">\n",
       "  <thead>\n",
       "    <tr style=\"text-align: right;\">\n",
       "      <th></th>\n",
       "      <th>full_sq</th>\n",
       "      <th>life_sq</th>\n",
       "      <th>floor</th>\n",
       "      <th>max_floor</th>\n",
       "      <th>material</th>\n",
       "      <th>build_year</th>\n",
       "      <th>num_room</th>\n",
       "      <th>kitch_sq</th>\n",
       "      <th>state</th>\n",
       "      <th>product_type</th>\n",
       "      <th>...</th>\n",
       "      <th>big_church_count_5000</th>\n",
       "      <th>church_count_5000</th>\n",
       "      <th>mosque_count_5000</th>\n",
       "      <th>leisure_count_5000</th>\n",
       "      <th>sport_count_5000</th>\n",
       "      <th>market_count_5000</th>\n",
       "      <th>price_doc</th>\n",
       "      <th>timestamp_year</th>\n",
       "      <th>timestamp_month</th>\n",
       "      <th>timestamp_day</th>\n",
       "    </tr>\n",
       "    <tr>\n",
       "      <th>id</th>\n",
       "      <th></th>\n",
       "      <th></th>\n",
       "      <th></th>\n",
       "      <th></th>\n",
       "      <th></th>\n",
       "      <th></th>\n",
       "      <th></th>\n",
       "      <th></th>\n",
       "      <th></th>\n",
       "      <th></th>\n",
       "      <th></th>\n",
       "      <th></th>\n",
       "      <th></th>\n",
       "      <th></th>\n",
       "      <th></th>\n",
       "      <th></th>\n",
       "      <th></th>\n",
       "      <th></th>\n",
       "      <th></th>\n",
       "      <th></th>\n",
       "      <th></th>\n",
       "    </tr>\n",
       "  </thead>\n",
       "  <tbody>\n",
       "    <tr>\n",
       "      <th>1</th>\n",
       "      <td>43.0</td>\n",
       "      <td>27.0</td>\n",
       "      <td>4.0</td>\n",
       "      <td>NaN</td>\n",
       "      <td>NaN</td>\n",
       "      <td>NaN</td>\n",
       "      <td>NaN</td>\n",
       "      <td>NaN</td>\n",
       "      <td>NaN</td>\n",
       "      <td>0.0</td>\n",
       "      <td>...</td>\n",
       "      <td>13</td>\n",
       "      <td>22</td>\n",
       "      <td>1</td>\n",
       "      <td>0</td>\n",
       "      <td>52</td>\n",
       "      <td>4</td>\n",
       "      <td>5850000.0</td>\n",
       "      <td>2011</td>\n",
       "      <td>8</td>\n",
       "      <td>20</td>\n",
       "    </tr>\n",
       "    <tr>\n",
       "      <th>2</th>\n",
       "      <td>34.0</td>\n",
       "      <td>19.0</td>\n",
       "      <td>3.0</td>\n",
       "      <td>NaN</td>\n",
       "      <td>NaN</td>\n",
       "      <td>NaN</td>\n",
       "      <td>NaN</td>\n",
       "      <td>NaN</td>\n",
       "      <td>NaN</td>\n",
       "      <td>0.0</td>\n",
       "      <td>...</td>\n",
       "      <td>15</td>\n",
       "      <td>29</td>\n",
       "      <td>1</td>\n",
       "      <td>10</td>\n",
       "      <td>66</td>\n",
       "      <td>14</td>\n",
       "      <td>6000000.0</td>\n",
       "      <td>2011</td>\n",
       "      <td>8</td>\n",
       "      <td>23</td>\n",
       "    </tr>\n",
       "    <tr>\n",
       "      <th>3</th>\n",
       "      <td>43.0</td>\n",
       "      <td>29.0</td>\n",
       "      <td>2.0</td>\n",
       "      <td>NaN</td>\n",
       "      <td>NaN</td>\n",
       "      <td>NaN</td>\n",
       "      <td>NaN</td>\n",
       "      <td>NaN</td>\n",
       "      <td>NaN</td>\n",
       "      <td>0.0</td>\n",
       "      <td>...</td>\n",
       "      <td>11</td>\n",
       "      <td>27</td>\n",
       "      <td>0</td>\n",
       "      <td>4</td>\n",
       "      <td>67</td>\n",
       "      <td>10</td>\n",
       "      <td>5700000.0</td>\n",
       "      <td>2011</td>\n",
       "      <td>8</td>\n",
       "      <td>27</td>\n",
       "    </tr>\n",
       "    <tr>\n",
       "      <th>4</th>\n",
       "      <td>89.0</td>\n",
       "      <td>50.0</td>\n",
       "      <td>9.0</td>\n",
       "      <td>NaN</td>\n",
       "      <td>NaN</td>\n",
       "      <td>NaN</td>\n",
       "      <td>NaN</td>\n",
       "      <td>NaN</td>\n",
       "      <td>NaN</td>\n",
       "      <td>0.0</td>\n",
       "      <td>...</td>\n",
       "      <td>4</td>\n",
       "      <td>4</td>\n",
       "      <td>0</td>\n",
       "      <td>0</td>\n",
       "      <td>26</td>\n",
       "      <td>3</td>\n",
       "      <td>13100000.0</td>\n",
       "      <td>2011</td>\n",
       "      <td>9</td>\n",
       "      <td>1</td>\n",
       "    </tr>\n",
       "    <tr>\n",
       "      <th>5</th>\n",
       "      <td>77.0</td>\n",
       "      <td>77.0</td>\n",
       "      <td>4.0</td>\n",
       "      <td>NaN</td>\n",
       "      <td>NaN</td>\n",
       "      <td>NaN</td>\n",
       "      <td>NaN</td>\n",
       "      <td>NaN</td>\n",
       "      <td>NaN</td>\n",
       "      <td>0.0</td>\n",
       "      <td>...</td>\n",
       "      <td>135</td>\n",
       "      <td>236</td>\n",
       "      <td>2</td>\n",
       "      <td>91</td>\n",
       "      <td>195</td>\n",
       "      <td>14</td>\n",
       "      <td>16331452.0</td>\n",
       "      <td>2011</td>\n",
       "      <td>9</td>\n",
       "      <td>5</td>\n",
       "    </tr>\n",
       "  </tbody>\n",
       "</table>\n",
       "<p>5 rows × 293 columns</p>\n",
       "</div>"
      ],
      "text/plain": [
       "    full_sq  life_sq  floor  max_floor  material  build_year  num_room  \\\n",
       "id                                                                       \n",
       "1      43.0     27.0    4.0        NaN       NaN         NaN       NaN   \n",
       "2      34.0     19.0    3.0        NaN       NaN         NaN       NaN   \n",
       "3      43.0     29.0    2.0        NaN       NaN         NaN       NaN   \n",
       "4      89.0     50.0    9.0        NaN       NaN         NaN       NaN   \n",
       "5      77.0     77.0    4.0        NaN       NaN         NaN       NaN   \n",
       "\n",
       "    kitch_sq  state  product_type  ... big_church_count_5000  \\\n",
       "id                                 ...                         \n",
       "1        NaN    NaN           0.0  ...                    13   \n",
       "2        NaN    NaN           0.0  ...                    15   \n",
       "3        NaN    NaN           0.0  ...                    11   \n",
       "4        NaN    NaN           0.0  ...                     4   \n",
       "5        NaN    NaN           0.0  ...                   135   \n",
       "\n",
       "    church_count_5000  mosque_count_5000  leisure_count_5000  \\\n",
       "id                                                             \n",
       "1                  22                  1                   0   \n",
       "2                  29                  1                  10   \n",
       "3                  27                  0                   4   \n",
       "4                   4                  0                   0   \n",
       "5                 236                  2                  91   \n",
       "\n",
       "    sport_count_5000  market_count_5000   price_doc  timestamp_year  \\\n",
       "id                                                                    \n",
       "1                 52                  4   5850000.0            2011   \n",
       "2                 66                 14   6000000.0            2011   \n",
       "3                 67                 10   5700000.0            2011   \n",
       "4                 26                  3  13100000.0            2011   \n",
       "5                195                 14  16331452.0            2011   \n",
       "\n",
       "    timestamp_month  timestamp_day  \n",
       "id                                  \n",
       "1                 8             20  \n",
       "2                 8             23  \n",
       "3                 8             27  \n",
       "4                 9              1  \n",
       "5                 9              5  \n",
       "\n",
       "[5 rows x 293 columns]"
      ]
     },
     "execution_count": 4,
     "metadata": {},
     "output_type": "execute_result"
    }
   ],
   "source": [
    "all_df.head()"
   ]
  },
  {
   "cell_type": "markdown",
   "metadata": {},
   "source": [
    "Numerical outliers"
   ]
  },
  {
   "cell_type": "code",
   "execution_count": 5,
   "metadata": {},
   "outputs": [],
   "source": [
    "all_df.loc[all_df['full_sq'] < 10, 'full_sq'] = np.nan\n",
    "all_df.loc[all_df['full_sq'] > 250, 'full_sq'] /= 10\n",
    "all_df.loc[all_df['full_sq'] > 1000, 'full_sq'] /= 100  # >1500 : np.nan\n",
    "\n",
    "all_df.loc[all_df['life_sq'] < 7, 'life_sq'] = np.nan  # 5\n",
    "all_df.loc[all_df['life_sq'] > 500, 'life_sq'] = np.nan\n",
    "\n",
    "all_df.loc[all_df['floor'] == 0, 'floor'] = np.nan\n",
    "all_df.loc[all_df['floor'] == 77, 'floor'] = np.nan\n",
    "\n",
    "all_df.loc[all_df['max_floor'] == 0, 'max_floor'] = np.nan\n",
    "all_df.loc[all_df['max_floor'] > 57, 'max_floor'] = np.nan\n",
    "\n",
    "all_df.loc[all_df['build_year'] == 2, 'build_year'] = 2014\n",
    "all_df.loc[all_df['build_year'] == 20, 'build_year'] = 2014\n",
    "all_df.loc[all_df['build_year'] == 215, 'build_year'] = 2015\n",
    "all_df.loc[all_df['build_year'] == 1691, 'build_year'] = 1961\n",
    "all_df.loc[all_df['build_year'] == 4965, 'build_year'] = 1965\n",
    "all_df.loc[all_df['build_year'] == 20052009, 'build_year'] = 2009\n",
    "all_df.loc[all_df['build_year'] < 1850, 'build_year'] = np.nan\n",
    "all_df.loc[all_df['build_year'] > 2020, 'build_year'] = np.nan\n",
    "\n",
    "all_df.loc[all_df['num_room'] == 0, 'num_room'] = np.nan\n",
    "all_df.loc[all_df['num_room'] > 15, 'num_room'] = np.nan\n",
    "\n",
    "all_df.loc[all_df['kitch_sq'] > 500, 'kitch_sq'] = np.nan\n",
    "all_df.loc[all_df['kitch_sq'] < 5, 'kitch_sq'] = np.nan  # 2\n",
    "\n",
    "all_df.loc[all_df['state'] > 30, 'state'] = np.nan\n"
   ]
  },
  {
   "cell_type": "markdown",
   "metadata": {},
   "source": [
    "Logical outliers"
   ]
  },
  {
   "cell_type": "code",
   "execution_count": 6,
   "metadata": {},
   "outputs": [],
   "source": [
    "all_df.loc[all_df['life_sq'] > all_df['full_sq'], 'life_sq'] = np.nan\n",
    "all_df.loc[all_df['floor'] > all_df['max_floor'], 'max_floor'] = np.nan\n",
    "all_df.loc[all_df['kitch_sq'] >= all_df['life_sq'], 'kitch_sq'] = np.nan"
   ]
  },
  {
   "cell_type": "markdown",
   "metadata": {},
   "source": [
    "Price outliers"
   ]
  },
  {
   "cell_type": "code",
   "execution_count": 7,
   "metadata": {},
   "outputs": [],
   "source": [
    "bins = np.linspace(100000, 100_000_000, 1000)\n",
    "bins = np.append(np.array(100), bins)"
   ]
  },
  {
   "cell_type": "code",
   "execution_count": 8,
   "metadata": {},
   "outputs": [
    {
     "data": {
      "text/plain": [
       "<AxesSubplot:>"
      ]
     },
     "execution_count": 8,
     "metadata": {},
     "output_type": "execute_result"
    },
    {
     "data": {
      "image/png": "[encoded data removed]",
      "text/plain": [
       "<Figure size 432x288 with 1 Axes>"
      ]
     },
     "metadata": {
      "needs_background": "light"
     },
     "output_type": "display_data"
    }
   ],
   "source": [
    "all_df['price_doc'].apply(np.log).hist(bins=np.log(bins))"
   ]
  },
  {
   "cell_type": "code",
   "execution_count": 67,
   "metadata": {},
   "outputs": [],
   "source": [
    "idx_outliers_high = all_df[all_df['price_doc'] / all_df['full_sq'] > 600000].index  # 600000\n",
    "idx_outliers_low = all_df[all_df['price_doc'] / all_df['full_sq'] < 30000].index\n",
    "idx_outliers = idx_outliers_low.append(idx_outliers_high)"
   ]
  },
  {
   "cell_type": "code",
   "execution_count": 68,
   "metadata": {},
   "outputs": [
    {
     "data": {
      "text/plain": [
       "0.0    1073\n",
       "1.0       6\n",
       "Name: product_type, dtype: int64"
      ]
     },
     "execution_count": 68,
     "metadata": {},
     "output_type": "execute_result"
    }
   ],
   "source": [
    "all_df.loc[idx_outliers].product_type.value_counts()"
   ]
  },
  {
   "cell_type": "code",
   "execution_count": 69,
   "metadata": {},
   "outputs": [
    {
     "data": {
      "text/plain": [
       "<AxesSubplot:>"
      ]
     },
     "execution_count": 69,
     "metadata": {},
     "output_type": "execute_result"
    },
    {
     "data": {
      "image/png": "[encoded data removed]",
      "text/plain": [
       "<Figure size 432x288 with 1 Axes>"
      ]
     },
     "metadata": {
      "needs_background": "light"
     },
     "output_type": "display_data"
    }
   ],
   "source": [
    "all_df.drop(idx_outliers, axis=0)['price_doc'].apply(np.log).hist(bins=np.log(bins))"
   ]
  },
  {
   "cell_type": "code",
   "execution_count": 70,
   "metadata": {},
   "outputs": [],
   "source": [
    "all_df.drop(idx_outliers, axis=0, inplace=True)"
   ]
  },
  {
   "cell_type": "code",
   "execution_count": 75,
   "metadata": {},
   "outputs": [
    {
     "data": {
      "text/plain": [
       "<AxesSubplot:>"
      ]
     },
     "execution_count": 75,
     "metadata": {},
     "output_type": "execute_result"
    },
    {
     "data": {
      "image/png": "[encoded data removed]",
      "text/plain": [
       "<Figure size 432x288 with 1 Axes>"
      ]
     },
     "metadata": {
      "needs_background": "light"
     },
     "output_type": "display_data"
    }
   ],
   "source": [
    "all_df[all_df['product_type'] == 0]['price_doc'].apply(np.log).hist(bins=np.log(bins))"
   ]
  },
  {
   "cell_type": "code",
   "execution_count": 85,
   "metadata": {},
   "outputs": [],
   "source": [
    "idx_1M = all_df.loc[(all_df['product_type'] == 0) & (all_df['price_doc'] == 1_000_000)].index.values\n",
    "idx_2M = all_df.loc[(all_df['product_type'] == 0) & (all_df['price_doc'] == 2_000_000)].index.values\n",
    "idx_3M = all_df.loc[(all_df['product_type'] == 0) & (all_df['price_doc'] == 3_000_000)].index.values"
   ]
  },
  {
   "cell_type": "code",
   "execution_count": 103,
   "metadata": {},
   "outputs": [
    {
     "data": {
      "text/plain": [
       "<AxesSubplot:>"
      ]
     },
     "execution_count": 103,
     "metadata": {},
     "output_type": "execute_result"
    },
    {
     "data": {
      "image/png": "[encoded data removed]",
      "text/plain": [
       "<Figure size 432x288 with 1 Axes>"
      ]
     },
     "metadata": {
      "needs_background": "light"
     },
     "output_type": "display_data"
    }
   ],
   "source": [
    "idx_1M_usampled = np.random.choice(idx_1M, size=int(0.7 * len(idx_1M)), replace=False)\n",
    "all_df[all_df['product_type'] == 0]['price_doc'].drop(idx_1M_usampled, axis=0).apply(np.log).hist(bins=np.log(bins))"
   ]
  },
  {
   "cell_type": "code",
   "execution_count": 106,
   "metadata": {},
   "outputs": [
    {
     "data": {
      "text/plain": [
       "<AxesSubplot:>"
      ]
     },
     "execution_count": 106,
     "metadata": {},
     "output_type": "execute_result"
    },
    {
     "data": {
      "image/png": "[encoded data removed]",
      "text/plain": [
       "<Figure size 432x288 with 1 Axes>"
      ]
     },
     "metadata": {
      "needs_background": "light"
     },
     "output_type": "display_data"
    }
   ],
   "source": [
    "idx_2M_usampled = np.random.choice(idx_2M, size=int(0.95 * len(idx_2M)), replace=False)\n",
    "all_df[all_df['product_type'] == 0]['price_doc'].drop(idx_2M_usampled, axis=0).apply(np.log).hist(bins=np.log(bins))"
   ]
  },
  {
   "cell_type": "code",
   "execution_count": 111,
   "metadata": {},
   "outputs": [
    {
     "data": {
      "text/plain": [
       "<AxesSubplot:>"
      ]
     },
     "execution_count": 111,
     "metadata": {},
     "output_type": "execute_result"
    },
    {
     "data": {
      "image/png": "[encoded data removed]",
      "text/plain": [
       "<Figure size 432x288 with 1 Axes>"
      ]
     },
     "metadata": {
      "needs_background": "light"
     },
     "output_type": "display_data"
    }
   ],
   "source": [
    "idx_3M_usampled = np.random.choice(idx_3M, size=int(0.8 * len(idx_3M)), replace=False)\n",
    "all_df[all_df['product_type'] == 0]['price_doc'].drop(idx_3M_usampled, axis=0).apply(np.log).hist(bins=np.log(bins))"
   ]
  },
  {
   "cell_type": "code",
   "execution_count": null,
   "metadata": {},
   "outputs": [],
   "source": [
    "test_df_nan = test_df[test_df['product_type'].isna()]\n",
    "X_test_nan = test_df_nan.drop(['sub_area'], axis=1).copy()"
   ]
  },
  {
   "cell_type": "code",
   "execution_count": null,
   "metadata": {},
   "outputs": [],
   "source": [
    "submission = pd.read_csv('data/sample_submission.csv', index_col='id')\n",
    "pred_0 = model_0.predict(X_test_0)\n",
    "pred_1 = model_1.predict(X_test_1)\n",
    "pred_nan = model_1.predict(X_test_nan)\n",
    "\n",
    "if len(pred_0[pred_0 < 0]) or len(pred_1[pred_1 < 0]) or len(pred_nan[pred_nan < 0]):\n",
    "    print('WARNING: NEGATIVE PREDICTIONS')"
   ]
  },
  {
   "cell_type": "code",
   "execution_count": null,
   "metadata": {},
   "outputs": [],
   "source": [
    "submission.loc[X_test_0.index, 'price_doc'] = pred_0\n",
    "submission.loc[X_test_1.index, 'price_doc'] = pred_1\n",
    "submission.loc[X_test_nan.index, 'price_doc'] = pred_nan\n",
    "submission.to_csv('submission.csv', index='id')"
   ]
  }
 ],
 "metadata": {
  "interpreter": {
   "hash": "e7370f93d1d0cde622a1f8e1c04877d8463912d04d973331ad4851f04de6915a"
  },
  "kernelspec": {
   "display_name": "Python 3.8.10 64-bit",
   "language": "python",
   "name": "python3"
  },
  "language_info": {
   "codemirror_mode": {
    "name": "ipython",
    "version": 3
   },
   "file_extension": ".py",
   "mimetype": "text/x-python",
   "name": "python",
   "nbconvert_exporter": "python",
   "pygments_lexer": "ipython3",
   "version": "3.8.10"
  },
  "orig_nbformat": 4
 },
 "nbformat": 4,
 "nbformat_minor": 2
}
