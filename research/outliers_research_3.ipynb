{
 "cells": [
  {
   "cell_type": "code",
   "execution_count": 1,
   "metadata": {},
   "outputs": [
    {
     "name": "stdout",
     "output_type": "stream",
     "text": [
      "/home/stasvlad/Documents/hse/sberbank\n"
     ]
    }
   ],
   "source": [
    "%cd ~/Documents/hse/sberbank"
   ]
  },
  {
   "cell_type": "code",
   "execution_count": 2,
   "metadata": {
    "id": "2TDIoXTN-wtp"
   },
   "outputs": [],
   "source": [
    "from utils import *\n",
    "\n",
    "import numpy as np\n",
    "import pandas as pd\n",
    "\n",
    "from sklearn.metrics import mean_squared_log_error, mean_absolute_error, mean_squared_error\n",
    "from sklearn.model_selection import train_test_split, cross_val_score, KFold\n",
    "from sklearn.tree import DecisionTreeRegressor\n",
    "from sklearn.pipeline import make_pipeline\n",
    "from sklearn.ensemble import AdaBoostRegressor, RandomForestRegressor, ExtraTreesRegressor, GradientBoostingRegressor\n",
    "from sklearn.linear_model import LinearRegression\n",
    "from sklearn.impute import SimpleImputer\n",
    "from sklearn.neural_network import MLPRegressor\n",
    "from sklearn.preprocessing import StandardScaler\n",
    "\n",
    "import lightgbm as lgb\n",
    "from xgboost import XGBRegressor, DMatrix, cv\n",
    "from xgboost import train as train_xgb"
   ]
  },
  {
   "cell_type": "markdown",
   "metadata": {
    "id": "70sx-8YD-wtx"
   },
   "source": [
    "## Data description"
   ]
  },
  {
   "cell_type": "code",
   "execution_count": 3,
   "metadata": {
    "colab": {
     "base_uri": "https://localhost:8080/"
    },
    "id": "lgqwWeGS-wtz",
    "outputId": "7ce4db16-583d-40af-afa9-a00f6aebc45c"
   },
   "outputs": [
    {
     "name": "stdout",
     "output_type": "stream",
     "text": [
      "Fix:  550\n",
      "Fix:  149\n"
     ]
    }
   ],
   "source": [
    "macro_df = pd.read_csv('data/macro.csv', parse_dates=['timestamp'])\n",
    "train_df = pd.read_csv('data/train.csv', index_col='id', parse_dates=['timestamp'])\n",
    "test_df = pd.read_csv('data/test.csv', index_col='id', parse_dates=['timestamp'])\n",
    "tverskoe_issue_fix(train_df)\n",
    "tverskoe_issue_fix(test_df)"
   ]
  },
  {
   "cell_type": "code",
   "execution_count": 4,
   "metadata": {},
   "outputs": [],
   "source": [
    "from IPython.display import set_matplotlib_formats\n",
    "# STYLE\n",
    "plt.style.use('seaborn-ticks')\n",
    "# SVG\n",
    "set_matplotlib_formats('svg')"
   ]
  },
  {
   "cell_type": "code",
   "execution_count": 7,
   "metadata": {},
   "outputs": [
    {
     "data": {
      "image/svg+xml": "<?xml version=\"1.0\" encoding=\"utf-8\" standalone=\"no\"?>\n<!DOCTYPE svg PUBLIC \"-//W3C//DTD SVG 1.1//EN\"\n  \"http://www.w3.org/Graphics/SVG/1.1/DTD/svg11.dtd\">\n<!-- Created with matplotlib (https://matplotlib.org/) -->\n<svg height=\"413.741875pt\" version=\"1.1\" viewBox=\"0 0 598.582813 413.741875\" width=\"598.582813pt\" xmlns=\"http://www.w3.org/2000/svg\" xmlns:xlink=\"http://www.w3.org/1999/xlink\">\n <metadata>\n  <rdf:RDF xmlns:cc=\"http://creativecommons.org/ns#\" xmlns:dc=\"http://purl.org/dc/elements/1.1/\" xmlns:rdf=\"http://www.w3.org/1999/02/22-rdf-syntax-ns#\">\n   <cc:Work>\n    <dc:type rdf:resource=\"http://purl.org/dc/dcmitype/StillImage\"/>\n    <dc:date>2021-12-16T04:11:25.775785</dc:date>\n    <dc:format>image/svg+xml</dc:format>\n    <dc:creator>\n     <cc:Agent>\n      <dc:title>Matplotlib v3.3.3, https://matplotlib.org/</dc:title>\n     </cc:Agent>\n    </dc:creator>\n   </cc:Work>\n  </rdf:RDF>\n </metadata>\n <defs>\n  <style type=\"text/css\">*{stroke-linecap:butt;stroke-linejoin:round;}</style>\n </defs>\n <g id=\"figure_1\">\n  <g id=\"patch_1\">\n   <path d=\"M -0 413.741875 \nL 598.582813 413.741875 \nL 598.582813 0 \nL -0 0 \nz\n\" style=\"fill:#ffffff;\"/>\n  </g>\n  <g id=\"axes_1\">\n   <g id=\"patch_2\">\n    <path d=\"M 33.382812 387.72 \nL 591.382812 387.72 \nL 591.382812 7.2 \nL 33.382812 7.2 \nz\n\" style=\"fill:#ffffff;\"/>\n   </g>\n   <g id=\"matplotlib.axis_1\">\n    <g id=\"xtick_1\">\n     <g id=\"line2d_1\">\n      <path clip-path=\"url(#p4765a1da2d)\" d=\"M 53.617855 387.72 \nL 53.617855 7.2 \n\" style=\"fill:none;stroke:#cccccc;stroke-linecap:round;stroke-width:0.8;\"/>\n     </g>\n     <g id=\"line2d_2\">\n      <defs>\n       <path d=\"M 0 0 \nL 0 6 \n\" id=\"mca70b8de5a\" style=\"stroke:#262626;stroke-width:0.8;\"/>\n      </defs>\n      <g>\n       <use style=\"fill:#262626;stroke:#262626;stroke-width:0.8;\" x=\"53.617855\" xlink:href=\"#mca70b8de5a\" y=\"387.72\"/>\n      </g>\n     </g>\n     <g id=\"text_1\">\n      <!-- 0 -->\n      <g style=\"fill:#262626;\" transform=\"translate(50.837387 404.466875)scale(0.1 -0.1)\">\n       <defs>\n        <path d=\"M 51.703125 34.421875 \nQ 51.703125 17.1875 45.625 8.09375 \nQ 39.546875 -0.984375 27.6875 -0.984375 \nQ 15.828125 -0.984375 9.859375 8.046875 \nQ 3.90625 17.09375 3.90625 34.421875 \nQ 3.90625 52.15625 9.6875 60.984375 \nQ 15.484375 69.828125 27.984375 69.828125 \nQ 40.140625 69.828125 45.921875 60.890625 \nQ 51.703125 51.953125 51.703125 34.421875 \nz\nM 42.78125 34.421875 \nQ 42.78125 49.3125 39.328125 56 \nQ 35.890625 62.703125 27.984375 62.703125 \nQ 19.875 62.703125 16.328125 56.109375 \nQ 12.796875 49.515625 12.796875 34.421875 \nQ 12.796875 19.78125 16.375 12.984375 \nQ 19.96875 6.203125 27.78125 6.203125 \nQ 35.546875 6.203125 39.15625 13.125 \nQ 42.78125 20.0625 42.78125 34.421875 \nz\n\" id=\"LiberationSans-48\"/>\n       </defs>\n       <use xlink:href=\"#LiberationSans-48\"/>\n      </g>\n     </g>\n    </g>\n    <g id=\"xtick_2\">\n     <g id=\"line2d_3\">\n      <path clip-path=\"url(#p4765a1da2d)\" d=\"M 156.189726 387.72 \nL 156.189726 7.2 \n\" style=\"fill:none;stroke:#cccccc;stroke-linecap:round;stroke-width:0.8;\"/>\n     </g>\n     <g id=\"line2d_4\">\n      <g>\n       <use style=\"fill:#262626;stroke:#262626;stroke-width:0.8;\" x=\"156.189726\" xlink:href=\"#mca70b8de5a\" y=\"387.72\"/>\n      </g>\n     </g>\n     <g id=\"text_2\">\n      <!-- 2000000 -->\n      <g style=\"fill:#262626;\" transform=\"translate(136.726445 404.466875)scale(0.1 -0.1)\">\n       <defs>\n        <path d=\"M 5.03125 0 \nL 5.03125 6.203125 \nQ 7.515625 11.921875 11.109375 16.28125 \nQ 14.703125 20.65625 18.65625 24.1875 \nQ 22.609375 27.734375 26.484375 30.765625 \nQ 30.375 33.796875 33.5 36.8125 \nQ 36.625 39.84375 38.546875 43.15625 \nQ 40.484375 46.484375 40.484375 50.6875 \nQ 40.484375 56.34375 37.15625 59.46875 \nQ 33.84375 62.59375 27.9375 62.59375 \nQ 22.3125 62.59375 18.671875 59.546875 \nQ 15.046875 56.5 14.40625 50.984375 \nL 5.421875 51.8125 \nQ 6.390625 60.0625 12.421875 64.9375 \nQ 18.453125 69.828125 27.9375 69.828125 \nQ 38.328125 69.828125 43.921875 64.921875 \nQ 49.515625 60.015625 49.515625 50.984375 \nQ 49.515625 46.96875 47.671875 43.015625 \nQ 45.84375 39.0625 42.234375 35.109375 \nQ 38.625 31.15625 28.421875 22.859375 \nQ 22.796875 18.265625 19.46875 14.578125 \nQ 16.15625 10.890625 14.703125 7.46875 \nL 50.59375 7.46875 \nL 50.59375 0 \nz\n\" id=\"LiberationSans-50\"/>\n       </defs>\n       <use xlink:href=\"#LiberationSans-50\"/>\n       <use x=\"55.615234\" xlink:href=\"#LiberationSans-48\"/>\n       <use x=\"111.230469\" xlink:href=\"#LiberationSans-48\"/>\n       <use x=\"166.845703\" xlink:href=\"#LiberationSans-48\"/>\n       <use x=\"222.460938\" xlink:href=\"#LiberationSans-48\"/>\n       <use x=\"278.076172\" xlink:href=\"#LiberationSans-48\"/>\n       <use x=\"333.691406\" xlink:href=\"#LiberationSans-48\"/>\n      </g>\n     </g>\n    </g>\n    <g id=\"xtick_3\">\n     <g id=\"line2d_5\">\n      <path clip-path=\"url(#p4765a1da2d)\" d=\"M 258.761598 387.72 \nL 258.761598 7.2 \n\" style=\"fill:none;stroke:#cccccc;stroke-linecap:round;stroke-width:0.8;\"/>\n     </g>\n     <g id=\"line2d_6\">\n      <g>\n       <use style=\"fill:#262626;stroke:#262626;stroke-width:0.8;\" x=\"258.761598\" xlink:href=\"#mca70b8de5a\" y=\"387.72\"/>\n      </g>\n     </g>\n     <g id=\"text_3\">\n      <!-- 4000000 -->\n      <g style=\"fill:#262626;\" transform=\"translate(239.298316 404.466875)scale(0.1 -0.1)\">\n       <defs>\n        <path d=\"M 43.015625 15.578125 \nL 43.015625 0 \nL 34.71875 0 \nL 34.71875 15.578125 \nL 2.296875 15.578125 \nL 2.296875 22.40625 \nL 33.796875 68.796875 \nL 43.015625 68.796875 \nL 43.015625 22.515625 \nL 52.6875 22.515625 \nL 52.6875 15.578125 \nz\nM 34.71875 58.890625 \nQ 34.625 58.59375 33.34375 56.296875 \nQ 32.078125 54 31.453125 53.078125 \nL 13.8125 27.09375 \nL 11.1875 23.484375 \nL 10.40625 22.515625 \nL 34.71875 22.515625 \nz\n\" id=\"LiberationSans-52\"/>\n       </defs>\n       <use xlink:href=\"#LiberationSans-52\"/>\n       <use x=\"55.615234\" xlink:href=\"#LiberationSans-48\"/>\n       <use x=\"111.230469\" xlink:href=\"#LiberationSans-48\"/>\n       <use x=\"166.845703\" xlink:href=\"#LiberationSans-48\"/>\n       <use x=\"222.460938\" xlink:href=\"#LiberationSans-48\"/>\n       <use x=\"278.076172\" xlink:href=\"#LiberationSans-48\"/>\n       <use x=\"333.691406\" xlink:href=\"#LiberationSans-48\"/>\n      </g>\n     </g>\n    </g>\n    <g id=\"xtick_4\">\n     <g id=\"line2d_7\">\n      <path clip-path=\"url(#p4765a1da2d)\" d=\"M 361.333469 387.72 \nL 361.333469 7.2 \n\" style=\"fill:none;stroke:#cccccc;stroke-linecap:round;stroke-width:0.8;\"/>\n     </g>\n     <g id=\"line2d_8\">\n      <g>\n       <use style=\"fill:#262626;stroke:#262626;stroke-width:0.8;\" x=\"361.333469\" xlink:href=\"#mca70b8de5a\" y=\"387.72\"/>\n      </g>\n     </g>\n     <g id=\"text_4\">\n      <!-- 6000000 -->\n      <g style=\"fill:#262626;\" transform=\"translate(341.870187 404.466875)scale(0.1 -0.1)\">\n       <defs>\n        <path d=\"M 51.21875 22.515625 \nQ 51.21875 11.625 45.3125 5.3125 \nQ 39.40625 -0.984375 29 -0.984375 \nQ 17.390625 -0.984375 11.234375 7.65625 \nQ 5.078125 16.3125 5.078125 32.8125 \nQ 5.078125 50.6875 11.46875 60.25 \nQ 17.875 69.828125 29.6875 69.828125 \nQ 45.265625 69.828125 49.3125 55.8125 \nL 40.921875 54.296875 \nQ 38.328125 62.703125 29.59375 62.703125 \nQ 22.078125 62.703125 17.9375 55.6875 \nQ 13.8125 48.6875 13.8125 35.40625 \nQ 16.21875 39.84375 20.5625 42.15625 \nQ 24.90625 44.484375 30.515625 44.484375 \nQ 40.046875 44.484375 45.625 38.515625 \nQ 51.21875 32.5625 51.21875 22.515625 \nz\nM 42.28125 22.125 \nQ 42.28125 29.59375 38.625 33.640625 \nQ 34.96875 37.703125 28.421875 37.703125 \nQ 22.265625 37.703125 18.484375 34.109375 \nQ 14.703125 30.515625 14.703125 24.21875 \nQ 14.703125 16.265625 18.625 11.1875 \nQ 22.5625 6.109375 28.71875 6.109375 \nQ 35.0625 6.109375 38.671875 10.375 \nQ 42.28125 14.65625 42.28125 22.125 \nz\n\" id=\"LiberationSans-54\"/>\n       </defs>\n       <use xlink:href=\"#LiberationSans-54\"/>\n       <use x=\"55.615234\" xlink:href=\"#LiberationSans-48\"/>\n       <use x=\"111.230469\" xlink:href=\"#LiberationSans-48\"/>\n       <use x=\"166.845703\" xlink:href=\"#LiberationSans-48\"/>\n       <use x=\"222.460938\" xlink:href=\"#LiberationSans-48\"/>\n       <use x=\"278.076172\" xlink:href=\"#LiberationSans-48\"/>\n       <use x=\"333.691406\" xlink:href=\"#LiberationSans-48\"/>\n      </g>\n     </g>\n    </g>\n    <g id=\"xtick_5\">\n     <g id=\"line2d_9\">\n      <path clip-path=\"url(#p4765a1da2d)\" d=\"M 463.90534 387.72 \nL 463.90534 7.2 \n\" style=\"fill:none;stroke:#cccccc;stroke-linecap:round;stroke-width:0.8;\"/>\n     </g>\n     <g id=\"line2d_10\">\n      <g>\n       <use style=\"fill:#262626;stroke:#262626;stroke-width:0.8;\" x=\"463.90534\" xlink:href=\"#mca70b8de5a\" y=\"387.72\"/>\n      </g>\n     </g>\n     <g id=\"text_5\">\n      <!-- 8000000 -->\n      <g style=\"fill:#262626;\" transform=\"translate(444.442058 404.466875)scale(0.1 -0.1)\">\n       <defs>\n        <path d=\"M 51.265625 19.1875 \nQ 51.265625 9.671875 45.203125 4.34375 \nQ 39.15625 -0.984375 27.828125 -0.984375 \nQ 16.796875 -0.984375 10.5625 4.234375 \nQ 4.34375 9.46875 4.34375 19.09375 \nQ 4.34375 25.828125 8.203125 30.421875 \nQ 12.0625 35.015625 18.0625 35.984375 \nL 18.0625 36.1875 \nQ 12.453125 37.5 9.203125 41.890625 \nQ 5.953125 46.296875 5.953125 52.203125 \nQ 5.953125 60.0625 11.828125 64.9375 \nQ 17.71875 69.828125 27.640625 69.828125 \nQ 37.796875 69.828125 43.671875 65.03125 \nQ 49.5625 60.25 49.5625 52.09375 \nQ 49.5625 46.1875 46.28125 41.796875 \nQ 43.015625 37.40625 37.359375 36.28125 \nL 37.359375 36.078125 \nQ 43.953125 35.015625 47.609375 30.5 \nQ 51.265625 25.984375 51.265625 19.1875 \nz\nM 40.4375 51.609375 \nQ 40.4375 63.28125 27.640625 63.28125 \nQ 21.4375 63.28125 18.1875 60.34375 \nQ 14.9375 57.421875 14.9375 51.609375 \nQ 14.9375 45.703125 18.28125 42.59375 \nQ 21.625 39.5 27.734375 39.5 \nQ 33.9375 39.5 37.1875 42.359375 \nQ 40.4375 45.21875 40.4375 51.609375 \nz\nM 42.140625 20.015625 \nQ 42.140625 26.421875 38.328125 29.65625 \nQ 34.515625 32.90625 27.640625 32.90625 \nQ 20.953125 32.90625 17.1875 29.40625 \nQ 13.421875 25.921875 13.421875 19.828125 \nQ 13.421875 5.609375 27.9375 5.609375 \nQ 35.109375 5.609375 38.625 9.046875 \nQ 42.140625 12.5 42.140625 20.015625 \nz\n\" id=\"LiberationSans-56\"/>\n       </defs>\n       <use xlink:href=\"#LiberationSans-56\"/>\n       <use x=\"55.615234\" xlink:href=\"#LiberationSans-48\"/>\n       <use x=\"111.230469\" xlink:href=\"#LiberationSans-48\"/>\n       <use x=\"166.845703\" xlink:href=\"#LiberationSans-48\"/>\n       <use x=\"222.460938\" xlink:href=\"#LiberationSans-48\"/>\n       <use x=\"278.076172\" xlink:href=\"#LiberationSans-48\"/>\n       <use x=\"333.691406\" xlink:href=\"#LiberationSans-48\"/>\n      </g>\n     </g>\n    </g>\n    <g id=\"xtick_6\">\n     <g id=\"line2d_11\">\n      <path clip-path=\"url(#p4765a1da2d)\" d=\"M 566.477211 387.72 \nL 566.477211 7.2 \n\" style=\"fill:none;stroke:#cccccc;stroke-linecap:round;stroke-width:0.8;\"/>\n     </g>\n     <g id=\"line2d_12\">\n      <g>\n       <use style=\"fill:#262626;stroke:#262626;stroke-width:0.8;\" x=\"566.477211\" xlink:href=\"#mca70b8de5a\" y=\"387.72\"/>\n      </g>\n     </g>\n     <g id=\"text_6\">\n      <!-- 10000000 -->\n      <g style=\"fill:#262626;\" transform=\"translate(544.233461 404.466875)scale(0.1 -0.1)\">\n       <defs>\n        <path d=\"M 7.625 0 \nL 7.625 7.46875 \nL 25.140625 7.46875 \nL 25.140625 60.40625 \nL 9.625 49.3125 \nL 9.625 57.625 \nL 25.875 68.796875 \nL 33.984375 68.796875 \nL 33.984375 7.46875 \nL 50.734375 7.46875 \nL 50.734375 0 \nz\n\" id=\"LiberationSans-49\"/>\n       </defs>\n       <use xlink:href=\"#LiberationSans-49\"/>\n       <use x=\"55.615234\" xlink:href=\"#LiberationSans-48\"/>\n       <use x=\"111.230469\" xlink:href=\"#LiberationSans-48\"/>\n       <use x=\"166.845703\" xlink:href=\"#LiberationSans-48\"/>\n       <use x=\"222.460938\" xlink:href=\"#LiberationSans-48\"/>\n       <use x=\"278.076172\" xlink:href=\"#LiberationSans-48\"/>\n       <use x=\"333.691406\" xlink:href=\"#LiberationSans-48\"/>\n       <use x=\"389.306641\" xlink:href=\"#LiberationSans-48\"/>\n      </g>\n     </g>\n    </g>\n   </g>\n   <g id=\"matplotlib.axis_2\">\n    <g id=\"ytick_1\">\n     <g id=\"line2d_13\">\n      <path clip-path=\"url(#p4765a1da2d)\" d=\"M 33.382812 387.72 \nL 591.382812 387.72 \n\" style=\"fill:none;stroke:#cccccc;stroke-linecap:round;stroke-width:0.8;\"/>\n     </g>\n     <g id=\"line2d_14\">\n      <defs>\n       <path d=\"M 0 0 \nL -6 0 \n\" id=\"mb4d7318178\" style=\"stroke:#262626;stroke-width:0.8;\"/>\n      </defs>\n      <g>\n       <use style=\"fill:#262626;stroke:#262626;stroke-width:0.8;\" x=\"33.382812\" xlink:href=\"#mb4d7318178\" y=\"387.72\"/>\n      </g>\n     </g>\n     <g id=\"text_7\">\n      <!-- 0 -->\n      <g style=\"fill:#262626;\" transform=\"translate(18.321875 391.343437)scale(0.1 -0.1)\">\n       <use xlink:href=\"#LiberationSans-48\"/>\n      </g>\n     </g>\n    </g>\n    <g id=\"ytick_2\">\n     <g id=\"line2d_15\">\n      <path clip-path=\"url(#p4765a1da2d)\" d=\"M 33.382812 342.757221 \nL 591.382812 342.757221 \n\" style=\"fill:none;stroke:#cccccc;stroke-linecap:round;stroke-width:0.8;\"/>\n     </g>\n     <g id=\"line2d_16\">\n      <g>\n       <use style=\"fill:#262626;stroke:#262626;stroke-width:0.8;\" x=\"33.382812\" xlink:href=\"#mb4d7318178\" y=\"342.757221\"/>\n      </g>\n     </g>\n     <g id=\"text_8\">\n      <!-- 100 -->\n      <g style=\"fill:#262626;\" transform=\"translate(7.2 346.380658)scale(0.1 -0.1)\">\n       <use xlink:href=\"#LiberationSans-49\"/>\n       <use x=\"55.615234\" xlink:href=\"#LiberationSans-48\"/>\n       <use x=\"111.230469\" xlink:href=\"#LiberationSans-48\"/>\n      </g>\n     </g>\n    </g>\n    <g id=\"ytick_3\">\n     <g id=\"line2d_17\">\n      <path clip-path=\"url(#p4765a1da2d)\" d=\"M 33.382812 297.794442 \nL 591.382812 297.794442 \n\" style=\"fill:none;stroke:#cccccc;stroke-linecap:round;stroke-width:0.8;\"/>\n     </g>\n     <g id=\"line2d_18\">\n      <g>\n       <use style=\"fill:#262626;stroke:#262626;stroke-width:0.8;\" x=\"33.382812\" xlink:href=\"#mb4d7318178\" y=\"297.794442\"/>\n      </g>\n     </g>\n     <g id=\"text_9\">\n      <!-- 200 -->\n      <g style=\"fill:#262626;\" transform=\"translate(7.2 301.417879)scale(0.1 -0.1)\">\n       <use xlink:href=\"#LiberationSans-50\"/>\n       <use x=\"55.615234\" xlink:href=\"#LiberationSans-48\"/>\n       <use x=\"111.230469\" xlink:href=\"#LiberationSans-48\"/>\n      </g>\n     </g>\n    </g>\n    <g id=\"ytick_4\">\n     <g id=\"line2d_19\">\n      <path clip-path=\"url(#p4765a1da2d)\" d=\"M 33.382812 252.831663 \nL 591.382812 252.831663 \n\" style=\"fill:none;stroke:#cccccc;stroke-linecap:round;stroke-width:0.8;\"/>\n     </g>\n     <g id=\"line2d_20\">\n      <g>\n       <use style=\"fill:#262626;stroke:#262626;stroke-width:0.8;\" x=\"33.382812\" xlink:href=\"#mb4d7318178\" y=\"252.831663\"/>\n      </g>\n     </g>\n     <g id=\"text_10\">\n      <!-- 300 -->\n      <g style=\"fill:#262626;\" transform=\"translate(7.2 256.4551)scale(0.1 -0.1)\">\n       <defs>\n        <path d=\"M 51.21875 19 \nQ 51.21875 9.46875 45.15625 4.234375 \nQ 39.109375 -0.984375 27.875 -0.984375 \nQ 17.4375 -0.984375 11.203125 3.734375 \nQ 4.984375 8.453125 3.8125 17.671875 \nL 12.890625 18.5 \nQ 14.65625 6.296875 27.875 6.296875 \nQ 34.515625 6.296875 38.296875 9.5625 \nQ 42.09375 12.84375 42.09375 19.28125 \nQ 42.09375 24.90625 37.765625 28.046875 \nQ 33.453125 31.203125 25.296875 31.203125 \nL 20.3125 31.203125 \nL 20.3125 38.8125 \nL 25.09375 38.8125 \nQ 32.328125 38.8125 36.296875 41.96875 \nQ 40.28125 45.125 40.28125 50.6875 \nQ 40.28125 56.203125 37.03125 59.390625 \nQ 33.796875 62.59375 27.390625 62.59375 \nQ 21.578125 62.59375 17.984375 59.609375 \nQ 14.40625 56.640625 13.8125 51.21875 \nL 4.984375 51.90625 \nQ 5.953125 60.359375 11.984375 65.09375 \nQ 18.015625 69.828125 27.484375 69.828125 \nQ 37.84375 69.828125 43.578125 65.015625 \nQ 49.3125 60.203125 49.3125 51.609375 \nQ 49.3125 45.015625 45.625 40.890625 \nQ 41.9375 36.765625 34.90625 35.296875 \nL 34.90625 35.109375 \nQ 42.625 34.28125 46.921875 29.9375 \nQ 51.21875 25.59375 51.21875 19 \nz\n\" id=\"LiberationSans-51\"/>\n       </defs>\n       <use xlink:href=\"#LiberationSans-51\"/>\n       <use x=\"55.615234\" xlink:href=\"#LiberationSans-48\"/>\n       <use x=\"111.230469\" xlink:href=\"#LiberationSans-48\"/>\n      </g>\n     </g>\n    </g>\n    <g id=\"ytick_5\">\n     <g id=\"line2d_21\">\n      <path clip-path=\"url(#p4765a1da2d)\" d=\"M 33.382812 207.868883 \nL 591.382812 207.868883 \n\" style=\"fill:none;stroke:#cccccc;stroke-linecap:round;stroke-width:0.8;\"/>\n     </g>\n     <g id=\"line2d_22\">\n      <g>\n       <use style=\"fill:#262626;stroke:#262626;stroke-width:0.8;\" x=\"33.382812\" xlink:href=\"#mb4d7318178\" y=\"207.868883\"/>\n      </g>\n     </g>\n     <g id=\"text_11\">\n      <!-- 400 -->\n      <g style=\"fill:#262626;\" transform=\"translate(7.2 211.492321)scale(0.1 -0.1)\">\n       <use xlink:href=\"#LiberationSans-52\"/>\n       <use x=\"55.615234\" xlink:href=\"#LiberationSans-48\"/>\n       <use x=\"111.230469\" xlink:href=\"#LiberationSans-48\"/>\n      </g>\n     </g>\n    </g>\n    <g id=\"ytick_6\">\n     <g id=\"line2d_23\">\n      <path clip-path=\"url(#p4765a1da2d)\" d=\"M 33.382812 162.906104 \nL 591.382812 162.906104 \n\" style=\"fill:none;stroke:#cccccc;stroke-linecap:round;stroke-width:0.8;\"/>\n     </g>\n     <g id=\"line2d_24\">\n      <g>\n       <use style=\"fill:#262626;stroke:#262626;stroke-width:0.8;\" x=\"33.382812\" xlink:href=\"#mb4d7318178\" y=\"162.906104\"/>\n      </g>\n     </g>\n     <g id=\"text_12\">\n      <!-- 500 -->\n      <g style=\"fill:#262626;\" transform=\"translate(7.2 166.529542)scale(0.1 -0.1)\">\n       <defs>\n        <path d=\"M 51.421875 22.40625 \nQ 51.421875 11.53125 44.953125 5.265625 \nQ 38.484375 -0.984375 27 -0.984375 \nQ 17.390625 -0.984375 11.46875 3.21875 \nQ 5.5625 7.421875 4 15.375 \nL 12.890625 16.40625 \nQ 15.671875 6.203125 27.203125 6.203125 \nQ 34.28125 6.203125 38.28125 10.46875 \nQ 42.28125 14.75 42.28125 22.21875 \nQ 42.28125 28.71875 38.25 32.71875 \nQ 34.234375 36.71875 27.390625 36.71875 \nQ 23.828125 36.71875 20.75 35.59375 \nQ 17.671875 34.46875 14.59375 31.78125 \nL 6 31.78125 \nL 8.296875 68.796875 \nL 47.40625 68.796875 \nL 47.40625 61.328125 \nL 16.3125 61.328125 \nL 14.984375 39.5 \nQ 20.703125 43.890625 29.203125 43.890625 \nQ 39.359375 43.890625 45.390625 37.9375 \nQ 51.421875 31.984375 51.421875 22.40625 \nz\n\" id=\"LiberationSans-53\"/>\n       </defs>\n       <use xlink:href=\"#LiberationSans-53\"/>\n       <use x=\"55.615234\" xlink:href=\"#LiberationSans-48\"/>\n       <use x=\"111.230469\" xlink:href=\"#LiberationSans-48\"/>\n      </g>\n     </g>\n    </g>\n    <g id=\"ytick_7\">\n     <g id=\"line2d_25\">\n      <path clip-path=\"url(#p4765a1da2d)\" d=\"M 33.382812 117.943325 \nL 591.382812 117.943325 \n\" style=\"fill:none;stroke:#cccccc;stroke-linecap:round;stroke-width:0.8;\"/>\n     </g>\n     <g id=\"line2d_26\">\n      <g>\n       <use style=\"fill:#262626;stroke:#262626;stroke-width:0.8;\" x=\"33.382812\" xlink:href=\"#mb4d7318178\" y=\"117.943325\"/>\n      </g>\n     </g>\n     <g id=\"text_13\">\n      <!-- 600 -->\n      <g style=\"fill:#262626;\" transform=\"translate(7.2 121.566763)scale(0.1 -0.1)\">\n       <use xlink:href=\"#LiberationSans-54\"/>\n       <use x=\"55.615234\" xlink:href=\"#LiberationSans-48\"/>\n       <use x=\"111.230469\" xlink:href=\"#LiberationSans-48\"/>\n      </g>\n     </g>\n    </g>\n    <g id=\"ytick_8\">\n     <g id=\"line2d_27\">\n      <path clip-path=\"url(#p4765a1da2d)\" d=\"M 33.382812 72.980546 \nL 591.382812 72.980546 \n\" style=\"fill:none;stroke:#cccccc;stroke-linecap:round;stroke-width:0.8;\"/>\n     </g>\n     <g id=\"line2d_28\">\n      <g>\n       <use style=\"fill:#262626;stroke:#262626;stroke-width:0.8;\" x=\"33.382812\" xlink:href=\"#mb4d7318178\" y=\"72.980546\"/>\n      </g>\n     </g>\n     <g id=\"text_14\">\n      <!-- 700 -->\n      <g style=\"fill:#262626;\" transform=\"translate(7.2 76.603983)scale(0.1 -0.1)\">\n       <defs>\n        <path d=\"M 50.59375 61.671875 \nQ 40.046875 45.5625 35.6875 36.421875 \nQ 31.34375 27.296875 29.171875 18.40625 \nQ 27 9.515625 27 0 \nL 17.828125 0 \nQ 17.828125 13.1875 23.40625 27.75 \nQ 29 42.328125 42.09375 61.328125 \nL 5.125 61.328125 \nL 5.125 68.796875 \nL 50.59375 68.796875 \nz\n\" id=\"LiberationSans-55\"/>\n       </defs>\n       <use xlink:href=\"#LiberationSans-55\"/>\n       <use x=\"55.615234\" xlink:href=\"#LiberationSans-48\"/>\n       <use x=\"111.230469\" xlink:href=\"#LiberationSans-48\"/>\n      </g>\n     </g>\n    </g>\n    <g id=\"ytick_9\">\n     <g id=\"line2d_29\">\n      <path clip-path=\"url(#p4765a1da2d)\" d=\"M 33.382812 28.017767 \nL 591.382812 28.017767 \n\" style=\"fill:none;stroke:#cccccc;stroke-linecap:round;stroke-width:0.8;\"/>\n     </g>\n     <g id=\"line2d_30\">\n      <g>\n       <use style=\"fill:#262626;stroke:#262626;stroke-width:0.8;\" x=\"33.382812\" xlink:href=\"#mb4d7318178\" y=\"28.017767\"/>\n      </g>\n     </g>\n     <g id=\"text_15\">\n      <!-- 800 -->\n      <g style=\"fill:#262626;\" transform=\"translate(7.2 31.641204)scale(0.1 -0.1)\">\n       <use xlink:href=\"#LiberationSans-56\"/>\n       <use x=\"55.615234\" xlink:href=\"#LiberationSans-48\"/>\n       <use x=\"111.230469\" xlink:href=\"#LiberationSans-48\"/>\n      </g>\n     </g>\n    </g>\n   </g>\n   <g id=\"patch_3\">\n    <path clip-path=\"url(#p4765a1da2d)\" d=\"M 58.746449 387.72 \nL 63.819176 387.72 \nL 63.819176 386.820744 \nL 58.746449 386.820744 \nz\n\" style=\"fill:#1f77b4;\"/>\n   </g>\n   <g id=\"patch_4\">\n    <path clip-path=\"url(#p4765a1da2d)\" d=\"M 63.819176 387.72 \nL 68.891903 387.72 \nL 68.891903 386.820744 \nL 63.819176 386.820744 \nz\n\" style=\"fill:#1f77b4;\"/>\n   </g>\n   <g id=\"patch_5\">\n    <path clip-path=\"url(#p4765a1da2d)\" d=\"M 68.891903 387.72 \nL 73.964631 387.72 \nL 73.964631 384.122978 \nL 68.891903 384.122978 \nz\n\" style=\"fill:#1f77b4;\"/>\n   </g>\n   <g id=\"patch_6\">\n    <path clip-path=\"url(#p4765a1da2d)\" d=\"M 73.964631 387.72 \nL 79.037358 387.72 \nL 79.037358 386.371117 \nL 73.964631 386.371117 \nz\n\" style=\"fill:#1f77b4;\"/>\n   </g>\n   <g id=\"patch_7\">\n    <path clip-path=\"url(#p4765a1da2d)\" d=\"M 79.037358 387.72 \nL 84.110085 387.72 \nL 84.110085 381.874839 \nL 79.037358 381.874839 \nz\n\" style=\"fill:#1f77b4;\"/>\n   </g>\n   <g id=\"patch_8\">\n    <path clip-path=\"url(#p4765a1da2d)\" d=\"M 84.110085 387.72 \nL 89.182812 387.72 \nL 89.182812 387.270372 \nL 84.110085 387.270372 \nz\n\" style=\"fill:#1f77b4;\"/>\n   </g>\n   <g id=\"patch_9\">\n    <path clip-path=\"url(#p4765a1da2d)\" d=\"M 89.182813 387.72 \nL 94.25554 387.72 \nL 94.25554 385.471861 \nL 89.182813 385.471861 \nz\n\" style=\"fill:#1f77b4;\"/>\n   </g>\n   <g id=\"patch_10\">\n    <path clip-path=\"url(#p4765a1da2d)\" d=\"M 94.25554 387.72 \nL 99.328267 387.72 \nL 99.328267 387.270372 \nL 94.25554 387.270372 \nz\n\" style=\"fill:#1f77b4;\"/>\n   </g>\n   <g id=\"patch_11\">\n    <path clip-path=\"url(#p4765a1da2d)\" d=\"M 99.328267 387.72 \nL 104.400994 387.72 \nL 104.400994 313.981042 \nL 99.328267 313.981042 \nz\n\" style=\"fill:#1f77b4;\"/>\n   </g>\n   <g id=\"patch_12\">\n    <path clip-path=\"url(#p4765a1da2d)\" d=\"M 104.400994 387.72 \nL 109.473722 387.72 \nL 109.473722 25.32 \nL 104.400994 25.32 \nz\n\" style=\"fill:#1f77b4;\"/>\n   </g>\n   <g id=\"patch_13\">\n    <path clip-path=\"url(#p4765a1da2d)\" d=\"M 109.473722 387.72 \nL 114.546449 387.72 \nL 114.546449 358.943821 \nL 109.473722 358.943821 \nz\n\" style=\"fill:#1f77b4;\"/>\n   </g>\n   <g id=\"patch_14\">\n    <path clip-path=\"url(#p4765a1da2d)\" d=\"M 114.546449 387.72 \nL 119.619176 387.72 \nL 119.619176 358.494194 \nL 114.546449 358.494194 \nz\n\" style=\"fill:#1f77b4;\"/>\n   </g>\n   <g id=\"patch_15\">\n    <path clip-path=\"url(#p4765a1da2d)\" d=\"M 119.619176 387.72 \nL 124.691903 387.72 \nL 124.691903 379.177072 \nL 119.619176 379.177072 \nz\n\" style=\"fill:#1f77b4;\"/>\n   </g>\n   <g id=\"patch_16\">\n    <path clip-path=\"url(#p4765a1da2d)\" d=\"M 124.691903 387.72 \nL 129.764631 387.72 \nL 129.764631 384.122978 \nL 124.691903 384.122978 \nz\n\" style=\"fill:#1f77b4;\"/>\n   </g>\n   <g id=\"patch_17\">\n    <path clip-path=\"url(#p4765a1da2d)\" d=\"M 129.764631 387.72 \nL 134.837358 387.72 \nL 134.837358 363.889727 \nL 129.764631 363.889727 \nz\n\" style=\"fill:#1f77b4;\"/>\n   </g>\n   <g id=\"patch_18\">\n    <path clip-path=\"url(#p4765a1da2d)\" d=\"M 134.837358 387.72 \nL 139.910085 387.72 \nL 139.910085 385.022233 \nL 134.837358 385.022233 \nz\n\" style=\"fill:#1f77b4;\"/>\n   </g>\n   <g id=\"patch_19\">\n    <path clip-path=\"url(#p4765a1da2d)\" d=\"M 139.910085 387.72 \nL 144.982812 387.72 \nL 144.982812 380.525955 \nL 139.910085 380.525955 \nz\n\" style=\"fill:#1f77b4;\"/>\n   </g>\n   <g id=\"patch_20\">\n    <path clip-path=\"url(#p4765a1da2d)\" d=\"M 144.982812 387.72 \nL 150.05554 387.72 \nL 150.05554 378.277816 \nL 144.982812 378.277816 \nz\n\" style=\"fill:#1f77b4;\"/>\n   </g>\n   <g id=\"patch_21\">\n    <path clip-path=\"url(#p4765a1da2d)\" d=\"M 150.05554 387.72 \nL 155.128267 387.72 \nL 155.128267 372.882283 \nL 150.05554 372.882283 \nz\n\" style=\"fill:#1f77b4;\"/>\n   </g>\n   <g id=\"patch_22\">\n    <path clip-path=\"url(#p4765a1da2d)\" d=\"M 155.128267 387.72 \nL 160.200994 387.72 \nL 160.200994 27.118511 \nL 155.128267 27.118511 \nz\n\" style=\"fill:#1f77b4;\"/>\n   </g>\n   <g id=\"patch_23\">\n    <path clip-path=\"url(#p4765a1da2d)\" d=\"M 160.200994 387.72 \nL 165.273722 387.72 \nL 165.273722 356.695682 \nL 160.200994 356.695682 \nz\n\" style=\"fill:#1f77b4;\"/>\n   </g>\n   <g id=\"patch_24\">\n    <path clip-path=\"url(#p4765a1da2d)\" d=\"M 165.273722 387.72 \nL 170.346449 387.72 \nL 170.346449 359.843077 \nL 165.273722 359.843077 \nz\n\" style=\"fill:#1f77b4;\"/>\n   </g>\n   <g id=\"patch_25\">\n    <path clip-path=\"url(#p4765a1da2d)\" d=\"M 170.346449 387.72 \nL 175.419176 387.72 \nL 175.419176 366.137866 \nL 170.346449 366.137866 \nz\n\" style=\"fill:#1f77b4;\"/>\n   </g>\n   <g id=\"patch_26\">\n    <path clip-path=\"url(#p4765a1da2d)\" d=\"M 175.419176 387.72 \nL 180.491903 387.72 \nL 180.491903 358.044566 \nL 175.419176 358.044566 \nz\n\" style=\"fill:#1f77b4;\"/>\n   </g>\n   <g id=\"patch_27\">\n    <path clip-path=\"url(#p4765a1da2d)\" d=\"M 180.491903 387.72 \nL 185.564631 387.72 \nL 185.564631 335.563176 \nL 180.491903 335.563176 \nz\n\" style=\"fill:#1f77b4;\"/>\n   </g>\n   <g id=\"patch_28\">\n    <path clip-path=\"url(#p4765a1da2d)\" d=\"M 185.564631 387.72 \nL 190.637358 387.72 \nL 190.637358 366.587494 \nL 185.564631 366.587494 \nz\n\" style=\"fill:#1f77b4;\"/>\n   </g>\n   <g id=\"patch_29\">\n    <path clip-path=\"url(#p4765a1da2d)\" d=\"M 190.637358 387.72 \nL 195.710085 387.72 \nL 195.710085 359.393449 \nL 190.637358 359.393449 \nz\n\" style=\"fill:#1f77b4;\"/>\n   </g>\n   <g id=\"patch_30\">\n    <path clip-path=\"url(#p4765a1da2d)\" d=\"M 195.710085 387.72 \nL 200.782813 387.72 \nL 200.782813 357.14531 \nL 195.710085 357.14531 \nz\n\" style=\"fill:#1f77b4;\"/>\n   </g>\n   <g id=\"patch_31\">\n    <path clip-path=\"url(#p4765a1da2d)\" d=\"M 200.782813 387.72 \nL 205.85554 387.72 \nL 205.85554 357.594938 \nL 200.782813 357.594938 \nz\n\" style=\"fill:#1f77b4;\"/>\n   </g>\n   <g id=\"patch_32\">\n    <path clip-path=\"url(#p4765a1da2d)\" d=\"M 205.85554 387.72 \nL 210.928267 387.72 \nL 210.928267 183.588983 \nL 205.85554 183.588983 \nz\n\" style=\"fill:#1f77b4;\"/>\n   </g>\n   <g id=\"patch_33\">\n    <path clip-path=\"url(#p4765a1da2d)\" d=\"M 210.928267 387.72 \nL 216.000994 387.72 \nL 216.000994 333.764665 \nL 210.928267 333.764665 \nz\n\" style=\"fill:#1f77b4;\"/>\n   </g>\n   <g id=\"patch_34\">\n    <path clip-path=\"url(#p4765a1da2d)\" d=\"M 216.000994 387.72 \nL 221.073722 387.72 \nL 221.073722 311.732903 \nL 216.000994 311.732903 \nz\n\" style=\"fill:#1f77b4;\"/>\n   </g>\n   <g id=\"patch_35\">\n    <path clip-path=\"url(#p4765a1da2d)\" d=\"M 221.073722 387.72 \nL 226.146449 387.72 \nL 226.146449 303.189975 \nL 221.073722 303.189975 \nz\n\" style=\"fill:#1f77b4;\"/>\n   </g>\n   <g id=\"patch_36\">\n    <path clip-path=\"url(#p4765a1da2d)\" d=\"M 226.146449 387.72 \nL 231.219176 387.72 \nL 231.219176 314.880298 \nL 226.146449 314.880298 \nz\n\" style=\"fill:#1f77b4;\"/>\n   </g>\n   <g id=\"patch_37\">\n    <path clip-path=\"url(#p4765a1da2d)\" d=\"M 231.219176 387.72 \nL 236.291903 387.72 \nL 236.291903 300.492208 \nL 231.219176 300.492208 \nz\n\" style=\"fill:#1f77b4;\"/>\n   </g>\n   <g id=\"patch_38\">\n    <path clip-path=\"url(#p4765a1da2d)\" d=\"M 236.291903 387.72 \nL 241.364631 387.72 \nL 241.364631 290.600397 \nL 236.291903 290.600397 \nz\n\" style=\"fill:#1f77b4;\"/>\n   </g>\n   <g id=\"patch_39\">\n    <path clip-path=\"url(#p4765a1da2d)\" d=\"M 241.364631 387.72 \nL 246.437358 387.72 \nL 246.437358 287.90263 \nL 241.364631 287.90263 \nz\n\" style=\"fill:#1f77b4;\"/>\n   </g>\n   <g id=\"patch_40\">\n    <path clip-path=\"url(#p4765a1da2d)\" d=\"M 246.437358 387.72 \nL 251.510085 387.72 \nL 251.510085 269.018263 \nL 246.437358 269.018263 \nz\n\" style=\"fill:#1f77b4;\"/>\n   </g>\n   <g id=\"patch_41\">\n    <path clip-path=\"url(#p4765a1da2d)\" d=\"M 251.510085 387.72 \nL 256.582813 387.72 \nL 256.582813 263.173102 \nL 251.510085 263.173102 \nz\n\" style=\"fill:#1f77b4;\"/>\n   </g>\n   <g id=\"patch_42\">\n    <path clip-path=\"url(#p4765a1da2d)\" d=\"M 256.582812 387.72 \nL 261.65554 387.72 \nL 261.65554 231.249529 \nL 256.582812 231.249529 \nz\n\" style=\"fill:#1f77b4;\"/>\n   </g>\n   <g id=\"patch_43\">\n    <path clip-path=\"url(#p4765a1da2d)\" d=\"M 261.65554 387.72 \nL 266.728267 387.72 \nL 266.728267 244.288734 \nL 261.65554 244.288734 \nz\n\" style=\"fill:#1f77b4;\"/>\n   </g>\n   <g id=\"patch_44\">\n    <path clip-path=\"url(#p4765a1da2d)\" d=\"M 266.728267 387.72 \nL 271.800994 387.72 \nL 271.800994 244.288734 \nL 266.728267 244.288734 \nz\n\" style=\"fill:#1f77b4;\"/>\n   </g>\n   <g id=\"patch_45\">\n    <path clip-path=\"url(#p4765a1da2d)\" d=\"M 271.800994 387.72 \nL 276.873722 387.72 \nL 276.873722 283.406352 \nL 271.800994 283.406352 \nz\n\" style=\"fill:#1f77b4;\"/>\n   </g>\n   <g id=\"patch_46\">\n    <path clip-path=\"url(#p4765a1da2d)\" d=\"M 276.873722 387.72 \nL 281.946449 387.72 \nL 281.946449 230.350273 \nL 276.873722 230.350273 \nz\n\" style=\"fill:#1f77b4;\"/>\n   </g>\n   <g id=\"patch_47\">\n    <path clip-path=\"url(#p4765a1da2d)\" d=\"M 281.946449 387.72 \nL 287.019176 387.72 \nL 287.019176 202.922978 \nL 281.946449 202.922978 \nz\n\" style=\"fill:#1f77b4;\"/>\n   </g>\n   <g id=\"patch_48\">\n    <path clip-path=\"url(#p4765a1da2d)\" d=\"M 287.019176 387.72 \nL 292.091903 387.72 \nL 292.091903 230.350273 \nL 287.019176 230.350273 \nz\n\" style=\"fill:#1f77b4;\"/>\n   </g>\n   <g id=\"patch_49\">\n    <path clip-path=\"url(#p4765a1da2d)\" d=\"M 292.091903 387.72 \nL 297.164631 387.72 \nL 297.164631 226.303623 \nL 292.091903 226.303623 \nz\n\" style=\"fill:#1f77b4;\"/>\n   </g>\n   <g id=\"patch_50\">\n    <path clip-path=\"url(#p4765a1da2d)\" d=\"M 297.164631 387.72 \nL 302.237358 387.72 \nL 302.237358 215.962184 \nL 297.164631 215.962184 \nz\n\" style=\"fill:#1f77b4;\"/>\n   </g>\n   <g id=\"patch_51\">\n    <path clip-path=\"url(#p4765a1da2d)\" d=\"M 302.237358 387.72 \nL 307.310085 387.72 \nL 307.310085 231.249529 \nL 302.237358 231.249529 \nz\n\" style=\"fill:#1f77b4;\"/>\n   </g>\n   <g id=\"patch_52\">\n    <path clip-path=\"url(#p4765a1da2d)\" d=\"M 307.310085 387.72 \nL 312.382812 387.72 \nL 312.382812 131.432159 \nL 307.310085 131.432159 \nz\n\" style=\"fill:#1f77b4;\"/>\n   </g>\n   <g id=\"patch_53\">\n    <path clip-path=\"url(#p4765a1da2d)\" d=\"M 312.382812 387.72 \nL 317.45554 387.72 \nL 317.45554 213.264417 \nL 312.382812 213.264417 \nz\n\" style=\"fill:#1f77b4;\"/>\n   </g>\n   <g id=\"patch_54\">\n    <path clip-path=\"url(#p4765a1da2d)\" d=\"M 317.45554 387.72 \nL 322.528267 387.72 \nL 322.528267 187.635633 \nL 317.45554 187.635633 \nz\n\" style=\"fill:#1f77b4;\"/>\n   </g>\n   <g id=\"patch_55\">\n    <path clip-path=\"url(#p4765a1da2d)\" d=\"M 322.528267 387.72 \nL 327.600994 387.72 \nL 327.600994 170.100149 \nL 322.528267 170.100149 \nz\n\" style=\"fill:#1f77b4;\"/>\n   </g>\n   <g id=\"patch_56\">\n    <path clip-path=\"url(#p4765a1da2d)\" d=\"M 327.600994 387.72 \nL 332.673722 387.72 \nL 332.673722 173.247543 \nL 327.600994 173.247543 \nz\n\" style=\"fill:#1f77b4;\"/>\n   </g>\n   <g id=\"patch_57\">\n    <path clip-path=\"url(#p4765a1da2d)\" d=\"M 332.673722 387.72 \nL 337.746449 387.72 \nL 337.746449 124.687742 \nL 332.673722 124.687742 \nz\n\" style=\"fill:#1f77b4;\"/>\n   </g>\n   <g id=\"patch_58\">\n    <path clip-path=\"url(#p4765a1da2d)\" d=\"M 337.746449 387.72 \nL 342.819176 387.72 \nL 342.819176 175.495682 \nL 337.746449 175.495682 \nz\n\" style=\"fill:#1f77b4;\"/>\n   </g>\n   <g id=\"patch_59\">\n    <path clip-path=\"url(#p4765a1da2d)\" d=\"M 342.819176 387.72 \nL 347.891903 387.72 \nL 347.891903 167.85201 \nL 342.819176 167.85201 \nz\n\" style=\"fill:#1f77b4;\"/>\n   </g>\n   <g id=\"patch_60\">\n    <path clip-path=\"url(#p4765a1da2d)\" d=\"M 347.891903 387.72 \nL 352.964631 387.72 \nL 352.964631 134.129926 \nL 347.891903 134.129926 \nz\n\" style=\"fill:#1f77b4;\"/>\n   </g>\n   <g id=\"patch_61\">\n    <path clip-path=\"url(#p4765a1da2d)\" d=\"M 352.964631 387.72 \nL 358.037358 387.72 \nL 358.037358 142.223226 \nL 352.964631 142.223226 \nz\n\" style=\"fill:#1f77b4;\"/>\n   </g>\n   <g id=\"patch_62\">\n    <path clip-path=\"url(#p4765a1da2d)\" d=\"M 358.037358 387.72 \nL 363.110085 387.72 \nL 363.110085 106.253002 \nL 358.037358 106.253002 \nz\n\" style=\"fill:#1f77b4;\"/>\n   </g>\n   <g id=\"patch_63\">\n    <path clip-path=\"url(#p4765a1da2d)\" d=\"M 363.110085 387.72 \nL 368.182813 387.72 \nL 368.182813 177.743821 \nL 363.110085 177.743821 \nz\n\" style=\"fill:#1f77b4;\"/>\n   </g>\n   <g id=\"patch_64\">\n    <path clip-path=\"url(#p4765a1da2d)\" d=\"M 368.182813 387.72 \nL 373.25554 387.72 \nL 373.25554 139.075831 \nL 368.182813 139.075831 \nz\n\" style=\"fill:#1f77b4;\"/>\n   </g>\n   <g id=\"patch_65\">\n    <path clip-path=\"url(#p4765a1da2d)\" d=\"M 373.25554 387.72 \nL 378.328267 387.72 \nL 378.328267 114.795931 \nL 373.25554 114.795931 \nz\n\" style=\"fill:#1f77b4;\"/>\n   </g>\n   <g id=\"patch_66\">\n    <path clip-path=\"url(#p4765a1da2d)\" d=\"M 378.328267 387.72 \nL 383.400994 387.72 \nL 383.400994 161.557221 \nL 378.328267 161.557221 \nz\n\" style=\"fill:#1f77b4;\"/>\n   </g>\n   <g id=\"patch_67\">\n    <path clip-path=\"url(#p4765a1da2d)\" d=\"M 383.400994 387.72 \nL 388.473722 387.72 \nL 388.473722 103.555236 \nL 383.400994 103.555236 \nz\n\" style=\"fill:#1f77b4;\"/>\n   </g>\n   <g id=\"patch_68\">\n    <path clip-path=\"url(#p4765a1da2d)\" d=\"M 388.473722 387.72 \nL 393.546449 387.72 \nL 393.546449 177.294194 \nL 388.473722 177.294194 \nz\n\" style=\"fill:#1f77b4;\"/>\n   </g>\n   <g id=\"patch_69\">\n    <path clip-path=\"url(#p4765a1da2d)\" d=\"M 393.546449 387.72 \nL 398.619176 387.72 \nL 398.619176 200.674839 \nL 393.546449 200.674839 \nz\n\" style=\"fill:#1f77b4;\"/>\n   </g>\n   <g id=\"patch_70\">\n    <path clip-path=\"url(#p4765a1da2d)\" d=\"M 398.619176 387.72 \nL 403.691903 387.72 \nL 403.691903 181.790471 \nL 398.619176 181.790471 \nz\n\" style=\"fill:#1f77b4;\"/>\n   </g>\n   <g id=\"patch_71\">\n    <path clip-path=\"url(#p4765a1da2d)\" d=\"M 403.691903 387.72 \nL 408.764631 387.72 \nL 408.764631 224.055484 \nL 403.691903 224.055484 \nz\n\" style=\"fill:#1f77b4;\"/>\n   </g>\n   <g id=\"patch_72\">\n    <path clip-path=\"url(#p4765a1da2d)\" d=\"M 408.764631 387.72 \nL 413.837358 387.72 \nL 413.837358 162.006849 \nL 408.764631 162.006849 \nz\n\" style=\"fill:#1f77b4;\"/>\n   </g>\n   <g id=\"patch_73\">\n    <path clip-path=\"url(#p4765a1da2d)\" d=\"M 413.837358 387.72 \nL 418.910085 387.72 \nL 418.910085 238.893201 \nL 413.837358 238.893201 \nz\n\" style=\"fill:#1f77b4;\"/>\n   </g>\n   <g id=\"patch_74\">\n    <path clip-path=\"url(#p4765a1da2d)\" d=\"M 418.910085 387.72 \nL 423.982813 387.72 \nL 423.982813 214.163672 \nL 418.910085 214.163672 \nz\n\" style=\"fill:#1f77b4;\"/>\n   </g>\n   <g id=\"patch_75\">\n    <path clip-path=\"url(#p4765a1da2d)\" d=\"M 423.982812 387.72 \nL 429.05554 387.72 \nL 429.05554 231.249529 \nL 423.982812 231.249529 \nz\n\" style=\"fill:#1f77b4;\"/>\n   </g>\n   <g id=\"patch_76\">\n    <path clip-path=\"url(#p4765a1da2d)\" d=\"M 429.05554 387.72 \nL 434.128267 387.72 \nL 434.128267 242.939851 \nL 429.05554 242.939851 \nz\n\" style=\"fill:#1f77b4;\"/>\n   </g>\n   <g id=\"patch_77\">\n    <path clip-path=\"url(#p4765a1da2d)\" d=\"M 434.128267 387.72 \nL 439.200994 387.72 \nL 439.200994 193.480794 \nL 434.128267 193.480794 \nz\n\" style=\"fill:#1f77b4;\"/>\n   </g>\n   <g id=\"patch_78\">\n    <path clip-path=\"url(#p4765a1da2d)\" d=\"M 439.200994 387.72 \nL 444.273722 387.72 \nL 444.273722 261.374591 \nL 439.200994 261.374591 \nz\n\" style=\"fill:#1f77b4;\"/>\n   </g>\n   <g id=\"patch_79\">\n    <path clip-path=\"url(#p4765a1da2d)\" d=\"M 444.273722 387.72 \nL 449.346449 387.72 \nL 449.346449 246.986501 \nL 444.273722 246.986501 \nz\n\" style=\"fill:#1f77b4;\"/>\n   </g>\n   <g id=\"patch_80\">\n    <path clip-path=\"url(#p4765a1da2d)\" d=\"M 449.346449 387.72 \nL 454.419176 387.72 \nL 454.419176 258.676824 \nL 449.346449 258.676824 \nz\n\" style=\"fill:#1f77b4;\"/>\n   </g>\n   <g id=\"patch_81\">\n    <path clip-path=\"url(#p4765a1da2d)\" d=\"M 454.419176 387.72 \nL 459.491903 387.72 \nL 459.491903 281.158213 \nL 454.419176 281.158213 \nz\n\" style=\"fill:#1f77b4;\"/>\n   </g>\n   <g id=\"patch_82\">\n    <path clip-path=\"url(#p4765a1da2d)\" d=\"M 459.491903 387.72 \nL 464.564631 387.72 \nL 464.564631 237.09469 \nL 459.491903 237.09469 \nz\n\" style=\"fill:#1f77b4;\"/>\n   </g>\n   <g id=\"patch_83\">\n    <path clip-path=\"url(#p4765a1da2d)\" d=\"M 464.564631 387.72 \nL 469.637358 387.72 \nL 469.637358 303.189975 \nL 464.564631 303.189975 \nz\n\" style=\"fill:#1f77b4;\"/>\n   </g>\n   <g id=\"patch_84\">\n    <path clip-path=\"url(#p4765a1da2d)\" d=\"M 469.637358 387.72 \nL 474.710085 387.72 \nL 474.710085 267.66938 \nL 469.637358 267.66938 \nz\n\" style=\"fill:#1f77b4;\"/>\n   </g>\n   <g id=\"patch_85\">\n    <path clip-path=\"url(#p4765a1da2d)\" d=\"M 474.710085 387.72 \nL 479.782813 387.72 \nL 479.782813 273.964169 \nL 474.710085 273.964169 \nz\n\" style=\"fill:#1f77b4;\"/>\n   </g>\n   <g id=\"patch_86\">\n    <path clip-path=\"url(#p4765a1da2d)\" d=\"M 479.782812 387.72 \nL 484.85554 387.72 \nL 484.85554 293.747792 \nL 479.782812 293.747792 \nz\n\" style=\"fill:#1f77b4;\"/>\n   </g>\n   <g id=\"patch_87\">\n    <path clip-path=\"url(#p4765a1da2d)\" d=\"M 484.85554 387.72 \nL 489.928267 387.72 \nL 489.928267 238.443573 \nL 484.85554 238.443573 \nz\n\" style=\"fill:#1f77b4;\"/>\n   </g>\n   <g id=\"patch_88\">\n    <path clip-path=\"url(#p4765a1da2d)\" d=\"M 489.928267 387.72 \nL 495.000994 387.72 \nL 495.000994 311.732903 \nL 489.928267 311.732903 \nz\n\" style=\"fill:#1f77b4;\"/>\n   </g>\n   <g id=\"patch_89\">\n    <path clip-path=\"url(#p4765a1da2d)\" d=\"M 495.000994 387.72 \nL 500.073722 387.72 \nL 500.073722 291.050025 \nL 495.000994 291.050025 \nz\n\" style=\"fill:#1f77b4;\"/>\n   </g>\n   <g id=\"patch_90\">\n    <path clip-path=\"url(#p4765a1da2d)\" d=\"M 500.073722 387.72 \nL 505.146449 387.72 \nL 505.146449 307.236625 \nL 500.073722 307.236625 \nz\n\" style=\"fill:#1f77b4;\"/>\n   </g>\n   <g id=\"patch_91\">\n    <path clip-path=\"url(#p4765a1da2d)\" d=\"M 505.146449 387.72 \nL 510.219176 387.72 \nL 510.219176 318.926948 \nL 505.146449 318.926948 \nz\n\" style=\"fill:#1f77b4;\"/>\n   </g>\n   <g id=\"patch_92\">\n    <path clip-path=\"url(#p4765a1da2d)\" d=\"M 510.219176 387.72 \nL 515.291903 387.72 \nL 515.291903 269.018263 \nL 510.219176 269.018263 \nz\n\" style=\"fill:#1f77b4;\"/>\n   </g>\n   <g id=\"patch_93\">\n    <path clip-path=\"url(#p4765a1da2d)\" d=\"M 515.291903 387.72 \nL 520.364631 387.72 \nL 520.364631 335.563176 \nL 515.291903 335.563176 \nz\n\" style=\"fill:#1f77b4;\"/>\n   </g>\n   <g id=\"patch_94\">\n    <path clip-path=\"url(#p4765a1da2d)\" d=\"M 520.364631 387.72 \nL 525.437358 387.72 \nL 525.437358 358.044566 \nL 520.364631 358.044566 \nz\n\" style=\"fill:#1f77b4;\"/>\n   </g>\n   <g id=\"patch_95\">\n    <path clip-path=\"url(#p4765a1da2d)\" d=\"M 525.437358 387.72 \nL 530.510085 387.72 \nL 530.510085 323.423226 \nL 525.437358 323.423226 \nz\n\" style=\"fill:#1f77b4;\"/>\n   </g>\n   <g id=\"patch_96\">\n    <path clip-path=\"url(#p4765a1da2d)\" d=\"M 530.510085 387.72 \nL 535.582813 387.72 \nL 535.582813 313.531414 \nL 530.510085 313.531414 \nz\n\" style=\"fill:#1f77b4;\"/>\n   </g>\n   <g id=\"patch_97\">\n    <path clip-path=\"url(#p4765a1da2d)\" d=\"M 535.582813 387.72 \nL 540.65554 387.72 \nL 540.65554 345.904615 \nL 535.582813 345.904615 \nz\n\" style=\"fill:#1f77b4;\"/>\n   </g>\n   <g id=\"patch_98\">\n    <path clip-path=\"url(#p4765a1da2d)\" d=\"M 540.65554 387.72 \nL 545.728267 387.72 \nL 545.728267 301.841092 \nL 540.65554 301.841092 \nz\n\" style=\"fill:#1f77b4;\"/>\n   </g>\n   <g id=\"patch_99\">\n    <path clip-path=\"url(#p4765a1da2d)\" d=\"M 545.728267 387.72 \nL 550.800994 387.72 \nL 550.800994 342.307593 \nL 545.728267 342.307593 \nz\n\" style=\"fill:#1f77b4;\"/>\n   </g>\n   <g id=\"patch_100\">\n    <path clip-path=\"url(#p4765a1da2d)\" d=\"M 550.800994 387.72 \nL 555.873722 387.72 \nL 555.873722 340.059454 \nL 550.800994 340.059454 \nz\n\" style=\"fill:#1f77b4;\"/>\n   </g>\n   <g id=\"patch_101\">\n    <path clip-path=\"url(#p4765a1da2d)\" d=\"M 555.873722 387.72 \nL 560.946449 387.72 \nL 560.946449 339.609826 \nL 555.873722 339.609826 \nz\n\" style=\"fill:#1f77b4;\"/>\n   </g>\n   <g id=\"patch_102\">\n    <path clip-path=\"url(#p4765a1da2d)\" d=\"M 560.946449 387.72 \nL 566.019176 387.72 \nL 566.019176 354.447543 \nL 560.946449 354.447543 \nz\n\" style=\"fill:#1f77b4;\"/>\n   </g>\n   <g id=\"patch_103\">\n    <path d=\"M 33.382812 387.72 \nL 33.382812 7.2 \n\" style=\"fill:none;stroke:#262626;stroke-linecap:square;stroke-linejoin:miter;stroke-width:1.25;\"/>\n   </g>\n   <g id=\"patch_104\">\n    <path d=\"M 591.382812 387.72 \nL 591.382812 7.2 \n\" style=\"fill:none;stroke:#262626;stroke-linecap:square;stroke-linejoin:miter;stroke-width:1.25;\"/>\n   </g>\n   <g id=\"patch_105\">\n    <path d=\"M 33.382812 387.72 \nL 591.382813 387.72 \n\" style=\"fill:none;stroke:#262626;stroke-linecap:square;stroke-linejoin:miter;stroke-width:1.25;\"/>\n   </g>\n   <g id=\"patch_106\">\n    <path d=\"M 33.382812 7.2 \nL 591.382813 7.2 \n\" style=\"fill:none;stroke:#262626;stroke-linecap:square;stroke-linejoin:miter;stroke-width:1.25;\"/>\n   </g>\n  </g>\n </g>\n <defs>\n  <clipPath id=\"p4765a1da2d\">\n   <rect height=\"380.52\" width=\"558\" x=\"33.382812\" y=\"7.2\"/>\n  </clipPath>\n </defs>\n</svg>\n",
      "text/plain": [
       "<Figure size 720x504 with 1 Axes>"
      ]
     },
     "metadata": {},
     "output_type": "display_data"
    }
   ],
   "source": [
    "plt.figure(figsize=(10, 7))\n",
    "train_df.loc[train_df['price_doc'] < 10000000, 'price_doc'].hist(bins=100);\n",
    "ax = plt.gca()\n",
    "ax.get_xaxis().get_major_formatter().set_scientific(False)"
   ]
  },
  {
   "cell_type": "markdown",
   "metadata": {
    "id": "6XMfRzcU-wt2"
   },
   "source": [
    "## 1. Data preprocessing\n",
    "## I part (encoding and correcting mistakes)"
   ]
  },
  {
   "cell_type": "markdown",
   "metadata": {
    "id": "WlOmdlGc-wt4"
   },
   "source": [
    "### Macro dataset"
   ]
  },
  {
   "cell_type": "code",
   "execution_count": 3,
   "metadata": {
    "colab": {
     "base_uri": "https://localhost:8080/"
    },
    "id": "6a1-RKD2-wt4",
    "outputId": "364f5c9a-8412-44e4-8716-0bb10c3dd98d"
   },
   "outputs": [
    {
     "name": "stdout",
     "output_type": "stream",
     "text": [
      "OK\n"
     ]
    }
   ],
   "source": [
    "macro_df['child_on_acc_pre_school'] = macro_df['child_on_acc_pre_school'].str.replace('#!', 'nan')\n",
    "for column in macro_df.select_dtypes('object').columns:\n",
    "    macro_df[column] = macro_df[column].str.replace(',', '.')\n",
    "    macro_df[column] = macro_df[column].astype(float)\n",
    "\n",
    "if not len(macro_df.select_dtypes('object').columns):\n",
    "    print('OK')"
   ]
  },
  {
   "cell_type": "markdown",
   "metadata": {
    "id": "5hOdB2O2-wt5"
   },
   "source": [
    "### Train dataset"
   ]
  },
  {
   "cell_type": "code",
   "execution_count": 4,
   "metadata": {
    "id": "cefhW3sO-wt5"
   },
   "outputs": [],
   "source": [
    "train_df = encode(train_df)"
   ]
  },
  {
   "cell_type": "markdown",
   "metadata": {
    "id": "vSRp5y_C-wt7"
   },
   "source": [
    "### Test dataset"
   ]
  },
  {
   "cell_type": "code",
   "execution_count": 5,
   "metadata": {
    "id": "IMeNQ_Ad-wt8"
   },
   "outputs": [],
   "source": [
    "test_df = encode(test_df)"
   ]
  },
  {
   "cell_type": "markdown",
   "metadata": {
    "id": "ZcRHlWsU-wt-"
   },
   "source": [
    "## II part (Filling missing values)"
   ]
  },
  {
   "cell_type": "markdown",
   "metadata": {
    "id": "G8kHIiU0-wt_"
   },
   "source": [
    "XGBRegressor model handles `np.NaN` values itself"
   ]
  },
  {
   "cell_type": "markdown",
   "metadata": {
    "id": "FfLaI5aH-wt_"
   },
   "source": [
    "## 2. Encoding `sub_area` feature"
   ]
  },
  {
   "cell_type": "code",
   "execution_count": 6,
   "metadata": {
    "id": "Yv6Ps6C9-wuA"
   },
   "outputs": [],
   "source": [
    "train_df['is_train'] = 1\n",
    "test_df['is_train'] = 0\n",
    "\n",
    "coords_df = pd.read_csv('data/coords.csv', index_col='id')\n",
    "all_df = pd.concat([train_df, test_df])\n",
    "\n",
    "all_df['latitude'] = coords_df['latitude']\n",
    "all_df['longitude'] = coords_df['longitude']"
   ]
  },
  {
   "cell_type": "markdown",
   "metadata": {
    "id": "Ad9TaN9Q-wuB"
   },
   "source": [
    "## 3. Removing outliers"
   ]
  },
  {
   "cell_type": "code",
   "execution_count": 7,
   "metadata": {},
   "outputs": [],
   "source": [
    "def remove_outliers(all_df):\n",
    "    # Numerical outliers\n",
    "    all_df.loc[all_df['full_sq'] < 10, 'full_sq'] = np.nan\n",
    "    all_df.loc[all_df['full_sq'] > 1000, 'full_sq'] /= 100  # np.nan or /= 100\n",
    "\n",
    "    all_df.loc[(all_df[\"full_sq\"] > 250) &\n",
    "               (all_df[\"life_sq\"] / all_df[\"full_sq\"] < 0.3), 'full_sq'] /= 10  # np.nan or /= 10\n",
    "\n",
    "    all_df.loc[(all_df[\"full_sq\"] > 210) &\n",
    "               (all_df[\"price_doc\"] < 10_000_000) &\n",
    "               (all_df[\"life_sq\"] > 100), 'life_sq'] /= 10  # np.nan or /= 10\n",
    "    all_df.loc[(all_df[\"full_sq\"] > 210) & (all_df[\"price_doc\"] < 10_000_000), 'full_sq'] /= 10  # np.nan or /= 10\n",
    "\n",
    "    all_df.loc[all_df['life_sq'] < 5, 'life_sq'] = np.nan\n",
    "    all_df.loc[all_df['life_sq'] > 1000, 'life_sq'] /= 100  # 74/78 or /= 100\n",
    "    all_df.loc[(all_df['life_sq'] > 300) &\n",
    "               (all_df['life_sq'] == all_df['full_sq']*10), 'life_sq'] /= 10\n",
    "    all_df.loc[all_df['life_sq'] > 300, 'life_sq'] /= 10  # np.nan or /= 10\n",
    "\n",
    "    all_df.loc[13120, \"build_year\"] = all_df.loc[13120, \"kitch_sq\"]\n",
    "    all_df.loc[all_df['kitch_sq'] > 200, 'kitch_sq'] = np.nan\n",
    "    all_df.loc[all_df['kitch_sq'] < 2, 'kitch_sq'] = np.nan\n",
    "\n",
    "    all_df.loc[all_df['floor'] == 0, 'floor'] = np.nan\n",
    "    all_df.loc[all_df['floor'] == 77, 'floor'] = np.nan\n",
    "\n",
    "    all_df.loc[all_df['max_floor'] == 0, 'max_floor'] = np.nan\n",
    "    all_df.loc[all_df['max_floor'] > 57, 'max_floor'] = np.nan\n",
    "\n",
    "    all_df.loc[all_df['build_year'] == 2, 'build_year'] = 2014\n",
    "    all_df.loc[all_df['build_year'] == 20, 'build_year'] = 2014\n",
    "    all_df.loc[all_df['build_year'] == 215, 'build_year'] = 2015\n",
    "    all_df.loc[all_df['build_year'] == 1691, 'build_year'] = 1961\n",
    "    all_df.loc[all_df['build_year'] == 4965, 'build_year'] = 1965\n",
    "    all_df.loc[all_df['build_year'] == 20052009, 'build_year'] = 2009\n",
    "    all_df.loc[all_df['build_year'] < 1850, 'build_year'] = np.nan\n",
    "    all_df.loc[all_df['build_year'] > 2020, 'build_year'] = np.nan\n",
    "\n",
    "    all_df.loc[all_df['num_room'] == 0, 'num_room'] = np.nan\n",
    "    all_df.loc[all_df['num_room'] > 15, 'num_room'] = np.nan\n",
    "\n",
    "    all_df.loc[all_df['state'] > 30, 'state'] = np.nan\n",
    "\n",
    "    all_df.loc[all_df['preschool_quota'] == 0, 'preschool_quota'] = np.nan\n",
    "\n",
    "    # Logical outliers\n",
    "    all_df.loc[all_df['life_sq'] > all_df['full_sq'], 'life_sq'] = np.nan\n",
    "    all_df.loc[all_df['floor'] > all_df['max_floor'], 'max_floor'] = np.nan\n",
    "    all_df.loc[all_df['kitch_sq'] >= all_df['life_sq'], 'kitch_sq'] = np.nan\n",
    "\n",
    "    return all_df"
   ]
  },
  {
   "cell_type": "code",
   "execution_count": 8,
   "metadata": {
    "id": "GS7abrdJ-wuB"
   },
   "outputs": [],
   "source": [
    "all_df = remove_outliers(all_df)"
   ]
  },
  {
   "cell_type": "markdown",
   "metadata": {
    "id": "_Y7doThf-wuB"
   },
   "source": [
    "## 4. Feature engineering"
   ]
  },
  {
   "cell_type": "code",
   "execution_count": 9,
   "metadata": {
    "id": "HEFaFZFI-wuC"
   },
   "outputs": [],
   "source": [
    "all_df = create_new_features(all_df)"
   ]
  },
  {
   "cell_type": "code",
   "execution_count": 11,
   "metadata": {
    "id": "2gVmPZwh-wuE"
   },
   "outputs": [],
   "source": [
    "train_df = all_df[all_df['is_train'] == 1].drop(['is_train'], axis=1)\n",
    "test_df = all_df[all_df['is_train'] == 0].drop(['is_train', 'price_doc'], axis=1)"
   ]
  },
  {
   "cell_type": "markdown",
   "metadata": {
    "id": "VLOjaYTj-wuD"
   },
   "source": [
    "## 5. Removing fake prices"
   ]
  },
  {
   "cell_type": "code",
   "execution_count": 10,
   "metadata": {},
   "outputs": [
    {
     "name": "stdout",
     "output_type": "stream",
     "text": [
      "REMOVED: 69\n"
     ]
    }
   ],
   "source": [
    "train_df = remove_fake_prices(train_df)"
   ]
  }
 ],
 "metadata": {
  "interpreter": {
   "hash": "e7370f93d1d0cde622a1f8e1c04877d8463912d04d973331ad4851f04de6915a"
  },
  "kernelspec": {
   "display_name": "Python 3.8.10 64-bit",
   "language": "python",
   "name": "python3"
  },
  "language_info": {
   "codemirror_mode": {
    "name": "ipython",
    "version": 3
   },
   "file_extension": ".py",
   "mimetype": "text/x-python",
   "name": "python",
   "nbconvert_exporter": "python",
   "pygments_lexer": "ipython3",
   "version": "3.8.10"
  },
  "orig_nbformat": 4
 },
 "nbformat": 4,
 "nbformat_minor": 2
}
