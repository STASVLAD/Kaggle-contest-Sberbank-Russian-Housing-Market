{
 "cells": [
  {
   "cell_type": "code",
   "execution_count": 1,
   "metadata": {},
   "outputs": [
    {
     "name": "stdout",
     "output_type": "stream",
     "text": [
      "/home/stasvlad/Documents/hse/sberbank\n"
     ]
    }
   ],
   "source": [
    "%cd /home/stasvlad/Documents/hse/sberbank"
   ]
  },
  {
   "cell_type": "code",
   "execution_count": 2,
   "metadata": {
    "id": "2TDIoXTN-wtp"
   },
   "outputs": [],
   "source": [
    "from utils import *\n",
    "from features import *\n",
    "\n",
    "import numpy as np\n",
    "import pandas as pd\n",
    "\n",
    "from sklearn.metrics import mean_squared_log_error, mean_absolute_error, mean_squared_error\n",
    "from sklearn.model_selection import train_test_split, cross_val_score, KFold\n",
    "from sklearn.tree import DecisionTreeRegressor\n",
    "from sklearn.pipeline import make_pipeline\n",
    "from sklearn.ensemble import AdaBoostRegressor, RandomForestRegressor, ExtraTreesRegressor, GradientBoostingRegressor\n",
    "from sklearn.linear_model import LinearRegression\n",
    "from sklearn.impute import SimpleImputer\n",
    "from sklearn.neural_network import MLPRegressor\n",
    "from sklearn.preprocessing import StandardScaler\n",
    "\n",
    "import lightgbm as lgb\n",
    "from xgboost import XGBRegressor, DMatrix, cv\n",
    "from xgboost import train as train_xgb"
   ]
  },
  {
   "cell_type": "markdown",
   "metadata": {
    "id": "70sx-8YD-wtx"
   },
   "source": [
    "## Data description"
   ]
  },
  {
   "cell_type": "code",
   "execution_count": 3,
   "metadata": {
    "colab": {
     "base_uri": "https://localhost:8080/"
    },
    "id": "lgqwWeGS-wtz",
    "outputId": "e10c5ac4-07ff-420c-bfdf-c1e8390d247d"
   },
   "outputs": [
    {
     "name": "stdout",
     "output_type": "stream",
     "text": [
      "Fix:  550\n",
      "Fix:  149\n"
     ]
    }
   ],
   "source": [
    "macro_df = pd.read_csv('data/macro.csv', parse_dates=['timestamp'])\n",
    "train_df = pd.read_csv('data/train.csv', index_col='id', parse_dates=['timestamp'])\n",
    "test_df = pd.read_csv('data/test.csv', index_col='id', parse_dates=['timestamp'])\n",
    "\n",
    "tverskoe_issue_fix(train_df)\n",
    "tverskoe_issue_fix(test_df)"
   ]
  },
  {
   "cell_type": "markdown",
   "metadata": {
    "id": "6XMfRzcU-wt2"
   },
   "source": [
    "## 1. Data preprocessing\n",
    "## I part (encoding and correcting mistakes)"
   ]
  },
  {
   "cell_type": "markdown",
   "metadata": {
    "id": "WlOmdlGc-wt4"
   },
   "source": [
    "### Macro dataset"
   ]
  },
  {
   "cell_type": "code",
   "execution_count": 4,
   "metadata": {
    "colab": {
     "base_uri": "https://localhost:8080/"
    },
    "id": "6a1-RKD2-wt4",
    "outputId": "d5aa3070-d1f0-48cd-8b8d-7d7b2828b57f"
   },
   "outputs": [
    {
     "name": "stdout",
     "output_type": "stream",
     "text": [
      "OK\n"
     ]
    }
   ],
   "source": [
    "macro_df['child_on_acc_pre_school'] = macro_df['child_on_acc_pre_school'].str.replace('#!', 'nan')\n",
    "for column in macro_df.select_dtypes('object').columns:\n",
    "    macro_df[column] = macro_df[column].str.replace(',', '.')\n",
    "    macro_df[column] = macro_df[column].astype(float)\n",
    "\n",
    "if not len(macro_df.select_dtypes('object').columns):\n",
    "    print('OK')"
   ]
  },
  {
   "cell_type": "markdown",
   "metadata": {
    "id": "5hOdB2O2-wt5"
   },
   "source": [
    "### Train dataset"
   ]
  },
  {
   "cell_type": "code",
   "execution_count": 5,
   "metadata": {
    "id": "cefhW3sO-wt5"
   },
   "outputs": [],
   "source": [
    "train_df = encode(train_df)"
   ]
  },
  {
   "cell_type": "markdown",
   "metadata": {
    "id": "vSRp5y_C-wt7"
   },
   "source": [
    "### Test dataset"
   ]
  },
  {
   "cell_type": "code",
   "execution_count": 6,
   "metadata": {
    "id": "IMeNQ_Ad-wt8"
   },
   "outputs": [],
   "source": [
    "test_df = encode(test_df)"
   ]
  },
  {
   "cell_type": "markdown",
   "metadata": {
    "id": "ZcRHlWsU-wt-"
   },
   "source": [
    "## II part (Filling missing values)"
   ]
  },
  {
   "cell_type": "markdown",
   "metadata": {
    "id": "G8kHIiU0-wt_"
   },
   "source": [
    "XGBRegressor model handles `np.NaN` values itself"
   ]
  },
  {
   "cell_type": "markdown",
   "metadata": {
    "id": "FfLaI5aH-wt_"
   },
   "source": [
    "## 2. Encoding `sub_area` feature"
   ]
  },
  {
   "cell_type": "code",
   "execution_count": 7,
   "metadata": {
    "id": "MZRCy_uubb-L"
   },
   "outputs": [],
   "source": [
    "coords_train_df = pd.read_csv('data/geo/train_lat_lon.csv')\n",
    "coords_train_df.drop(['key', 'tolerance_m'], axis=1, inplace=True)\n",
    "coords_train_df.index = coords_train_df.id\n",
    "coords_train_df.drop(['id'], axis=1, inplace=True)\n",
    "coords_train_df = coords_train_df.sort_index()\n",
    "\n",
    "coords_test_df = pd.read_csv('data/geo/test_lat_lon.csv')\n",
    "coords_test_df.drop(['key', 'tolerance_m'], axis=1, inplace=True)\n",
    "coords_test_df.index = coords_test_df.id\n",
    "coords_test_df.drop(['id'], axis=1, inplace=True)\n",
    "coords_test_df = coords_test_df.sort_index()\n",
    "\n",
    "coords_all_df = pd.concat([coords_train_df, coords_test_df])"
   ]
  },
  {
   "cell_type": "code",
   "execution_count": 8,
   "metadata": {
    "id": "qpehSLDmbb-L"
   },
   "outputs": [],
   "source": [
    "train_df['is_train'] = 1\n",
    "test_df['is_train'] = 0\n",
    "\n",
    "# coords_df = pd.read_csv('data/coords.csv', index_col='id')\n",
    "all_df = pd.concat([train_df, test_df])\n",
    "\n",
    "all_df['latitude'] = coords_all_df['lat']\n",
    "all_df['longitude'] = coords_all_df['lon']"
   ]
  },
  {
   "cell_type": "markdown",
   "metadata": {
    "id": "Ad9TaN9Q-wuB"
   },
   "source": [
    "## 3. Removing outliers"
   ]
  },
  {
   "cell_type": "code",
   "execution_count": 9,
   "metadata": {
    "id": "GS7abrdJ-wuB"
   },
   "outputs": [],
   "source": [
    "all_df = remove_outliers(all_df)"
   ]
  },
  {
   "cell_type": "markdown",
   "metadata": {
    "id": "_Y7doThf-wuB"
   },
   "source": [
    "## 4. Feature engineering"
   ]
  },
  {
   "cell_type": "code",
   "execution_count": 10,
   "metadata": {
    "id": "HEFaFZFI-wuC"
   },
   "outputs": [],
   "source": [
    "all_df = create_new_features(all_df)"
   ]
  },
  {
   "cell_type": "markdown",
   "metadata": {
    "id": "VLOjaYTj-wuD"
   },
   "source": [
    "## 5. Removing fake prices"
   ]
  },
  {
   "cell_type": "code",
   "execution_count": 11,
   "metadata": {
    "id": "2gVmPZwh-wuE"
   },
   "outputs": [],
   "source": [
    "train_df = all_df[all_df['is_train'] == 1].drop(['is_train'], axis=1)\n",
    "test_df = all_df[all_df['is_train'] == 0].drop(['is_train', 'price_doc'], axis=1)"
   ]
  },
  {
   "cell_type": "code",
   "execution_count": 12,
   "metadata": {
    "colab": {
     "base_uri": "https://localhost:8080/"
    },
    "id": "QuNretEQbb-O",
    "outputId": "7adc459e-e555-4573-847a-44fc48768b8a"
   },
   "outputs": [
    {
     "name": "stdout",
     "output_type": "stream",
     "text": [
      "REMOVED: 35\n"
     ]
    }
   ],
   "source": [
    "train_df = remove_fake_prices(train_df)"
   ]
  },
  {
   "cell_type": "code",
   "execution_count": 13,
   "metadata": {
    "id": "r2iMQl-I-wuE"
   },
   "outputs": [],
   "source": [
    "idx_outliers = np.loadtxt('outliers/idx_outliers_full.txt').astype(int)\n",
    "train_df = train_df.drop(idx_outliers)"
   ]
  },
  {
   "cell_type": "markdown",
   "metadata": {
    "id": "7Z1VhzPO-wuF"
   },
   "source": [
    "### `Ensembling`"
   ]
  },
  {
   "cell_type": "code",
   "execution_count": 14,
   "metadata": {},
   "outputs": [],
   "source": [
    "ETR_train = np.load('predictions/ETR_train.npy')\n",
    "ETR_test = np.load('predictions/ETR_test.npy')\n",
    "\n",
    "GBR_train = np.load('predictions/GBR_train.npy')\n",
    "GBR_test = np.load('predictions/GBR_test.npy')\n",
    "\n",
    "LGB_F_train = np.load('predictions/LGB_F_train.npy')\n",
    "LGB_F_test = np.load('predictions/LGB_F_test.npy')\n",
    "\n",
    "RF_train = np.load('predictions/RF_train.npy')\n",
    "RF_test = np.load('predictions/RF_test.npy')\n",
    "\n",
    "XGB_F_train = np.load('predictions/XGB_F_train.npy')\n",
    "XGB_F_test = np.load('predictions/XGB_F_test.npy')"
   ]
  },
  {
   "cell_type": "code",
   "execution_count": 15,
   "metadata": {},
   "outputs": [],
   "source": [
    "y = np.log1p(train_df['price_doc']).values"
   ]
  },
  {
   "cell_type": "code",
   "execution_count": 16,
   "metadata": {},
   "outputs": [
    {
     "data": {
      "text/plain": [
       "((27762, 5), (7662, 5))"
      ]
     },
     "execution_count": 16,
     "metadata": {},
     "output_type": "execute_result"
    }
   ],
   "source": [
    "S_train = np.concatenate([ETR_train, GBR_train, LGB_F_train, RF_train, XGB_F_train], axis=1)\n",
    "S_test = np.concatenate([ETR_test, GBR_test, LGB_F_test, RF_test, XGB_F_test], axis=1)\n",
    "S_train.shape, S_test.shape"
   ]
  },
  {
   "cell_type": "code",
   "execution_count": 101,
   "metadata": {},
   "outputs": [
    {
     "name": "stdout",
     "output_type": "stream",
     "text": [
      "train-RMSE  : 0.12535467848311635\n"
     ]
    }
   ],
   "source": [
    "stacker = LinearRegression(fit_intercept=False)\n",
    "stacker.fit(S_train, y)\n",
    "y_pred = stacker.predict(S_test)\n",
    "y_pred_train = stacker.predict(S_train)\n",
    "print(f\"train-RMSE  : {mean_squared_error(y_pred_train, y, squared=False)}\")"
   ]
  },
  {
   "cell_type": "code",
   "execution_count": 102,
   "metadata": {
    "id": "UE3unrr2-wuI"
   },
   "outputs": [],
   "source": [
    "submission = pd.read_csv('data/submits/sample_submission.csv', index_col='id')\n",
    "result = np.expm1(y_pred)\n",
    "\n",
    "if len(result[result < 0]):\n",
    "    print('WARNING: NEGATIVE PREDICTIONS')"
   ]
  },
  {
   "cell_type": "code",
   "execution_count": 103,
   "metadata": {
    "id": "cUD3MPsL-wuI"
   },
   "outputs": [],
   "source": [
    "submission['price_doc'] = 0.91*result # 0.9\n",
    "submission.to_csv('data/submits/submission.csv', index='id')"
   ]
  },
  {
   "cell_type": "code",
   "execution_count": 104,
   "metadata": {
    "id": "swIVUL0G-wuJ",
    "outputId": "11d4dce8-0b10-48d8-b798-a10cdc4894e5"
   },
   "outputs": [
    {
     "name": "stdout",
     "output_type": "stream",
     "text": [
      "100%|████████████████████████████████████████| 181k/181k [00:02<00:00, 86.1kB/s]\n",
      "Successfully submitted to Sberbank Russian Housing Market"
     ]
    }
   ],
   "source": [
    "!kaggle competitions submit -c sberbank-russian-housing-market -f \"data/submits/submission.csv\" -m \"!Ensemble (LR)! 0.91\""
   ]
  },
  {
   "cell_type": "code",
   "execution_count": null,
   "metadata": {
    "id": "vVti2I2tbb-S"
   },
   "outputs": [],
   "source": []
  },
  {
   "cell_type": "code",
   "execution_count": null,
   "metadata": {},
   "outputs": [],
   "source": []
  },
  {
   "cell_type": "code",
   "execution_count": 110,
   "metadata": {},
   "outputs": [
    {
     "data": {
      "text/plain": [
       "((27762, 5), (7662, 5))"
      ]
     },
     "execution_count": 110,
     "metadata": {},
     "output_type": "execute_result"
    }
   ],
   "source": [
    "S_train = np.concatenate([ETR_train, GBR_train, LGB_F_train, RF_train, XGB_F_train], axis=1)\n",
    "S_test = np.concatenate([ETR_test, GBR_test, LGB_F_test, RF_test, XGB_F_test], axis=1)\n",
    "S_train.shape, S_test.shape"
   ]
  },
  {
   "cell_type": "code",
   "execution_count": 112,
   "metadata": {},
   "outputs": [
    {
     "name": "stdout",
     "output_type": "stream",
     "text": [
      "train-RMSE  : 0.12526237746006624\n"
     ]
    }
   ],
   "source": [
    "stacker = LinearRegression()\n",
    "stacker.fit(S_train, y)\n",
    "y_pred=stacker.predict(S_test)\n",
    "y_pred_train=stacker.predict(S_train)\n",
    "print(f\"train-RMSE  : {mean_squared_error(y_pred_train, y, squared=False)}\")\n"
   ]
  },
  {
   "cell_type": "code",
   "execution_count": 69,
   "metadata": {},
   "outputs": [
    {
     "data": {
      "text/plain": [
       "array([0.01102337, 0.12858354, 0.18876786, 0.14539164, 0.5383187 ])"
      ]
     },
     "execution_count": 69,
     "metadata": {},
     "output_type": "execute_result"
    }
   ],
   "source": [
    "stacker.coef_"
   ]
  },
  {
   "cell_type": "code",
   "execution_count": 70,
   "metadata": {
    "id": "UE3unrr2-wuI"
   },
   "outputs": [],
   "source": [
    "submission = pd.read_csv('data/submits/sample_submission.csv', index_col='id')\n",
    "result = np.expm1(y_pred)\n",
    "\n",
    "if len(result[result < 0]):\n",
    "    print('WARNING: NEGATIVE PREDICTIONS')"
   ]
  },
  {
   "cell_type": "code",
   "execution_count": 79,
   "metadata": {
    "id": "cUD3MPsL-wuI"
   },
   "outputs": [],
   "source": [
    "submission['price_doc'] = 0.92*result # 0.9\n",
    "submission.to_csv('data/submits/submission.csv', index='id')"
   ]
  },
  {
   "cell_type": "code",
   "execution_count": 80,
   "metadata": {
    "id": "swIVUL0G-wuJ",
    "outputId": "11d4dce8-0b10-48d8-b798-a10cdc4894e5"
   },
   "outputs": [
    {
     "name": "stdout",
     "output_type": "stream",
     "text": [
      "100%|████████████████████████████████████████| 181k/181k [00:02<00:00, 86.2kB/s]\n",
      "Successfully submitted to Sberbank Russian Housing Market"
     ]
    }
   ],
   "source": [
    "!kaggle competitions submit -c sberbank-russian-housing-market -f \"data/submits/submission.csv\" -m \"Ensemble test\""
   ]
  },
  {
   "cell_type": "code",
   "execution_count": 34,
   "metadata": {},
   "outputs": [],
   "source": [
    "y_pred = (0.01224819 * 0.90 * ETR_test + \\\n",
    "          0.14447589 * 0.89 * GBR_test + \\\n",
    "          0.21450893 * 0.88 * LGB_F_test + \\\n",
    "          0.15977104 * 0.91 * RF_test + \\\n",
    "          0.56665127 * 0.95 * XGB_F_test)"
   ]
  },
  {
   "cell_type": "code",
   "execution_count": 82,
   "metadata": {
    "id": "UE3unrr2-wuI"
   },
   "outputs": [],
   "source": [
    "submission = pd.read_csv('data/submits/sample_submission.csv', index_col='id')\n",
    "result = np.expm1(y_pred)\n",
    "\n",
    "if len(result[result < 0]):\n",
    "    print('WARNING: NEGATIVE PREDICTIONS')"
   ]
  },
  {
   "cell_type": "code",
   "execution_count": 97,
   "metadata": {
    "id": "cUD3MPsL-wuI"
   },
   "outputs": [],
   "source": [
    "submission['price_doc'] = 4*result # 0.9\n",
    "submission.to_csv('data/submits/submission.csv', index='id')"
   ]
  },
  {
   "cell_type": "code",
   "execution_count": 98,
   "metadata": {},
   "outputs": [
    {
     "name": "stdout",
     "output_type": "stream",
     "text": [
      "100%|████████████████████████████████████████| 181k/181k [00:02<00:00, 87.5kB/s]\n",
      "Successfully submitted to Sberbank Russian Housing Market"
     ]
    }
   ],
   "source": [
    "!kaggle competitions submit -c sberbank-russian-housing-market -f \"data/submits/submission.csv\" -m \"Ensemble (LR) test\""
   ]
  },
  {
   "cell_type": "code",
   "execution_count": null,
   "metadata": {},
   "outputs": [],
   "source": []
  },
  {
   "cell_type": "code",
   "execution_count": null,
   "metadata": {},
   "outputs": [],
   "source": []
  },
  {
   "cell_type": "code",
   "execution_count": 115,
   "metadata": {},
   "outputs": [
    {
     "data": {
      "text/plain": [
       "((27762, 5), (7662, 5))"
      ]
     },
     "execution_count": 115,
     "metadata": {},
     "output_type": "execute_result"
    }
   ],
   "source": [
    "S_train = np.concatenate([ETR_train, GBR_train, LGB_F_train, RF_train, XGB_F_train], axis=1)\n",
    "S_test = np.concatenate([ETR_test, GBR_test, LGB_F_test, RF_test, XGB_F_test], axis=1)\n",
    "S_train.shape, S_test.shape"
   ]
  },
  {
   "cell_type": "code",
   "execution_count": 133,
   "metadata": {},
   "outputs": [],
   "source": [
    "class my_XGBRegressor(object):\n",
    "    def __init__(self, params, product_type=-1):\n",
    "        self.params = params\n",
    "        self.product_type = product_type\n",
    "\n",
    "    def fit(self, X, y, w=None):\n",
    "        # if w == None:\n",
    "        #    w = np.ones(X.shape[0])\n",
    "\n",
    "        if self.product_type == 0:\n",
    "            X = train_df[train_df['product_type'] == 0].drop(['sub_area', 'price_doc'], axis=1).values\n",
    "            y = np.log1p(test_df[test_df['product_type'] == 0]['price_doc'].values)\n",
    "            print(X.shape)\n",
    "\n",
    "        if self.product_type == 1:\n",
    "            X = train_df[train_df['product_type'] == 1].drop(['sub_area', 'price_doc'], axis=1).values\n",
    "            y = np.log1p(test_df[test_df['product_type'] == 1]['price_doc'].values)\n",
    "            print(X.shape)\n",
    "            \n",
    "        X_train, X_val, y_train, y_val = train_test_split(X, y, test_size=0.2)  # random_state=42\n",
    "        d_train = DMatrix(X_train, label=y_train)  # weight = w_train\n",
    "        d_valid = DMatrix(X_val, label=y_val)  # weight = w_valid\n",
    "\n",
    "        print(f\"Training until validation scores don't improve for 50 rounds\") # !!!\n",
    "        if self.params['booster'] == 'gblinear':\n",
    "            num_boost_round = 50000\n",
    "        else:\n",
    "            num_boost_round = 5000\n",
    "\n",
    "        bst_partial = train_xgb(self.params,\n",
    "                                d_train,\n",
    "                                num_boost_round=num_boost_round,\n",
    "                                early_stopping_rounds=50,\n",
    "                                evals=[(d_train, 'train'), (d_valid, 'val')],\n",
    "                                verbose_eval=500)\n",
    "\n",
    "        last_round = bst_partial.best_iteration\n",
    "        print(f\"[{last_round}]  RMSE: {bst_partial.best_score}\")\n",
    "\n",
    "        d_all = DMatrix(X, label=y)  # weight = w\n",
    "        self.bst = train_xgb(self.params,\n",
    "                             d_all,\n",
    "                             num_boost_round=last_round,\n",
    "                             evals=[(d_train, 'train')],\n",
    "                             verbose_eval=500)\n",
    "\n",
    "    def predict(self, X_test):\n",
    "        d_test = DMatrix(X_test)\n",
    "        return self.bst.predict(d_test)"
   ]
  },
  {
   "cell_type": "code",
   "execution_count": 186,
   "metadata": {},
   "outputs": [],
   "source": [
    "params_xgb_lin = {'objective': 'reg:squarederror',\n",
    "                  'booster': 'gbtree',\n",
    "                  'base_score': 7,\n",
    "                  'max_depth': 5,\n",
    "                  'learning_rate': 0.01,\n",
    "                  'eval_metric': 'rmse',\n",
    "                  'seed': 42,\n",
    "                  'nthread': -1\n",
    "                  }"
   ]
  },
  {
   "cell_type": "code",
   "execution_count": 191,
   "metadata": {},
   "outputs": [],
   "source": [
    "train_df['w'] = 1\n",
    "train_df.loc[train_df['timestamp_year'] == 2014, 'w'] = 1.2\n",
    "train_df.loc[train_df['timestamp_year'] == 2015, 'w'] = 1.5"
   ]
  },
  {
   "cell_type": "code",
   "execution_count": 192,
   "metadata": {},
   "outputs": [
    {
     "name": "stdout",
     "output_type": "stream",
     "text": [
      "Training until validation scores don't improve for 50 rounds\n",
      "[0]\ttrain-rmse:8.65062\tval-rmse:8.65719\n",
      "[500]\ttrain-rmse:0.13114\tval-rmse:0.14092\n",
      "[869]\ttrain-rmse:0.11588\tval-rmse:0.12893\n",
      "[819]  RMSE: 0.128911\n",
      "[0]\ttrain-rmse:8.65061\n",
      "[500]\ttrain-rmse:0.13173\n",
      "[818]\ttrain-rmse:0.11691\n",
      "train-RMSE  : 0.11745996405787038\n"
     ]
    }
   ],
   "source": [
    "stacker = my_XGBRegressor(params_xgb_lin)\n",
    "stacker.fit(S_train, y, train_df['w'])\n",
    "y_pred = stacker.predict(S_test)\n",
    "y_pred_train = stacker.predict(S_train)\n",
    "print(f\"train-RMSE  : {mean_squared_error(y_pred_train, y, squared=False)}\")"
   ]
  },
  {
   "cell_type": "code",
   "execution_count": 193,
   "metadata": {
    "id": "UE3unrr2-wuI"
   },
   "outputs": [],
   "source": [
    "submission = pd.read_csv('data/submits/sample_submission.csv', index_col='id')\n",
    "result = np.expm1(y_pred)\n",
    "\n",
    "if len(result[result < 0]):\n",
    "    print('WARNING: NEGATIVE PREDICTIONS')"
   ]
  },
  {
   "cell_type": "code",
   "execution_count": 200,
   "metadata": {
    "id": "cUD3MPsL-wuI"
   },
   "outputs": [],
   "source": [
    "submission['price_doc'] = 0.92*result # 0.9\n",
    "submission.to_csv('data/submits/submission.csv', index='id')"
   ]
  },
  {
   "cell_type": "code",
   "execution_count": 201,
   "metadata": {},
   "outputs": [
    {
     "name": "stdout",
     "output_type": "stream",
     "text": [
      "100%|████████████████████████████████████████| 121k/121k [00:02<00:00, 58.5kB/s]\n",
      "Successfully submitted to Sberbank Russian Housing Market"
     ]
    }
   ],
   "source": [
    "!kaggle competitions submit -c sberbank-russian-housing-market -f \"data/submits/submission.csv\" -m \"Ensemble (LR) test\""
   ]
  }
 ],
 "metadata": {
  "interpreter": {
   "hash": "916dbcbb3f70747c44a77c7bcd40155683ae19c65e1c03b4aa3499c5328201f1"
  },
  "kernelspec": {
   "display_name": "Python 3.8.10 64-bit",
   "language": "python",
   "name": "python3"
  },
  "language_info": {
   "codemirror_mode": {
    "name": "ipython",
    "version": 3
   },
   "file_extension": ".py",
   "mimetype": "text/x-python",
   "name": "python",
   "nbconvert_exporter": "python",
   "pygments_lexer": "ipython3",
   "version": "3.8.10"
  },
  "orig_nbformat": 4
 },
 "nbformat": 4,
 "nbformat_minor": 2
}
